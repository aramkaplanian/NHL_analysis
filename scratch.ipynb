{
 "cells": [
  {
   "cell_type": "code",
   "execution_count": 1,
   "metadata": {},
   "outputs": [],
   "source": [
    "import numpy as np\n",
    "import pandas as pd\n",
    "from scipy import stats\n",
    "import plotly.express as px\n",
    "import plotly.graph_objects as go\n",
    "# from nhlscrapi.games.game import Game, GameKey, GameType\n",
    "# from nhlscrapi.games.cumstats import Score, ShotCt, Corsi, Fenwick"
   ]
  },
  {
   "cell_type": "code",
   "execution_count": 15,
   "metadata": {},
   "outputs": [],
   "source": [
    "df = pd.read_csv('team_data.csv')"
   ]
  },
  {
   "cell_type": "code",
   "execution_count": 16,
   "metadata": {},
   "outputs": [
    {
     "data": {
      "text/plain": [
       "Index(['Team', 'Season', 'GP', 'TOI', 'CF', 'CA', 'C+/-', 'CF%', 'CF/60',\n",
       "       'CA/60', 'GF', 'GA', 'G+/-', 'GF%', 'GF/60', 'GA/60', 'xGF', 'xGA',\n",
       "       'xG+/-', 'xGF%', 'xGF/60', 'xGA/60', 'PENT', 'PEND', 'P+/-', 'Sh%',\n",
       "       'Sv%', 'PDO'],\n",
       "      dtype='object')"
      ]
     },
     "execution_count": 16,
     "metadata": {},
     "output_type": "execute_result"
    }
   ],
   "source": [
    "df.columns"
   ]
  },
  {
   "cell_type": "code",
   "execution_count": 17,
   "metadata": {},
   "outputs": [],
   "source": [
    "# df['G+/-'] = df['G+/-'].str.replace(\"-\", np.nan)\n",
    "df = df.replace(\"--\", np.nan)\n",
    "df = df.dropna()"
   ]
  },
  {
   "cell_type": "code",
   "execution_count": 18,
   "metadata": {},
   "outputs": [],
   "source": [
    "def get_plot_points(df, col):\n",
    "    high = max(df[col].astype(float))\n",
    "    low = min(df[col].astype(float))\n",
    "    mid = (high + low) / 2\n",
    "    return high, mid, low\n",
    "\n",
    "\n",
    "high, mid, low = get_plot_points(df, 'G+/-')\n",
    "xhigh, xmid, xlow = get_plot_points(df, 'xG+/-')"
   ]
  },
  {
   "cell_type": "code",
   "execution_count": 19,
   "metadata": {},
   "outputs": [
    {
     "data": {
      "text/plain": [
       "'\\nunecessary at the moment...trying to figure out a good way for these values\\n'"
      ]
     },
     "execution_count": 19,
     "metadata": {},
     "output_type": "execute_result"
    }
   ],
   "source": [
    "\"\"\"\n",
    "unecessary at the moment...trying to figure out a good way for these values\n",
    "\"\"\"\n",
    "# goal_grp = np.linspace(low, high, num=5)\n",
    "# exp_grp = np.linspace(xlow, xhigh, num=5)\n",
    "\n",
    "# print(goal_grp)\n",
    "# print(exp_grp)\n",
    "# ary_len = len(exp_grp) "
   ]
  },
  {
   "cell_type": "code",
   "execution_count": 22,
   "metadata": {},
   "outputs": [
    {
     "data": {
      "application/vnd.plotly.v1+json": {
       "config": {
        "plotlyServerURL": "https://plot.ly"
       },
       "data": [
        {
         "hoverlabel": {
          "namelength": 0
         },
         "hovertemplate": "Team=%{text}<br>xG+/-=%{x}<br>G+/-=%{y}",
         "legendgroup": "WAS",
         "marker": {
          "color": "#636efa",
          "symbol": "circle"
         },
         "mode": "markers+text",
         "name": "WAS",
         "showlegend": true,
         "text": [
          "WAS"
         ],
         "textposition": "top center",
         "type": "scatter",
         "x": [
          -39.81
         ],
         "xaxis": "x",
         "y": [
          "63"
         ],
         "yaxis": "y"
        },
        {
         "hoverlabel": {
          "namelength": 0
         },
         "hovertemplate": "Team=%{text}<br>xG+/-=%{x}<br>G+/-=%{y}",
         "legendgroup": "WPG",
         "marker": {
          "color": "#EF553B",
          "symbol": "circle"
         },
         "mode": "markers+text",
         "name": "WPG",
         "showlegend": true,
         "text": [
          "WPG"
         ],
         "textposition": "top center",
         "type": "scatter",
         "x": [
          -31.11
         ],
         "xaxis": "x",
         "y": [
          "27"
         ],
         "yaxis": "y"
        },
        {
         "hoverlabel": {
          "namelength": 0
         },
         "hovertemplate": "Team=%{text}<br>xG+/-=%{x}<br>G+/-=%{y}",
         "legendgroup": "VGK",
         "marker": {
          "color": "#00cc96",
          "symbol": "circle"
         },
         "mode": "markers+text",
         "name": "VGK",
         "showlegend": true,
         "text": [
          "VGK"
         ],
         "textposition": "top center",
         "type": "scatter",
         "x": [
          72.92
         ],
         "xaxis": "x",
         "y": [
          "32"
         ],
         "yaxis": "y"
        },
        {
         "hoverlabel": {
          "namelength": 0
         },
         "hovertemplate": "Team=%{text}<br>xG+/-=%{x}<br>G+/-=%{y}",
         "legendgroup": "VAN",
         "marker": {
          "color": "#ab63fa",
          "symbol": "circle"
         },
         "mode": "markers+text",
         "name": "VAN",
         "showlegend": true,
         "text": [
          "VAN"
         ],
         "textposition": "top center",
         "type": "scatter",
         "x": [
          -50
         ],
         "xaxis": "x",
         "y": [
          "-53"
         ],
         "yaxis": "y"
        },
        {
         "hoverlabel": {
          "namelength": 0
         },
         "hovertemplate": "Team=%{text}<br>xG+/-=%{x}<br>G+/-=%{y}",
         "legendgroup": "TOR",
         "marker": {
          "color": "#FFA15A",
          "symbol": "circle"
         },
         "mode": "markers+text",
         "name": "TOR",
         "showlegend": true,
         "text": [
          "TOR"
         ],
         "textposition": "top center",
         "type": "scatter",
         "x": [
          33.8
         ],
         "xaxis": "x",
         "y": [
          "65"
         ],
         "yaxis": "y"
        },
        {
         "hoverlabel": {
          "namelength": 0
         },
         "hovertemplate": "Team=%{text}<br>xG+/-=%{x}<br>G+/-=%{y}",
         "legendgroup": "TBL",
         "marker": {
          "color": "#19d3f3",
          "symbol": "circle"
         },
         "mode": "markers+text",
         "name": "TBL",
         "showlegend": true,
         "text": [
          "TBL"
         ],
         "textposition": "top center",
         "type": "scatter",
         "x": [
          51.48
         ],
         "xaxis": "x",
         "y": [
          "142"
         ],
         "yaxis": "y"
        },
        {
         "hoverlabel": {
          "namelength": 0
         },
         "hovertemplate": "Team=%{text}<br>xG+/-=%{x}<br>G+/-=%{y}",
         "legendgroup": "STL",
         "marker": {
          "color": "#FF6692",
          "symbol": "circle"
         },
         "mode": "markers+text",
         "name": "STL",
         "showlegend": true,
         "text": [
          "STL"
         ],
         "textposition": "top center",
         "type": "scatter",
         "x": [
          31.42
         ],
         "xaxis": "x",
         "y": [
          "58"
         ],
         "yaxis": "y"
        },
        {
         "hoverlabel": {
          "namelength": 0
         },
         "hovertemplate": "Team=%{text}<br>xG+/-=%{x}<br>G+/-=%{y}",
         "legendgroup": "SJS",
         "marker": {
          "color": "#B6E880",
          "symbol": "circle"
         },
         "mode": "markers+text",
         "name": "SJS",
         "showlegend": true,
         "text": [
          "SJS"
         ],
         "textposition": "top center",
         "type": "scatter",
         "x": [
          32.78
         ],
         "xaxis": "x",
         "y": [
          "-25"
         ],
         "yaxis": "y"
        },
        {
         "hoverlabel": {
          "namelength": 0
         },
         "hovertemplate": "Team=%{text}<br>xG+/-=%{x}<br>G+/-=%{y}",
         "legendgroup": "PIT",
         "marker": {
          "color": "#FF97FF",
          "symbol": "circle"
         },
         "mode": "markers+text",
         "name": "PIT",
         "showlegend": true,
         "text": [
          "PIT"
         ],
         "textposition": "top center",
         "type": "scatter",
         "x": [
          37.94
         ],
         "xaxis": "x",
         "y": [
          "38"
         ],
         "yaxis": "y"
        },
        {
         "hoverlabel": {
          "namelength": 0
         },
         "hovertemplate": "Team=%{text}<br>xG+/-=%{x}<br>G+/-=%{y}",
         "legendgroup": "OTT",
         "marker": {
          "color": "#FECB52",
          "symbol": "circle"
         },
         "mode": "markers+text",
         "name": "OTT",
         "showlegend": true,
         "text": [
          "OTT"
         ],
         "textposition": "top center",
         "type": "scatter",
         "x": [
          -50.43
         ],
         "xaxis": "x",
         "y": [
          "-125"
         ],
         "yaxis": "y"
        },
        {
         "hoverlabel": {
          "namelength": 0
         },
         "hovertemplate": "Team=%{text}<br>xG+/-=%{x}<br>G+/-=%{y}",
         "legendgroup": "NYR",
         "marker": {
          "color": "#636efa",
          "symbol": "circle"
         },
         "mode": "markers+text",
         "name": "NYR",
         "showlegend": true,
         "text": [
          "NYR"
         ],
         "textposition": "top center",
         "type": "scatter",
         "x": [
          -53.67
         ],
         "xaxis": "x",
         "y": [
          "-55"
         ],
         "yaxis": "y"
        },
        {
         "hoverlabel": {
          "namelength": 0
         },
         "hovertemplate": "Team=%{text}<br>xG+/-=%{x}<br>G+/-=%{y}",
         "legendgroup": "NSH",
         "marker": {
          "color": "#EF553B",
          "symbol": "circle"
         },
         "mode": "markers+text",
         "name": "NSH",
         "showlegend": true,
         "text": [
          "NSH"
         ],
         "textposition": "top center",
         "type": "scatter",
         "x": [
          17.01
         ],
         "xaxis": "x",
         "y": [
          "83"
         ],
         "yaxis": "y"
        },
        {
         "hoverlabel": {
          "namelength": 0
         },
         "hovertemplate": "Team=%{text}<br>xG+/-=%{x}<br>G+/-=%{y}",
         "legendgroup": "NJD",
         "marker": {
          "color": "#00cc96",
          "symbol": "circle"
         },
         "mode": "markers+text",
         "name": "NJD",
         "showlegend": true,
         "text": [
          "NJD"
         ],
         "textposition": "top center",
         "type": "scatter",
         "x": [
          -26.63
         ],
         "xaxis": "x",
         "y": [
          "-79"
         ],
         "yaxis": "y"
        },
        {
         "hoverlabel": {
          "namelength": 0
         },
         "hovertemplate": "Team=%{text}<br>xG+/-=%{x}<br>G+/-=%{y}",
         "legendgroup": "MON",
         "marker": {
          "color": "#ab63fa",
          "symbol": "circle"
         },
         "mode": "markers+text",
         "name": "MON",
         "showlegend": true,
         "text": [
          "MON"
         ],
         "textposition": "top center",
         "type": "scatter",
         "x": [
          58.54
         ],
         "xaxis": "x",
         "y": [
          "3"
         ],
         "yaxis": "y"
        },
        {
         "hoverlabel": {
          "namelength": 0
         },
         "hovertemplate": "Team=%{text}<br>xG+/-=%{x}<br>G+/-=%{y}",
         "legendgroup": "MIN",
         "marker": {
          "color": "#FFA15A",
          "symbol": "circle"
         },
         "mode": "markers+text",
         "name": "MIN",
         "showlegend": true,
         "text": [
          "MIN"
         ],
         "textposition": "top center",
         "type": "scatter",
         "x": [
          54.77
         ],
         "xaxis": "x",
         "y": [
          "5"
         ],
         "yaxis": "y"
        },
        {
         "hoverlabel": {
          "namelength": 0
         },
         "hovertemplate": "Team=%{text}<br>xG+/-=%{x}<br>G+/-=%{y}",
         "legendgroup": "LAK",
         "marker": {
          "color": "#19d3f3",
          "symbol": "circle"
         },
         "mode": "markers+text",
         "name": "LAK",
         "showlegend": true,
         "text": [
          "LAK"
         ],
         "textposition": "top center",
         "type": "scatter",
         "x": [
          -7.38
         ],
         "xaxis": "x",
         "y": [
          "-39"
         ],
         "yaxis": "y"
        },
        {
         "hoverlabel": {
          "namelength": 0
         },
         "hovertemplate": "Team=%{text}<br>xG+/-=%{x}<br>G+/-=%{y}",
         "legendgroup": "FLA",
         "marker": {
          "color": "#FF6692",
          "symbol": "circle"
         },
         "mode": "markers+text",
         "name": "FLA",
         "showlegend": true,
         "text": [
          "FLA"
         ],
         "textposition": "top center",
         "type": "scatter",
         "x": [
          -34.73
         ],
         "xaxis": "x",
         "y": [
          "-25"
         ],
         "yaxis": "y"
        },
        {
         "hoverlabel": {
          "namelength": 0
         },
         "hovertemplate": "Team=%{text}<br>xG+/-=%{x}<br>G+/-=%{y}",
         "legendgroup": "EDM",
         "marker": {
          "color": "#B6E880",
          "symbol": "circle"
         },
         "mode": "markers+text",
         "name": "EDM",
         "showlegend": true,
         "text": [
          "EDM"
         ],
         "textposition": "top center",
         "type": "scatter",
         "x": [
          -20.44
         ],
         "xaxis": "x",
         "y": [
          "-65"
         ],
         "yaxis": "y"
        },
        {
         "hoverlabel": {
          "namelength": 0
         },
         "hovertemplate": "Team=%{text}<br>xG+/-=%{x}<br>G+/-=%{y}",
         "legendgroup": "DET",
         "marker": {
          "color": "#FF97FF",
          "symbol": "circle"
         },
         "mode": "markers+text",
         "name": "DET",
         "showlegend": true,
         "text": [
          "DET"
         ],
         "textposition": "top center",
         "type": "scatter",
         "x": [
          -71.69
         ],
         "xaxis": "x",
         "y": [
          "-114"
         ],
         "yaxis": "y"
        },
        {
         "hoverlabel": {
          "namelength": 0
         },
         "hovertemplate": "Team=%{text}<br>xG+/-=%{x}<br>G+/-=%{y}",
         "legendgroup": "DAL",
         "marker": {
          "color": "#FECB52",
          "symbol": "circle"
         },
         "mode": "markers+text",
         "name": "DAL",
         "showlegend": true,
         "text": [
          "DAL"
         ],
         "textposition": "top center",
         "type": "scatter",
         "x": [
          29.02
         ],
         "xaxis": "x",
         "y": [
          "16"
         ],
         "yaxis": "y"
        },
        {
         "hoverlabel": {
          "namelength": 0
         },
         "hovertemplate": "Team=%{text}<br>xG+/-=%{x}<br>G+/-=%{y}",
         "legendgroup": "COL",
         "marker": {
          "color": "#636efa",
          "symbol": "circle"
         },
         "mode": "markers+text",
         "name": "COL",
         "showlegend": true,
         "text": [
          "COL"
         ],
         "textposition": "top center",
         "type": "scatter",
         "x": [
          -13.9
         ],
         "xaxis": "x",
         "y": [
          "65"
         ],
         "yaxis": "y"
        },
        {
         "hoverlabel": {
          "namelength": 0
         },
         "hovertemplate": "Team=%{text}<br>xG+/-=%{x}<br>G+/-=%{y}",
         "legendgroup": "CHI",
         "marker": {
          "color": "#EF553B",
          "symbol": "circle"
         },
         "mode": "markers+text",
         "name": "CHI",
         "showlegend": true,
         "text": [
          "CHI"
         ],
         "textposition": "top center",
         "type": "scatter",
         "x": [
          -49.15
         ],
         "xaxis": "x",
         "y": [
          "-18"
         ],
         "yaxis": "y"
        },
        {
         "hoverlabel": {
          "namelength": 0
         },
         "hovertemplate": "Team=%{text}<br>xG+/-=%{x}<br>G+/-=%{y}",
         "legendgroup": "CAL",
         "marker": {
          "color": "#00cc96",
          "symbol": "circle"
         },
         "mode": "markers+text",
         "name": "CAL",
         "showlegend": true,
         "text": [
          "CAL"
         ],
         "textposition": "top center",
         "type": "scatter",
         "x": [
          43.01
         ],
         "xaxis": "x",
         "y": [
          "7"
         ],
         "yaxis": "y"
        },
        {
         "hoverlabel": {
          "namelength": 0
         },
         "hovertemplate": "Team=%{text}<br>xG+/-=%{x}<br>G+/-=%{y}",
         "legendgroup": "CBJ",
         "marker": {
          "color": "#ab63fa",
          "symbol": "circle"
         },
         "mode": "markers+text",
         "name": "CBJ",
         "showlegend": true,
         "text": [
          "CBJ"
         ],
         "textposition": "top center",
         "type": "scatter",
         "x": [
          23.26
         ],
         "xaxis": "x",
         "y": [
          "38"
         ],
         "yaxis": "y"
        },
        {
         "hoverlabel": {
          "namelength": 0
         },
         "hovertemplate": "Team=%{text}<br>xG+/-=%{x}<br>G+/-=%{y}",
         "legendgroup": "CAR",
         "marker": {
          "color": "#FFA15A",
          "symbol": "circle"
         },
         "mode": "markers+text",
         "name": "CAR",
         "showlegend": true,
         "text": [
          "CAR"
         ],
         "textposition": "top center",
         "type": "scatter",
         "x": [
          81.97
         ],
         "xaxis": "x",
         "y": [
          "-4"
         ],
         "yaxis": "y"
        },
        {
         "hoverlabel": {
          "namelength": 0
         },
         "hovertemplate": "Team=%{text}<br>xG+/-=%{x}<br>G+/-=%{y}",
         "legendgroup": "BUF",
         "marker": {
          "color": "#19d3f3",
          "symbol": "circle"
         },
         "mode": "markers+text",
         "name": "BUF",
         "showlegend": true,
         "text": [
          "BUF"
         ],
         "textposition": "top center",
         "type": "scatter",
         "x": [
          -48.06
         ],
         "xaxis": "x",
         "y": [
          "-87"
         ],
         "yaxis": "y"
        },
        {
         "hoverlabel": {
          "namelength": 0
         },
         "hovertemplate": "Team=%{text}<br>xG+/-=%{x}<br>G+/-=%{y}",
         "legendgroup": "BOS",
         "marker": {
          "color": "#FF6692",
          "symbol": "circle"
         },
         "mode": "markers+text",
         "name": "BOS",
         "showlegend": true,
         "text": [
          "BOS"
         ],
         "textposition": "top center",
         "type": "scatter",
         "x": [
          43.79
         ],
         "xaxis": "x",
         "y": [
          "95"
         ],
         "yaxis": "y"
        },
        {
         "hoverlabel": {
          "namelength": 0
         },
         "hovertemplate": "Team=%{text}<br>xG+/-=%{x}<br>G+/-=%{y}",
         "legendgroup": "ARI",
         "marker": {
          "color": "#B6E880",
          "symbol": "circle"
         },
         "mode": "markers+text",
         "name": "ARI",
         "showlegend": true,
         "text": [
          "ARI"
         ],
         "textposition": "top center",
         "type": "scatter",
         "x": [
          -35.51
         ],
         "xaxis": "x",
         "y": [
          "-52"
         ],
         "yaxis": "y"
        },
        {
         "hoverlabel": {
          "namelength": 0
         },
         "hovertemplate": "Team=%{text}<br>xG+/-=%{x}<br>G+/-=%{y}",
         "legendgroup": "ANA",
         "marker": {
          "color": "#FF97FF",
          "symbol": "circle"
         },
         "mode": "markers+text",
         "name": "ANA",
         "showlegend": true,
         "text": [
          "ANA"
         ],
         "textposition": "top center",
         "type": "scatter",
         "x": [
          -57.67
         ],
         "xaxis": "x",
         "y": [
          "-15"
         ],
         "yaxis": "y"
        },
        {
         "mode": "text",
         "text": [
          "Better than Expected",
          "Bad",
          "Good",
          "Worse than Expected"
         ],
         "textfont": {
          "color": "grey"
         },
         "type": "scatter",
         "x": [
          -60.69,
          -69.69,
          81.97,
          70.97
         ],
         "y": [
          142,
          -125,
          139,
          -125
         ]
        }
       ],
       "layout": {
        "annotations": [
         {
          "font": {
           "color": "grey",
           "size": 8
          },
          "showarrow": false,
          "text": "Chart by: Aram Kaplanian",
          "x": 1,
          "xanchor": "right",
          "xref": "paper",
          "xshift": 15,
          "y": -0.1,
          "yanchor": "auto",
          "yref": "paper",
          "yshift": 7
         },
         {
          "font": {
           "color": "grey",
           "size": 8
          },
          "showarrow": false,
          "text": "Source: Corsica Hockey",
          "x": 1,
          "xanchor": "right",
          "xref": "paper",
          "xshift": 15,
          "y": -0.1,
          "yanchor": "auto",
          "yref": "paper",
          "yshift": 0
         }
        ],
        "legend": {
         "title": {
          "text": "Team"
         },
         "tracegroupgap": 0
        },
        "margin": {
         "t": 60
        },
        "shapes": [
         {
          "layer": "below",
          "line": {
           "color": "red",
           "dash": "dashdot",
           "width": 2
          },
          "opacity": 0.4,
          "type": "line",
          "x0": 5.140000000000001,
          "x1": 5.140000000000001,
          "y0": -125,
          "y1": 142
         },
         {
          "layer": "below",
          "line": {
           "color": "red",
           "dash": "dashdot",
           "width": 2
          },
          "opacity": 0.4,
          "type": "line",
          "x0": -71.69,
          "x1": 81.97,
          "y0": 8.5,
          "y1": 8.5
         }
        ],
        "showlegend": false,
        "template": {
         "data": {
          "bar": [
           {
            "error_x": {
             "color": "#2a3f5f"
            },
            "error_y": {
             "color": "#2a3f5f"
            },
            "marker": {
             "line": {
              "color": "white",
              "width": 0.5
             }
            },
            "type": "bar"
           }
          ],
          "barpolar": [
           {
            "marker": {
             "line": {
              "color": "white",
              "width": 0.5
             }
            },
            "type": "barpolar"
           }
          ],
          "carpet": [
           {
            "aaxis": {
             "endlinecolor": "#2a3f5f",
             "gridcolor": "#C8D4E3",
             "linecolor": "#C8D4E3",
             "minorgridcolor": "#C8D4E3",
             "startlinecolor": "#2a3f5f"
            },
            "baxis": {
             "endlinecolor": "#2a3f5f",
             "gridcolor": "#C8D4E3",
             "linecolor": "#C8D4E3",
             "minorgridcolor": "#C8D4E3",
             "startlinecolor": "#2a3f5f"
            },
            "type": "carpet"
           }
          ],
          "choropleth": [
           {
            "colorbar": {
             "outlinewidth": 0,
             "ticks": ""
            },
            "type": "choropleth"
           }
          ],
          "contour": [
           {
            "colorbar": {
             "outlinewidth": 0,
             "ticks": ""
            },
            "colorscale": [
             [
              0,
              "#0d0887"
             ],
             [
              0.1111111111111111,
              "#46039f"
             ],
             [
              0.2222222222222222,
              "#7201a8"
             ],
             [
              0.3333333333333333,
              "#9c179e"
             ],
             [
              0.4444444444444444,
              "#bd3786"
             ],
             [
              0.5555555555555556,
              "#d8576b"
             ],
             [
              0.6666666666666666,
              "#ed7953"
             ],
             [
              0.7777777777777778,
              "#fb9f3a"
             ],
             [
              0.8888888888888888,
              "#fdca26"
             ],
             [
              1,
              "#f0f921"
             ]
            ],
            "type": "contour"
           }
          ],
          "contourcarpet": [
           {
            "colorbar": {
             "outlinewidth": 0,
             "ticks": ""
            },
            "type": "contourcarpet"
           }
          ],
          "heatmap": [
           {
            "colorbar": {
             "outlinewidth": 0,
             "ticks": ""
            },
            "colorscale": [
             [
              0,
              "#0d0887"
             ],
             [
              0.1111111111111111,
              "#46039f"
             ],
             [
              0.2222222222222222,
              "#7201a8"
             ],
             [
              0.3333333333333333,
              "#9c179e"
             ],
             [
              0.4444444444444444,
              "#bd3786"
             ],
             [
              0.5555555555555556,
              "#d8576b"
             ],
             [
              0.6666666666666666,
              "#ed7953"
             ],
             [
              0.7777777777777778,
              "#fb9f3a"
             ],
             [
              0.8888888888888888,
              "#fdca26"
             ],
             [
              1,
              "#f0f921"
             ]
            ],
            "type": "heatmap"
           }
          ],
          "heatmapgl": [
           {
            "colorbar": {
             "outlinewidth": 0,
             "ticks": ""
            },
            "colorscale": [
             [
              0,
              "#0d0887"
             ],
             [
              0.1111111111111111,
              "#46039f"
             ],
             [
              0.2222222222222222,
              "#7201a8"
             ],
             [
              0.3333333333333333,
              "#9c179e"
             ],
             [
              0.4444444444444444,
              "#bd3786"
             ],
             [
              0.5555555555555556,
              "#d8576b"
             ],
             [
              0.6666666666666666,
              "#ed7953"
             ],
             [
              0.7777777777777778,
              "#fb9f3a"
             ],
             [
              0.8888888888888888,
              "#fdca26"
             ],
             [
              1,
              "#f0f921"
             ]
            ],
            "type": "heatmapgl"
           }
          ],
          "histogram": [
           {
            "marker": {
             "colorbar": {
              "outlinewidth": 0,
              "ticks": ""
             }
            },
            "type": "histogram"
           }
          ],
          "histogram2d": [
           {
            "colorbar": {
             "outlinewidth": 0,
             "ticks": ""
            },
            "colorscale": [
             [
              0,
              "#0d0887"
             ],
             [
              0.1111111111111111,
              "#46039f"
             ],
             [
              0.2222222222222222,
              "#7201a8"
             ],
             [
              0.3333333333333333,
              "#9c179e"
             ],
             [
              0.4444444444444444,
              "#bd3786"
             ],
             [
              0.5555555555555556,
              "#d8576b"
             ],
             [
              0.6666666666666666,
              "#ed7953"
             ],
             [
              0.7777777777777778,
              "#fb9f3a"
             ],
             [
              0.8888888888888888,
              "#fdca26"
             ],
             [
              1,
              "#f0f921"
             ]
            ],
            "type": "histogram2d"
           }
          ],
          "histogram2dcontour": [
           {
            "colorbar": {
             "outlinewidth": 0,
             "ticks": ""
            },
            "colorscale": [
             [
              0,
              "#0d0887"
             ],
             [
              0.1111111111111111,
              "#46039f"
             ],
             [
              0.2222222222222222,
              "#7201a8"
             ],
             [
              0.3333333333333333,
              "#9c179e"
             ],
             [
              0.4444444444444444,
              "#bd3786"
             ],
             [
              0.5555555555555556,
              "#d8576b"
             ],
             [
              0.6666666666666666,
              "#ed7953"
             ],
             [
              0.7777777777777778,
              "#fb9f3a"
             ],
             [
              0.8888888888888888,
              "#fdca26"
             ],
             [
              1,
              "#f0f921"
             ]
            ],
            "type": "histogram2dcontour"
           }
          ],
          "mesh3d": [
           {
            "colorbar": {
             "outlinewidth": 0,
             "ticks": ""
            },
            "type": "mesh3d"
           }
          ],
          "parcoords": [
           {
            "line": {
             "colorbar": {
              "outlinewidth": 0,
              "ticks": ""
             }
            },
            "type": "parcoords"
           }
          ],
          "pie": [
           {
            "automargin": true,
            "type": "pie"
           }
          ],
          "scatter": [
           {
            "marker": {
             "colorbar": {
              "outlinewidth": 0,
              "ticks": ""
             }
            },
            "type": "scatter"
           }
          ],
          "scatter3d": [
           {
            "line": {
             "colorbar": {
              "outlinewidth": 0,
              "ticks": ""
             }
            },
            "marker": {
             "colorbar": {
              "outlinewidth": 0,
              "ticks": ""
             }
            },
            "type": "scatter3d"
           }
          ],
          "scattercarpet": [
           {
            "marker": {
             "colorbar": {
              "outlinewidth": 0,
              "ticks": ""
             }
            },
            "type": "scattercarpet"
           }
          ],
          "scattergeo": [
           {
            "marker": {
             "colorbar": {
              "outlinewidth": 0,
              "ticks": ""
             }
            },
            "type": "scattergeo"
           }
          ],
          "scattergl": [
           {
            "marker": {
             "colorbar": {
              "outlinewidth": 0,
              "ticks": ""
             }
            },
            "type": "scattergl"
           }
          ],
          "scattermapbox": [
           {
            "marker": {
             "colorbar": {
              "outlinewidth": 0,
              "ticks": ""
             }
            },
            "type": "scattermapbox"
           }
          ],
          "scatterpolar": [
           {
            "marker": {
             "colorbar": {
              "outlinewidth": 0,
              "ticks": ""
             }
            },
            "type": "scatterpolar"
           }
          ],
          "scatterpolargl": [
           {
            "marker": {
             "colorbar": {
              "outlinewidth": 0,
              "ticks": ""
             }
            },
            "type": "scatterpolargl"
           }
          ],
          "scatterternary": [
           {
            "marker": {
             "colorbar": {
              "outlinewidth": 0,
              "ticks": ""
             }
            },
            "type": "scatterternary"
           }
          ],
          "surface": [
           {
            "colorbar": {
             "outlinewidth": 0,
             "ticks": ""
            },
            "colorscale": [
             [
              0,
              "#0d0887"
             ],
             [
              0.1111111111111111,
              "#46039f"
             ],
             [
              0.2222222222222222,
              "#7201a8"
             ],
             [
              0.3333333333333333,
              "#9c179e"
             ],
             [
              0.4444444444444444,
              "#bd3786"
             ],
             [
              0.5555555555555556,
              "#d8576b"
             ],
             [
              0.6666666666666666,
              "#ed7953"
             ],
             [
              0.7777777777777778,
              "#fb9f3a"
             ],
             [
              0.8888888888888888,
              "#fdca26"
             ],
             [
              1,
              "#f0f921"
             ]
            ],
            "type": "surface"
           }
          ],
          "table": [
           {
            "cells": {
             "fill": {
              "color": "#EBF0F8"
             },
             "line": {
              "color": "white"
             }
            },
            "header": {
             "fill": {
              "color": "#C8D4E3"
             },
             "line": {
              "color": "white"
             }
            },
            "type": "table"
           }
          ]
         },
         "layout": {
          "annotationdefaults": {
           "arrowcolor": "#2a3f5f",
           "arrowhead": 0,
           "arrowwidth": 1
          },
          "coloraxis": {
           "colorbar": {
            "outlinewidth": 0,
            "ticks": ""
           }
          },
          "colorscale": {
           "diverging": [
            [
             0,
             "#8e0152"
            ],
            [
             0.1,
             "#c51b7d"
            ],
            [
             0.2,
             "#de77ae"
            ],
            [
             0.3,
             "#f1b6da"
            ],
            [
             0.4,
             "#fde0ef"
            ],
            [
             0.5,
             "#f7f7f7"
            ],
            [
             0.6,
             "#e6f5d0"
            ],
            [
             0.7,
             "#b8e186"
            ],
            [
             0.8,
             "#7fbc41"
            ],
            [
             0.9,
             "#4d9221"
            ],
            [
             1,
             "#276419"
            ]
           ],
           "sequential": [
            [
             0,
             "#0d0887"
            ],
            [
             0.1111111111111111,
             "#46039f"
            ],
            [
             0.2222222222222222,
             "#7201a8"
            ],
            [
             0.3333333333333333,
             "#9c179e"
            ],
            [
             0.4444444444444444,
             "#bd3786"
            ],
            [
             0.5555555555555556,
             "#d8576b"
            ],
            [
             0.6666666666666666,
             "#ed7953"
            ],
            [
             0.7777777777777778,
             "#fb9f3a"
            ],
            [
             0.8888888888888888,
             "#fdca26"
            ],
            [
             1,
             "#f0f921"
            ]
           ],
           "sequentialminus": [
            [
             0,
             "#0d0887"
            ],
            [
             0.1111111111111111,
             "#46039f"
            ],
            [
             0.2222222222222222,
             "#7201a8"
            ],
            [
             0.3333333333333333,
             "#9c179e"
            ],
            [
             0.4444444444444444,
             "#bd3786"
            ],
            [
             0.5555555555555556,
             "#d8576b"
            ],
            [
             0.6666666666666666,
             "#ed7953"
            ],
            [
             0.7777777777777778,
             "#fb9f3a"
            ],
            [
             0.8888888888888888,
             "#fdca26"
            ],
            [
             1,
             "#f0f921"
            ]
           ]
          },
          "colorway": [
           "#636efa",
           "#EF553B",
           "#00cc96",
           "#ab63fa",
           "#FFA15A",
           "#19d3f3",
           "#FF6692",
           "#B6E880",
           "#FF97FF",
           "#FECB52"
          ],
          "font": {
           "color": "#2a3f5f"
          },
          "geo": {
           "bgcolor": "white",
           "lakecolor": "white",
           "landcolor": "white",
           "showlakes": true,
           "showland": true,
           "subunitcolor": "#C8D4E3"
          },
          "hoverlabel": {
           "align": "left"
          },
          "hovermode": "closest",
          "mapbox": {
           "style": "light"
          },
          "paper_bgcolor": "white",
          "plot_bgcolor": "white",
          "polar": {
           "angularaxis": {
            "gridcolor": "#EBF0F8",
            "linecolor": "#EBF0F8",
            "ticks": ""
           },
           "bgcolor": "white",
           "radialaxis": {
            "gridcolor": "#EBF0F8",
            "linecolor": "#EBF0F8",
            "ticks": ""
           }
          },
          "scene": {
           "xaxis": {
            "backgroundcolor": "white",
            "gridcolor": "#DFE8F3",
            "gridwidth": 2,
            "linecolor": "#EBF0F8",
            "showbackground": true,
            "ticks": "",
            "zerolinecolor": "#EBF0F8"
           },
           "yaxis": {
            "backgroundcolor": "white",
            "gridcolor": "#DFE8F3",
            "gridwidth": 2,
            "linecolor": "#EBF0F8",
            "showbackground": true,
            "ticks": "",
            "zerolinecolor": "#EBF0F8"
           },
           "zaxis": {
            "backgroundcolor": "white",
            "gridcolor": "#DFE8F3",
            "gridwidth": 2,
            "linecolor": "#EBF0F8",
            "showbackground": true,
            "ticks": "",
            "zerolinecolor": "#EBF0F8"
           }
          },
          "shapedefaults": {
           "line": {
            "color": "#2a3f5f"
           }
          },
          "ternary": {
           "aaxis": {
            "gridcolor": "#DFE8F3",
            "linecolor": "#A2B1C6",
            "ticks": ""
           },
           "baxis": {
            "gridcolor": "#DFE8F3",
            "linecolor": "#A2B1C6",
            "ticks": ""
           },
           "bgcolor": "white",
           "caxis": {
            "gridcolor": "#DFE8F3",
            "linecolor": "#A2B1C6",
            "ticks": ""
           }
          },
          "title": {
           "x": 0.05
          },
          "xaxis": {
           "automargin": true,
           "gridcolor": "#EBF0F8",
           "linecolor": "#EBF0F8",
           "ticks": "",
           "title": {
            "standoff": 15
           },
           "zerolinecolor": "#EBF0F8",
           "zerolinewidth": 2
          },
          "yaxis": {
           "automargin": true,
           "gridcolor": "#EBF0F8",
           "linecolor": "#EBF0F8",
           "ticks": "",
           "title": {
            "standoff": 15
           },
           "zerolinecolor": "#EBF0F8",
           "zerolinewidth": 2
          }
         }
        },
        "title": {
         "text": "NHL Expected Performance"
        },
        "xaxis": {
         "anchor": "y",
         "domain": [
          0,
          1
         ],
         "showgrid": false,
         "title": {
          "text": "Expected Goals For - Expected Goals Against"
         },
         "zeroline": false
        },
        "yaxis": {
         "anchor": "x",
         "domain": [
          0,
          1
         ],
         "showgrid": false,
         "title": {
          "text": "Actual Goals For - Actual Goals Against"
         },
         "zeroline": false
        }
       }
      },
      "text/html": [
       "<div>\n",
       "        \n",
       "        \n",
       "            <div id=\"9c40c616-bf8f-4ff7-be1e-140e153b4602\" class=\"plotly-graph-div\" style=\"height:525px; width:100%;\"></div>\n",
       "            <script type=\"text/javascript\">\n",
       "                require([\"plotly\"], function(Plotly) {\n",
       "                    window.PLOTLYENV=window.PLOTLYENV || {};\n",
       "                    \n",
       "                if (document.getElementById(\"9c40c616-bf8f-4ff7-be1e-140e153b4602\")) {\n",
       "                    Plotly.newPlot(\n",
       "                        '9c40c616-bf8f-4ff7-be1e-140e153b4602',\n",
       "                        [{\"hoverlabel\": {\"namelength\": 0}, \"hovertemplate\": \"Team=%{text}<br>xG+/-=%{x}<br>G+/-=%{y}\", \"legendgroup\": \"WAS\", \"marker\": {\"color\": \"#636efa\", \"symbol\": \"circle\"}, \"mode\": \"markers+text\", \"name\": \"WAS\", \"showlegend\": true, \"text\": [\"WAS\"], \"textposition\": \"top center\", \"type\": \"scatter\", \"x\": [-39.81], \"xaxis\": \"x\", \"y\": [\"63\"], \"yaxis\": \"y\"}, {\"hoverlabel\": {\"namelength\": 0}, \"hovertemplate\": \"Team=%{text}<br>xG+/-=%{x}<br>G+/-=%{y}\", \"legendgroup\": \"WPG\", \"marker\": {\"color\": \"#EF553B\", \"symbol\": \"circle\"}, \"mode\": \"markers+text\", \"name\": \"WPG\", \"showlegend\": true, \"text\": [\"WPG\"], \"textposition\": \"top center\", \"type\": \"scatter\", \"x\": [-31.11], \"xaxis\": \"x\", \"y\": [\"27\"], \"yaxis\": \"y\"}, {\"hoverlabel\": {\"namelength\": 0}, \"hovertemplate\": \"Team=%{text}<br>xG+/-=%{x}<br>G+/-=%{y}\", \"legendgroup\": \"VGK\", \"marker\": {\"color\": \"#00cc96\", \"symbol\": \"circle\"}, \"mode\": \"markers+text\", \"name\": \"VGK\", \"showlegend\": true, \"text\": [\"VGK\"], \"textposition\": \"top center\", \"type\": \"scatter\", \"x\": [72.92], \"xaxis\": \"x\", \"y\": [\"32\"], \"yaxis\": \"y\"}, {\"hoverlabel\": {\"namelength\": 0}, \"hovertemplate\": \"Team=%{text}<br>xG+/-=%{x}<br>G+/-=%{y}\", \"legendgroup\": \"VAN\", \"marker\": {\"color\": \"#ab63fa\", \"symbol\": \"circle\"}, \"mode\": \"markers+text\", \"name\": \"VAN\", \"showlegend\": true, \"text\": [\"VAN\"], \"textposition\": \"top center\", \"type\": \"scatter\", \"x\": [-50.0], \"xaxis\": \"x\", \"y\": [\"-53\"], \"yaxis\": \"y\"}, {\"hoverlabel\": {\"namelength\": 0}, \"hovertemplate\": \"Team=%{text}<br>xG+/-=%{x}<br>G+/-=%{y}\", \"legendgroup\": \"TOR\", \"marker\": {\"color\": \"#FFA15A\", \"symbol\": \"circle\"}, \"mode\": \"markers+text\", \"name\": \"TOR\", \"showlegend\": true, \"text\": [\"TOR\"], \"textposition\": \"top center\", \"type\": \"scatter\", \"x\": [33.8], \"xaxis\": \"x\", \"y\": [\"65\"], \"yaxis\": \"y\"}, {\"hoverlabel\": {\"namelength\": 0}, \"hovertemplate\": \"Team=%{text}<br>xG+/-=%{x}<br>G+/-=%{y}\", \"legendgroup\": \"TBL\", \"marker\": {\"color\": \"#19d3f3\", \"symbol\": \"circle\"}, \"mode\": \"markers+text\", \"name\": \"TBL\", \"showlegend\": true, \"text\": [\"TBL\"], \"textposition\": \"top center\", \"type\": \"scatter\", \"x\": [51.48], \"xaxis\": \"x\", \"y\": [\"142\"], \"yaxis\": \"y\"}, {\"hoverlabel\": {\"namelength\": 0}, \"hovertemplate\": \"Team=%{text}<br>xG+/-=%{x}<br>G+/-=%{y}\", \"legendgroup\": \"STL\", \"marker\": {\"color\": \"#FF6692\", \"symbol\": \"circle\"}, \"mode\": \"markers+text\", \"name\": \"STL\", \"showlegend\": true, \"text\": [\"STL\"], \"textposition\": \"top center\", \"type\": \"scatter\", \"x\": [31.42], \"xaxis\": \"x\", \"y\": [\"58\"], \"yaxis\": \"y\"}, {\"hoverlabel\": {\"namelength\": 0}, \"hovertemplate\": \"Team=%{text}<br>xG+/-=%{x}<br>G+/-=%{y}\", \"legendgroup\": \"SJS\", \"marker\": {\"color\": \"#B6E880\", \"symbol\": \"circle\"}, \"mode\": \"markers+text\", \"name\": \"SJS\", \"showlegend\": true, \"text\": [\"SJS\"], \"textposition\": \"top center\", \"type\": \"scatter\", \"x\": [32.78], \"xaxis\": \"x\", \"y\": [\"-25\"], \"yaxis\": \"y\"}, {\"hoverlabel\": {\"namelength\": 0}, \"hovertemplate\": \"Team=%{text}<br>xG+/-=%{x}<br>G+/-=%{y}\", \"legendgroup\": \"PIT\", \"marker\": {\"color\": \"#FF97FF\", \"symbol\": \"circle\"}, \"mode\": \"markers+text\", \"name\": \"PIT\", \"showlegend\": true, \"text\": [\"PIT\"], \"textposition\": \"top center\", \"type\": \"scatter\", \"x\": [37.94], \"xaxis\": \"x\", \"y\": [\"38\"], \"yaxis\": \"y\"}, {\"hoverlabel\": {\"namelength\": 0}, \"hovertemplate\": \"Team=%{text}<br>xG+/-=%{x}<br>G+/-=%{y}\", \"legendgroup\": \"OTT\", \"marker\": {\"color\": \"#FECB52\", \"symbol\": \"circle\"}, \"mode\": \"markers+text\", \"name\": \"OTT\", \"showlegend\": true, \"text\": [\"OTT\"], \"textposition\": \"top center\", \"type\": \"scatter\", \"x\": [-50.43], \"xaxis\": \"x\", \"y\": [\"-125\"], \"yaxis\": \"y\"}, {\"hoverlabel\": {\"namelength\": 0}, \"hovertemplate\": \"Team=%{text}<br>xG+/-=%{x}<br>G+/-=%{y}\", \"legendgroup\": \"NYR\", \"marker\": {\"color\": \"#636efa\", \"symbol\": \"circle\"}, \"mode\": \"markers+text\", \"name\": \"NYR\", \"showlegend\": true, \"text\": [\"NYR\"], \"textposition\": \"top center\", \"type\": \"scatter\", \"x\": [-53.67], \"xaxis\": \"x\", \"y\": [\"-55\"], \"yaxis\": \"y\"}, {\"hoverlabel\": {\"namelength\": 0}, \"hovertemplate\": \"Team=%{text}<br>xG+/-=%{x}<br>G+/-=%{y}\", \"legendgroup\": \"NSH\", \"marker\": {\"color\": \"#EF553B\", \"symbol\": \"circle\"}, \"mode\": \"markers+text\", \"name\": \"NSH\", \"showlegend\": true, \"text\": [\"NSH\"], \"textposition\": \"top center\", \"type\": \"scatter\", \"x\": [17.01], \"xaxis\": \"x\", \"y\": [\"83\"], \"yaxis\": \"y\"}, {\"hoverlabel\": {\"namelength\": 0}, \"hovertemplate\": \"Team=%{text}<br>xG+/-=%{x}<br>G+/-=%{y}\", \"legendgroup\": \"NJD\", \"marker\": {\"color\": \"#00cc96\", \"symbol\": \"circle\"}, \"mode\": \"markers+text\", \"name\": \"NJD\", \"showlegend\": true, \"text\": [\"NJD\"], \"textposition\": \"top center\", \"type\": \"scatter\", \"x\": [-26.63], \"xaxis\": \"x\", \"y\": [\"-79\"], \"yaxis\": \"y\"}, {\"hoverlabel\": {\"namelength\": 0}, \"hovertemplate\": \"Team=%{text}<br>xG+/-=%{x}<br>G+/-=%{y}\", \"legendgroup\": \"MON\", \"marker\": {\"color\": \"#ab63fa\", \"symbol\": \"circle\"}, \"mode\": \"markers+text\", \"name\": \"MON\", \"showlegend\": true, \"text\": [\"MON\"], \"textposition\": \"top center\", \"type\": \"scatter\", \"x\": [58.54], \"xaxis\": \"x\", \"y\": [\"3\"], \"yaxis\": \"y\"}, {\"hoverlabel\": {\"namelength\": 0}, \"hovertemplate\": \"Team=%{text}<br>xG+/-=%{x}<br>G+/-=%{y}\", \"legendgroup\": \"MIN\", \"marker\": {\"color\": \"#FFA15A\", \"symbol\": \"circle\"}, \"mode\": \"markers+text\", \"name\": \"MIN\", \"showlegend\": true, \"text\": [\"MIN\"], \"textposition\": \"top center\", \"type\": \"scatter\", \"x\": [54.77], \"xaxis\": \"x\", \"y\": [\"5\"], \"yaxis\": \"y\"}, {\"hoverlabel\": {\"namelength\": 0}, \"hovertemplate\": \"Team=%{text}<br>xG+/-=%{x}<br>G+/-=%{y}\", \"legendgroup\": \"LAK\", \"marker\": {\"color\": \"#19d3f3\", \"symbol\": \"circle\"}, \"mode\": \"markers+text\", \"name\": \"LAK\", \"showlegend\": true, \"text\": [\"LAK\"], \"textposition\": \"top center\", \"type\": \"scatter\", \"x\": [-7.38], \"xaxis\": \"x\", \"y\": [\"-39\"], \"yaxis\": \"y\"}, {\"hoverlabel\": {\"namelength\": 0}, \"hovertemplate\": \"Team=%{text}<br>xG+/-=%{x}<br>G+/-=%{y}\", \"legendgroup\": \"FLA\", \"marker\": {\"color\": \"#FF6692\", \"symbol\": \"circle\"}, \"mode\": \"markers+text\", \"name\": \"FLA\", \"showlegend\": true, \"text\": [\"FLA\"], \"textposition\": \"top center\", \"type\": \"scatter\", \"x\": [-34.73], \"xaxis\": \"x\", \"y\": [\"-25\"], \"yaxis\": \"y\"}, {\"hoverlabel\": {\"namelength\": 0}, \"hovertemplate\": \"Team=%{text}<br>xG+/-=%{x}<br>G+/-=%{y}\", \"legendgroup\": \"EDM\", \"marker\": {\"color\": \"#B6E880\", \"symbol\": \"circle\"}, \"mode\": \"markers+text\", \"name\": \"EDM\", \"showlegend\": true, \"text\": [\"EDM\"], \"textposition\": \"top center\", \"type\": \"scatter\", \"x\": [-20.44], \"xaxis\": \"x\", \"y\": [\"-65\"], \"yaxis\": \"y\"}, {\"hoverlabel\": {\"namelength\": 0}, \"hovertemplate\": \"Team=%{text}<br>xG+/-=%{x}<br>G+/-=%{y}\", \"legendgroup\": \"DET\", \"marker\": {\"color\": \"#FF97FF\", \"symbol\": \"circle\"}, \"mode\": \"markers+text\", \"name\": \"DET\", \"showlegend\": true, \"text\": [\"DET\"], \"textposition\": \"top center\", \"type\": \"scatter\", \"x\": [-71.69], \"xaxis\": \"x\", \"y\": [\"-114\"], \"yaxis\": \"y\"}, {\"hoverlabel\": {\"namelength\": 0}, \"hovertemplate\": \"Team=%{text}<br>xG+/-=%{x}<br>G+/-=%{y}\", \"legendgroup\": \"DAL\", \"marker\": {\"color\": \"#FECB52\", \"symbol\": \"circle\"}, \"mode\": \"markers+text\", \"name\": \"DAL\", \"showlegend\": true, \"text\": [\"DAL\"], \"textposition\": \"top center\", \"type\": \"scatter\", \"x\": [29.02], \"xaxis\": \"x\", \"y\": [\"16\"], \"yaxis\": \"y\"}, {\"hoverlabel\": {\"namelength\": 0}, \"hovertemplate\": \"Team=%{text}<br>xG+/-=%{x}<br>G+/-=%{y}\", \"legendgroup\": \"COL\", \"marker\": {\"color\": \"#636efa\", \"symbol\": \"circle\"}, \"mode\": \"markers+text\", \"name\": \"COL\", \"showlegend\": true, \"text\": [\"COL\"], \"textposition\": \"top center\", \"type\": \"scatter\", \"x\": [-13.9], \"xaxis\": \"x\", \"y\": [\"65\"], \"yaxis\": \"y\"}, {\"hoverlabel\": {\"namelength\": 0}, \"hovertemplate\": \"Team=%{text}<br>xG+/-=%{x}<br>G+/-=%{y}\", \"legendgroup\": \"CHI\", \"marker\": {\"color\": \"#EF553B\", \"symbol\": \"circle\"}, \"mode\": \"markers+text\", \"name\": \"CHI\", \"showlegend\": true, \"text\": [\"CHI\"], \"textposition\": \"top center\", \"type\": \"scatter\", \"x\": [-49.15], \"xaxis\": \"x\", \"y\": [\"-18\"], \"yaxis\": \"y\"}, {\"hoverlabel\": {\"namelength\": 0}, \"hovertemplate\": \"Team=%{text}<br>xG+/-=%{x}<br>G+/-=%{y}\", \"legendgroup\": \"CAL\", \"marker\": {\"color\": \"#00cc96\", \"symbol\": \"circle\"}, \"mode\": \"markers+text\", \"name\": \"CAL\", \"showlegend\": true, \"text\": [\"CAL\"], \"textposition\": \"top center\", \"type\": \"scatter\", \"x\": [43.01], \"xaxis\": \"x\", \"y\": [\"7\"], \"yaxis\": \"y\"}, {\"hoverlabel\": {\"namelength\": 0}, \"hovertemplate\": \"Team=%{text}<br>xG+/-=%{x}<br>G+/-=%{y}\", \"legendgroup\": \"CBJ\", \"marker\": {\"color\": \"#ab63fa\", \"symbol\": \"circle\"}, \"mode\": \"markers+text\", \"name\": \"CBJ\", \"showlegend\": true, \"text\": [\"CBJ\"], \"textposition\": \"top center\", \"type\": \"scatter\", \"x\": [23.26], \"xaxis\": \"x\", \"y\": [\"38\"], \"yaxis\": \"y\"}, {\"hoverlabel\": {\"namelength\": 0}, \"hovertemplate\": \"Team=%{text}<br>xG+/-=%{x}<br>G+/-=%{y}\", \"legendgroup\": \"CAR\", \"marker\": {\"color\": \"#FFA15A\", \"symbol\": \"circle\"}, \"mode\": \"markers+text\", \"name\": \"CAR\", \"showlegend\": true, \"text\": [\"CAR\"], \"textposition\": \"top center\", \"type\": \"scatter\", \"x\": [81.97], \"xaxis\": \"x\", \"y\": [\"-4\"], \"yaxis\": \"y\"}, {\"hoverlabel\": {\"namelength\": 0}, \"hovertemplate\": \"Team=%{text}<br>xG+/-=%{x}<br>G+/-=%{y}\", \"legendgroup\": \"BUF\", \"marker\": {\"color\": \"#19d3f3\", \"symbol\": \"circle\"}, \"mode\": \"markers+text\", \"name\": \"BUF\", \"showlegend\": true, \"text\": [\"BUF\"], \"textposition\": \"top center\", \"type\": \"scatter\", \"x\": [-48.06], \"xaxis\": \"x\", \"y\": [\"-87\"], \"yaxis\": \"y\"}, {\"hoverlabel\": {\"namelength\": 0}, \"hovertemplate\": \"Team=%{text}<br>xG+/-=%{x}<br>G+/-=%{y}\", \"legendgroup\": \"BOS\", \"marker\": {\"color\": \"#FF6692\", \"symbol\": \"circle\"}, \"mode\": \"markers+text\", \"name\": \"BOS\", \"showlegend\": true, \"text\": [\"BOS\"], \"textposition\": \"top center\", \"type\": \"scatter\", \"x\": [43.79], \"xaxis\": \"x\", \"y\": [\"95\"], \"yaxis\": \"y\"}, {\"hoverlabel\": {\"namelength\": 0}, \"hovertemplate\": \"Team=%{text}<br>xG+/-=%{x}<br>G+/-=%{y}\", \"legendgroup\": \"ARI\", \"marker\": {\"color\": \"#B6E880\", \"symbol\": \"circle\"}, \"mode\": \"markers+text\", \"name\": \"ARI\", \"showlegend\": true, \"text\": [\"ARI\"], \"textposition\": \"top center\", \"type\": \"scatter\", \"x\": [-35.51], \"xaxis\": \"x\", \"y\": [\"-52\"], \"yaxis\": \"y\"}, {\"hoverlabel\": {\"namelength\": 0}, \"hovertemplate\": \"Team=%{text}<br>xG+/-=%{x}<br>G+/-=%{y}\", \"legendgroup\": \"ANA\", \"marker\": {\"color\": \"#FF97FF\", \"symbol\": \"circle\"}, \"mode\": \"markers+text\", \"name\": \"ANA\", \"showlegend\": true, \"text\": [\"ANA\"], \"textposition\": \"top center\", \"type\": \"scatter\", \"x\": [-57.67], \"xaxis\": \"x\", \"y\": [\"-15\"], \"yaxis\": \"y\"}, {\"mode\": \"text\", \"text\": [\"Better than Expected\", \"Bad\", \"Good\", \"Worse than Expected\"], \"textfont\": {\"color\": \"grey\"}, \"type\": \"scatter\", \"x\": [-60.69, -69.69, 81.97, 70.97], \"y\": [142.0, -125.0, 139.0, -125.0]}],\n",
       "                        {\"annotations\": [{\"font\": {\"color\": \"grey\", \"size\": 8}, \"showarrow\": false, \"text\": \"Chart by: Aram Kaplanian\", \"x\": 1, \"xanchor\": \"right\", \"xref\": \"paper\", \"xshift\": 15, \"y\": -0.1, \"yanchor\": \"auto\", \"yref\": \"paper\", \"yshift\": 7}, {\"font\": {\"color\": \"grey\", \"size\": 8}, \"showarrow\": false, \"text\": \"Source: Corsica Hockey\", \"x\": 1, \"xanchor\": \"right\", \"xref\": \"paper\", \"xshift\": 15, \"y\": -0.1, \"yanchor\": \"auto\", \"yref\": \"paper\", \"yshift\": 0}], \"legend\": {\"title\": {\"text\": \"Team\"}, \"tracegroupgap\": 0}, \"margin\": {\"t\": 60}, \"shapes\": [{\"layer\": \"below\", \"line\": {\"color\": \"red\", \"dash\": \"dashdot\", \"width\": 2}, \"opacity\": 0.4, \"type\": \"line\", \"x0\": 5.140000000000001, \"x1\": 5.140000000000001, \"y0\": -125.0, \"y1\": 142.0}, {\"layer\": \"below\", \"line\": {\"color\": \"red\", \"dash\": \"dashdot\", \"width\": 2}, \"opacity\": 0.4, \"type\": \"line\", \"x0\": -71.69, \"x1\": 81.97, \"y0\": 8.5, \"y1\": 8.5}], \"showlegend\": false, \"template\": {\"data\": {\"bar\": [{\"error_x\": {\"color\": \"#2a3f5f\"}, \"error_y\": {\"color\": \"#2a3f5f\"}, \"marker\": {\"line\": {\"color\": \"white\", \"width\": 0.5}}, \"type\": \"bar\"}], \"barpolar\": [{\"marker\": {\"line\": {\"color\": \"white\", \"width\": 0.5}}, \"type\": \"barpolar\"}], \"carpet\": [{\"aaxis\": {\"endlinecolor\": \"#2a3f5f\", \"gridcolor\": \"#C8D4E3\", \"linecolor\": \"#C8D4E3\", \"minorgridcolor\": \"#C8D4E3\", \"startlinecolor\": \"#2a3f5f\"}, \"baxis\": {\"endlinecolor\": \"#2a3f5f\", \"gridcolor\": \"#C8D4E3\", \"linecolor\": \"#C8D4E3\", \"minorgridcolor\": \"#C8D4E3\", \"startlinecolor\": \"#2a3f5f\"}, \"type\": \"carpet\"}], \"choropleth\": [{\"colorbar\": {\"outlinewidth\": 0, \"ticks\": \"\"}, \"type\": \"choropleth\"}], \"contour\": [{\"colorbar\": {\"outlinewidth\": 0, \"ticks\": \"\"}, \"colorscale\": [[0.0, \"#0d0887\"], [0.1111111111111111, \"#46039f\"], [0.2222222222222222, \"#7201a8\"], [0.3333333333333333, \"#9c179e\"], [0.4444444444444444, \"#bd3786\"], [0.5555555555555556, \"#d8576b\"], [0.6666666666666666, \"#ed7953\"], [0.7777777777777778, \"#fb9f3a\"], [0.8888888888888888, \"#fdca26\"], [1.0, \"#f0f921\"]], \"type\": \"contour\"}], \"contourcarpet\": [{\"colorbar\": {\"outlinewidth\": 0, \"ticks\": \"\"}, \"type\": \"contourcarpet\"}], \"heatmap\": [{\"colorbar\": {\"outlinewidth\": 0, \"ticks\": \"\"}, \"colorscale\": [[0.0, \"#0d0887\"], [0.1111111111111111, \"#46039f\"], [0.2222222222222222, \"#7201a8\"], [0.3333333333333333, \"#9c179e\"], [0.4444444444444444, \"#bd3786\"], [0.5555555555555556, \"#d8576b\"], [0.6666666666666666, \"#ed7953\"], [0.7777777777777778, \"#fb9f3a\"], [0.8888888888888888, \"#fdca26\"], [1.0, \"#f0f921\"]], \"type\": \"heatmap\"}], \"heatmapgl\": [{\"colorbar\": {\"outlinewidth\": 0, \"ticks\": \"\"}, \"colorscale\": [[0.0, \"#0d0887\"], [0.1111111111111111, \"#46039f\"], [0.2222222222222222, \"#7201a8\"], [0.3333333333333333, \"#9c179e\"], [0.4444444444444444, \"#bd3786\"], [0.5555555555555556, \"#d8576b\"], [0.6666666666666666, \"#ed7953\"], [0.7777777777777778, \"#fb9f3a\"], [0.8888888888888888, \"#fdca26\"], [1.0, \"#f0f921\"]], \"type\": \"heatmapgl\"}], \"histogram\": [{\"marker\": {\"colorbar\": {\"outlinewidth\": 0, \"ticks\": \"\"}}, \"type\": \"histogram\"}], \"histogram2d\": [{\"colorbar\": {\"outlinewidth\": 0, \"ticks\": \"\"}, \"colorscale\": [[0.0, \"#0d0887\"], [0.1111111111111111, \"#46039f\"], [0.2222222222222222, \"#7201a8\"], [0.3333333333333333, \"#9c179e\"], [0.4444444444444444, \"#bd3786\"], [0.5555555555555556, \"#d8576b\"], [0.6666666666666666, \"#ed7953\"], [0.7777777777777778, \"#fb9f3a\"], [0.8888888888888888, \"#fdca26\"], [1.0, \"#f0f921\"]], \"type\": \"histogram2d\"}], \"histogram2dcontour\": [{\"colorbar\": {\"outlinewidth\": 0, \"ticks\": \"\"}, \"colorscale\": [[0.0, \"#0d0887\"], [0.1111111111111111, \"#46039f\"], [0.2222222222222222, \"#7201a8\"], [0.3333333333333333, \"#9c179e\"], [0.4444444444444444, \"#bd3786\"], [0.5555555555555556, \"#d8576b\"], [0.6666666666666666, \"#ed7953\"], [0.7777777777777778, \"#fb9f3a\"], [0.8888888888888888, \"#fdca26\"], [1.0, \"#f0f921\"]], \"type\": \"histogram2dcontour\"}], \"mesh3d\": [{\"colorbar\": {\"outlinewidth\": 0, \"ticks\": \"\"}, \"type\": \"mesh3d\"}], \"parcoords\": [{\"line\": {\"colorbar\": {\"outlinewidth\": 0, \"ticks\": \"\"}}, \"type\": \"parcoords\"}], \"pie\": [{\"automargin\": true, \"type\": \"pie\"}], \"scatter\": [{\"marker\": {\"colorbar\": {\"outlinewidth\": 0, \"ticks\": \"\"}}, \"type\": \"scatter\"}], \"scatter3d\": [{\"line\": {\"colorbar\": {\"outlinewidth\": 0, \"ticks\": \"\"}}, \"marker\": {\"colorbar\": {\"outlinewidth\": 0, \"ticks\": \"\"}}, \"type\": \"scatter3d\"}], \"scattercarpet\": [{\"marker\": {\"colorbar\": {\"outlinewidth\": 0, \"ticks\": \"\"}}, \"type\": \"scattercarpet\"}], \"scattergeo\": [{\"marker\": {\"colorbar\": {\"outlinewidth\": 0, \"ticks\": \"\"}}, \"type\": \"scattergeo\"}], \"scattergl\": [{\"marker\": {\"colorbar\": {\"outlinewidth\": 0, \"ticks\": \"\"}}, \"type\": \"scattergl\"}], \"scattermapbox\": [{\"marker\": {\"colorbar\": {\"outlinewidth\": 0, \"ticks\": \"\"}}, \"type\": \"scattermapbox\"}], \"scatterpolar\": [{\"marker\": {\"colorbar\": {\"outlinewidth\": 0, \"ticks\": \"\"}}, \"type\": \"scatterpolar\"}], \"scatterpolargl\": [{\"marker\": {\"colorbar\": {\"outlinewidth\": 0, \"ticks\": \"\"}}, \"type\": \"scatterpolargl\"}], \"scatterternary\": [{\"marker\": {\"colorbar\": {\"outlinewidth\": 0, \"ticks\": \"\"}}, \"type\": \"scatterternary\"}], \"surface\": [{\"colorbar\": {\"outlinewidth\": 0, \"ticks\": \"\"}, \"colorscale\": [[0.0, \"#0d0887\"], [0.1111111111111111, \"#46039f\"], [0.2222222222222222, \"#7201a8\"], [0.3333333333333333, \"#9c179e\"], [0.4444444444444444, \"#bd3786\"], [0.5555555555555556, \"#d8576b\"], [0.6666666666666666, \"#ed7953\"], [0.7777777777777778, \"#fb9f3a\"], [0.8888888888888888, \"#fdca26\"], [1.0, \"#f0f921\"]], \"type\": \"surface\"}], \"table\": [{\"cells\": {\"fill\": {\"color\": \"#EBF0F8\"}, \"line\": {\"color\": \"white\"}}, \"header\": {\"fill\": {\"color\": \"#C8D4E3\"}, \"line\": {\"color\": \"white\"}}, \"type\": \"table\"}]}, \"layout\": {\"annotationdefaults\": {\"arrowcolor\": \"#2a3f5f\", \"arrowhead\": 0, \"arrowwidth\": 1}, \"coloraxis\": {\"colorbar\": {\"outlinewidth\": 0, \"ticks\": \"\"}}, \"colorscale\": {\"diverging\": [[0, \"#8e0152\"], [0.1, \"#c51b7d\"], [0.2, \"#de77ae\"], [0.3, \"#f1b6da\"], [0.4, \"#fde0ef\"], [0.5, \"#f7f7f7\"], [0.6, \"#e6f5d0\"], [0.7, \"#b8e186\"], [0.8, \"#7fbc41\"], [0.9, \"#4d9221\"], [1, \"#276419\"]], \"sequential\": [[0.0, \"#0d0887\"], [0.1111111111111111, \"#46039f\"], [0.2222222222222222, \"#7201a8\"], [0.3333333333333333, \"#9c179e\"], [0.4444444444444444, \"#bd3786\"], [0.5555555555555556, \"#d8576b\"], [0.6666666666666666, \"#ed7953\"], [0.7777777777777778, \"#fb9f3a\"], [0.8888888888888888, \"#fdca26\"], [1.0, \"#f0f921\"]], \"sequentialminus\": [[0.0, \"#0d0887\"], [0.1111111111111111, \"#46039f\"], [0.2222222222222222, \"#7201a8\"], [0.3333333333333333, \"#9c179e\"], [0.4444444444444444, \"#bd3786\"], [0.5555555555555556, \"#d8576b\"], [0.6666666666666666, \"#ed7953\"], [0.7777777777777778, \"#fb9f3a\"], [0.8888888888888888, \"#fdca26\"], [1.0, \"#f0f921\"]]}, \"colorway\": [\"#636efa\", \"#EF553B\", \"#00cc96\", \"#ab63fa\", \"#FFA15A\", \"#19d3f3\", \"#FF6692\", \"#B6E880\", \"#FF97FF\", \"#FECB52\"], \"font\": {\"color\": \"#2a3f5f\"}, \"geo\": {\"bgcolor\": \"white\", \"lakecolor\": \"white\", \"landcolor\": \"white\", \"showlakes\": true, \"showland\": true, \"subunitcolor\": \"#C8D4E3\"}, \"hoverlabel\": {\"align\": \"left\"}, \"hovermode\": \"closest\", \"mapbox\": {\"style\": \"light\"}, \"paper_bgcolor\": \"white\", \"plot_bgcolor\": \"white\", \"polar\": {\"angularaxis\": {\"gridcolor\": \"#EBF0F8\", \"linecolor\": \"#EBF0F8\", \"ticks\": \"\"}, \"bgcolor\": \"white\", \"radialaxis\": {\"gridcolor\": \"#EBF0F8\", \"linecolor\": \"#EBF0F8\", \"ticks\": \"\"}}, \"scene\": {\"xaxis\": {\"backgroundcolor\": \"white\", \"gridcolor\": \"#DFE8F3\", \"gridwidth\": 2, \"linecolor\": \"#EBF0F8\", \"showbackground\": true, \"ticks\": \"\", \"zerolinecolor\": \"#EBF0F8\"}, \"yaxis\": {\"backgroundcolor\": \"white\", \"gridcolor\": \"#DFE8F3\", \"gridwidth\": 2, \"linecolor\": \"#EBF0F8\", \"showbackground\": true, \"ticks\": \"\", \"zerolinecolor\": \"#EBF0F8\"}, \"zaxis\": {\"backgroundcolor\": \"white\", \"gridcolor\": \"#DFE8F3\", \"gridwidth\": 2, \"linecolor\": \"#EBF0F8\", \"showbackground\": true, \"ticks\": \"\", \"zerolinecolor\": \"#EBF0F8\"}}, \"shapedefaults\": {\"line\": {\"color\": \"#2a3f5f\"}}, \"ternary\": {\"aaxis\": {\"gridcolor\": \"#DFE8F3\", \"linecolor\": \"#A2B1C6\", \"ticks\": \"\"}, \"baxis\": {\"gridcolor\": \"#DFE8F3\", \"linecolor\": \"#A2B1C6\", \"ticks\": \"\"}, \"bgcolor\": \"white\", \"caxis\": {\"gridcolor\": \"#DFE8F3\", \"linecolor\": \"#A2B1C6\", \"ticks\": \"\"}}, \"title\": {\"x\": 0.05}, \"xaxis\": {\"automargin\": true, \"gridcolor\": \"#EBF0F8\", \"linecolor\": \"#EBF0F8\", \"ticks\": \"\", \"title\": {\"standoff\": 15}, \"zerolinecolor\": \"#EBF0F8\", \"zerolinewidth\": 2}, \"yaxis\": {\"automargin\": true, \"gridcolor\": \"#EBF0F8\", \"linecolor\": \"#EBF0F8\", \"ticks\": \"\", \"title\": {\"standoff\": 15}, \"zerolinecolor\": \"#EBF0F8\", \"zerolinewidth\": 2}}}, \"title\": {\"text\": \"NHL Expected Performance\"}, \"xaxis\": {\"anchor\": \"y\", \"domain\": [0.0, 1.0], \"showgrid\": false, \"title\": {\"text\": \"Expected Goals For - Expected Goals Against\"}, \"zeroline\": false}, \"yaxis\": {\"anchor\": \"x\", \"domain\": [0.0, 1.0], \"showgrid\": false, \"title\": {\"text\": \"Actual Goals For - Actual Goals Against\"}, \"zeroline\": false}},\n",
       "                        {\"responsive\": true}\n",
       "                    ).then(function(){\n",
       "                            \n",
       "var gd = document.getElementById('9c40c616-bf8f-4ff7-be1e-140e153b4602');\n",
       "var x = new MutationObserver(function (mutations, observer) {{\n",
       "        var display = window.getComputedStyle(gd).display;\n",
       "        if (!display || display === 'none') {{\n",
       "            console.log([gd, 'removed!']);\n",
       "            Plotly.purge(gd);\n",
       "            observer.disconnect();\n",
       "        }}\n",
       "}});\n",
       "\n",
       "// Listen for the removal of the full notebook cells\n",
       "var notebookContainer = gd.closest('#notebook-container');\n",
       "if (notebookContainer) {{\n",
       "    x.observe(notebookContainer, {childList: true});\n",
       "}}\n",
       "\n",
       "// Listen for the clearing of the current output cell\n",
       "var outputEl = gd.closest('.output');\n",
       "if (outputEl) {{\n",
       "    x.observe(outputEl, {childList: true});\n",
       "}}\n",
       "\n",
       "                        })\n",
       "                };\n",
       "                });\n",
       "            </script>\n",
       "        </div>"
      ]
     },
     "metadata": {},
     "output_type": "display_data"
    }
   ],
   "source": [
    "fig = px.scatter(df, x='xG+/-', y='G+/-', text=\"Team\", color=\"Team\",\n",
    "                 template='plotly_white')\n",
    "fig.update_traces(textposition='top center')\n",
    "\n",
    "fig.add_shape(\n",
    "        # Line Vertical\n",
    "        dict(\n",
    "            type=\"line\",\n",
    "            x0=xmid,\n",
    "            y0=low,\n",
    "            x1=xmid,\n",
    "            y1=high,\n",
    "            layer='below',\n",
    "            opacity=0.4,\n",
    "            line=dict(\n",
    "                color=\"red\",\n",
    "                width=2,\n",
    "                dash=\"dashdot\"\n",
    "            )\n",
    "))\n",
    "fig.add_shape(\n",
    "        # Line Horizontal\n",
    "            type=\"line\",\n",
    "            x0=xlow,\n",
    "            y0=mid,\n",
    "            x1=xhigh,\n",
    "            y1=mid,\n",
    "            layer='below',\n",
    "            opacity=0.4,\n",
    "            line=dict(\n",
    "                color=\"red\",\n",
    "                width=2,\n",
    "                dash=\"dashdot\"\n",
    "            ),\n",
    "    )\n",
    "\n",
    "\n",
    "# for i in range(0, ary_len):\n",
    "#     fig.add_shape(\n",
    "#                  dict(\n",
    "#                  type=\"line\",\n",
    "#                  x0=exp_grp[i],\n",
    "#                  y0=0,\n",
    "#                  x1=0,\n",
    "#                  y1=goal_grp[i],\n",
    "#                  layer='below',\n",
    "#                  opacity=0.35,\n",
    "#                  line=dict(\n",
    "#                      color='grey',\n",
    "#                      width=2,\n",
    "#                  )))\n",
    "\n",
    "\n",
    "\n",
    "fig.add_trace(go.Scatter(\n",
    "    x=[xlow+11, xlow+2, xhigh, xhigh-11],\n",
    "    y=[high, low, high-3, low],\n",
    "    mode=\"text\",\n",
    "    text=[\"Better than Expected\",\n",
    "          \"Bad\",\n",
    "          \"Good\",\n",
    "          \"Worse than Expected\"],\n",
    "#     textposition=\"bottom center\",\n",
    "    textfont=dict(\n",
    "        color=\"grey\"\n",
    "    )\n",
    "))\n",
    "# fig.update_shapes(dict(xref='x', yref='y'))\n",
    "fig.update_layout(showlegend=False)\n",
    "fig.update_layout(title_text=\"NHL Expected Performance\",\n",
    "                  xaxis_title_text=\"Expected Goals For - Expected Goals Against\",\n",
    "                  yaxis_title_text='Actual Goals For - Actual Goals Against',\n",
    "                  xaxis_showgrid=False, yaxis_showgrid=False)\n",
    "fig.update_xaxes(zeroline=False)\n",
    "fig.update_yaxes(zeroline=False)\n",
    "\n",
    "fig.update_layout(annotations=[\n",
    "       go.layout.Annotation(\n",
    "            showarrow=False,\n",
    "            text='Chart by: Aram Kaplanian',\n",
    "            xanchor='right',\n",
    "            x=1,\n",
    "            xref='paper',\n",
    "            xshift=15,\n",
    "            yanchor='auto',\n",
    "            y=-0.1,\n",
    "            yshift=7,\n",
    "            yref='paper',\n",
    "            font=dict(\n",
    "                size=8,\n",
    "                color='grey'\n",
    "            )\n",
    "        ),go.layout.Annotation(\n",
    "            showarrow=False,\n",
    "            text='Source: Corsica Hockey',\n",
    "            xanchor='right',\n",
    "            x=1,\n",
    "            xref='paper',\n",
    "            xshift=15,\n",
    "            yanchor='auto',\n",
    "            y=-0.1,\n",
    "            yshift=0,\n",
    "            yref='paper',\n",
    "            font=dict(\n",
    "                size=8,\n",
    "                color='grey'\n",
    "            ))])\n",
    "#  list(x = 1, y = -0.1, text = \"Source: data I found somewhere.\", \n",
    "#       showarrow = F, xref='paper', yref='paper', \n",
    "#       xanchor='right', yanchor='auto', xshift=0, yshift=0,\n",
    "#       font=list(size=15, color=\"red\"))\n",
    "\n",
    "fig.show()\n",
    "fig.write_image(\"dots.png\")"
   ]
  },
  {
   "cell_type": "code",
   "execution_count": 8,
   "metadata": {},
   "outputs": [],
   "source": [
    "df = pd.read_csv('team_data.csv')\n",
    "df['corsi_z'] = stats.zscore(df['C+/-'])"
   ]
  },
  {
   "cell_type": "code",
   "execution_count": 11,
   "metadata": {},
   "outputs": [
    {
     "data": {
      "application/vnd.plotly.v1+json": {
       "config": {
        "plotlyServerURL": "https://plot.ly"
       },
       "data": [
        {
         "alignmentgroup": "True",
         "hoverlabel": {
          "namelength": 0
         },
         "hovertemplate": "Team=%{text}<br>corsi_z=%{x}",
         "legendgroup": "WAS",
         "marker": {
          "color": "#636efa"
         },
         "name": "WAS",
         "offsetgroup": "WAS",
         "orientation": "h",
         "showlegend": true,
         "text": [
          "WAS"
         ],
         "textposition": "outside",
         "type": "bar",
         "x": [
          -0.2953642295426365
         ],
         "xaxis": "x",
         "y": [
          "WAS"
         ],
         "yaxis": "y"
        },
        {
         "alignmentgroup": "True",
         "hoverlabel": {
          "namelength": 0
         },
         "hovertemplate": "Team=%{text}<br>corsi_z=%{x}",
         "legendgroup": "WPG",
         "marker": {
          "color": "#EF553B"
         },
         "name": "WPG",
         "offsetgroup": "WPG",
         "orientation": "h",
         "showlegend": true,
         "text": [
          "WPG"
         ],
         "textposition": "outside",
         "type": "bar",
         "x": [
          -0.15240794244400044
         ],
         "xaxis": "x",
         "y": [
          "WPG"
         ],
         "yaxis": "y"
        },
        {
         "alignmentgroup": "True",
         "hoverlabel": {
          "namelength": 0
         },
         "hovertemplate": "Team=%{text}<br>corsi_z=%{x}",
         "legendgroup": "VGK",
         "marker": {
          "color": "#00cc96"
         },
         "name": "VGK",
         "offsetgroup": "VGK",
         "orientation": "h",
         "showlegend": true,
         "text": [
          "VGK"
         ],
         "textposition": "outside",
         "type": "bar",
         "x": [
          1.5039946568311051
         ],
         "xaxis": "x",
         "y": [
          "VGK"
         ],
         "yaxis": "y"
        },
        {
         "alignmentgroup": "True",
         "hoverlabel": {
          "namelength": 0
         },
         "hovertemplate": "Team=%{text}<br>corsi_z=%{x}",
         "legendgroup": "VAN",
         "marker": {
          "color": "#ab63fa"
         },
         "name": "VAN",
         "offsetgroup": "VAN",
         "orientation": "h",
         "showlegend": true,
         "text": [
          "VAN"
         ],
         "textposition": "outside",
         "type": "bar",
         "x": [
          -0.9298065946002197
         ],
         "xaxis": "x",
         "y": [
          "VAN"
         ],
         "yaxis": "y"
        },
        {
         "alignmentgroup": "True",
         "hoverlabel": {
          "namelength": 0
         },
         "hovertemplate": "Team=%{text}<br>corsi_z=%{x}",
         "legendgroup": "TOR",
         "marker": {
          "color": "#FFA15A"
         },
         "name": "TOR",
         "offsetgroup": "TOR",
         "orientation": "h",
         "showlegend": true,
         "text": [
          "TOR"
         ],
         "textposition": "outside",
         "type": "bar",
         "x": [
          0.6627973310936763
         ],
         "xaxis": "x",
         "y": [
          "TOR"
         ],
         "yaxis": "y"
        },
        {
         "alignmentgroup": "True",
         "hoverlabel": {
          "namelength": 0
         },
         "hovertemplate": "Team=%{text}<br>corsi_z=%{x}",
         "legendgroup": "TBL",
         "marker": {
          "color": "#19d3f3"
         },
         "name": "TBL",
         "offsetgroup": "TBL",
         "orientation": "h",
         "showlegend": true,
         "text": [
          "TBL"
         ],
         "textposition": "outside",
         "type": "bar",
         "x": [
          0.8246569288830412
         ],
         "xaxis": "x",
         "y": [
          "TBL"
         ],
         "yaxis": "y"
        },
        {
         "alignmentgroup": "True",
         "hoverlabel": {
          "namelength": 0
         },
         "hovertemplate": "Team=%{text}<br>corsi_z=%{x}",
         "legendgroup": "STL",
         "marker": {
          "color": "#FF6692"
         },
         "name": "STL",
         "offsetgroup": "STL",
         "orientation": "h",
         "showlegend": true,
         "text": [
          "STL"
         ],
         "textposition": "outside",
         "type": "bar",
         "x": [
          0.6498013049938004
         ],
         "xaxis": "x",
         "y": [
          "STL"
         ],
         "yaxis": "y"
        },
        {
         "alignmentgroup": "True",
         "hoverlabel": {
          "namelength": 0
         },
         "hovertemplate": "Team=%{text}<br>corsi_z=%{x}",
         "legendgroup": "SJS",
         "marker": {
          "color": "#B6E880"
         },
         "name": "SJS",
         "offsetgroup": "SJS",
         "orientation": "h",
         "showlegend": true,
         "text": [
          "SJS"
         ],
         "textposition": "outside",
         "type": "bar",
         "x": [
          1.0467708294991038
         ],
         "xaxis": "x",
         "y": [
          "SJS"
         ],
         "yaxis": "y"
        },
        {
         "alignmentgroup": "True",
         "hoverlabel": {
          "namelength": 0
         },
         "hovertemplate": "Team=%{text}<br>corsi_z=%{x}",
         "legendgroup": "PIT",
         "marker": {
          "color": "#FF97FF"
         },
         "name": "PIT",
         "offsetgroup": "PIT",
         "orientation": "h",
         "showlegend": true,
         "text": [
          "PIT"
         ],
         "textposition": "outside",
         "type": "bar",
         "x": [
          0.385154955323598
         ],
         "xaxis": "x",
         "y": [
          "PIT"
         ],
         "yaxis": "y"
        },
        {
         "alignmentgroup": "True",
         "hoverlabel": {
          "namelength": 0
         },
         "hovertemplate": "Team=%{text}<br>corsi_z=%{x}",
         "legendgroup": "PHI",
         "marker": {
          "color": "#FECB52"
         },
         "name": "PHI",
         "offsetgroup": "PHI",
         "orientation": "h",
         "showlegend": true,
         "text": [
          "PHI"
         ],
         "textposition": "outside",
         "type": "bar",
         "x": [
          -0.1689483392983881
         ],
         "xaxis": "x",
         "y": [
          "PHI"
         ],
         "yaxis": "y"
        },
        {
         "alignmentgroup": "True",
         "hoverlabel": {
          "namelength": 0
         },
         "hovertemplate": "Team=%{text}<br>corsi_z=%{x}",
         "legendgroup": "OTT",
         "marker": {
          "color": "#636efa"
         },
         "name": "OTT",
         "offsetgroup": "OTT",
         "orientation": "h",
         "showlegend": true,
         "text": [
          "OTT"
         ],
         "textposition": "outside",
         "type": "bar",
         "x": [
          -1.7839999464375247
         ],
         "xaxis": "x",
         "y": [
          "OTT"
         ],
         "yaxis": "y"
        },
        {
         "alignmentgroup": "True",
         "hoverlabel": {
          "namelength": 0
         },
         "hovertemplate": "Team=%{text}<br>corsi_z=%{x}",
         "legendgroup": "NYR",
         "marker": {
          "color": "#EF553B"
         },
         "name": "NYR",
         "offsetgroup": "NYR",
         "orientation": "h",
         "showlegend": true,
         "text": [
          "NYR"
         ],
         "textposition": "outside",
         "type": "bar",
         "x": [
          -1.8277138524098349
         ],
         "xaxis": "x",
         "y": [
          "NYR"
         ],
         "yaxis": "y"
        },
        {
         "alignmentgroup": "True",
         "hoverlabel": {
          "namelength": 0
         },
         "hovertemplate": "Team=%{text}<br>corsi_z=%{x}",
         "legendgroup": "NYI",
         "marker": {
          "color": "#00cc96"
         },
         "name": "NYI",
         "offsetgroup": "NYI",
         "orientation": "h",
         "showlegend": true,
         "text": [
          "NYI"
         ],
         "textposition": "outside",
         "type": "bar",
         "x": [
          -1.2972396961512596
         ],
         "xaxis": "x",
         "y": [
          "NYI"
         ],
         "yaxis": "y"
        },
        {
         "alignmentgroup": "True",
         "hoverlabel": {
          "namelength": 0
         },
         "hovertemplate": "Team=%{text}<br>corsi_z=%{x}",
         "legendgroup": "NSH",
         "marker": {
          "color": "#ab63fa"
         },
         "name": "NSH",
         "offsetgroup": "NSH",
         "orientation": "h",
         "showlegend": true,
         "text": [
          "NSH"
         ],
         "textposition": "outside",
         "type": "bar",
         "x": [
          0.8104794458649947
         ],
         "xaxis": "x",
         "y": [
          "NSH"
         ],
         "yaxis": "y"
        },
        {
         "alignmentgroup": "True",
         "hoverlabel": {
          "namelength": 0
         },
         "hovertemplate": "Team=%{text}<br>corsi_z=%{x}",
         "legendgroup": "NJD",
         "marker": {
          "color": "#FFA15A"
         },
         "name": "NJD",
         "offsetgroup": "NJD",
         "orientation": "h",
         "showlegend": true,
         "text": [
          "NJD"
         ],
         "textposition": "outside",
         "type": "bar",
         "x": [
          -1.218082082633833
         ],
         "xaxis": "x",
         "y": [
          "NJD"
         ],
         "yaxis": "y"
        },
        {
         "alignmentgroup": "True",
         "hoverlabel": {
          "namelength": 0
         },
         "hovertemplate": "Team=%{text}<br>corsi_z=%{x}",
         "legendgroup": "MON",
         "marker": {
          "color": "#19d3f3"
         },
         "name": "MON",
         "offsetgroup": "MON",
         "orientation": "h",
         "showlegend": true,
         "text": [
          "MON"
         ],
         "textposition": "outside",
         "type": "bar",
         "x": [
          1.4815469753858648
         ],
         "xaxis": "x",
         "y": [
          "MON"
         ],
         "yaxis": "y"
        },
        {
         "alignmentgroup": "True",
         "hoverlabel": {
          "namelength": 0
         },
         "hovertemplate": "Team=%{text}<br>corsi_z=%{x}",
         "legendgroup": "MIN",
         "marker": {
          "color": "#FF6692"
         },
         "name": "MIN",
         "offsetgroup": "MIN",
         "orientation": "h",
         "showlegend": true,
         "text": [
          "MIN"
         ],
         "textposition": "outside",
         "type": "bar",
         "x": [
          -0.3508927046966522
         ],
         "xaxis": "x",
         "y": [
          "MIN"
         ],
         "yaxis": "y"
        },
        {
         "alignmentgroup": "True",
         "hoverlabel": {
          "namelength": 0
         },
         "hovertemplate": "Team=%{text}<br>corsi_z=%{x}",
         "legendgroup": "LAK",
         "marker": {
          "color": "#B6E880"
         },
         "name": "LAK",
         "offsetgroup": "LAK",
         "orientation": "h",
         "showlegend": true,
         "text": [
          "LAK"
         ],
         "textposition": "outside",
         "type": "bar",
         "x": [
          0.24692449589764415
         ],
         "xaxis": "x",
         "y": [
          "LAK"
         ],
         "yaxis": "y"
        },
        {
         "alignmentgroup": "True",
         "hoverlabel": {
          "namelength": 0
         },
         "hovertemplate": "Team=%{text}<br>corsi_z=%{x}",
         "legendgroup": "FLA",
         "marker": {
          "color": "#FF97FF"
         },
         "name": "FLA",
         "offsetgroup": "FLA",
         "orientation": "h",
         "showlegend": true,
         "text": [
          "FLA"
         ],
         "textposition": "outside",
         "type": "bar",
         "x": [
          -0.29418277262446596
         ],
         "xaxis": "x",
         "y": [
          "FLA"
         ],
         "yaxis": "y"
        },
        {
         "alignmentgroup": "True",
         "hoverlabel": {
          "namelength": 0
         },
         "hovertemplate": "Team=%{text}<br>corsi_z=%{x}",
         "legendgroup": "EDM",
         "marker": {
          "color": "#FECB52"
         },
         "name": "EDM",
         "offsetgroup": "EDM",
         "orientation": "h",
         "showlegend": true,
         "text": [
          "EDM"
         ],
         "textposition": "outside",
         "type": "bar",
         "x": [
          -0.4820344226135828
         ],
         "xaxis": "x",
         "y": [
          "EDM"
         ],
         "yaxis": "y"
        },
        {
         "alignmentgroup": "True",
         "hoverlabel": {
          "namelength": 0
         },
         "hovertemplate": "Team=%{text}<br>corsi_z=%{x}",
         "legendgroup": "DET",
         "marker": {
          "color": "#636efa"
         },
         "name": "DET",
         "offsetgroup": "DET",
         "orientation": "h",
         "showlegend": true,
         "text": [
          "DET"
         ],
         "textposition": "outside",
         "type": "bar",
         "x": [
          -1.2228079103065153
         ],
         "xaxis": "x",
         "y": [
          "DET"
         ],
         "yaxis": "y"
        },
        {
         "alignmentgroup": "True",
         "hoverlabel": {
          "namelength": 0
         },
         "hovertemplate": "Team=%{text}<br>corsi_z=%{x}",
         "legendgroup": "DAL",
         "marker": {
          "color": "#EF553B"
         },
         "name": "DAL",
         "offsetgroup": "DAL",
         "orientation": "h",
         "showlegend": true,
         "text": [
          "DAL"
         ],
         "textposition": "outside",
         "type": "bar",
         "x": [
          -0.28354966036093104
         ],
         "xaxis": "x",
         "y": [
          "DAL"
         ],
         "yaxis": "y"
        },
        {
         "alignmentgroup": "True",
         "hoverlabel": {
          "namelength": 0
         },
         "hovertemplate": "Team=%{text}<br>corsi_z=%{x}",
         "legendgroup": "COL",
         "marker": {
          "color": "#00cc96"
         },
         "name": "COL",
         "offsetgroup": "COL",
         "orientation": "h",
         "showlegend": true,
         "text": [
          "COL"
         ],
         "textposition": "outside",
         "type": "bar",
         "x": [
          -0.23747284055227977
         ],
         "xaxis": "x",
         "y": [
          "COL"
         ],
         "yaxis": "y"
        },
        {
         "alignmentgroup": "True",
         "hoverlabel": {
          "namelength": 0
         },
         "hovertemplate": "Team=%{text}<br>corsi_z=%{x}",
         "legendgroup": "CHI",
         "marker": {
          "color": "#ab63fa"
         },
         "name": "CHI",
         "offsetgroup": "CHI",
         "orientation": "h",
         "showlegend": true,
         "text": [
          "CHI"
         ],
         "textposition": "outside",
         "type": "bar",
         "x": [
          0.1051496657171786
         ],
         "xaxis": "x",
         "y": [
          "CHI"
         ],
         "yaxis": "y"
        },
        {
         "alignmentgroup": "True",
         "hoverlabel": {
          "namelength": 0
         },
         "hovertemplate": "Team=%{text}<br>corsi_z=%{x}",
         "legendgroup": "CAL",
         "marker": {
          "color": "#FFA15A"
         },
         "name": "CAL",
         "offsetgroup": "CAL",
         "orientation": "h",
         "showlegend": true,
         "text": [
          "CAL"
         ],
         "textposition": "outside",
         "type": "bar",
         "x": [
          1.3846675080958801
         ],
         "xaxis": "x",
         "y": [
          "CAL"
         ],
         "yaxis": "y"
        },
        {
         "alignmentgroup": "True",
         "hoverlabel": {
          "namelength": 0
         },
         "hovertemplate": "Team=%{text}<br>corsi_z=%{x}",
         "legendgroup": "CBJ",
         "marker": {
          "color": "#19d3f3"
         },
         "name": "CBJ",
         "offsetgroup": "CBJ",
         "orientation": "h",
         "showlegend": true,
         "text": [
          "CBJ"
         ],
         "textposition": "outside",
         "type": "bar",
         "x": [
          0.20084767608899284
         ],
         "xaxis": "x",
         "y": [
          "CBJ"
         ],
         "yaxis": "y"
        },
        {
         "alignmentgroup": "True",
         "hoverlabel": {
          "namelength": 0
         },
         "hovertemplate": "Team=%{text}<br>corsi_z=%{x}",
         "legendgroup": "CAR",
         "marker": {
          "color": "#FF6692"
         },
         "name": "CAR",
         "offsetgroup": "CAR",
         "orientation": "h",
         "showlegend": true,
         "text": [
          "CAR"
         ],
         "textposition": "outside",
         "type": "bar",
         "x": [
          2.2235019199969677
         ],
         "xaxis": "x",
         "y": [
          "CAR"
         ],
         "yaxis": "y"
        },
        {
         "alignmentgroup": "True",
         "hoverlabel": {
          "namelength": 0
         },
         "hovertemplate": "Team=%{text}<br>corsi_z=%{x}",
         "legendgroup": "BUF",
         "marker": {
          "color": "#B6E880"
         },
         "name": "BUF",
         "offsetgroup": "BUF",
         "orientation": "h",
         "showlegend": true,
         "text": [
          "BUF"
         ],
         "textposition": "outside",
         "type": "bar",
         "x": [
          -0.4843973364499239
         ],
         "xaxis": "x",
         "y": [
          "BUF"
         ],
         "yaxis": "y"
        },
        {
         "alignmentgroup": "True",
         "hoverlabel": {
          "namelength": 0
         },
         "hovertemplate": "Team=%{text}<br>corsi_z=%{x}",
         "legendgroup": "BOS",
         "marker": {
          "color": "#FF97FF"
         },
         "name": "BOS",
         "offsetgroup": "BOS",
         "orientation": "h",
         "showlegend": true,
         "text": [
          "BOS"
         ],
         "textposition": "outside",
         "type": "bar",
         "x": [
          1.2582516178516316
         ],
         "xaxis": "x",
         "y": [
          "BOS"
         ],
         "yaxis": "y"
        },
        {
         "alignmentgroup": "True",
         "hoverlabel": {
          "namelength": 0
         },
         "hovertemplate": "Team=%{text}<br>corsi_z=%{x}",
         "legendgroup": "ARI",
         "marker": {
          "color": "#FECB52"
         },
         "name": "ARI",
         "offsetgroup": "ARI",
         "orientation": "h",
         "showlegend": true,
         "text": [
          "ARI"
         ],
         "textposition": "outside",
         "type": "bar",
         "x": [
          -0.8624635502644986
         ],
         "xaxis": "x",
         "y": [
          "ARI"
         ],
         "yaxis": "y"
        },
        {
         "alignmentgroup": "True",
         "hoverlabel": {
          "namelength": 0
         },
         "hovertemplate": "Team=%{text}<br>corsi_z=%{x}",
         "legendgroup": "ANA",
         "marker": {
          "color": "#636efa"
         },
         "name": "ANA",
         "offsetgroup": "ANA",
         "orientation": "h",
         "showlegend": true,
         "text": [
          "ANA"
         ],
         "textposition": "outside",
         "type": "bar",
         "x": [
          -0.8931814301369329
         ],
         "xaxis": "x",
         "y": [
          "ANA"
         ],
         "yaxis": "y"
        }
       ],
       "layout": {
        "annotations": [
         {
          "font": {
           "color": "grey",
           "size": 8
          },
          "showarrow": false,
          "text": "Chart by: Aram Kaplanian",
          "x": 1,
          "xanchor": "right",
          "xref": "paper",
          "xshift": 15,
          "y": -0.1,
          "yanchor": "auto",
          "yref": "paper",
          "yshift": 7
         },
         {
          "font": {
           "color": "grey",
           "size": 8
          },
          "showarrow": false,
          "text": "Source: Corsica Hockey",
          "x": 1,
          "xanchor": "right",
          "xref": "paper",
          "xshift": 15,
          "y": -0.1,
          "yanchor": "auto",
          "yref": "paper",
          "yshift": 0
         }
        ],
        "barmode": "relative",
        "legend": {
         "title": {
          "text": "Team"
         },
         "tracegroupgap": 0
        },
        "margin": {
         "t": 60
        },
        "showlegend": false,
        "template": {
         "data": {
          "bar": [
           {
            "error_x": {
             "color": "#2a3f5f"
            },
            "error_y": {
             "color": "#2a3f5f"
            },
            "marker": {
             "line": {
              "color": "white",
              "width": 0.5
             }
            },
            "type": "bar"
           }
          ],
          "barpolar": [
           {
            "marker": {
             "line": {
              "color": "white",
              "width": 0.5
             }
            },
            "type": "barpolar"
           }
          ],
          "carpet": [
           {
            "aaxis": {
             "endlinecolor": "#2a3f5f",
             "gridcolor": "#C8D4E3",
             "linecolor": "#C8D4E3",
             "minorgridcolor": "#C8D4E3",
             "startlinecolor": "#2a3f5f"
            },
            "baxis": {
             "endlinecolor": "#2a3f5f",
             "gridcolor": "#C8D4E3",
             "linecolor": "#C8D4E3",
             "minorgridcolor": "#C8D4E3",
             "startlinecolor": "#2a3f5f"
            },
            "type": "carpet"
           }
          ],
          "choropleth": [
           {
            "colorbar": {
             "outlinewidth": 0,
             "ticks": ""
            },
            "type": "choropleth"
           }
          ],
          "contour": [
           {
            "colorbar": {
             "outlinewidth": 0,
             "ticks": ""
            },
            "colorscale": [
             [
              0,
              "#0d0887"
             ],
             [
              0.1111111111111111,
              "#46039f"
             ],
             [
              0.2222222222222222,
              "#7201a8"
             ],
             [
              0.3333333333333333,
              "#9c179e"
             ],
             [
              0.4444444444444444,
              "#bd3786"
             ],
             [
              0.5555555555555556,
              "#d8576b"
             ],
             [
              0.6666666666666666,
              "#ed7953"
             ],
             [
              0.7777777777777778,
              "#fb9f3a"
             ],
             [
              0.8888888888888888,
              "#fdca26"
             ],
             [
              1,
              "#f0f921"
             ]
            ],
            "type": "contour"
           }
          ],
          "contourcarpet": [
           {
            "colorbar": {
             "outlinewidth": 0,
             "ticks": ""
            },
            "type": "contourcarpet"
           }
          ],
          "heatmap": [
           {
            "colorbar": {
             "outlinewidth": 0,
             "ticks": ""
            },
            "colorscale": [
             [
              0,
              "#0d0887"
             ],
             [
              0.1111111111111111,
              "#46039f"
             ],
             [
              0.2222222222222222,
              "#7201a8"
             ],
             [
              0.3333333333333333,
              "#9c179e"
             ],
             [
              0.4444444444444444,
              "#bd3786"
             ],
             [
              0.5555555555555556,
              "#d8576b"
             ],
             [
              0.6666666666666666,
              "#ed7953"
             ],
             [
              0.7777777777777778,
              "#fb9f3a"
             ],
             [
              0.8888888888888888,
              "#fdca26"
             ],
             [
              1,
              "#f0f921"
             ]
            ],
            "type": "heatmap"
           }
          ],
          "heatmapgl": [
           {
            "colorbar": {
             "outlinewidth": 0,
             "ticks": ""
            },
            "colorscale": [
             [
              0,
              "#0d0887"
             ],
             [
              0.1111111111111111,
              "#46039f"
             ],
             [
              0.2222222222222222,
              "#7201a8"
             ],
             [
              0.3333333333333333,
              "#9c179e"
             ],
             [
              0.4444444444444444,
              "#bd3786"
             ],
             [
              0.5555555555555556,
              "#d8576b"
             ],
             [
              0.6666666666666666,
              "#ed7953"
             ],
             [
              0.7777777777777778,
              "#fb9f3a"
             ],
             [
              0.8888888888888888,
              "#fdca26"
             ],
             [
              1,
              "#f0f921"
             ]
            ],
            "type": "heatmapgl"
           }
          ],
          "histogram": [
           {
            "marker": {
             "colorbar": {
              "outlinewidth": 0,
              "ticks": ""
             }
            },
            "type": "histogram"
           }
          ],
          "histogram2d": [
           {
            "colorbar": {
             "outlinewidth": 0,
             "ticks": ""
            },
            "colorscale": [
             [
              0,
              "#0d0887"
             ],
             [
              0.1111111111111111,
              "#46039f"
             ],
             [
              0.2222222222222222,
              "#7201a8"
             ],
             [
              0.3333333333333333,
              "#9c179e"
             ],
             [
              0.4444444444444444,
              "#bd3786"
             ],
             [
              0.5555555555555556,
              "#d8576b"
             ],
             [
              0.6666666666666666,
              "#ed7953"
             ],
             [
              0.7777777777777778,
              "#fb9f3a"
             ],
             [
              0.8888888888888888,
              "#fdca26"
             ],
             [
              1,
              "#f0f921"
             ]
            ],
            "type": "histogram2d"
           }
          ],
          "histogram2dcontour": [
           {
            "colorbar": {
             "outlinewidth": 0,
             "ticks": ""
            },
            "colorscale": [
             [
              0,
              "#0d0887"
             ],
             [
              0.1111111111111111,
              "#46039f"
             ],
             [
              0.2222222222222222,
              "#7201a8"
             ],
             [
              0.3333333333333333,
              "#9c179e"
             ],
             [
              0.4444444444444444,
              "#bd3786"
             ],
             [
              0.5555555555555556,
              "#d8576b"
             ],
             [
              0.6666666666666666,
              "#ed7953"
             ],
             [
              0.7777777777777778,
              "#fb9f3a"
             ],
             [
              0.8888888888888888,
              "#fdca26"
             ],
             [
              1,
              "#f0f921"
             ]
            ],
            "type": "histogram2dcontour"
           }
          ],
          "mesh3d": [
           {
            "colorbar": {
             "outlinewidth": 0,
             "ticks": ""
            },
            "type": "mesh3d"
           }
          ],
          "parcoords": [
           {
            "line": {
             "colorbar": {
              "outlinewidth": 0,
              "ticks": ""
             }
            },
            "type": "parcoords"
           }
          ],
          "pie": [
           {
            "automargin": true,
            "type": "pie"
           }
          ],
          "scatter": [
           {
            "marker": {
             "colorbar": {
              "outlinewidth": 0,
              "ticks": ""
             }
            },
            "type": "scatter"
           }
          ],
          "scatter3d": [
           {
            "line": {
             "colorbar": {
              "outlinewidth": 0,
              "ticks": ""
             }
            },
            "marker": {
             "colorbar": {
              "outlinewidth": 0,
              "ticks": ""
             }
            },
            "type": "scatter3d"
           }
          ],
          "scattercarpet": [
           {
            "marker": {
             "colorbar": {
              "outlinewidth": 0,
              "ticks": ""
             }
            },
            "type": "scattercarpet"
           }
          ],
          "scattergeo": [
           {
            "marker": {
             "colorbar": {
              "outlinewidth": 0,
              "ticks": ""
             }
            },
            "type": "scattergeo"
           }
          ],
          "scattergl": [
           {
            "marker": {
             "colorbar": {
              "outlinewidth": 0,
              "ticks": ""
             }
            },
            "type": "scattergl"
           }
          ],
          "scattermapbox": [
           {
            "marker": {
             "colorbar": {
              "outlinewidth": 0,
              "ticks": ""
             }
            },
            "type": "scattermapbox"
           }
          ],
          "scatterpolar": [
           {
            "marker": {
             "colorbar": {
              "outlinewidth": 0,
              "ticks": ""
             }
            },
            "type": "scatterpolar"
           }
          ],
          "scatterpolargl": [
           {
            "marker": {
             "colorbar": {
              "outlinewidth": 0,
              "ticks": ""
             }
            },
            "type": "scatterpolargl"
           }
          ],
          "scatterternary": [
           {
            "marker": {
             "colorbar": {
              "outlinewidth": 0,
              "ticks": ""
             }
            },
            "type": "scatterternary"
           }
          ],
          "surface": [
           {
            "colorbar": {
             "outlinewidth": 0,
             "ticks": ""
            },
            "colorscale": [
             [
              0,
              "#0d0887"
             ],
             [
              0.1111111111111111,
              "#46039f"
             ],
             [
              0.2222222222222222,
              "#7201a8"
             ],
             [
              0.3333333333333333,
              "#9c179e"
             ],
             [
              0.4444444444444444,
              "#bd3786"
             ],
             [
              0.5555555555555556,
              "#d8576b"
             ],
             [
              0.6666666666666666,
              "#ed7953"
             ],
             [
              0.7777777777777778,
              "#fb9f3a"
             ],
             [
              0.8888888888888888,
              "#fdca26"
             ],
             [
              1,
              "#f0f921"
             ]
            ],
            "type": "surface"
           }
          ],
          "table": [
           {
            "cells": {
             "fill": {
              "color": "#EBF0F8"
             },
             "line": {
              "color": "white"
             }
            },
            "header": {
             "fill": {
              "color": "#C8D4E3"
             },
             "line": {
              "color": "white"
             }
            },
            "type": "table"
           }
          ]
         },
         "layout": {
          "annotationdefaults": {
           "arrowcolor": "#2a3f5f",
           "arrowhead": 0,
           "arrowwidth": 1
          },
          "coloraxis": {
           "colorbar": {
            "outlinewidth": 0,
            "ticks": ""
           }
          },
          "colorscale": {
           "diverging": [
            [
             0,
             "#8e0152"
            ],
            [
             0.1,
             "#c51b7d"
            ],
            [
             0.2,
             "#de77ae"
            ],
            [
             0.3,
             "#f1b6da"
            ],
            [
             0.4,
             "#fde0ef"
            ],
            [
             0.5,
             "#f7f7f7"
            ],
            [
             0.6,
             "#e6f5d0"
            ],
            [
             0.7,
             "#b8e186"
            ],
            [
             0.8,
             "#7fbc41"
            ],
            [
             0.9,
             "#4d9221"
            ],
            [
             1,
             "#276419"
            ]
           ],
           "sequential": [
            [
             0,
             "#0d0887"
            ],
            [
             0.1111111111111111,
             "#46039f"
            ],
            [
             0.2222222222222222,
             "#7201a8"
            ],
            [
             0.3333333333333333,
             "#9c179e"
            ],
            [
             0.4444444444444444,
             "#bd3786"
            ],
            [
             0.5555555555555556,
             "#d8576b"
            ],
            [
             0.6666666666666666,
             "#ed7953"
            ],
            [
             0.7777777777777778,
             "#fb9f3a"
            ],
            [
             0.8888888888888888,
             "#fdca26"
            ],
            [
             1,
             "#f0f921"
            ]
           ],
           "sequentialminus": [
            [
             0,
             "#0d0887"
            ],
            [
             0.1111111111111111,
             "#46039f"
            ],
            [
             0.2222222222222222,
             "#7201a8"
            ],
            [
             0.3333333333333333,
             "#9c179e"
            ],
            [
             0.4444444444444444,
             "#bd3786"
            ],
            [
             0.5555555555555556,
             "#d8576b"
            ],
            [
             0.6666666666666666,
             "#ed7953"
            ],
            [
             0.7777777777777778,
             "#fb9f3a"
            ],
            [
             0.8888888888888888,
             "#fdca26"
            ],
            [
             1,
             "#f0f921"
            ]
           ]
          },
          "colorway": [
           "#636efa",
           "#EF553B",
           "#00cc96",
           "#ab63fa",
           "#FFA15A",
           "#19d3f3",
           "#FF6692",
           "#B6E880",
           "#FF97FF",
           "#FECB52"
          ],
          "font": {
           "color": "#2a3f5f"
          },
          "geo": {
           "bgcolor": "white",
           "lakecolor": "white",
           "landcolor": "white",
           "showlakes": true,
           "showland": true,
           "subunitcolor": "#C8D4E3"
          },
          "hoverlabel": {
           "align": "left"
          },
          "hovermode": "closest",
          "mapbox": {
           "style": "light"
          },
          "paper_bgcolor": "white",
          "plot_bgcolor": "white",
          "polar": {
           "angularaxis": {
            "gridcolor": "#EBF0F8",
            "linecolor": "#EBF0F8",
            "ticks": ""
           },
           "bgcolor": "white",
           "radialaxis": {
            "gridcolor": "#EBF0F8",
            "linecolor": "#EBF0F8",
            "ticks": ""
           }
          },
          "scene": {
           "xaxis": {
            "backgroundcolor": "white",
            "gridcolor": "#DFE8F3",
            "gridwidth": 2,
            "linecolor": "#EBF0F8",
            "showbackground": true,
            "ticks": "",
            "zerolinecolor": "#EBF0F8"
           },
           "yaxis": {
            "backgroundcolor": "white",
            "gridcolor": "#DFE8F3",
            "gridwidth": 2,
            "linecolor": "#EBF0F8",
            "showbackground": true,
            "ticks": "",
            "zerolinecolor": "#EBF0F8"
           },
           "zaxis": {
            "backgroundcolor": "white",
            "gridcolor": "#DFE8F3",
            "gridwidth": 2,
            "linecolor": "#EBF0F8",
            "showbackground": true,
            "ticks": "",
            "zerolinecolor": "#EBF0F8"
           }
          },
          "shapedefaults": {
           "line": {
            "color": "#2a3f5f"
           }
          },
          "ternary": {
           "aaxis": {
            "gridcolor": "#DFE8F3",
            "linecolor": "#A2B1C6",
            "ticks": ""
           },
           "baxis": {
            "gridcolor": "#DFE8F3",
            "linecolor": "#A2B1C6",
            "ticks": ""
           },
           "bgcolor": "white",
           "caxis": {
            "gridcolor": "#DFE8F3",
            "linecolor": "#A2B1C6",
            "ticks": ""
           }
          },
          "title": {
           "x": 0.05
          },
          "xaxis": {
           "automargin": true,
           "gridcolor": "#EBF0F8",
           "linecolor": "#EBF0F8",
           "ticks": "",
           "title": {
            "standoff": 15
           },
           "zerolinecolor": "#EBF0F8",
           "zerolinewidth": 2
          },
          "yaxis": {
           "automargin": true,
           "gridcolor": "#EBF0F8",
           "linecolor": "#EBF0F8",
           "ticks": "",
           "title": {
            "standoff": 15
           },
           "zerolinecolor": "#EBF0F8",
           "zerolinewidth": 2
          }
         }
        },
        "title": {
         "text": "NHL Corsi Ranking"
        },
        "xaxis": {
         "anchor": "y",
         "domain": [
          0,
          1
         ],
         "showgrid": false,
         "title": {
          "text": "Corsi Z-Score"
         }
        },
        "yaxis": {
         "anchor": "x",
         "categoryarray": [
          "ANA",
          "ARI",
          "BOS",
          "BUF",
          "CAR",
          "CBJ",
          "CAL",
          "CHI",
          "COL",
          "DAL",
          "DET",
          "EDM",
          "FLA",
          "LAK",
          "MIN",
          "MON",
          "NJD",
          "NSH",
          "NYI",
          "NYR",
          "OTT",
          "PHI",
          "PIT",
          "SJS",
          "STL",
          "TBL",
          "TOR",
          "VAN",
          "VGK",
          "WPG",
          "WAS"
         ],
         "categoryorder": "total ascending",
         "domain": [
          0,
          1
         ],
         "showgrid": false,
         "showticklabels": false,
         "title": {
          "text": " "
         }
        }
       }
      },
      "text/html": [
       "<div>\n",
       "        \n",
       "        \n",
       "            <div id=\"b46701c2-226c-4a11-8c0a-2186769f7a52\" class=\"plotly-graph-div\" style=\"height:525px; width:100%;\"></div>\n",
       "            <script type=\"text/javascript\">\n",
       "                require([\"plotly\"], function(Plotly) {\n",
       "                    window.PLOTLYENV=window.PLOTLYENV || {};\n",
       "                    \n",
       "                if (document.getElementById(\"b46701c2-226c-4a11-8c0a-2186769f7a52\")) {\n",
       "                    Plotly.newPlot(\n",
       "                        'b46701c2-226c-4a11-8c0a-2186769f7a52',\n",
       "                        [{\"alignmentgroup\": \"True\", \"hoverlabel\": {\"namelength\": 0}, \"hovertemplate\": \"Team=%{text}<br>corsi_z=%{x}\", \"legendgroup\": \"WAS\", \"marker\": {\"color\": \"#636efa\"}, \"name\": \"WAS\", \"offsetgroup\": \"WAS\", \"orientation\": \"h\", \"showlegend\": true, \"text\": [\"WAS\"], \"textposition\": \"outside\", \"type\": \"bar\", \"x\": [-0.2953642295426365], \"xaxis\": \"x\", \"y\": [\"WAS\"], \"yaxis\": \"y\"}, {\"alignmentgroup\": \"True\", \"hoverlabel\": {\"namelength\": 0}, \"hovertemplate\": \"Team=%{text}<br>corsi_z=%{x}\", \"legendgroup\": \"WPG\", \"marker\": {\"color\": \"#EF553B\"}, \"name\": \"WPG\", \"offsetgroup\": \"WPG\", \"orientation\": \"h\", \"showlegend\": true, \"text\": [\"WPG\"], \"textposition\": \"outside\", \"type\": \"bar\", \"x\": [-0.15240794244400044], \"xaxis\": \"x\", \"y\": [\"WPG\"], \"yaxis\": \"y\"}, {\"alignmentgroup\": \"True\", \"hoverlabel\": {\"namelength\": 0}, \"hovertemplate\": \"Team=%{text}<br>corsi_z=%{x}\", \"legendgroup\": \"VGK\", \"marker\": {\"color\": \"#00cc96\"}, \"name\": \"VGK\", \"offsetgroup\": \"VGK\", \"orientation\": \"h\", \"showlegend\": true, \"text\": [\"VGK\"], \"textposition\": \"outside\", \"type\": \"bar\", \"x\": [1.5039946568311051], \"xaxis\": \"x\", \"y\": [\"VGK\"], \"yaxis\": \"y\"}, {\"alignmentgroup\": \"True\", \"hoverlabel\": {\"namelength\": 0}, \"hovertemplate\": \"Team=%{text}<br>corsi_z=%{x}\", \"legendgroup\": \"VAN\", \"marker\": {\"color\": \"#ab63fa\"}, \"name\": \"VAN\", \"offsetgroup\": \"VAN\", \"orientation\": \"h\", \"showlegend\": true, \"text\": [\"VAN\"], \"textposition\": \"outside\", \"type\": \"bar\", \"x\": [-0.9298065946002197], \"xaxis\": \"x\", \"y\": [\"VAN\"], \"yaxis\": \"y\"}, {\"alignmentgroup\": \"True\", \"hoverlabel\": {\"namelength\": 0}, \"hovertemplate\": \"Team=%{text}<br>corsi_z=%{x}\", \"legendgroup\": \"TOR\", \"marker\": {\"color\": \"#FFA15A\"}, \"name\": \"TOR\", \"offsetgroup\": \"TOR\", \"orientation\": \"h\", \"showlegend\": true, \"text\": [\"TOR\"], \"textposition\": \"outside\", \"type\": \"bar\", \"x\": [0.6627973310936763], \"xaxis\": \"x\", \"y\": [\"TOR\"], \"yaxis\": \"y\"}, {\"alignmentgroup\": \"True\", \"hoverlabel\": {\"namelength\": 0}, \"hovertemplate\": \"Team=%{text}<br>corsi_z=%{x}\", \"legendgroup\": \"TBL\", \"marker\": {\"color\": \"#19d3f3\"}, \"name\": \"TBL\", \"offsetgroup\": \"TBL\", \"orientation\": \"h\", \"showlegend\": true, \"text\": [\"TBL\"], \"textposition\": \"outside\", \"type\": \"bar\", \"x\": [0.8246569288830412], \"xaxis\": \"x\", \"y\": [\"TBL\"], \"yaxis\": \"y\"}, {\"alignmentgroup\": \"True\", \"hoverlabel\": {\"namelength\": 0}, \"hovertemplate\": \"Team=%{text}<br>corsi_z=%{x}\", \"legendgroup\": \"STL\", \"marker\": {\"color\": \"#FF6692\"}, \"name\": \"STL\", \"offsetgroup\": \"STL\", \"orientation\": \"h\", \"showlegend\": true, \"text\": [\"STL\"], \"textposition\": \"outside\", \"type\": \"bar\", \"x\": [0.6498013049938004], \"xaxis\": \"x\", \"y\": [\"STL\"], \"yaxis\": \"y\"}, {\"alignmentgroup\": \"True\", \"hoverlabel\": {\"namelength\": 0}, \"hovertemplate\": \"Team=%{text}<br>corsi_z=%{x}\", \"legendgroup\": \"SJS\", \"marker\": {\"color\": \"#B6E880\"}, \"name\": \"SJS\", \"offsetgroup\": \"SJS\", \"orientation\": \"h\", \"showlegend\": true, \"text\": [\"SJS\"], \"textposition\": \"outside\", \"type\": \"bar\", \"x\": [1.0467708294991038], \"xaxis\": \"x\", \"y\": [\"SJS\"], \"yaxis\": \"y\"}, {\"alignmentgroup\": \"True\", \"hoverlabel\": {\"namelength\": 0}, \"hovertemplate\": \"Team=%{text}<br>corsi_z=%{x}\", \"legendgroup\": \"PIT\", \"marker\": {\"color\": \"#FF97FF\"}, \"name\": \"PIT\", \"offsetgroup\": \"PIT\", \"orientation\": \"h\", \"showlegend\": true, \"text\": [\"PIT\"], \"textposition\": \"outside\", \"type\": \"bar\", \"x\": [0.385154955323598], \"xaxis\": \"x\", \"y\": [\"PIT\"], \"yaxis\": \"y\"}, {\"alignmentgroup\": \"True\", \"hoverlabel\": {\"namelength\": 0}, \"hovertemplate\": \"Team=%{text}<br>corsi_z=%{x}\", \"legendgroup\": \"PHI\", \"marker\": {\"color\": \"#FECB52\"}, \"name\": \"PHI\", \"offsetgroup\": \"PHI\", \"orientation\": \"h\", \"showlegend\": true, \"text\": [\"PHI\"], \"textposition\": \"outside\", \"type\": \"bar\", \"x\": [-0.1689483392983881], \"xaxis\": \"x\", \"y\": [\"PHI\"], \"yaxis\": \"y\"}, {\"alignmentgroup\": \"True\", \"hoverlabel\": {\"namelength\": 0}, \"hovertemplate\": \"Team=%{text}<br>corsi_z=%{x}\", \"legendgroup\": \"OTT\", \"marker\": {\"color\": \"#636efa\"}, \"name\": \"OTT\", \"offsetgroup\": \"OTT\", \"orientation\": \"h\", \"showlegend\": true, \"text\": [\"OTT\"], \"textposition\": \"outside\", \"type\": \"bar\", \"x\": [-1.7839999464375247], \"xaxis\": \"x\", \"y\": [\"OTT\"], \"yaxis\": \"y\"}, {\"alignmentgroup\": \"True\", \"hoverlabel\": {\"namelength\": 0}, \"hovertemplate\": \"Team=%{text}<br>corsi_z=%{x}\", \"legendgroup\": \"NYR\", \"marker\": {\"color\": \"#EF553B\"}, \"name\": \"NYR\", \"offsetgroup\": \"NYR\", \"orientation\": \"h\", \"showlegend\": true, \"text\": [\"NYR\"], \"textposition\": \"outside\", \"type\": \"bar\", \"x\": [-1.8277138524098349], \"xaxis\": \"x\", \"y\": [\"NYR\"], \"yaxis\": \"y\"}, {\"alignmentgroup\": \"True\", \"hoverlabel\": {\"namelength\": 0}, \"hovertemplate\": \"Team=%{text}<br>corsi_z=%{x}\", \"legendgroup\": \"NYI\", \"marker\": {\"color\": \"#00cc96\"}, \"name\": \"NYI\", \"offsetgroup\": \"NYI\", \"orientation\": \"h\", \"showlegend\": true, \"text\": [\"NYI\"], \"textposition\": \"outside\", \"type\": \"bar\", \"x\": [-1.2972396961512596], \"xaxis\": \"x\", \"y\": [\"NYI\"], \"yaxis\": \"y\"}, {\"alignmentgroup\": \"True\", \"hoverlabel\": {\"namelength\": 0}, \"hovertemplate\": \"Team=%{text}<br>corsi_z=%{x}\", \"legendgroup\": \"NSH\", \"marker\": {\"color\": \"#ab63fa\"}, \"name\": \"NSH\", \"offsetgroup\": \"NSH\", \"orientation\": \"h\", \"showlegend\": true, \"text\": [\"NSH\"], \"textposition\": \"outside\", \"type\": \"bar\", \"x\": [0.8104794458649947], \"xaxis\": \"x\", \"y\": [\"NSH\"], \"yaxis\": \"y\"}, {\"alignmentgroup\": \"True\", \"hoverlabel\": {\"namelength\": 0}, \"hovertemplate\": \"Team=%{text}<br>corsi_z=%{x}\", \"legendgroup\": \"NJD\", \"marker\": {\"color\": \"#FFA15A\"}, \"name\": \"NJD\", \"offsetgroup\": \"NJD\", \"orientation\": \"h\", \"showlegend\": true, \"text\": [\"NJD\"], \"textposition\": \"outside\", \"type\": \"bar\", \"x\": [-1.218082082633833], \"xaxis\": \"x\", \"y\": [\"NJD\"], \"yaxis\": \"y\"}, {\"alignmentgroup\": \"True\", \"hoverlabel\": {\"namelength\": 0}, \"hovertemplate\": \"Team=%{text}<br>corsi_z=%{x}\", \"legendgroup\": \"MON\", \"marker\": {\"color\": \"#19d3f3\"}, \"name\": \"MON\", \"offsetgroup\": \"MON\", \"orientation\": \"h\", \"showlegend\": true, \"text\": [\"MON\"], \"textposition\": \"outside\", \"type\": \"bar\", \"x\": [1.4815469753858648], \"xaxis\": \"x\", \"y\": [\"MON\"], \"yaxis\": \"y\"}, {\"alignmentgroup\": \"True\", \"hoverlabel\": {\"namelength\": 0}, \"hovertemplate\": \"Team=%{text}<br>corsi_z=%{x}\", \"legendgroup\": \"MIN\", \"marker\": {\"color\": \"#FF6692\"}, \"name\": \"MIN\", \"offsetgroup\": \"MIN\", \"orientation\": \"h\", \"showlegend\": true, \"text\": [\"MIN\"], \"textposition\": \"outside\", \"type\": \"bar\", \"x\": [-0.3508927046966522], \"xaxis\": \"x\", \"y\": [\"MIN\"], \"yaxis\": \"y\"}, {\"alignmentgroup\": \"True\", \"hoverlabel\": {\"namelength\": 0}, \"hovertemplate\": \"Team=%{text}<br>corsi_z=%{x}\", \"legendgroup\": \"LAK\", \"marker\": {\"color\": \"#B6E880\"}, \"name\": \"LAK\", \"offsetgroup\": \"LAK\", \"orientation\": \"h\", \"showlegend\": true, \"text\": [\"LAK\"], \"textposition\": \"outside\", \"type\": \"bar\", \"x\": [0.24692449589764415], \"xaxis\": \"x\", \"y\": [\"LAK\"], \"yaxis\": \"y\"}, {\"alignmentgroup\": \"True\", \"hoverlabel\": {\"namelength\": 0}, \"hovertemplate\": \"Team=%{text}<br>corsi_z=%{x}\", \"legendgroup\": \"FLA\", \"marker\": {\"color\": \"#FF97FF\"}, \"name\": \"FLA\", \"offsetgroup\": \"FLA\", \"orientation\": \"h\", \"showlegend\": true, \"text\": [\"FLA\"], \"textposition\": \"outside\", \"type\": \"bar\", \"x\": [-0.29418277262446596], \"xaxis\": \"x\", \"y\": [\"FLA\"], \"yaxis\": \"y\"}, {\"alignmentgroup\": \"True\", \"hoverlabel\": {\"namelength\": 0}, \"hovertemplate\": \"Team=%{text}<br>corsi_z=%{x}\", \"legendgroup\": \"EDM\", \"marker\": {\"color\": \"#FECB52\"}, \"name\": \"EDM\", \"offsetgroup\": \"EDM\", \"orientation\": \"h\", \"showlegend\": true, \"text\": [\"EDM\"], \"textposition\": \"outside\", \"type\": \"bar\", \"x\": [-0.4820344226135828], \"xaxis\": \"x\", \"y\": [\"EDM\"], \"yaxis\": \"y\"}, {\"alignmentgroup\": \"True\", \"hoverlabel\": {\"namelength\": 0}, \"hovertemplate\": \"Team=%{text}<br>corsi_z=%{x}\", \"legendgroup\": \"DET\", \"marker\": {\"color\": \"#636efa\"}, \"name\": \"DET\", \"offsetgroup\": \"DET\", \"orientation\": \"h\", \"showlegend\": true, \"text\": [\"DET\"], \"textposition\": \"outside\", \"type\": \"bar\", \"x\": [-1.2228079103065153], \"xaxis\": \"x\", \"y\": [\"DET\"], \"yaxis\": \"y\"}, {\"alignmentgroup\": \"True\", \"hoverlabel\": {\"namelength\": 0}, \"hovertemplate\": \"Team=%{text}<br>corsi_z=%{x}\", \"legendgroup\": \"DAL\", \"marker\": {\"color\": \"#EF553B\"}, \"name\": \"DAL\", \"offsetgroup\": \"DAL\", \"orientation\": \"h\", \"showlegend\": true, \"text\": [\"DAL\"], \"textposition\": \"outside\", \"type\": \"bar\", \"x\": [-0.28354966036093104], \"xaxis\": \"x\", \"y\": [\"DAL\"], \"yaxis\": \"y\"}, {\"alignmentgroup\": \"True\", \"hoverlabel\": {\"namelength\": 0}, \"hovertemplate\": \"Team=%{text}<br>corsi_z=%{x}\", \"legendgroup\": \"COL\", \"marker\": {\"color\": \"#00cc96\"}, \"name\": \"COL\", \"offsetgroup\": \"COL\", \"orientation\": \"h\", \"showlegend\": true, \"text\": [\"COL\"], \"textposition\": \"outside\", \"type\": \"bar\", \"x\": [-0.23747284055227977], \"xaxis\": \"x\", \"y\": [\"COL\"], \"yaxis\": \"y\"}, {\"alignmentgroup\": \"True\", \"hoverlabel\": {\"namelength\": 0}, \"hovertemplate\": \"Team=%{text}<br>corsi_z=%{x}\", \"legendgroup\": \"CHI\", \"marker\": {\"color\": \"#ab63fa\"}, \"name\": \"CHI\", \"offsetgroup\": \"CHI\", \"orientation\": \"h\", \"showlegend\": true, \"text\": [\"CHI\"], \"textposition\": \"outside\", \"type\": \"bar\", \"x\": [0.1051496657171786], \"xaxis\": \"x\", \"y\": [\"CHI\"], \"yaxis\": \"y\"}, {\"alignmentgroup\": \"True\", \"hoverlabel\": {\"namelength\": 0}, \"hovertemplate\": \"Team=%{text}<br>corsi_z=%{x}\", \"legendgroup\": \"CAL\", \"marker\": {\"color\": \"#FFA15A\"}, \"name\": \"CAL\", \"offsetgroup\": \"CAL\", \"orientation\": \"h\", \"showlegend\": true, \"text\": [\"CAL\"], \"textposition\": \"outside\", \"type\": \"bar\", \"x\": [1.3846675080958801], \"xaxis\": \"x\", \"y\": [\"CAL\"], \"yaxis\": \"y\"}, {\"alignmentgroup\": \"True\", \"hoverlabel\": {\"namelength\": 0}, \"hovertemplate\": \"Team=%{text}<br>corsi_z=%{x}\", \"legendgroup\": \"CBJ\", \"marker\": {\"color\": \"#19d3f3\"}, \"name\": \"CBJ\", \"offsetgroup\": \"CBJ\", \"orientation\": \"h\", \"showlegend\": true, \"text\": [\"CBJ\"], \"textposition\": \"outside\", \"type\": \"bar\", \"x\": [0.20084767608899284], \"xaxis\": \"x\", \"y\": [\"CBJ\"], \"yaxis\": \"y\"}, {\"alignmentgroup\": \"True\", \"hoverlabel\": {\"namelength\": 0}, \"hovertemplate\": \"Team=%{text}<br>corsi_z=%{x}\", \"legendgroup\": \"CAR\", \"marker\": {\"color\": \"#FF6692\"}, \"name\": \"CAR\", \"offsetgroup\": \"CAR\", \"orientation\": \"h\", \"showlegend\": true, \"text\": [\"CAR\"], \"textposition\": \"outside\", \"type\": \"bar\", \"x\": [2.2235019199969677], \"xaxis\": \"x\", \"y\": [\"CAR\"], \"yaxis\": \"y\"}, {\"alignmentgroup\": \"True\", \"hoverlabel\": {\"namelength\": 0}, \"hovertemplate\": \"Team=%{text}<br>corsi_z=%{x}\", \"legendgroup\": \"BUF\", \"marker\": {\"color\": \"#B6E880\"}, \"name\": \"BUF\", \"offsetgroup\": \"BUF\", \"orientation\": \"h\", \"showlegend\": true, \"text\": [\"BUF\"], \"textposition\": \"outside\", \"type\": \"bar\", \"x\": [-0.4843973364499239], \"xaxis\": \"x\", \"y\": [\"BUF\"], \"yaxis\": \"y\"}, {\"alignmentgroup\": \"True\", \"hoverlabel\": {\"namelength\": 0}, \"hovertemplate\": \"Team=%{text}<br>corsi_z=%{x}\", \"legendgroup\": \"BOS\", \"marker\": {\"color\": \"#FF97FF\"}, \"name\": \"BOS\", \"offsetgroup\": \"BOS\", \"orientation\": \"h\", \"showlegend\": true, \"text\": [\"BOS\"], \"textposition\": \"outside\", \"type\": \"bar\", \"x\": [1.2582516178516316], \"xaxis\": \"x\", \"y\": [\"BOS\"], \"yaxis\": \"y\"}, {\"alignmentgroup\": \"True\", \"hoverlabel\": {\"namelength\": 0}, \"hovertemplate\": \"Team=%{text}<br>corsi_z=%{x}\", \"legendgroup\": \"ARI\", \"marker\": {\"color\": \"#FECB52\"}, \"name\": \"ARI\", \"offsetgroup\": \"ARI\", \"orientation\": \"h\", \"showlegend\": true, \"text\": [\"ARI\"], \"textposition\": \"outside\", \"type\": \"bar\", \"x\": [-0.8624635502644986], \"xaxis\": \"x\", \"y\": [\"ARI\"], \"yaxis\": \"y\"}, {\"alignmentgroup\": \"True\", \"hoverlabel\": {\"namelength\": 0}, \"hovertemplate\": \"Team=%{text}<br>corsi_z=%{x}\", \"legendgroup\": \"ANA\", \"marker\": {\"color\": \"#636efa\"}, \"name\": \"ANA\", \"offsetgroup\": \"ANA\", \"orientation\": \"h\", \"showlegend\": true, \"text\": [\"ANA\"], \"textposition\": \"outside\", \"type\": \"bar\", \"x\": [-0.8931814301369329], \"xaxis\": \"x\", \"y\": [\"ANA\"], \"yaxis\": \"y\"}],\n",
       "                        {\"annotations\": [{\"font\": {\"color\": \"grey\", \"size\": 8}, \"showarrow\": false, \"text\": \"Chart by: Aram Kaplanian\", \"x\": 1, \"xanchor\": \"right\", \"xref\": \"paper\", \"xshift\": 15, \"y\": -0.1, \"yanchor\": \"auto\", \"yref\": \"paper\", \"yshift\": 7}, {\"font\": {\"color\": \"grey\", \"size\": 8}, \"showarrow\": false, \"text\": \"Source: Corsica Hockey\", \"x\": 1, \"xanchor\": \"right\", \"xref\": \"paper\", \"xshift\": 15, \"y\": -0.1, \"yanchor\": \"auto\", \"yref\": \"paper\", \"yshift\": 0}], \"barmode\": \"relative\", \"legend\": {\"title\": {\"text\": \"Team\"}, \"tracegroupgap\": 0}, \"margin\": {\"t\": 60}, \"showlegend\": false, \"template\": {\"data\": {\"bar\": [{\"error_x\": {\"color\": \"#2a3f5f\"}, \"error_y\": {\"color\": \"#2a3f5f\"}, \"marker\": {\"line\": {\"color\": \"white\", \"width\": 0.5}}, \"type\": \"bar\"}], \"barpolar\": [{\"marker\": {\"line\": {\"color\": \"white\", \"width\": 0.5}}, \"type\": \"barpolar\"}], \"carpet\": [{\"aaxis\": {\"endlinecolor\": \"#2a3f5f\", \"gridcolor\": \"#C8D4E3\", \"linecolor\": \"#C8D4E3\", \"minorgridcolor\": \"#C8D4E3\", \"startlinecolor\": \"#2a3f5f\"}, \"baxis\": {\"endlinecolor\": \"#2a3f5f\", \"gridcolor\": \"#C8D4E3\", \"linecolor\": \"#C8D4E3\", \"minorgridcolor\": \"#C8D4E3\", \"startlinecolor\": \"#2a3f5f\"}, \"type\": \"carpet\"}], \"choropleth\": [{\"colorbar\": {\"outlinewidth\": 0, \"ticks\": \"\"}, \"type\": \"choropleth\"}], \"contour\": [{\"colorbar\": {\"outlinewidth\": 0, \"ticks\": \"\"}, \"colorscale\": [[0.0, \"#0d0887\"], [0.1111111111111111, \"#46039f\"], [0.2222222222222222, \"#7201a8\"], [0.3333333333333333, \"#9c179e\"], [0.4444444444444444, \"#bd3786\"], [0.5555555555555556, \"#d8576b\"], [0.6666666666666666, \"#ed7953\"], [0.7777777777777778, \"#fb9f3a\"], [0.8888888888888888, \"#fdca26\"], [1.0, \"#f0f921\"]], \"type\": \"contour\"}], \"contourcarpet\": [{\"colorbar\": {\"outlinewidth\": 0, \"ticks\": \"\"}, \"type\": \"contourcarpet\"}], \"heatmap\": [{\"colorbar\": {\"outlinewidth\": 0, \"ticks\": \"\"}, \"colorscale\": [[0.0, \"#0d0887\"], [0.1111111111111111, \"#46039f\"], [0.2222222222222222, \"#7201a8\"], [0.3333333333333333, \"#9c179e\"], [0.4444444444444444, \"#bd3786\"], [0.5555555555555556, \"#d8576b\"], [0.6666666666666666, \"#ed7953\"], [0.7777777777777778, \"#fb9f3a\"], [0.8888888888888888, \"#fdca26\"], [1.0, \"#f0f921\"]], \"type\": \"heatmap\"}], \"heatmapgl\": [{\"colorbar\": {\"outlinewidth\": 0, \"ticks\": \"\"}, \"colorscale\": [[0.0, \"#0d0887\"], [0.1111111111111111, \"#46039f\"], [0.2222222222222222, \"#7201a8\"], [0.3333333333333333, \"#9c179e\"], [0.4444444444444444, \"#bd3786\"], [0.5555555555555556, \"#d8576b\"], [0.6666666666666666, \"#ed7953\"], [0.7777777777777778, \"#fb9f3a\"], [0.8888888888888888, \"#fdca26\"], [1.0, \"#f0f921\"]], \"type\": \"heatmapgl\"}], \"histogram\": [{\"marker\": {\"colorbar\": {\"outlinewidth\": 0, \"ticks\": \"\"}}, \"type\": \"histogram\"}], \"histogram2d\": [{\"colorbar\": {\"outlinewidth\": 0, \"ticks\": \"\"}, \"colorscale\": [[0.0, \"#0d0887\"], [0.1111111111111111, \"#46039f\"], [0.2222222222222222, \"#7201a8\"], [0.3333333333333333, \"#9c179e\"], [0.4444444444444444, \"#bd3786\"], [0.5555555555555556, \"#d8576b\"], [0.6666666666666666, \"#ed7953\"], [0.7777777777777778, \"#fb9f3a\"], [0.8888888888888888, \"#fdca26\"], [1.0, \"#f0f921\"]], \"type\": \"histogram2d\"}], \"histogram2dcontour\": [{\"colorbar\": {\"outlinewidth\": 0, \"ticks\": \"\"}, \"colorscale\": [[0.0, \"#0d0887\"], [0.1111111111111111, \"#46039f\"], [0.2222222222222222, \"#7201a8\"], [0.3333333333333333, \"#9c179e\"], [0.4444444444444444, \"#bd3786\"], [0.5555555555555556, \"#d8576b\"], [0.6666666666666666, \"#ed7953\"], [0.7777777777777778, \"#fb9f3a\"], [0.8888888888888888, \"#fdca26\"], [1.0, \"#f0f921\"]], \"type\": \"histogram2dcontour\"}], \"mesh3d\": [{\"colorbar\": {\"outlinewidth\": 0, \"ticks\": \"\"}, \"type\": \"mesh3d\"}], \"parcoords\": [{\"line\": {\"colorbar\": {\"outlinewidth\": 0, \"ticks\": \"\"}}, \"type\": \"parcoords\"}], \"pie\": [{\"automargin\": true, \"type\": \"pie\"}], \"scatter\": [{\"marker\": {\"colorbar\": {\"outlinewidth\": 0, \"ticks\": \"\"}}, \"type\": \"scatter\"}], \"scatter3d\": [{\"line\": {\"colorbar\": {\"outlinewidth\": 0, \"ticks\": \"\"}}, \"marker\": {\"colorbar\": {\"outlinewidth\": 0, \"ticks\": \"\"}}, \"type\": \"scatter3d\"}], \"scattercarpet\": [{\"marker\": {\"colorbar\": {\"outlinewidth\": 0, \"ticks\": \"\"}}, \"type\": \"scattercarpet\"}], \"scattergeo\": [{\"marker\": {\"colorbar\": {\"outlinewidth\": 0, \"ticks\": \"\"}}, \"type\": \"scattergeo\"}], \"scattergl\": [{\"marker\": {\"colorbar\": {\"outlinewidth\": 0, \"ticks\": \"\"}}, \"type\": \"scattergl\"}], \"scattermapbox\": [{\"marker\": {\"colorbar\": {\"outlinewidth\": 0, \"ticks\": \"\"}}, \"type\": \"scattermapbox\"}], \"scatterpolar\": [{\"marker\": {\"colorbar\": {\"outlinewidth\": 0, \"ticks\": \"\"}}, \"type\": \"scatterpolar\"}], \"scatterpolargl\": [{\"marker\": {\"colorbar\": {\"outlinewidth\": 0, \"ticks\": \"\"}}, \"type\": \"scatterpolargl\"}], \"scatterternary\": [{\"marker\": {\"colorbar\": {\"outlinewidth\": 0, \"ticks\": \"\"}}, \"type\": \"scatterternary\"}], \"surface\": [{\"colorbar\": {\"outlinewidth\": 0, \"ticks\": \"\"}, \"colorscale\": [[0.0, \"#0d0887\"], [0.1111111111111111, \"#46039f\"], [0.2222222222222222, \"#7201a8\"], [0.3333333333333333, \"#9c179e\"], [0.4444444444444444, \"#bd3786\"], [0.5555555555555556, \"#d8576b\"], [0.6666666666666666, \"#ed7953\"], [0.7777777777777778, \"#fb9f3a\"], [0.8888888888888888, \"#fdca26\"], [1.0, \"#f0f921\"]], \"type\": \"surface\"}], \"table\": [{\"cells\": {\"fill\": {\"color\": \"#EBF0F8\"}, \"line\": {\"color\": \"white\"}}, \"header\": {\"fill\": {\"color\": \"#C8D4E3\"}, \"line\": {\"color\": \"white\"}}, \"type\": \"table\"}]}, \"layout\": {\"annotationdefaults\": {\"arrowcolor\": \"#2a3f5f\", \"arrowhead\": 0, \"arrowwidth\": 1}, \"coloraxis\": {\"colorbar\": {\"outlinewidth\": 0, \"ticks\": \"\"}}, \"colorscale\": {\"diverging\": [[0, \"#8e0152\"], [0.1, \"#c51b7d\"], [0.2, \"#de77ae\"], [0.3, \"#f1b6da\"], [0.4, \"#fde0ef\"], [0.5, \"#f7f7f7\"], [0.6, \"#e6f5d0\"], [0.7, \"#b8e186\"], [0.8, \"#7fbc41\"], [0.9, \"#4d9221\"], [1, \"#276419\"]], \"sequential\": [[0.0, \"#0d0887\"], [0.1111111111111111, \"#46039f\"], [0.2222222222222222, \"#7201a8\"], [0.3333333333333333, \"#9c179e\"], [0.4444444444444444, \"#bd3786\"], [0.5555555555555556, \"#d8576b\"], [0.6666666666666666, \"#ed7953\"], [0.7777777777777778, \"#fb9f3a\"], [0.8888888888888888, \"#fdca26\"], [1.0, \"#f0f921\"]], \"sequentialminus\": [[0.0, \"#0d0887\"], [0.1111111111111111, \"#46039f\"], [0.2222222222222222, \"#7201a8\"], [0.3333333333333333, \"#9c179e\"], [0.4444444444444444, \"#bd3786\"], [0.5555555555555556, \"#d8576b\"], [0.6666666666666666, \"#ed7953\"], [0.7777777777777778, \"#fb9f3a\"], [0.8888888888888888, \"#fdca26\"], [1.0, \"#f0f921\"]]}, \"colorway\": [\"#636efa\", \"#EF553B\", \"#00cc96\", \"#ab63fa\", \"#FFA15A\", \"#19d3f3\", \"#FF6692\", \"#B6E880\", \"#FF97FF\", \"#FECB52\"], \"font\": {\"color\": \"#2a3f5f\"}, \"geo\": {\"bgcolor\": \"white\", \"lakecolor\": \"white\", \"landcolor\": \"white\", \"showlakes\": true, \"showland\": true, \"subunitcolor\": \"#C8D4E3\"}, \"hoverlabel\": {\"align\": \"left\"}, \"hovermode\": \"closest\", \"mapbox\": {\"style\": \"light\"}, \"paper_bgcolor\": \"white\", \"plot_bgcolor\": \"white\", \"polar\": {\"angularaxis\": {\"gridcolor\": \"#EBF0F8\", \"linecolor\": \"#EBF0F8\", \"ticks\": \"\"}, \"bgcolor\": \"white\", \"radialaxis\": {\"gridcolor\": \"#EBF0F8\", \"linecolor\": \"#EBF0F8\", \"ticks\": \"\"}}, \"scene\": {\"xaxis\": {\"backgroundcolor\": \"white\", \"gridcolor\": \"#DFE8F3\", \"gridwidth\": 2, \"linecolor\": \"#EBF0F8\", \"showbackground\": true, \"ticks\": \"\", \"zerolinecolor\": \"#EBF0F8\"}, \"yaxis\": {\"backgroundcolor\": \"white\", \"gridcolor\": \"#DFE8F3\", \"gridwidth\": 2, \"linecolor\": \"#EBF0F8\", \"showbackground\": true, \"ticks\": \"\", \"zerolinecolor\": \"#EBF0F8\"}, \"zaxis\": {\"backgroundcolor\": \"white\", \"gridcolor\": \"#DFE8F3\", \"gridwidth\": 2, \"linecolor\": \"#EBF0F8\", \"showbackground\": true, \"ticks\": \"\", \"zerolinecolor\": \"#EBF0F8\"}}, \"shapedefaults\": {\"line\": {\"color\": \"#2a3f5f\"}}, \"ternary\": {\"aaxis\": {\"gridcolor\": \"#DFE8F3\", \"linecolor\": \"#A2B1C6\", \"ticks\": \"\"}, \"baxis\": {\"gridcolor\": \"#DFE8F3\", \"linecolor\": \"#A2B1C6\", \"ticks\": \"\"}, \"bgcolor\": \"white\", \"caxis\": {\"gridcolor\": \"#DFE8F3\", \"linecolor\": \"#A2B1C6\", \"ticks\": \"\"}}, \"title\": {\"x\": 0.05}, \"xaxis\": {\"automargin\": true, \"gridcolor\": \"#EBF0F8\", \"linecolor\": \"#EBF0F8\", \"ticks\": \"\", \"title\": {\"standoff\": 15}, \"zerolinecolor\": \"#EBF0F8\", \"zerolinewidth\": 2}, \"yaxis\": {\"automargin\": true, \"gridcolor\": \"#EBF0F8\", \"linecolor\": \"#EBF0F8\", \"ticks\": \"\", \"title\": {\"standoff\": 15}, \"zerolinecolor\": \"#EBF0F8\", \"zerolinewidth\": 2}}}, \"title\": {\"text\": \"NHL Corsi Ranking\"}, \"xaxis\": {\"anchor\": \"y\", \"domain\": [0.0, 1.0], \"showgrid\": false, \"title\": {\"text\": \"Corsi Z-Score\"}}, \"yaxis\": {\"anchor\": \"x\", \"categoryarray\": [\"ANA\", \"ARI\", \"BOS\", \"BUF\", \"CAR\", \"CBJ\", \"CAL\", \"CHI\", \"COL\", \"DAL\", \"DET\", \"EDM\", \"FLA\", \"LAK\", \"MIN\", \"MON\", \"NJD\", \"NSH\", \"NYI\", \"NYR\", \"OTT\", \"PHI\", \"PIT\", \"SJS\", \"STL\", \"TBL\", \"TOR\", \"VAN\", \"VGK\", \"WPG\", \"WAS\"], \"categoryorder\": \"total ascending\", \"domain\": [0.0, 1.0], \"showgrid\": false, \"showticklabels\": false, \"title\": {\"text\": \" \"}}},\n",
       "                        {\"responsive\": true}\n",
       "                    ).then(function(){\n",
       "                            \n",
       "var gd = document.getElementById('b46701c2-226c-4a11-8c0a-2186769f7a52');\n",
       "var x = new MutationObserver(function (mutations, observer) {{\n",
       "        var display = window.getComputedStyle(gd).display;\n",
       "        if (!display || display === 'none') {{\n",
       "            console.log([gd, 'removed!']);\n",
       "            Plotly.purge(gd);\n",
       "            observer.disconnect();\n",
       "        }}\n",
       "}});\n",
       "\n",
       "// Listen for the removal of the full notebook cells\n",
       "var notebookContainer = gd.closest('#notebook-container');\n",
       "if (notebookContainer) {{\n",
       "    x.observe(notebookContainer, {childList: true});\n",
       "}}\n",
       "\n",
       "// Listen for the clearing of the current output cell\n",
       "var outputEl = gd.closest('.output');\n",
       "if (outputEl) {{\n",
       "    x.observe(outputEl, {childList: true});\n",
       "}}\n",
       "\n",
       "                        })\n",
       "                };\n",
       "                });\n",
       "            </script>\n",
       "        </div>"
      ]
     },
     "metadata": {},
     "output_type": "display_data"
    }
   ],
   "source": [
    "fig = px.bar(df, x='corsi_z', y='Team', text=\"Team\", color=\"Team\", orientation=\"h\",\n",
    "                 template='plotly_white')\n",
    "\n",
    "fig.update_traces(textposition='outside',\n",
    ")\n",
    "\n",
    "fig.update_layout(title_text=\"NHL Corsi Ranking\",\n",
    "                  xaxis_title_text=\"Corsi Z-Score\",\n",
    "                  yaxis_title_text=\" \",\n",
    "                  xaxis_showgrid=False, \n",
    "                  yaxis_showgrid=False,\n",
    "                  yaxis={'categoryorder':'total ascending'},\n",
    "                  showlegend=False)\n",
    "\n",
    "# fig.update_xaxes(showticklabels=False)\n",
    "fig.update_yaxes(showticklabels=False)\n",
    "fig.update_layout(annotations=[\n",
    "       go.layout.Annotation(\n",
    "            showarrow=False,\n",
    "            text='Chart by: Aram Kaplanian',\n",
    "            xanchor='right',\n",
    "            x=1,\n",
    "            xref='paper',\n",
    "            xshift=15,\n",
    "            yanchor='auto',\n",
    "            y=-0.1,\n",
    "            yshift=7,\n",
    "            yref='paper',\n",
    "            font=dict(\n",
    "                size=8,\n",
    "                color='grey'\n",
    "            )\n",
    "        ),go.layout.Annotation(\n",
    "            showarrow=False,\n",
    "            text='Source: Corsica Hockey',\n",
    "            xanchor='right',\n",
    "            x=1,\n",
    "            xref='paper',\n",
    "            xshift=15,\n",
    "            yanchor='auto',\n",
    "            y=-0.1,\n",
    "            yshift=0,\n",
    "            yref='paper',\n",
    "            font=dict(\n",
    "                size=8,\n",
    "                color='grey'\n",
    "            ))])\n",
    "fig.show()\n",
    "\n",
    "fig.write_image(\"corsi_z.png\")"
   ]
  }
 ],
 "metadata": {
  "kernelspec": {
   "display_name": "Python 3",
   "language": "python",
   "name": "python3"
  },
  "language_info": {
   "codemirror_mode": {
    "name": "ipython",
    "version": 3
   },
   "file_extension": ".py",
   "mimetype": "text/x-python",
   "name": "python",
   "nbconvert_exporter": "python",
   "pygments_lexer": "ipython3",
   "version": "3.7.5"
  }
 },
 "nbformat": 4,
 "nbformat_minor": 4
}
