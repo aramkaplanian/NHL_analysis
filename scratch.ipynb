{
 "cells": [
  {
   "cell_type": "code",
   "execution_count": 13,
   "metadata": {},
   "outputs": [],
   "source": [
    "import numpy as np\n",
    "import pandas as pd\n",
    "from scipy import stats\n",
    "import plotly.express as px\n",
    "import plotly.graph_objects as go\n",
    "# from nhlscrapi.games.game import Game, GameKey, GameType\n",
    "# from nhlscrapi.games.cumstats import Score, ShotCt, Corsi, Fenwick"
   ]
  },
  {
   "cell_type": "code",
   "execution_count": 14,
   "metadata": {},
   "outputs": [],
   "source": [
    "df = pd.read_csv('team_data.csv')"
   ]
  },
  {
   "cell_type": "code",
   "execution_count": 15,
   "metadata": {},
   "outputs": [
    {
     "data": {
      "text/plain": [
       "Index(['Team', 'Season', 'GP', 'TOI', 'CF', 'CA', 'C+/-', 'CF%', 'CF/60',\n",
       "       'CA/60', 'FF', 'FA', 'F+/-', 'FF%', 'FF/60', 'FA/60', 'SF', 'SA',\n",
       "       'S+/-', 'SF%', 'SF/60', 'SA/60', 'GF', 'GA', 'G+/-', 'GF%', 'GF/60',\n",
       "       'GA/60', 'xGF', 'xGA', 'xG+/-', 'xGF%', 'xGF/60', 'xGA/60', 'PENT',\n",
       "       'PEND', 'P+/-', 'PENT/60', 'PEND/60', 'Sh%', 'Sv%', 'FSh%', 'FSv%',\n",
       "       'xFSh%', 'xFSv%', 'dFSh%', 'dFSv%', 'PDO', 'xPDO', 'dPDO'],\n",
       "      dtype='object')"
      ]
     },
     "execution_count": 15,
     "metadata": {},
     "output_type": "execute_result"
    }
   ],
   "source": [
    "df.columns"
   ]
  },
  {
   "cell_type": "code",
   "execution_count": 16,
   "metadata": {},
   "outputs": [],
   "source": [
    "# df['G+/-'] = df['G+/-'].str.replace(\"-\", np.nan)\n",
    "df = df.replace(\"--\", 0)\n",
    "df = df.dropna()"
   ]
  },
  {
   "cell_type": "code",
   "execution_count": 17,
   "metadata": {},
   "outputs": [],
   "source": [
    "def get_plot_points(df, col):\n",
    "    high = max(df[col].astype(float))\n",
    "    low = min(df[col].astype(float))\n",
    "    mid = (high + low) / 2\n",
    "    return high, mid, low\n",
    "\n",
    "\n",
    "high, mid, low = get_plot_points(df, 'G+/-')\n",
    "xhigh, xmid, xlow = get_plot_points(df, 'xG+/-')"
   ]
  },
  {
   "cell_type": "code",
   "execution_count": 18,
   "metadata": {},
   "outputs": [
    {
     "data": {
      "text/plain": [
       "'\\nunecessary at the moment...trying to figure out a good way for these values\\n'"
      ]
     },
     "execution_count": 18,
     "metadata": {},
     "output_type": "execute_result"
    }
   ],
   "source": [
    "\"\"\"\n",
    "unecessary at the moment...trying to figure out a good way for these values\n",
    "\"\"\"\n",
    "# goal_grp = np.linspace(low, high, num=5)\n",
    "# exp_grp = np.linspace(xlow, xhigh, num=5)\n",
    "\n",
    "# print(goal_grp)\n",
    "# print(exp_grp)\n",
    "# ary_len = len(exp_grp) "
   ]
  },
  {
   "cell_type": "code",
   "execution_count": 19,
   "metadata": {},
   "outputs": [
    {
     "data": {
      "application/vnd.plotly.v1+json": {
       "config": {
        "plotlyServerURL": "https://plot.ly"
       },
       "data": [
        {
         "hoverlabel": {
          "namelength": 0
         },
         "hovertemplate": "Team=%{text}<br>xG+/-=%{x}<br>G+/-=%{y}",
         "legendgroup": "WAS",
         "marker": {
          "color": "#636efa",
          "symbol": "circle"
         },
         "mode": "markers+text",
         "name": "WAS",
         "showlegend": true,
         "text": [
          "WAS"
         ],
         "textposition": "top center",
         "type": "scatter",
         "x": [
          17.38
         ],
         "xaxis": "x",
         "y": [
          "27"
         ],
         "yaxis": "y"
        },
        {
         "hoverlabel": {
          "namelength": 0
         },
         "hovertemplate": "Team=%{text}<br>xG+/-=%{x}<br>G+/-=%{y}",
         "legendgroup": "WPG",
         "marker": {
          "color": "#EF553B",
          "symbol": "circle"
         },
         "mode": "markers+text",
         "name": "WPG",
         "showlegend": true,
         "text": [
          "WPG"
         ],
         "textposition": "top center",
         "type": "scatter",
         "x": [
          -24.35
         ],
         "xaxis": "x",
         "y": [
          "3"
         ],
         "yaxis": "y"
        },
        {
         "hoverlabel": {
          "namelength": 0
         },
         "hovertemplate": "Team=%{text}<br>xG+/-=%{x}<br>G+/-=%{y}",
         "legendgroup": "VGK",
         "marker": {
          "color": "#00cc96",
          "symbol": "circle"
         },
         "mode": "markers+text",
         "name": "VGK",
         "showlegend": true,
         "text": [
          "VGK"
         ],
         "textposition": "top center",
         "type": "scatter",
         "x": [
          29.63
         ],
         "xaxis": "x",
         "y": [
          "17"
         ],
         "yaxis": "y"
        },
        {
         "hoverlabel": {
          "namelength": 0
         },
         "hovertemplate": "Team=%{text}<br>xG+/-=%{x}<br>G+/-=%{y}",
         "legendgroup": "VAN",
         "marker": {
          "color": "#ab63fa",
          "symbol": "circle"
         },
         "mode": "markers+text",
         "name": "VAN",
         "showlegend": true,
         "text": [
          "VAN"
         ],
         "textposition": "top center",
         "type": "scatter",
         "x": [
          -11.07
         ],
         "xaxis": "x",
         "y": [
          "12"
         ],
         "yaxis": "y"
        },
        {
         "hoverlabel": {
          "namelength": 0
         },
         "hovertemplate": "Team=%{text}<br>xG+/-=%{x}<br>G+/-=%{y}",
         "legendgroup": "TOR",
         "marker": {
          "color": "#FFA15A",
          "symbol": "circle"
         },
         "mode": "markers+text",
         "name": "TOR",
         "showlegend": true,
         "text": [
          "TOR"
         ],
         "textposition": "top center",
         "type": "scatter",
         "x": [
          15.57
         ],
         "xaxis": "x",
         "y": [
          "18"
         ],
         "yaxis": "y"
        },
        {
         "hoverlabel": {
          "namelength": 0
         },
         "hovertemplate": "Team=%{text}<br>xG+/-=%{x}<br>G+/-=%{y}",
         "legendgroup": "TBL",
         "marker": {
          "color": "#19d3f3",
          "symbol": "circle"
         },
         "mode": "markers+text",
         "name": "TBL",
         "showlegend": true,
         "text": [
          "TBL"
         ],
         "textposition": "top center",
         "type": "scatter",
         "x": [
          27.97
         ],
         "xaxis": "x",
         "y": [
          "50"
         ],
         "yaxis": "y"
        },
        {
         "hoverlabel": {
          "namelength": 0
         },
         "hovertemplate": "Team=%{text}<br>xG+/-=%{x}<br>G+/-=%{y}",
         "legendgroup": "STL",
         "marker": {
          "color": "#FF6692",
          "symbol": "circle"
         },
         "mode": "markers+text",
         "name": "STL",
         "showlegend": true,
         "text": [
          "STL"
         ],
         "textposition": "top center",
         "type": "scatter",
         "x": [
          -8.88
         ],
         "xaxis": "x",
         "y": [
          "30"
         ],
         "yaxis": "y"
        },
        {
         "hoverlabel": {
          "namelength": 0
         },
         "hovertemplate": "Team=%{text}<br>xG+/-=%{x}<br>G+/-=%{y}",
         "legendgroup": "SJS",
         "marker": {
          "color": "#B6E880",
          "symbol": "circle"
         },
         "mode": "markers+text",
         "name": "SJS",
         "showlegend": true,
         "text": [
          "SJS"
         ],
         "textposition": "top center",
         "type": "scatter",
         "x": [
          -22.89
         ],
         "xaxis": "x",
         "y": [
          "-41"
         ],
         "yaxis": "y"
        },
        {
         "hoverlabel": {
          "namelength": 0
         },
         "hovertemplate": "Team=%{text}<br>xG+/-=%{x}<br>G+/-=%{y}",
         "legendgroup": "PIT",
         "marker": {
          "color": "#FF97FF",
          "symbol": "circle"
         },
         "mode": "markers+text",
         "name": "PIT",
         "showlegend": true,
         "text": [
          "PIT"
         ],
         "textposition": "top center",
         "type": "scatter",
         "x": [
          18.12
         ],
         "xaxis": "x",
         "y": [
          "23"
         ],
         "yaxis": "y"
        },
        {
         "hoverlabel": {
          "namelength": 0
         },
         "hovertemplate": "Team=%{text}<br>xG+/-=%{x}<br>G+/-=%{y}",
         "legendgroup": "PHI",
         "marker": {
          "color": "#FECB52",
          "symbol": "circle"
         },
         "mode": "markers+text",
         "name": "PHI",
         "showlegend": true,
         "text": [
          "PHI"
         ],
         "textposition": "top center",
         "type": "scatter",
         "x": [
          6.55
         ],
         "xaxis": "x",
         "y": [
          "30"
         ],
         "yaxis": "y"
        },
        {
         "hoverlabel": {
          "namelength": 0
         },
         "hovertemplate": "Team=%{text}<br>xG+/-=%{x}<br>G+/-=%{y}",
         "legendgroup": "OTT",
         "marker": {
          "color": "#636efa",
          "symbol": "circle"
         },
         "mode": "markers+text",
         "name": "OTT",
         "showlegend": true,
         "text": [
          "OTT"
         ],
         "textposition": "top center",
         "type": "scatter",
         "x": [
          -0.56
         ],
         "xaxis": "x",
         "y": [
          "-45"
         ],
         "yaxis": "y"
        },
        {
         "hoverlabel": {
          "namelength": 0
         },
         "hovertemplate": "Team=%{text}<br>xG+/-=%{x}<br>G+/-=%{y}",
         "legendgroup": "NYR",
         "marker": {
          "color": "#EF553B",
          "symbol": "circle"
         },
         "mode": "markers+text",
         "name": "NYR",
         "showlegend": true,
         "text": [
          "NYR"
         ],
         "textposition": "top center",
         "type": "scatter",
         "x": [
          -33.57
         ],
         "xaxis": "x",
         "y": [
          "16"
         ],
         "yaxis": "y"
        },
        {
         "hoverlabel": {
          "namelength": 0
         },
         "hovertemplate": "Team=%{text}<br>xG+/-=%{x}<br>G+/-=%{y}",
         "legendgroup": "NYI",
         "marker": {
          "color": "#00cc96",
          "symbol": "circle"
         },
         "mode": "markers+text",
         "name": "NYI",
         "showlegend": true,
         "text": [
          "NYI"
         ],
         "textposition": "top center",
         "type": "scatter",
         "x": [
          4.27
         ],
         "xaxis": "x",
         "y": [
          0
         ],
         "yaxis": "y"
        },
        {
         "hoverlabel": {
          "namelength": 0
         },
         "hovertemplate": "Team=%{text}<br>xG+/-=%{x}<br>G+/-=%{y}",
         "legendgroup": "NSH",
         "marker": {
          "color": "#ab63fa",
          "symbol": "circle"
         },
         "mode": "markers+text",
         "name": "NSH",
         "showlegend": true,
         "text": [
          "NSH"
         ],
         "textposition": "top center",
         "type": "scatter",
         "x": [
          5.97
         ],
         "xaxis": "x",
         "y": [
          0
         ],
         "yaxis": "y"
        },
        {
         "hoverlabel": {
          "namelength": 0
         },
         "hovertemplate": "Team=%{text}<br>xG+/-=%{x}<br>G+/-=%{y}",
         "legendgroup": "NJD",
         "marker": {
          "color": "#FFA15A",
          "symbol": "circle"
         },
         "mode": "markers+text",
         "name": "NJD",
         "showlegend": true,
         "text": [
          "NJD"
         ],
         "textposition": "top center",
         "type": "scatter",
         "x": [
          -8.76
         ],
         "xaxis": "x",
         "y": [
          "-40"
         ],
         "yaxis": "y"
        },
        {
         "hoverlabel": {
          "namelength": 0
         },
         "hovertemplate": "Team=%{text}<br>xG+/-=%{x}<br>G+/-=%{y}",
         "legendgroup": "MON",
         "marker": {
          "color": "#19d3f3",
          "symbol": "circle"
         },
         "mode": "markers+text",
         "name": "MON",
         "showlegend": true,
         "text": [
          "MON"
         ],
         "textposition": "top center",
         "type": "scatter",
         "x": [
          20.99
         ],
         "xaxis": "x",
         "y": [
          "-6"
         ],
         "yaxis": "y"
        },
        {
         "hoverlabel": {
          "namelength": 0
         },
         "hovertemplate": "Team=%{text}<br>xG+/-=%{x}<br>G+/-=%{y}",
         "legendgroup": "MIN",
         "marker": {
          "color": "#FF6692",
          "symbol": "circle"
         },
         "mode": "markers+text",
         "name": "MIN",
         "showlegend": true,
         "text": [
          "MIN"
         ],
         "textposition": "top center",
         "type": "scatter",
         "x": [
          13.89
         ],
         "xaxis": "x",
         "y": [
          "1"
         ],
         "yaxis": "y"
        },
        {
         "hoverlabel": {
          "namelength": 0
         },
         "hovertemplate": "Team=%{text}<br>xG+/-=%{x}<br>G+/-=%{y}",
         "legendgroup": "LAK",
         "marker": {
          "color": "#B6E880",
          "symbol": "circle"
         },
         "mode": "markers+text",
         "name": "LAK",
         "showlegend": true,
         "text": [
          "LAK"
         ],
         "textposition": "top center",
         "type": "scatter",
         "x": [
          9.9
         ],
         "xaxis": "x",
         "y": [
          "-42"
         ],
         "yaxis": "y"
        },
        {
         "hoverlabel": {
          "namelength": 0
         },
         "hovertemplate": "Team=%{text}<br>xG+/-=%{x}<br>G+/-=%{y}",
         "legendgroup": "FLA",
         "marker": {
          "color": "#FF97FF",
          "symbol": "circle"
         },
         "mode": "markers+text",
         "name": "FLA",
         "showlegend": true,
         "text": [
          "FLA"
         ],
         "textposition": "top center",
         "type": "scatter",
         "x": [
          -17.09
         ],
         "xaxis": "x",
         "y": [
          "4"
         ],
         "yaxis": "y"
        },
        {
         "hoverlabel": {
          "namelength": 0
         },
         "hovertemplate": "Team=%{text}<br>xG+/-=%{x}<br>G+/-=%{y}",
         "legendgroup": "EDM",
         "marker": {
          "color": "#FECB52",
          "symbol": "circle"
         },
         "mode": "markers+text",
         "name": "EDM",
         "showlegend": true,
         "text": [
          "EDM"
         ],
         "textposition": "top center",
         "type": "scatter",
         "x": [
          2.01
         ],
         "xaxis": "x",
         "y": [
          "3"
         ],
         "yaxis": "y"
        },
        {
         "hoverlabel": {
          "namelength": 0
         },
         "hovertemplate": "Team=%{text}<br>xG+/-=%{x}<br>G+/-=%{y}",
         "legendgroup": "DET",
         "marker": {
          "color": "#636efa",
          "symbol": "circle"
         },
         "mode": "markers+text",
         "name": "DET",
         "showlegend": true,
         "text": [
          "DET"
         ],
         "textposition": "top center",
         "type": "scatter",
         "x": [
          -62.96
         ],
         "xaxis": "x",
         "y": [
          "-120"
         ],
         "yaxis": "y"
        },
        {
         "hoverlabel": {
          "namelength": 0
         },
         "hovertemplate": "Team=%{text}<br>xG+/-=%{x}<br>G+/-=%{y}",
         "legendgroup": "DAL",
         "marker": {
          "color": "#EF553B",
          "symbol": "circle"
         },
         "mode": "markers+text",
         "name": "DAL",
         "showlegend": true,
         "text": [
          "DAL"
         ],
         "textposition": "top center",
         "type": "scatter",
         "x": [
          6.59
         ],
         "xaxis": "x",
         "y": [
          "9"
         ],
         "yaxis": "y"
        },
        {
         "hoverlabel": {
          "namelength": 0
         },
         "hovertemplate": "Team=%{text}<br>xG+/-=%{x}<br>G+/-=%{y}",
         "legendgroup": "COL",
         "marker": {
          "color": "#00cc96",
          "symbol": "circle"
         },
         "mode": "markers+text",
         "name": "COL",
         "showlegend": true,
         "text": [
          "COL"
         ],
         "textposition": "top center",
         "type": "scatter",
         "x": [
          13.29
         ],
         "xaxis": "x",
         "y": [
          "49"
         ],
         "yaxis": "y"
        },
        {
         "hoverlabel": {
          "namelength": 0
         },
         "hovertemplate": "Team=%{text}<br>xG+/-=%{x}<br>G+/-=%{y}",
         "legendgroup": "CHI",
         "marker": {
          "color": "#ab63fa",
          "symbol": "circle"
         },
         "mode": "markers+text",
         "name": "CHI",
         "showlegend": true,
         "text": [
          "CHI"
         ],
         "textposition": "top center",
         "type": "scatter",
         "x": [
          -19.08
         ],
         "xaxis": "x",
         "y": [
          "-13"
         ],
         "yaxis": "y"
        },
        {
         "hoverlabel": {
          "namelength": 0
         },
         "hovertemplate": "Team=%{text}<br>xG+/-=%{x}<br>G+/-=%{y}",
         "legendgroup": "CAL",
         "marker": {
          "color": "#FFA15A",
          "symbol": "circle"
         },
         "mode": "markers+text",
         "name": "CAL",
         "showlegend": true,
         "text": [
          "CAL"
         ],
         "textposition": "top center",
         "type": "scatter",
         "x": [
          8.72
         ],
         "xaxis": "x",
         "y": [
          "-15"
         ],
         "yaxis": "y"
        },
        {
         "hoverlabel": {
          "namelength": 0
         },
         "hovertemplate": "Team=%{text}<br>xG+/-=%{x}<br>G+/-=%{y}",
         "legendgroup": "CBJ",
         "marker": {
          "color": "#19d3f3",
          "symbol": "circle"
         },
         "mode": "markers+text",
         "name": "CBJ",
         "showlegend": true,
         "text": [
          "CBJ"
         ],
         "textposition": "top center",
         "type": "scatter",
         "x": [
          7.67
         ],
         "xaxis": "x",
         "y": [
          "-4"
         ],
         "yaxis": "y"
        },
        {
         "hoverlabel": {
          "namelength": 0
         },
         "hovertemplate": "Team=%{text}<br>xG+/-=%{x}<br>G+/-=%{y}",
         "legendgroup": "CAR",
         "marker": {
          "color": "#FF6692",
          "symbol": "circle"
         },
         "mode": "markers+text",
         "name": "CAR",
         "showlegend": true,
         "text": [
          "CAR"
         ],
         "textposition": "top center",
         "type": "scatter",
         "x": [
          25.29
         ],
         "xaxis": "x",
         "y": [
          "19"
         ],
         "yaxis": "y"
        },
        {
         "hoverlabel": {
          "namelength": 0
         },
         "hovertemplate": "Team=%{text}<br>xG+/-=%{x}<br>G+/-=%{y}",
         "legendgroup": "BUF",
         "marker": {
          "color": "#B6E880",
          "symbol": "circle"
         },
         "mode": "markers+text",
         "name": "BUF",
         "showlegend": true,
         "text": [
          "BUF"
         ],
         "textposition": "top center",
         "type": "scatter",
         "x": [
          -21.05
         ],
         "xaxis": "x",
         "y": [
          "-15"
         ],
         "yaxis": "y"
        },
        {
         "hoverlabel": {
          "namelength": 0
         },
         "hovertemplate": "Team=%{text}<br>xG+/-=%{x}<br>G+/-=%{y}",
         "legendgroup": "BOS",
         "marker": {
          "color": "#FF97FF",
          "symbol": "circle"
         },
         "mode": "markers+text",
         "name": "BOS",
         "showlegend": true,
         "text": [
          "BOS"
         ],
         "textposition": "top center",
         "type": "scatter",
         "x": [
          17.53
         ],
         "xaxis": "x",
         "y": [
          "62"
         ],
         "yaxis": "y"
        },
        {
         "hoverlabel": {
          "namelength": 0
         },
         "hovertemplate": "Team=%{text}<br>xG+/-=%{x}<br>G+/-=%{y}",
         "legendgroup": "ARI",
         "marker": {
          "color": "#FECB52",
          "symbol": "circle"
         },
         "mode": "markers+text",
         "name": "ARI",
         "showlegend": true,
         "text": [
          "ARI"
         ],
         "textposition": "top center",
         "type": "scatter",
         "x": [
          -4.69
         ],
         "xaxis": "x",
         "y": [
          "6"
         ],
         "yaxis": "y"
        },
        {
         "hoverlabel": {
          "namelength": 0
         },
         "hovertemplate": "Team=%{text}<br>xG+/-=%{x}<br>G+/-=%{y}",
         "legendgroup": "ANA",
         "marker": {
          "color": "#636efa",
          "symbol": "circle"
         },
         "mode": "markers+text",
         "name": "ANA",
         "showlegend": true,
         "text": [
          "ANA"
         ],
         "textposition": "top center",
         "type": "scatter",
         "x": [
          -16.38
         ],
         "xaxis": "x",
         "y": [
          "-38"
         ],
         "yaxis": "y"
        },
        {
         "mode": "text",
         "text": [
          "Better than Expected",
          "Bad",
          "Good",
          "Worse than Expected"
         ],
         "textfont": {
          "color": "grey"
         },
         "type": "scatter",
         "x": [
          -51.96,
          -60.96,
          29.63,
          18.63
         ],
         "y": [
          62,
          -110,
          59,
          -120
         ]
        }
       ],
       "layout": {
        "annotations": [
         {
          "font": {
           "color": "grey",
           "size": 8
          },
          "showarrow": false,
          "text": "Chart by: Aram Kaplanian",
          "x": 1,
          "xanchor": "right",
          "xref": "paper",
          "xshift": 15,
          "y": -0.1,
          "yanchor": "auto",
          "yref": "paper",
          "yshift": 7
         },
         {
          "font": {
           "color": "grey",
           "size": 8
          },
          "showarrow": false,
          "text": "Source: Corsica Hockey",
          "x": 1,
          "xanchor": "right",
          "xref": "paper",
          "xshift": 15,
          "y": -0.1,
          "yanchor": "auto",
          "yref": "paper",
          "yshift": 0
         }
        ],
        "legend": {
         "title": {
          "text": "Team"
         },
         "tracegroupgap": 0
        },
        "margin": {
         "t": 60
        },
        "shapes": [
         {
          "layer": "below",
          "line": {
           "color": "red",
           "dash": "dashdot",
           "width": 2
          },
          "opacity": 0.4,
          "type": "line",
          "x0": -16.665,
          "x1": -16.665,
          "y0": -120,
          "y1": 62
         },
         {
          "layer": "below",
          "line": {
           "color": "red",
           "dash": "dashdot",
           "width": 2
          },
          "opacity": 0.4,
          "type": "line",
          "x0": -62.96,
          "x1": 29.63,
          "y0": -29,
          "y1": -29
         }
        ],
        "showlegend": false,
        "template": {
         "data": {
          "bar": [
           {
            "error_x": {
             "color": "#2a3f5f"
            },
            "error_y": {
             "color": "#2a3f5f"
            },
            "marker": {
             "line": {
              "color": "white",
              "width": 0.5
             }
            },
            "type": "bar"
           }
          ],
          "barpolar": [
           {
            "marker": {
             "line": {
              "color": "white",
              "width": 0.5
             }
            },
            "type": "barpolar"
           }
          ],
          "carpet": [
           {
            "aaxis": {
             "endlinecolor": "#2a3f5f",
             "gridcolor": "#C8D4E3",
             "linecolor": "#C8D4E3",
             "minorgridcolor": "#C8D4E3",
             "startlinecolor": "#2a3f5f"
            },
            "baxis": {
             "endlinecolor": "#2a3f5f",
             "gridcolor": "#C8D4E3",
             "linecolor": "#C8D4E3",
             "minorgridcolor": "#C8D4E3",
             "startlinecolor": "#2a3f5f"
            },
            "type": "carpet"
           }
          ],
          "choropleth": [
           {
            "colorbar": {
             "outlinewidth": 0,
             "ticks": ""
            },
            "type": "choropleth"
           }
          ],
          "contour": [
           {
            "colorbar": {
             "outlinewidth": 0,
             "ticks": ""
            },
            "colorscale": [
             [
              0,
              "#0d0887"
             ],
             [
              0.1111111111111111,
              "#46039f"
             ],
             [
              0.2222222222222222,
              "#7201a8"
             ],
             [
              0.3333333333333333,
              "#9c179e"
             ],
             [
              0.4444444444444444,
              "#bd3786"
             ],
             [
              0.5555555555555556,
              "#d8576b"
             ],
             [
              0.6666666666666666,
              "#ed7953"
             ],
             [
              0.7777777777777778,
              "#fb9f3a"
             ],
             [
              0.8888888888888888,
              "#fdca26"
             ],
             [
              1,
              "#f0f921"
             ]
            ],
            "type": "contour"
           }
          ],
          "contourcarpet": [
           {
            "colorbar": {
             "outlinewidth": 0,
             "ticks": ""
            },
            "type": "contourcarpet"
           }
          ],
          "heatmap": [
           {
            "colorbar": {
             "outlinewidth": 0,
             "ticks": ""
            },
            "colorscale": [
             [
              0,
              "#0d0887"
             ],
             [
              0.1111111111111111,
              "#46039f"
             ],
             [
              0.2222222222222222,
              "#7201a8"
             ],
             [
              0.3333333333333333,
              "#9c179e"
             ],
             [
              0.4444444444444444,
              "#bd3786"
             ],
             [
              0.5555555555555556,
              "#d8576b"
             ],
             [
              0.6666666666666666,
              "#ed7953"
             ],
             [
              0.7777777777777778,
              "#fb9f3a"
             ],
             [
              0.8888888888888888,
              "#fdca26"
             ],
             [
              1,
              "#f0f921"
             ]
            ],
            "type": "heatmap"
           }
          ],
          "heatmapgl": [
           {
            "colorbar": {
             "outlinewidth": 0,
             "ticks": ""
            },
            "colorscale": [
             [
              0,
              "#0d0887"
             ],
             [
              0.1111111111111111,
              "#46039f"
             ],
             [
              0.2222222222222222,
              "#7201a8"
             ],
             [
              0.3333333333333333,
              "#9c179e"
             ],
             [
              0.4444444444444444,
              "#bd3786"
             ],
             [
              0.5555555555555556,
              "#d8576b"
             ],
             [
              0.6666666666666666,
              "#ed7953"
             ],
             [
              0.7777777777777778,
              "#fb9f3a"
             ],
             [
              0.8888888888888888,
              "#fdca26"
             ],
             [
              1,
              "#f0f921"
             ]
            ],
            "type": "heatmapgl"
           }
          ],
          "histogram": [
           {
            "marker": {
             "colorbar": {
              "outlinewidth": 0,
              "ticks": ""
             }
            },
            "type": "histogram"
           }
          ],
          "histogram2d": [
           {
            "colorbar": {
             "outlinewidth": 0,
             "ticks": ""
            },
            "colorscale": [
             [
              0,
              "#0d0887"
             ],
             [
              0.1111111111111111,
              "#46039f"
             ],
             [
              0.2222222222222222,
              "#7201a8"
             ],
             [
              0.3333333333333333,
              "#9c179e"
             ],
             [
              0.4444444444444444,
              "#bd3786"
             ],
             [
              0.5555555555555556,
              "#d8576b"
             ],
             [
              0.6666666666666666,
              "#ed7953"
             ],
             [
              0.7777777777777778,
              "#fb9f3a"
             ],
             [
              0.8888888888888888,
              "#fdca26"
             ],
             [
              1,
              "#f0f921"
             ]
            ],
            "type": "histogram2d"
           }
          ],
          "histogram2dcontour": [
           {
            "colorbar": {
             "outlinewidth": 0,
             "ticks": ""
            },
            "colorscale": [
             [
              0,
              "#0d0887"
             ],
             [
              0.1111111111111111,
              "#46039f"
             ],
             [
              0.2222222222222222,
              "#7201a8"
             ],
             [
              0.3333333333333333,
              "#9c179e"
             ],
             [
              0.4444444444444444,
              "#bd3786"
             ],
             [
              0.5555555555555556,
              "#d8576b"
             ],
             [
              0.6666666666666666,
              "#ed7953"
             ],
             [
              0.7777777777777778,
              "#fb9f3a"
             ],
             [
              0.8888888888888888,
              "#fdca26"
             ],
             [
              1,
              "#f0f921"
             ]
            ],
            "type": "histogram2dcontour"
           }
          ],
          "mesh3d": [
           {
            "colorbar": {
             "outlinewidth": 0,
             "ticks": ""
            },
            "type": "mesh3d"
           }
          ],
          "parcoords": [
           {
            "line": {
             "colorbar": {
              "outlinewidth": 0,
              "ticks": ""
             }
            },
            "type": "parcoords"
           }
          ],
          "pie": [
           {
            "automargin": true,
            "type": "pie"
           }
          ],
          "scatter": [
           {
            "marker": {
             "colorbar": {
              "outlinewidth": 0,
              "ticks": ""
             }
            },
            "type": "scatter"
           }
          ],
          "scatter3d": [
           {
            "line": {
             "colorbar": {
              "outlinewidth": 0,
              "ticks": ""
             }
            },
            "marker": {
             "colorbar": {
              "outlinewidth": 0,
              "ticks": ""
             }
            },
            "type": "scatter3d"
           }
          ],
          "scattercarpet": [
           {
            "marker": {
             "colorbar": {
              "outlinewidth": 0,
              "ticks": ""
             }
            },
            "type": "scattercarpet"
           }
          ],
          "scattergeo": [
           {
            "marker": {
             "colorbar": {
              "outlinewidth": 0,
              "ticks": ""
             }
            },
            "type": "scattergeo"
           }
          ],
          "scattergl": [
           {
            "marker": {
             "colorbar": {
              "outlinewidth": 0,
              "ticks": ""
             }
            },
            "type": "scattergl"
           }
          ],
          "scattermapbox": [
           {
            "marker": {
             "colorbar": {
              "outlinewidth": 0,
              "ticks": ""
             }
            },
            "type": "scattermapbox"
           }
          ],
          "scatterpolar": [
           {
            "marker": {
             "colorbar": {
              "outlinewidth": 0,
              "ticks": ""
             }
            },
            "type": "scatterpolar"
           }
          ],
          "scatterpolargl": [
           {
            "marker": {
             "colorbar": {
              "outlinewidth": 0,
              "ticks": ""
             }
            },
            "type": "scatterpolargl"
           }
          ],
          "scatterternary": [
           {
            "marker": {
             "colorbar": {
              "outlinewidth": 0,
              "ticks": ""
             }
            },
            "type": "scatterternary"
           }
          ],
          "surface": [
           {
            "colorbar": {
             "outlinewidth": 0,
             "ticks": ""
            },
            "colorscale": [
             [
              0,
              "#0d0887"
             ],
             [
              0.1111111111111111,
              "#46039f"
             ],
             [
              0.2222222222222222,
              "#7201a8"
             ],
             [
              0.3333333333333333,
              "#9c179e"
             ],
             [
              0.4444444444444444,
              "#bd3786"
             ],
             [
              0.5555555555555556,
              "#d8576b"
             ],
             [
              0.6666666666666666,
              "#ed7953"
             ],
             [
              0.7777777777777778,
              "#fb9f3a"
             ],
             [
              0.8888888888888888,
              "#fdca26"
             ],
             [
              1,
              "#f0f921"
             ]
            ],
            "type": "surface"
           }
          ],
          "table": [
           {
            "cells": {
             "fill": {
              "color": "#EBF0F8"
             },
             "line": {
              "color": "white"
             }
            },
            "header": {
             "fill": {
              "color": "#C8D4E3"
             },
             "line": {
              "color": "white"
             }
            },
            "type": "table"
           }
          ]
         },
         "layout": {
          "annotationdefaults": {
           "arrowcolor": "#2a3f5f",
           "arrowhead": 0,
           "arrowwidth": 1
          },
          "coloraxis": {
           "colorbar": {
            "outlinewidth": 0,
            "ticks": ""
           }
          },
          "colorscale": {
           "diverging": [
            [
             0,
             "#8e0152"
            ],
            [
             0.1,
             "#c51b7d"
            ],
            [
             0.2,
             "#de77ae"
            ],
            [
             0.3,
             "#f1b6da"
            ],
            [
             0.4,
             "#fde0ef"
            ],
            [
             0.5,
             "#f7f7f7"
            ],
            [
             0.6,
             "#e6f5d0"
            ],
            [
             0.7,
             "#b8e186"
            ],
            [
             0.8,
             "#7fbc41"
            ],
            [
             0.9,
             "#4d9221"
            ],
            [
             1,
             "#276419"
            ]
           ],
           "sequential": [
            [
             0,
             "#0d0887"
            ],
            [
             0.1111111111111111,
             "#46039f"
            ],
            [
             0.2222222222222222,
             "#7201a8"
            ],
            [
             0.3333333333333333,
             "#9c179e"
            ],
            [
             0.4444444444444444,
             "#bd3786"
            ],
            [
             0.5555555555555556,
             "#d8576b"
            ],
            [
             0.6666666666666666,
             "#ed7953"
            ],
            [
             0.7777777777777778,
             "#fb9f3a"
            ],
            [
             0.8888888888888888,
             "#fdca26"
            ],
            [
             1,
             "#f0f921"
            ]
           ],
           "sequentialminus": [
            [
             0,
             "#0d0887"
            ],
            [
             0.1111111111111111,
             "#46039f"
            ],
            [
             0.2222222222222222,
             "#7201a8"
            ],
            [
             0.3333333333333333,
             "#9c179e"
            ],
            [
             0.4444444444444444,
             "#bd3786"
            ],
            [
             0.5555555555555556,
             "#d8576b"
            ],
            [
             0.6666666666666666,
             "#ed7953"
            ],
            [
             0.7777777777777778,
             "#fb9f3a"
            ],
            [
             0.8888888888888888,
             "#fdca26"
            ],
            [
             1,
             "#f0f921"
            ]
           ]
          },
          "colorway": [
           "#636efa",
           "#EF553B",
           "#00cc96",
           "#ab63fa",
           "#FFA15A",
           "#19d3f3",
           "#FF6692",
           "#B6E880",
           "#FF97FF",
           "#FECB52"
          ],
          "font": {
           "color": "#2a3f5f"
          },
          "geo": {
           "bgcolor": "white",
           "lakecolor": "white",
           "landcolor": "white",
           "showlakes": true,
           "showland": true,
           "subunitcolor": "#C8D4E3"
          },
          "hoverlabel": {
           "align": "left"
          },
          "hovermode": "closest",
          "mapbox": {
           "style": "light"
          },
          "paper_bgcolor": "white",
          "plot_bgcolor": "white",
          "polar": {
           "angularaxis": {
            "gridcolor": "#EBF0F8",
            "linecolor": "#EBF0F8",
            "ticks": ""
           },
           "bgcolor": "white",
           "radialaxis": {
            "gridcolor": "#EBF0F8",
            "linecolor": "#EBF0F8",
            "ticks": ""
           }
          },
          "scene": {
           "xaxis": {
            "backgroundcolor": "white",
            "gridcolor": "#DFE8F3",
            "gridwidth": 2,
            "linecolor": "#EBF0F8",
            "showbackground": true,
            "ticks": "",
            "zerolinecolor": "#EBF0F8"
           },
           "yaxis": {
            "backgroundcolor": "white",
            "gridcolor": "#DFE8F3",
            "gridwidth": 2,
            "linecolor": "#EBF0F8",
            "showbackground": true,
            "ticks": "",
            "zerolinecolor": "#EBF0F8"
           },
           "zaxis": {
            "backgroundcolor": "white",
            "gridcolor": "#DFE8F3",
            "gridwidth": 2,
            "linecolor": "#EBF0F8",
            "showbackground": true,
            "ticks": "",
            "zerolinecolor": "#EBF0F8"
           }
          },
          "shapedefaults": {
           "line": {
            "color": "#2a3f5f"
           }
          },
          "ternary": {
           "aaxis": {
            "gridcolor": "#DFE8F3",
            "linecolor": "#A2B1C6",
            "ticks": ""
           },
           "baxis": {
            "gridcolor": "#DFE8F3",
            "linecolor": "#A2B1C6",
            "ticks": ""
           },
           "bgcolor": "white",
           "caxis": {
            "gridcolor": "#DFE8F3",
            "linecolor": "#A2B1C6",
            "ticks": ""
           }
          },
          "title": {
           "x": 0.05
          },
          "xaxis": {
           "automargin": true,
           "gridcolor": "#EBF0F8",
           "linecolor": "#EBF0F8",
           "ticks": "",
           "title": {
            "standoff": 15
           },
           "zerolinecolor": "#EBF0F8",
           "zerolinewidth": 2
          },
          "yaxis": {
           "automargin": true,
           "gridcolor": "#EBF0F8",
           "linecolor": "#EBF0F8",
           "ticks": "",
           "title": {
            "standoff": 15
           },
           "zerolinecolor": "#EBF0F8",
           "zerolinewidth": 2
          }
         }
        },
        "title": {
         "text": "NHL Expected Performance"
        },
        "xaxis": {
         "anchor": "y",
         "domain": [
          0,
          1
         ],
         "showgrid": false,
         "title": {
          "text": "Expected Goals For - Expected Goals Against"
         },
         "zeroline": false
        },
        "yaxis": {
         "anchor": "x",
         "domain": [
          0,
          1
         ],
         "showgrid": false,
         "title": {
          "text": "Actual Goals For - Actual Goals Against"
         },
         "zeroline": false
        }
       }
      },
      "text/html": [
       "<div>\n",
       "        \n",
       "        \n",
       "            <div id=\"a7bc9e91-8cc9-4cf2-aec6-b254c69e0986\" class=\"plotly-graph-div\" style=\"height:525px; width:100%;\"></div>\n",
       "            <script type=\"text/javascript\">\n",
       "                require([\"plotly\"], function(Plotly) {\n",
       "                    window.PLOTLYENV=window.PLOTLYENV || {};\n",
       "                    \n",
       "                if (document.getElementById(\"a7bc9e91-8cc9-4cf2-aec6-b254c69e0986\")) {\n",
       "                    Plotly.newPlot(\n",
       "                        'a7bc9e91-8cc9-4cf2-aec6-b254c69e0986',\n",
       "                        [{\"hoverlabel\": {\"namelength\": 0}, \"hovertemplate\": \"Team=%{text}<br>xG+/-=%{x}<br>G+/-=%{y}\", \"legendgroup\": \"WAS\", \"marker\": {\"color\": \"#636efa\", \"symbol\": \"circle\"}, \"mode\": \"markers+text\", \"name\": \"WAS\", \"showlegend\": true, \"text\": [\"WAS\"], \"textposition\": \"top center\", \"type\": \"scatter\", \"x\": [17.38], \"xaxis\": \"x\", \"y\": [\"27\"], \"yaxis\": \"y\"}, {\"hoverlabel\": {\"namelength\": 0}, \"hovertemplate\": \"Team=%{text}<br>xG+/-=%{x}<br>G+/-=%{y}\", \"legendgroup\": \"WPG\", \"marker\": {\"color\": \"#EF553B\", \"symbol\": \"circle\"}, \"mode\": \"markers+text\", \"name\": \"WPG\", \"showlegend\": true, \"text\": [\"WPG\"], \"textposition\": \"top center\", \"type\": \"scatter\", \"x\": [-24.35], \"xaxis\": \"x\", \"y\": [\"3\"], \"yaxis\": \"y\"}, {\"hoverlabel\": {\"namelength\": 0}, \"hovertemplate\": \"Team=%{text}<br>xG+/-=%{x}<br>G+/-=%{y}\", \"legendgroup\": \"VGK\", \"marker\": {\"color\": \"#00cc96\", \"symbol\": \"circle\"}, \"mode\": \"markers+text\", \"name\": \"VGK\", \"showlegend\": true, \"text\": [\"VGK\"], \"textposition\": \"top center\", \"type\": \"scatter\", \"x\": [29.63], \"xaxis\": \"x\", \"y\": [\"17\"], \"yaxis\": \"y\"}, {\"hoverlabel\": {\"namelength\": 0}, \"hovertemplate\": \"Team=%{text}<br>xG+/-=%{x}<br>G+/-=%{y}\", \"legendgroup\": \"VAN\", \"marker\": {\"color\": \"#ab63fa\", \"symbol\": \"circle\"}, \"mode\": \"markers+text\", \"name\": \"VAN\", \"showlegend\": true, \"text\": [\"VAN\"], \"textposition\": \"top center\", \"type\": \"scatter\", \"x\": [-11.07], \"xaxis\": \"x\", \"y\": [\"12\"], \"yaxis\": \"y\"}, {\"hoverlabel\": {\"namelength\": 0}, \"hovertemplate\": \"Team=%{text}<br>xG+/-=%{x}<br>G+/-=%{y}\", \"legendgroup\": \"TOR\", \"marker\": {\"color\": \"#FFA15A\", \"symbol\": \"circle\"}, \"mode\": \"markers+text\", \"name\": \"TOR\", \"showlegend\": true, \"text\": [\"TOR\"], \"textposition\": \"top center\", \"type\": \"scatter\", \"x\": [15.57], \"xaxis\": \"x\", \"y\": [\"18\"], \"yaxis\": \"y\"}, {\"hoverlabel\": {\"namelength\": 0}, \"hovertemplate\": \"Team=%{text}<br>xG+/-=%{x}<br>G+/-=%{y}\", \"legendgroup\": \"TBL\", \"marker\": {\"color\": \"#19d3f3\", \"symbol\": \"circle\"}, \"mode\": \"markers+text\", \"name\": \"TBL\", \"showlegend\": true, \"text\": [\"TBL\"], \"textposition\": \"top center\", \"type\": \"scatter\", \"x\": [27.97], \"xaxis\": \"x\", \"y\": [\"50\"], \"yaxis\": \"y\"}, {\"hoverlabel\": {\"namelength\": 0}, \"hovertemplate\": \"Team=%{text}<br>xG+/-=%{x}<br>G+/-=%{y}\", \"legendgroup\": \"STL\", \"marker\": {\"color\": \"#FF6692\", \"symbol\": \"circle\"}, \"mode\": \"markers+text\", \"name\": \"STL\", \"showlegend\": true, \"text\": [\"STL\"], \"textposition\": \"top center\", \"type\": \"scatter\", \"x\": [-8.88], \"xaxis\": \"x\", \"y\": [\"30\"], \"yaxis\": \"y\"}, {\"hoverlabel\": {\"namelength\": 0}, \"hovertemplate\": \"Team=%{text}<br>xG+/-=%{x}<br>G+/-=%{y}\", \"legendgroup\": \"SJS\", \"marker\": {\"color\": \"#B6E880\", \"symbol\": \"circle\"}, \"mode\": \"markers+text\", \"name\": \"SJS\", \"showlegend\": true, \"text\": [\"SJS\"], \"textposition\": \"top center\", \"type\": \"scatter\", \"x\": [-22.89], \"xaxis\": \"x\", \"y\": [\"-41\"], \"yaxis\": \"y\"}, {\"hoverlabel\": {\"namelength\": 0}, \"hovertemplate\": \"Team=%{text}<br>xG+/-=%{x}<br>G+/-=%{y}\", \"legendgroup\": \"PIT\", \"marker\": {\"color\": \"#FF97FF\", \"symbol\": \"circle\"}, \"mode\": \"markers+text\", \"name\": \"PIT\", \"showlegend\": true, \"text\": [\"PIT\"], \"textposition\": \"top center\", \"type\": \"scatter\", \"x\": [18.12], \"xaxis\": \"x\", \"y\": [\"23\"], \"yaxis\": \"y\"}, {\"hoverlabel\": {\"namelength\": 0}, \"hovertemplate\": \"Team=%{text}<br>xG+/-=%{x}<br>G+/-=%{y}\", \"legendgroup\": \"PHI\", \"marker\": {\"color\": \"#FECB52\", \"symbol\": \"circle\"}, \"mode\": \"markers+text\", \"name\": \"PHI\", \"showlegend\": true, \"text\": [\"PHI\"], \"textposition\": \"top center\", \"type\": \"scatter\", \"x\": [6.55], \"xaxis\": \"x\", \"y\": [\"30\"], \"yaxis\": \"y\"}, {\"hoverlabel\": {\"namelength\": 0}, \"hovertemplate\": \"Team=%{text}<br>xG+/-=%{x}<br>G+/-=%{y}\", \"legendgroup\": \"OTT\", \"marker\": {\"color\": \"#636efa\", \"symbol\": \"circle\"}, \"mode\": \"markers+text\", \"name\": \"OTT\", \"showlegend\": true, \"text\": [\"OTT\"], \"textposition\": \"top center\", \"type\": \"scatter\", \"x\": [-0.56], \"xaxis\": \"x\", \"y\": [\"-45\"], \"yaxis\": \"y\"}, {\"hoverlabel\": {\"namelength\": 0}, \"hovertemplate\": \"Team=%{text}<br>xG+/-=%{x}<br>G+/-=%{y}\", \"legendgroup\": \"NYR\", \"marker\": {\"color\": \"#EF553B\", \"symbol\": \"circle\"}, \"mode\": \"markers+text\", \"name\": \"NYR\", \"showlegend\": true, \"text\": [\"NYR\"], \"textposition\": \"top center\", \"type\": \"scatter\", \"x\": [-33.57], \"xaxis\": \"x\", \"y\": [\"16\"], \"yaxis\": \"y\"}, {\"hoverlabel\": {\"namelength\": 0}, \"hovertemplate\": \"Team=%{text}<br>xG+/-=%{x}<br>G+/-=%{y}\", \"legendgroup\": \"NYI\", \"marker\": {\"color\": \"#00cc96\", \"symbol\": \"circle\"}, \"mode\": \"markers+text\", \"name\": \"NYI\", \"showlegend\": true, \"text\": [\"NYI\"], \"textposition\": \"top center\", \"type\": \"scatter\", \"x\": [4.27], \"xaxis\": \"x\", \"y\": [0], \"yaxis\": \"y\"}, {\"hoverlabel\": {\"namelength\": 0}, \"hovertemplate\": \"Team=%{text}<br>xG+/-=%{x}<br>G+/-=%{y}\", \"legendgroup\": \"NSH\", \"marker\": {\"color\": \"#ab63fa\", \"symbol\": \"circle\"}, \"mode\": \"markers+text\", \"name\": \"NSH\", \"showlegend\": true, \"text\": [\"NSH\"], \"textposition\": \"top center\", \"type\": \"scatter\", \"x\": [5.97], \"xaxis\": \"x\", \"y\": [0], \"yaxis\": \"y\"}, {\"hoverlabel\": {\"namelength\": 0}, \"hovertemplate\": \"Team=%{text}<br>xG+/-=%{x}<br>G+/-=%{y}\", \"legendgroup\": \"NJD\", \"marker\": {\"color\": \"#FFA15A\", \"symbol\": \"circle\"}, \"mode\": \"markers+text\", \"name\": \"NJD\", \"showlegend\": true, \"text\": [\"NJD\"], \"textposition\": \"top center\", \"type\": \"scatter\", \"x\": [-8.76], \"xaxis\": \"x\", \"y\": [\"-40\"], \"yaxis\": \"y\"}, {\"hoverlabel\": {\"namelength\": 0}, \"hovertemplate\": \"Team=%{text}<br>xG+/-=%{x}<br>G+/-=%{y}\", \"legendgroup\": \"MON\", \"marker\": {\"color\": \"#19d3f3\", \"symbol\": \"circle\"}, \"mode\": \"markers+text\", \"name\": \"MON\", \"showlegend\": true, \"text\": [\"MON\"], \"textposition\": \"top center\", \"type\": \"scatter\", \"x\": [20.99], \"xaxis\": \"x\", \"y\": [\"-6\"], \"yaxis\": \"y\"}, {\"hoverlabel\": {\"namelength\": 0}, \"hovertemplate\": \"Team=%{text}<br>xG+/-=%{x}<br>G+/-=%{y}\", \"legendgroup\": \"MIN\", \"marker\": {\"color\": \"#FF6692\", \"symbol\": \"circle\"}, \"mode\": \"markers+text\", \"name\": \"MIN\", \"showlegend\": true, \"text\": [\"MIN\"], \"textposition\": \"top center\", \"type\": \"scatter\", \"x\": [13.89], \"xaxis\": \"x\", \"y\": [\"1\"], \"yaxis\": \"y\"}, {\"hoverlabel\": {\"namelength\": 0}, \"hovertemplate\": \"Team=%{text}<br>xG+/-=%{x}<br>G+/-=%{y}\", \"legendgroup\": \"LAK\", \"marker\": {\"color\": \"#B6E880\", \"symbol\": \"circle\"}, \"mode\": \"markers+text\", \"name\": \"LAK\", \"showlegend\": true, \"text\": [\"LAK\"], \"textposition\": \"top center\", \"type\": \"scatter\", \"x\": [9.9], \"xaxis\": \"x\", \"y\": [\"-42\"], \"yaxis\": \"y\"}, {\"hoverlabel\": {\"namelength\": 0}, \"hovertemplate\": \"Team=%{text}<br>xG+/-=%{x}<br>G+/-=%{y}\", \"legendgroup\": \"FLA\", \"marker\": {\"color\": \"#FF97FF\", \"symbol\": \"circle\"}, \"mode\": \"markers+text\", \"name\": \"FLA\", \"showlegend\": true, \"text\": [\"FLA\"], \"textposition\": \"top center\", \"type\": \"scatter\", \"x\": [-17.09], \"xaxis\": \"x\", \"y\": [\"4\"], \"yaxis\": \"y\"}, {\"hoverlabel\": {\"namelength\": 0}, \"hovertemplate\": \"Team=%{text}<br>xG+/-=%{x}<br>G+/-=%{y}\", \"legendgroup\": \"EDM\", \"marker\": {\"color\": \"#FECB52\", \"symbol\": \"circle\"}, \"mode\": \"markers+text\", \"name\": \"EDM\", \"showlegend\": true, \"text\": [\"EDM\"], \"textposition\": \"top center\", \"type\": \"scatter\", \"x\": [2.01], \"xaxis\": \"x\", \"y\": [\"3\"], \"yaxis\": \"y\"}, {\"hoverlabel\": {\"namelength\": 0}, \"hovertemplate\": \"Team=%{text}<br>xG+/-=%{x}<br>G+/-=%{y}\", \"legendgroup\": \"DET\", \"marker\": {\"color\": \"#636efa\", \"symbol\": \"circle\"}, \"mode\": \"markers+text\", \"name\": \"DET\", \"showlegend\": true, \"text\": [\"DET\"], \"textposition\": \"top center\", \"type\": \"scatter\", \"x\": [-62.96], \"xaxis\": \"x\", \"y\": [\"-120\"], \"yaxis\": \"y\"}, {\"hoverlabel\": {\"namelength\": 0}, \"hovertemplate\": \"Team=%{text}<br>xG+/-=%{x}<br>G+/-=%{y}\", \"legendgroup\": \"DAL\", \"marker\": {\"color\": \"#EF553B\", \"symbol\": \"circle\"}, \"mode\": \"markers+text\", \"name\": \"DAL\", \"showlegend\": true, \"text\": [\"DAL\"], \"textposition\": \"top center\", \"type\": \"scatter\", \"x\": [6.59], \"xaxis\": \"x\", \"y\": [\"9\"], \"yaxis\": \"y\"}, {\"hoverlabel\": {\"namelength\": 0}, \"hovertemplate\": \"Team=%{text}<br>xG+/-=%{x}<br>G+/-=%{y}\", \"legendgroup\": \"COL\", \"marker\": {\"color\": \"#00cc96\", \"symbol\": \"circle\"}, \"mode\": \"markers+text\", \"name\": \"COL\", \"showlegend\": true, \"text\": [\"COL\"], \"textposition\": \"top center\", \"type\": \"scatter\", \"x\": [13.29], \"xaxis\": \"x\", \"y\": [\"49\"], \"yaxis\": \"y\"}, {\"hoverlabel\": {\"namelength\": 0}, \"hovertemplate\": \"Team=%{text}<br>xG+/-=%{x}<br>G+/-=%{y}\", \"legendgroup\": \"CHI\", \"marker\": {\"color\": \"#ab63fa\", \"symbol\": \"circle\"}, \"mode\": \"markers+text\", \"name\": \"CHI\", \"showlegend\": true, \"text\": [\"CHI\"], \"textposition\": \"top center\", \"type\": \"scatter\", \"x\": [-19.08], \"xaxis\": \"x\", \"y\": [\"-13\"], \"yaxis\": \"y\"}, {\"hoverlabel\": {\"namelength\": 0}, \"hovertemplate\": \"Team=%{text}<br>xG+/-=%{x}<br>G+/-=%{y}\", \"legendgroup\": \"CAL\", \"marker\": {\"color\": \"#FFA15A\", \"symbol\": \"circle\"}, \"mode\": \"markers+text\", \"name\": \"CAL\", \"showlegend\": true, \"text\": [\"CAL\"], \"textposition\": \"top center\", \"type\": \"scatter\", \"x\": [8.72], \"xaxis\": \"x\", \"y\": [\"-15\"], \"yaxis\": \"y\"}, {\"hoverlabel\": {\"namelength\": 0}, \"hovertemplate\": \"Team=%{text}<br>xG+/-=%{x}<br>G+/-=%{y}\", \"legendgroup\": \"CBJ\", \"marker\": {\"color\": \"#19d3f3\", \"symbol\": \"circle\"}, \"mode\": \"markers+text\", \"name\": \"CBJ\", \"showlegend\": true, \"text\": [\"CBJ\"], \"textposition\": \"top center\", \"type\": \"scatter\", \"x\": [7.67], \"xaxis\": \"x\", \"y\": [\"-4\"], \"yaxis\": \"y\"}, {\"hoverlabel\": {\"namelength\": 0}, \"hovertemplate\": \"Team=%{text}<br>xG+/-=%{x}<br>G+/-=%{y}\", \"legendgroup\": \"CAR\", \"marker\": {\"color\": \"#FF6692\", \"symbol\": \"circle\"}, \"mode\": \"markers+text\", \"name\": \"CAR\", \"showlegend\": true, \"text\": [\"CAR\"], \"textposition\": \"top center\", \"type\": \"scatter\", \"x\": [25.29], \"xaxis\": \"x\", \"y\": [\"19\"], \"yaxis\": \"y\"}, {\"hoverlabel\": {\"namelength\": 0}, \"hovertemplate\": \"Team=%{text}<br>xG+/-=%{x}<br>G+/-=%{y}\", \"legendgroup\": \"BUF\", \"marker\": {\"color\": \"#B6E880\", \"symbol\": \"circle\"}, \"mode\": \"markers+text\", \"name\": \"BUF\", \"showlegend\": true, \"text\": [\"BUF\"], \"textposition\": \"top center\", \"type\": \"scatter\", \"x\": [-21.05], \"xaxis\": \"x\", \"y\": [\"-15\"], \"yaxis\": \"y\"}, {\"hoverlabel\": {\"namelength\": 0}, \"hovertemplate\": \"Team=%{text}<br>xG+/-=%{x}<br>G+/-=%{y}\", \"legendgroup\": \"BOS\", \"marker\": {\"color\": \"#FF97FF\", \"symbol\": \"circle\"}, \"mode\": \"markers+text\", \"name\": \"BOS\", \"showlegend\": true, \"text\": [\"BOS\"], \"textposition\": \"top center\", \"type\": \"scatter\", \"x\": [17.53], \"xaxis\": \"x\", \"y\": [\"62\"], \"yaxis\": \"y\"}, {\"hoverlabel\": {\"namelength\": 0}, \"hovertemplate\": \"Team=%{text}<br>xG+/-=%{x}<br>G+/-=%{y}\", \"legendgroup\": \"ARI\", \"marker\": {\"color\": \"#FECB52\", \"symbol\": \"circle\"}, \"mode\": \"markers+text\", \"name\": \"ARI\", \"showlegend\": true, \"text\": [\"ARI\"], \"textposition\": \"top center\", \"type\": \"scatter\", \"x\": [-4.69], \"xaxis\": \"x\", \"y\": [\"6\"], \"yaxis\": \"y\"}, {\"hoverlabel\": {\"namelength\": 0}, \"hovertemplate\": \"Team=%{text}<br>xG+/-=%{x}<br>G+/-=%{y}\", \"legendgroup\": \"ANA\", \"marker\": {\"color\": \"#636efa\", \"symbol\": \"circle\"}, \"mode\": \"markers+text\", \"name\": \"ANA\", \"showlegend\": true, \"text\": [\"ANA\"], \"textposition\": \"top center\", \"type\": \"scatter\", \"x\": [-16.38], \"xaxis\": \"x\", \"y\": [\"-38\"], \"yaxis\": \"y\"}, {\"mode\": \"text\", \"text\": [\"Better than Expected\", \"Bad\", \"Good\", \"Worse than Expected\"], \"textfont\": {\"color\": \"grey\"}, \"type\": \"scatter\", \"x\": [-51.96, -60.96, 29.63, 18.63], \"y\": [62.0, -110.0, 59.0, -120.0]}],\n",
       "                        {\"annotations\": [{\"font\": {\"color\": \"grey\", \"size\": 8}, \"showarrow\": false, \"text\": \"Chart by: Aram Kaplanian\", \"x\": 1, \"xanchor\": \"right\", \"xref\": \"paper\", \"xshift\": 15, \"y\": -0.1, \"yanchor\": \"auto\", \"yref\": \"paper\", \"yshift\": 7}, {\"font\": {\"color\": \"grey\", \"size\": 8}, \"showarrow\": false, \"text\": \"Source: Corsica Hockey\", \"x\": 1, \"xanchor\": \"right\", \"xref\": \"paper\", \"xshift\": 15, \"y\": -0.1, \"yanchor\": \"auto\", \"yref\": \"paper\", \"yshift\": 0}], \"legend\": {\"title\": {\"text\": \"Team\"}, \"tracegroupgap\": 0}, \"margin\": {\"t\": 60}, \"shapes\": [{\"layer\": \"below\", \"line\": {\"color\": \"red\", \"dash\": \"dashdot\", \"width\": 2}, \"opacity\": 0.4, \"type\": \"line\", \"x0\": -16.665, \"x1\": -16.665, \"y0\": -120.0, \"y1\": 62.0}, {\"layer\": \"below\", \"line\": {\"color\": \"red\", \"dash\": \"dashdot\", \"width\": 2}, \"opacity\": 0.4, \"type\": \"line\", \"x0\": -62.96, \"x1\": 29.63, \"y0\": -29.0, \"y1\": -29.0}], \"showlegend\": false, \"template\": {\"data\": {\"bar\": [{\"error_x\": {\"color\": \"#2a3f5f\"}, \"error_y\": {\"color\": \"#2a3f5f\"}, \"marker\": {\"line\": {\"color\": \"white\", \"width\": 0.5}}, \"type\": \"bar\"}], \"barpolar\": [{\"marker\": {\"line\": {\"color\": \"white\", \"width\": 0.5}}, \"type\": \"barpolar\"}], \"carpet\": [{\"aaxis\": {\"endlinecolor\": \"#2a3f5f\", \"gridcolor\": \"#C8D4E3\", \"linecolor\": \"#C8D4E3\", \"minorgridcolor\": \"#C8D4E3\", \"startlinecolor\": \"#2a3f5f\"}, \"baxis\": {\"endlinecolor\": \"#2a3f5f\", \"gridcolor\": \"#C8D4E3\", \"linecolor\": \"#C8D4E3\", \"minorgridcolor\": \"#C8D4E3\", \"startlinecolor\": \"#2a3f5f\"}, \"type\": \"carpet\"}], \"choropleth\": [{\"colorbar\": {\"outlinewidth\": 0, \"ticks\": \"\"}, \"type\": \"choropleth\"}], \"contour\": [{\"colorbar\": {\"outlinewidth\": 0, \"ticks\": \"\"}, \"colorscale\": [[0.0, \"#0d0887\"], [0.1111111111111111, \"#46039f\"], [0.2222222222222222, \"#7201a8\"], [0.3333333333333333, \"#9c179e\"], [0.4444444444444444, \"#bd3786\"], [0.5555555555555556, \"#d8576b\"], [0.6666666666666666, \"#ed7953\"], [0.7777777777777778, \"#fb9f3a\"], [0.8888888888888888, \"#fdca26\"], [1.0, \"#f0f921\"]], \"type\": \"contour\"}], \"contourcarpet\": [{\"colorbar\": {\"outlinewidth\": 0, \"ticks\": \"\"}, \"type\": \"contourcarpet\"}], \"heatmap\": [{\"colorbar\": {\"outlinewidth\": 0, \"ticks\": \"\"}, \"colorscale\": [[0.0, \"#0d0887\"], [0.1111111111111111, \"#46039f\"], [0.2222222222222222, \"#7201a8\"], [0.3333333333333333, \"#9c179e\"], [0.4444444444444444, \"#bd3786\"], [0.5555555555555556, \"#d8576b\"], [0.6666666666666666, \"#ed7953\"], [0.7777777777777778, \"#fb9f3a\"], [0.8888888888888888, \"#fdca26\"], [1.0, \"#f0f921\"]], \"type\": \"heatmap\"}], \"heatmapgl\": [{\"colorbar\": {\"outlinewidth\": 0, \"ticks\": \"\"}, \"colorscale\": [[0.0, \"#0d0887\"], [0.1111111111111111, \"#46039f\"], [0.2222222222222222, \"#7201a8\"], [0.3333333333333333, \"#9c179e\"], [0.4444444444444444, \"#bd3786\"], [0.5555555555555556, \"#d8576b\"], [0.6666666666666666, \"#ed7953\"], [0.7777777777777778, \"#fb9f3a\"], [0.8888888888888888, \"#fdca26\"], [1.0, \"#f0f921\"]], \"type\": \"heatmapgl\"}], \"histogram\": [{\"marker\": {\"colorbar\": {\"outlinewidth\": 0, \"ticks\": \"\"}}, \"type\": \"histogram\"}], \"histogram2d\": [{\"colorbar\": {\"outlinewidth\": 0, \"ticks\": \"\"}, \"colorscale\": [[0.0, \"#0d0887\"], [0.1111111111111111, \"#46039f\"], [0.2222222222222222, \"#7201a8\"], [0.3333333333333333, \"#9c179e\"], [0.4444444444444444, \"#bd3786\"], [0.5555555555555556, \"#d8576b\"], [0.6666666666666666, \"#ed7953\"], [0.7777777777777778, \"#fb9f3a\"], [0.8888888888888888, \"#fdca26\"], [1.0, \"#f0f921\"]], \"type\": \"histogram2d\"}], \"histogram2dcontour\": [{\"colorbar\": {\"outlinewidth\": 0, \"ticks\": \"\"}, \"colorscale\": [[0.0, \"#0d0887\"], [0.1111111111111111, \"#46039f\"], [0.2222222222222222, \"#7201a8\"], [0.3333333333333333, \"#9c179e\"], [0.4444444444444444, \"#bd3786\"], [0.5555555555555556, \"#d8576b\"], [0.6666666666666666, \"#ed7953\"], [0.7777777777777778, \"#fb9f3a\"], [0.8888888888888888, \"#fdca26\"], [1.0, \"#f0f921\"]], \"type\": \"histogram2dcontour\"}], \"mesh3d\": [{\"colorbar\": {\"outlinewidth\": 0, \"ticks\": \"\"}, \"type\": \"mesh3d\"}], \"parcoords\": [{\"line\": {\"colorbar\": {\"outlinewidth\": 0, \"ticks\": \"\"}}, \"type\": \"parcoords\"}], \"pie\": [{\"automargin\": true, \"type\": \"pie\"}], \"scatter\": [{\"marker\": {\"colorbar\": {\"outlinewidth\": 0, \"ticks\": \"\"}}, \"type\": \"scatter\"}], \"scatter3d\": [{\"line\": {\"colorbar\": {\"outlinewidth\": 0, \"ticks\": \"\"}}, \"marker\": {\"colorbar\": {\"outlinewidth\": 0, \"ticks\": \"\"}}, \"type\": \"scatter3d\"}], \"scattercarpet\": [{\"marker\": {\"colorbar\": {\"outlinewidth\": 0, \"ticks\": \"\"}}, \"type\": \"scattercarpet\"}], \"scattergeo\": [{\"marker\": {\"colorbar\": {\"outlinewidth\": 0, \"ticks\": \"\"}}, \"type\": \"scattergeo\"}], \"scattergl\": [{\"marker\": {\"colorbar\": {\"outlinewidth\": 0, \"ticks\": \"\"}}, \"type\": \"scattergl\"}], \"scattermapbox\": [{\"marker\": {\"colorbar\": {\"outlinewidth\": 0, \"ticks\": \"\"}}, \"type\": \"scattermapbox\"}], \"scatterpolar\": [{\"marker\": {\"colorbar\": {\"outlinewidth\": 0, \"ticks\": \"\"}}, \"type\": \"scatterpolar\"}], \"scatterpolargl\": [{\"marker\": {\"colorbar\": {\"outlinewidth\": 0, \"ticks\": \"\"}}, \"type\": \"scatterpolargl\"}], \"scatterternary\": [{\"marker\": {\"colorbar\": {\"outlinewidth\": 0, \"ticks\": \"\"}}, \"type\": \"scatterternary\"}], \"surface\": [{\"colorbar\": {\"outlinewidth\": 0, \"ticks\": \"\"}, \"colorscale\": [[0.0, \"#0d0887\"], [0.1111111111111111, \"#46039f\"], [0.2222222222222222, \"#7201a8\"], [0.3333333333333333, \"#9c179e\"], [0.4444444444444444, \"#bd3786\"], [0.5555555555555556, \"#d8576b\"], [0.6666666666666666, \"#ed7953\"], [0.7777777777777778, \"#fb9f3a\"], [0.8888888888888888, \"#fdca26\"], [1.0, \"#f0f921\"]], \"type\": \"surface\"}], \"table\": [{\"cells\": {\"fill\": {\"color\": \"#EBF0F8\"}, \"line\": {\"color\": \"white\"}}, \"header\": {\"fill\": {\"color\": \"#C8D4E3\"}, \"line\": {\"color\": \"white\"}}, \"type\": \"table\"}]}, \"layout\": {\"annotationdefaults\": {\"arrowcolor\": \"#2a3f5f\", \"arrowhead\": 0, \"arrowwidth\": 1}, \"coloraxis\": {\"colorbar\": {\"outlinewidth\": 0, \"ticks\": \"\"}}, \"colorscale\": {\"diverging\": [[0, \"#8e0152\"], [0.1, \"#c51b7d\"], [0.2, \"#de77ae\"], [0.3, \"#f1b6da\"], [0.4, \"#fde0ef\"], [0.5, \"#f7f7f7\"], [0.6, \"#e6f5d0\"], [0.7, \"#b8e186\"], [0.8, \"#7fbc41\"], [0.9, \"#4d9221\"], [1, \"#276419\"]], \"sequential\": [[0.0, \"#0d0887\"], [0.1111111111111111, \"#46039f\"], [0.2222222222222222, \"#7201a8\"], [0.3333333333333333, \"#9c179e\"], [0.4444444444444444, \"#bd3786\"], [0.5555555555555556, \"#d8576b\"], [0.6666666666666666, \"#ed7953\"], [0.7777777777777778, \"#fb9f3a\"], [0.8888888888888888, \"#fdca26\"], [1.0, \"#f0f921\"]], \"sequentialminus\": [[0.0, \"#0d0887\"], [0.1111111111111111, \"#46039f\"], [0.2222222222222222, \"#7201a8\"], [0.3333333333333333, \"#9c179e\"], [0.4444444444444444, \"#bd3786\"], [0.5555555555555556, \"#d8576b\"], [0.6666666666666666, \"#ed7953\"], [0.7777777777777778, \"#fb9f3a\"], [0.8888888888888888, \"#fdca26\"], [1.0, \"#f0f921\"]]}, \"colorway\": [\"#636efa\", \"#EF553B\", \"#00cc96\", \"#ab63fa\", \"#FFA15A\", \"#19d3f3\", \"#FF6692\", \"#B6E880\", \"#FF97FF\", \"#FECB52\"], \"font\": {\"color\": \"#2a3f5f\"}, \"geo\": {\"bgcolor\": \"white\", \"lakecolor\": \"white\", \"landcolor\": \"white\", \"showlakes\": true, \"showland\": true, \"subunitcolor\": \"#C8D4E3\"}, \"hoverlabel\": {\"align\": \"left\"}, \"hovermode\": \"closest\", \"mapbox\": {\"style\": \"light\"}, \"paper_bgcolor\": \"white\", \"plot_bgcolor\": \"white\", \"polar\": {\"angularaxis\": {\"gridcolor\": \"#EBF0F8\", \"linecolor\": \"#EBF0F8\", \"ticks\": \"\"}, \"bgcolor\": \"white\", \"radialaxis\": {\"gridcolor\": \"#EBF0F8\", \"linecolor\": \"#EBF0F8\", \"ticks\": \"\"}}, \"scene\": {\"xaxis\": {\"backgroundcolor\": \"white\", \"gridcolor\": \"#DFE8F3\", \"gridwidth\": 2, \"linecolor\": \"#EBF0F8\", \"showbackground\": true, \"ticks\": \"\", \"zerolinecolor\": \"#EBF0F8\"}, \"yaxis\": {\"backgroundcolor\": \"white\", \"gridcolor\": \"#DFE8F3\", \"gridwidth\": 2, \"linecolor\": \"#EBF0F8\", \"showbackground\": true, \"ticks\": \"\", \"zerolinecolor\": \"#EBF0F8\"}, \"zaxis\": {\"backgroundcolor\": \"white\", \"gridcolor\": \"#DFE8F3\", \"gridwidth\": 2, \"linecolor\": \"#EBF0F8\", \"showbackground\": true, \"ticks\": \"\", \"zerolinecolor\": \"#EBF0F8\"}}, \"shapedefaults\": {\"line\": {\"color\": \"#2a3f5f\"}}, \"ternary\": {\"aaxis\": {\"gridcolor\": \"#DFE8F3\", \"linecolor\": \"#A2B1C6\", \"ticks\": \"\"}, \"baxis\": {\"gridcolor\": \"#DFE8F3\", \"linecolor\": \"#A2B1C6\", \"ticks\": \"\"}, \"bgcolor\": \"white\", \"caxis\": {\"gridcolor\": \"#DFE8F3\", \"linecolor\": \"#A2B1C6\", \"ticks\": \"\"}}, \"title\": {\"x\": 0.05}, \"xaxis\": {\"automargin\": true, \"gridcolor\": \"#EBF0F8\", \"linecolor\": \"#EBF0F8\", \"ticks\": \"\", \"title\": {\"standoff\": 15}, \"zerolinecolor\": \"#EBF0F8\", \"zerolinewidth\": 2}, \"yaxis\": {\"automargin\": true, \"gridcolor\": \"#EBF0F8\", \"linecolor\": \"#EBF0F8\", \"ticks\": \"\", \"title\": {\"standoff\": 15}, \"zerolinecolor\": \"#EBF0F8\", \"zerolinewidth\": 2}}}, \"title\": {\"text\": \"NHL Expected Performance\"}, \"xaxis\": {\"anchor\": \"y\", \"domain\": [0.0, 1.0], \"showgrid\": false, \"title\": {\"text\": \"Expected Goals For - Expected Goals Against\"}, \"zeroline\": false}, \"yaxis\": {\"anchor\": \"x\", \"domain\": [0.0, 1.0], \"showgrid\": false, \"title\": {\"text\": \"Actual Goals For - Actual Goals Against\"}, \"zeroline\": false}},\n",
       "                        {\"responsive\": true}\n",
       "                    ).then(function(){\n",
       "                            \n",
       "var gd = document.getElementById('a7bc9e91-8cc9-4cf2-aec6-b254c69e0986');\n",
       "var x = new MutationObserver(function (mutations, observer) {{\n",
       "        var display = window.getComputedStyle(gd).display;\n",
       "        if (!display || display === 'none') {{\n",
       "            console.log([gd, 'removed!']);\n",
       "            Plotly.purge(gd);\n",
       "            observer.disconnect();\n",
       "        }}\n",
       "}});\n",
       "\n",
       "// Listen for the removal of the full notebook cells\n",
       "var notebookContainer = gd.closest('#notebook-container');\n",
       "if (notebookContainer) {{\n",
       "    x.observe(notebookContainer, {childList: true});\n",
       "}}\n",
       "\n",
       "// Listen for the clearing of the current output cell\n",
       "var outputEl = gd.closest('.output');\n",
       "if (outputEl) {{\n",
       "    x.observe(outputEl, {childList: true});\n",
       "}}\n",
       "\n",
       "                        })\n",
       "                };\n",
       "                });\n",
       "            </script>\n",
       "        </div>"
      ]
     },
     "metadata": {},
     "output_type": "display_data"
    }
   ],
   "source": [
    "fig = px.scatter(df, x='xG+/-', y='G+/-', text=\"Team\", color=\"Team\",\n",
    "                 template='plotly_white')\n",
    "fig.update_traces(textposition='top center')\n",
    "\n",
    "fig.add_shape(\n",
    "        # Line Vertical\n",
    "        dict(\n",
    "            type=\"line\",\n",
    "            x0=xmid,\n",
    "            y0=low,\n",
    "            x1=xmid,\n",
    "            y1=high,\n",
    "            layer='below',\n",
    "            opacity=0.4,\n",
    "            line=dict(\n",
    "                color=\"red\",\n",
    "                width=2,\n",
    "                dash=\"dashdot\"\n",
    "            )\n",
    "))\n",
    "fig.add_shape(\n",
    "        # Line Horizontal\n",
    "            type=\"line\",\n",
    "            x0=xlow,\n",
    "            y0=mid,\n",
    "            x1=xhigh,\n",
    "            y1=mid,\n",
    "            layer='below',\n",
    "            opacity=0.4,\n",
    "            line=dict(\n",
    "                color=\"red\",\n",
    "                width=2,\n",
    "                dash=\"dashdot\"\n",
    "            ),\n",
    "    )\n",
    "\n",
    "\n",
    "# for i in range(0, ary_len):\n",
    "#     fig.add_shape(\n",
    "#                  dict(\n",
    "#                  type=\"line\",\n",
    "#                  x0=exp_grp[i],\n",
    "#                  y0=0,\n",
    "#                  x1=0,\n",
    "#                  y1=goal_grp[i],\n",
    "#                  layer='below',\n",
    "#                  opacity=0.35,\n",
    "#                  line=dict(\n",
    "#                      color='grey',\n",
    "#                      width=2,\n",
    "#                  )))\n",
    "\n",
    "\n",
    "\n",
    "fig.add_trace(go.Scatter(\n",
    "    x=[xlow+11, xlow+2, xhigh, xhigh-11],\n",
    "    y=[high, low+10, high-3, low],\n",
    "    mode=\"text\",\n",
    "    text=[\"Better than Expected\",\n",
    "          \"Bad\",\n",
    "          \"Good\",\n",
    "          \"Worse than Expected\"],\n",
    "#     textposition=\"bottom center\",\n",
    "    textfont=dict(\n",
    "        color=\"grey\"\n",
    "    )\n",
    "))\n",
    "\n",
    "fig.update_layout(showlegend=False)\n",
    "fig.update_layout(title_text=\"NHL Expected Performance\",\n",
    "                  xaxis_title_text=\"Expected Goals For - Expected Goals Against\",\n",
    "                  yaxis_title_text='Actual Goals For - Actual Goals Against',\n",
    "                  xaxis_showgrid=False, yaxis_showgrid=False)\n",
    "fig.update_xaxes(zeroline=False)\n",
    "fig.update_yaxes(zeroline=False)\n",
    "\n",
    "fig.update_layout(annotations=[\n",
    "       go.layout.Annotation(\n",
    "            showarrow=False,\n",
    "            text='Chart by: Aram Kaplanian',\n",
    "            xanchor='right',\n",
    "            x=1,\n",
    "            xref='paper',\n",
    "            xshift=15,\n",
    "            yanchor='auto',\n",
    "            y=-0.1,\n",
    "            yshift=7,\n",
    "            yref='paper',\n",
    "            font=dict(\n",
    "                size=8,\n",
    "                color='grey'\n",
    "            )\n",
    "        ),go.layout.Annotation(\n",
    "            showarrow=False,\n",
    "            text='Source: Corsica Hockey',\n",
    "            xanchor='right',\n",
    "            x=1,\n",
    "            xref='paper',\n",
    "            xshift=15,\n",
    "            yanchor='auto',\n",
    "            y=-0.1,\n",
    "            yshift=0,\n",
    "            yref='paper',\n",
    "            font=dict(\n",
    "                size=8,\n",
    "                color='grey'\n",
    "            ))])\n",
    "\n",
    "fig.show()\n",
    "fig.write_image(\"dots.png\")"
   ]
  },
  {
   "cell_type": "code",
   "execution_count": 20,
   "metadata": {},
   "outputs": [],
   "source": [
    "# df = pd.read_csv('team_data.csv')\n",
    "df['corsi_z'] = stats.zscore(df['C+/-'])"
   ]
  },
  {
   "cell_type": "code",
   "execution_count": 21,
   "metadata": {},
   "outputs": [
    {
     "data": {
      "application/vnd.plotly.v1+json": {
       "config": {
        "plotlyServerURL": "https://plot.ly"
       },
       "data": [
        {
         "alignmentgroup": "True",
         "hoverlabel": {
          "namelength": 0
         },
         "hovertemplate": "Team=%{text}<br>corsi_z=%{x}",
         "legendgroup": "WAS",
         "marker": {
          "color": "#636efa"
         },
         "name": "WAS",
         "offsetgroup": "WAS",
         "orientation": "h",
         "showlegend": true,
         "text": [
          "WAS"
         ],
         "textposition": "outside",
         "type": "bar",
         "x": [
          0.8579799169106865
         ],
         "xaxis": "x",
         "y": [
          "WAS"
         ],
         "yaxis": "y"
        },
        {
         "alignmentgroup": "True",
         "hoverlabel": {
          "namelength": 0
         },
         "hovertemplate": "Team=%{text}<br>corsi_z=%{x}",
         "legendgroup": "WPG",
         "marker": {
          "color": "#EF553B"
         },
         "name": "WPG",
         "offsetgroup": "WPG",
         "orientation": "h",
         "showlegend": true,
         "text": [
          "WPG"
         ],
         "textposition": "outside",
         "type": "bar",
         "x": [
          -0.17093852750710997
         ],
         "xaxis": "x",
         "y": [
          "WPG"
         ],
         "yaxis": "y"
        },
        {
         "alignmentgroup": "True",
         "hoverlabel": {
          "namelength": 0
         },
         "hovertemplate": "Team=%{text}<br>corsi_z=%{x}",
         "legendgroup": "VGK",
         "marker": {
          "color": "#00cc96"
         },
         "name": "VGK",
         "offsetgroup": "VGK",
         "orientation": "h",
         "showlegend": true,
         "text": [
          "VGK"
         ],
         "textposition": "outside",
         "type": "bar",
         "x": [
          1.6535015256937753
         ],
         "xaxis": "x",
         "y": [
          "VGK"
         ],
         "yaxis": "y"
        },
        {
         "alignmentgroup": "True",
         "hoverlabel": {
          "namelength": 0
         },
         "hovertemplate": "Team=%{text}<br>corsi_z=%{x}",
         "legendgroup": "VAN",
         "marker": {
          "color": "#ab63fa"
         },
         "name": "VAN",
         "offsetgroup": "VAN",
         "orientation": "h",
         "showlegend": true,
         "text": [
          "VAN"
         ],
         "textposition": "outside",
         "type": "bar",
         "x": [
          -0.6410194781516624
         ],
         "xaxis": "x",
         "y": [
          "VAN"
         ],
         "yaxis": "y"
        },
        {
         "alignmentgroup": "True",
         "hoverlabel": {
          "namelength": 0
         },
         "hovertemplate": "Team=%{text}<br>corsi_z=%{x}",
         "legendgroup": "TOR",
         "marker": {
          "color": "#FFA15A"
         },
         "name": "TOR",
         "offsetgroup": "TOR",
         "orientation": "h",
         "showlegend": true,
         "text": [
          "TOR"
         ],
         "textposition": "outside",
         "type": "bar",
         "x": [
          0.8053834469084988
         ],
         "xaxis": "x",
         "y": [
          "TOR"
         ],
         "yaxis": "y"
        },
        {
         "alignmentgroup": "True",
         "hoverlabel": {
          "namelength": 0
         },
         "hovertemplate": "Team=%{text}<br>corsi_z=%{x}",
         "legendgroup": "TBL",
         "marker": {
          "color": "#19d3f3"
         },
         "name": "TBL",
         "offsetgroup": "TBL",
         "orientation": "h",
         "showlegend": true,
         "text": [
          "TBL"
         ],
         "textposition": "outside",
         "type": "bar",
         "x": [
          0.5424010968975604
         ],
         "xaxis": "x",
         "y": [
          "TBL"
         ],
         "yaxis": "y"
        },
        {
         "alignmentgroup": "True",
         "hoverlabel": {
          "namelength": 0
         },
         "hovertemplate": "Team=%{text}<br>corsi_z=%{x}",
         "legendgroup": "STL",
         "marker": {
          "color": "#FF6692"
         },
         "name": "STL",
         "offsetgroup": "STL",
         "orientation": "h",
         "showlegend": true,
         "text": [
          "STL"
         ],
         "textposition": "outside",
         "type": "bar",
         "x": [
          0.20381132125847726
         ],
         "xaxis": "x",
         "y": [
          "STL"
         ],
         "yaxis": "y"
        },
        {
         "alignmentgroup": "True",
         "hoverlabel": {
          "namelength": 0
         },
         "hovertemplate": "Team=%{text}<br>corsi_z=%{x}",
         "legendgroup": "SJS",
         "marker": {
          "color": "#B6E880"
         },
         "name": "SJS",
         "offsetgroup": "SJS",
         "orientation": "h",
         "showlegend": true,
         "text": [
          "SJS"
         ],
         "textposition": "outside",
         "type": "bar",
         "x": [
          -0.00986183812541019
         ],
         "xaxis": "x",
         "y": [
          "SJS"
         ],
         "yaxis": "y"
        },
        {
         "alignmentgroup": "True",
         "hoverlabel": {
          "namelength": 0
         },
         "hovertemplate": "Team=%{text}<br>corsi_z=%{x}",
         "legendgroup": "PIT",
         "marker": {
          "color": "#FF97FF"
         },
         "name": "PIT",
         "offsetgroup": "PIT",
         "orientation": "h",
         "showlegend": true,
         "text": [
          "PIT"
         ],
         "textposition": "outside",
         "type": "bar",
         "x": [
          0.6114339637754318
         ],
         "xaxis": "x",
         "y": [
          "PIT"
         ],
         "yaxis": "y"
        },
        {
         "alignmentgroup": "True",
         "hoverlabel": {
          "namelength": 0
         },
         "hovertemplate": "Team=%{text}<br>corsi_z=%{x}",
         "legendgroup": "PHI",
         "marker": {
          "color": "#FECB52"
         },
         "name": "PHI",
         "offsetgroup": "PHI",
         "orientation": "h",
         "showlegend": true,
         "text": [
          "PHI"
         ],
         "textposition": "outside",
         "type": "bar",
         "x": [
          1.0387802825432066
         ],
         "xaxis": "x",
         "y": [
          "PHI"
         ],
         "yaxis": "y"
        },
        {
         "alignmentgroup": "True",
         "hoverlabel": {
          "namelength": 0
         },
         "hovertemplate": "Team=%{text}<br>corsi_z=%{x}",
         "legendgroup": "OTT",
         "marker": {
          "color": "#636efa"
         },
         "name": "OTT",
         "offsetgroup": "OTT",
         "orientation": "h",
         "showlegend": true,
         "text": [
          "OTT"
         ],
         "textposition": "outside",
         "type": "bar",
         "x": [
          -0.8974272694123273
         ],
         "xaxis": "x",
         "y": [
          "OTT"
         ],
         "yaxis": "y"
        },
        {
         "alignmentgroup": "True",
         "hoverlabel": {
          "namelength": 0
         },
         "hovertemplate": "Team=%{text}<br>corsi_z=%{x}",
         "legendgroup": "NYR",
         "marker": {
          "color": "#EF553B"
         },
         "name": "NYR",
         "offsetgroup": "NYR",
         "orientation": "h",
         "showlegend": true,
         "text": [
          "NYR"
         ],
         "textposition": "outside",
         "type": "bar",
         "x": [
          -1.8836110819533463
         ],
         "xaxis": "x",
         "y": [
          "NYR"
         ],
         "yaxis": "y"
        },
        {
         "alignmentgroup": "True",
         "hoverlabel": {
          "namelength": 0
         },
         "hovertemplate": "Team=%{text}<br>corsi_z=%{x}",
         "legendgroup": "NYI",
         "marker": {
          "color": "#00cc96"
         },
         "name": "NYI",
         "offsetgroup": "NYI",
         "orientation": "h",
         "showlegend": true,
         "text": [
          "NYI"
         ],
         "textposition": "outside",
         "type": "bar",
         "x": [
          -1.5384467475639896
         ],
         "xaxis": "x",
         "y": [
          "NYI"
         ],
         "yaxis": "y"
        },
        {
         "alignmentgroup": "True",
         "hoverlabel": {
          "namelength": 0
         },
         "hovertemplate": "Team=%{text}<br>corsi_z=%{x}",
         "legendgroup": "NSH",
         "marker": {
          "color": "#ab63fa"
         },
         "name": "NSH",
         "offsetgroup": "NSH",
         "orientation": "h",
         "showlegend": true,
         "text": [
          "NSH"
         ],
         "textposition": "outside",
         "type": "bar",
         "x": [
          0.7199141831549439
         ],
         "xaxis": "x",
         "y": [
          "NSH"
         ],
         "yaxis": "y"
        },
        {
         "alignmentgroup": "True",
         "hoverlabel": {
          "namelength": 0
         },
         "hovertemplate": "Team=%{text}<br>corsi_z=%{x}",
         "legendgroup": "NJD",
         "marker": {
          "color": "#FFA15A"
         },
         "name": "NJD",
         "offsetgroup": "NJD",
         "orientation": "h",
         "showlegend": true,
         "text": [
          "NJD"
         ],
         "textposition": "outside",
         "type": "bar",
         "x": [
          -1.170271457548676
         ],
         "xaxis": "x",
         "y": [
          "NJD"
         ],
         "yaxis": "y"
        },
        {
         "alignmentgroup": "True",
         "hoverlabel": {
          "namelength": 0
         },
         "hovertemplate": "Team=%{text}<br>corsi_z=%{x}",
         "legendgroup": "MON",
         "marker": {
          "color": "#19d3f3"
         },
         "name": "MON",
         "offsetgroup": "MON",
         "orientation": "h",
         "showlegend": true,
         "text": [
          "MON"
         ],
         "textposition": "outside",
         "type": "bar",
         "x": [
          1.5811813794407672
         ],
         "xaxis": "x",
         "y": [
          "MON"
         ],
         "yaxis": "y"
        },
        {
         "alignmentgroup": "True",
         "hoverlabel": {
          "namelength": 0
         },
         "hovertemplate": "Team=%{text}<br>corsi_z=%{x}",
         "legendgroup": "MIN",
         "marker": {
          "color": "#FF6692"
         },
         "name": "MIN",
         "offsetgroup": "MIN",
         "orientation": "h",
         "showlegend": true,
         "text": [
          "MIN"
         ],
         "textposition": "outside",
         "type": "bar",
         "x": [
          -0.02958551437623057
         ],
         "xaxis": "x",
         "y": [
          "MIN"
         ],
         "yaxis": "y"
        },
        {
         "alignmentgroup": "True",
         "hoverlabel": {
          "namelength": 0
         },
         "hovertemplate": "Team=%{text}<br>corsi_z=%{x}",
         "legendgroup": "LAK",
         "marker": {
          "color": "#B6E880"
         },
         "name": "LAK",
         "offsetgroup": "LAK",
         "orientation": "h",
         "showlegend": true,
         "text": [
          "LAK"
         ],
         "textposition": "outside",
         "type": "bar",
         "x": [
          1.7323962306970568
         ],
         "xaxis": "x",
         "y": [
          "LAK"
         ],
         "yaxis": "y"
        },
        {
         "alignmentgroup": "True",
         "hoverlabel": {
          "namelength": 0
         },
         "hovertemplate": "Team=%{text}<br>corsi_z=%{x}",
         "legendgroup": "FLA",
         "marker": {
          "color": "#FF97FF"
         },
         "name": "FLA",
         "offsetgroup": "FLA",
         "orientation": "h",
         "showlegend": true,
         "text": [
          "FLA"
         ],
         "textposition": "outside",
         "type": "bar",
         "x": [
          -0.08875654312869172
         ],
         "xaxis": "x",
         "y": [
          "FLA"
         ],
         "yaxis": "y"
        },
        {
         "alignmentgroup": "True",
         "hoverlabel": {
          "namelength": 0
         },
         "hovertemplate": "Team=%{text}<br>corsi_z=%{x}",
         "legendgroup": "EDM",
         "marker": {
          "color": "#FECB52"
         },
         "name": "EDM",
         "offsetgroup": "EDM",
         "orientation": "h",
         "showlegend": true,
         "text": [
          "EDM"
         ],
         "textposition": "outside",
         "type": "bar",
         "x": [
          -1.03549300316807
         ],
         "xaxis": "x",
         "y": [
          "EDM"
         ],
         "yaxis": "y"
        },
        {
         "alignmentgroup": "True",
         "hoverlabel": {
          "namelength": 0
         },
         "hovertemplate": "Team=%{text}<br>corsi_z=%{x}",
         "legendgroup": "DET",
         "marker": {
          "color": "#636efa"
         },
         "name": "DET",
         "offsetgroup": "DET",
         "orientation": "h",
         "showlegend": true,
         "text": [
          "DET"
         ],
         "textposition": "outside",
         "type": "bar",
         "x": [
          -1.9394948313306708
         ],
         "xaxis": "x",
         "y": [
          "DET"
         ],
         "yaxis": "y"
        },
        {
         "alignmentgroup": "True",
         "hoverlabel": {
          "namelength": 0
         },
         "hovertemplate": "Team=%{text}<br>corsi_z=%{x}",
         "legendgroup": "DAL",
         "marker": {
          "color": "#EF553B"
         },
         "name": "DAL",
         "offsetgroup": "DAL",
         "orientation": "h",
         "showlegend": true,
         "text": [
          "DAL"
         ],
         "textposition": "outside",
         "type": "bar",
         "x": [
          -0.5292519793970135
         ],
         "xaxis": "x",
         "y": [
          "DAL"
         ],
         "yaxis": "y"
        },
        {
         "alignmentgroup": "True",
         "hoverlabel": {
          "namelength": 0
         },
         "hovertemplate": "Team=%{text}<br>corsi_z=%{x}",
         "legendgroup": "COL",
         "marker": {
          "color": "#00cc96"
         },
         "name": "COL",
         "offsetgroup": "COL",
         "orientation": "h",
         "showlegend": true,
         "text": [
          "COL"
         ],
         "textposition": "outside",
         "type": "bar",
         "x": [
          0.4602191125191422
         ],
         "xaxis": "x",
         "y": [
          "COL"
         ],
         "yaxis": "y"
        },
        {
         "alignmentgroup": "True",
         "hoverlabel": {
          "namelength": 0
         },
         "hovertemplate": "Team=%{text}<br>corsi_z=%{x}",
         "legendgroup": "CHI",
         "marker": {
          "color": "#ab63fa"
         },
         "name": "CHI",
         "offsetgroup": "CHI",
         "orientation": "h",
         "showlegend": true,
         "text": [
          "CHI"
         ],
         "textposition": "outside",
         "type": "bar",
         "x": [
          -0.6311576400262522
         ],
         "xaxis": "x",
         "y": [
          "CHI"
         ],
         "yaxis": "y"
        },
        {
         "alignmentgroup": "True",
         "hoverlabel": {
          "namelength": 0
         },
         "hovertemplate": "Team=%{text}<br>corsi_z=%{x}",
         "legendgroup": "CAL",
         "marker": {
          "color": "#FFA15A"
         },
         "name": "CAL",
         "offsetgroup": "CAL",
         "orientation": "h",
         "showlegend": true,
         "text": [
          "CAL"
         ],
         "textposition": "outside",
         "type": "bar",
         "x": [
          0.05588374937732441
         ],
         "xaxis": "x",
         "y": [
          "CAL"
         ],
         "yaxis": "y"
        },
        {
         "alignmentgroup": "True",
         "hoverlabel": {
          "namelength": 0
         },
         "hovertemplate": "Team=%{text}<br>corsi_z=%{x}",
         "legendgroup": "CBJ",
         "marker": {
          "color": "#19d3f3"
         },
         "name": "CBJ",
         "offsetgroup": "CBJ",
         "orientation": "h",
         "showlegend": true,
         "text": [
          "CBJ"
         ],
         "textposition": "outside",
         "type": "bar",
         "x": [
          -0.47665550939482587
         ],
         "xaxis": "x",
         "y": [
          "CBJ"
         ],
         "yaxis": "y"
        },
        {
         "alignmentgroup": "True",
         "hoverlabel": {
          "namelength": 0
         },
         "hovertemplate": "Team=%{text}<br>corsi_z=%{x}",
         "legendgroup": "CAR",
         "marker": {
          "color": "#FF6692"
         },
         "name": "CAR",
         "offsetgroup": "CAR",
         "orientation": "h",
         "showlegend": true,
         "text": [
          "CAR"
         ],
         "textposition": "outside",
         "type": "bar",
         "x": [
          1.8967601994538932
         ],
         "xaxis": "x",
         "y": [
          "CAR"
         ],
         "yaxis": "y"
        },
        {
         "alignmentgroup": "True",
         "hoverlabel": {
          "namelength": 0
         },
         "hovertemplate": "Team=%{text}<br>corsi_z=%{x}",
         "legendgroup": "BUF",
         "marker": {
          "color": "#B6E880"
         },
         "name": "BUF",
         "offsetgroup": "BUF",
         "orientation": "h",
         "showlegend": true,
         "text": [
          "BUF"
         ],
         "textposition": "outside",
         "type": "bar",
         "x": [
          -0.29914242313744244
         ],
         "xaxis": "x",
         "y": [
          "BUF"
         ],
         "yaxis": "y"
        },
        {
         "alignmentgroup": "True",
         "hoverlabel": {
          "namelength": 0
         },
         "hovertemplate": "Team=%{text}<br>corsi_z=%{x}",
         "legendgroup": "BOS",
         "marker": {
          "color": "#FF97FF"
         },
         "name": "BOS",
         "offsetgroup": "BOS",
         "orientation": "h",
         "showlegend": true,
         "text": [
          "BOS"
         ],
         "textposition": "outside",
         "type": "bar",
         "x": [
          0.39118624564127086
         ],
         "xaxis": "x",
         "y": [
          "BOS"
         ],
         "yaxis": "y"
        },
        {
         "alignmentgroup": "True",
         "hoverlabel": {
          "namelength": 0
         },
         "hovertemplate": "Team=%{text}<br>corsi_z=%{x}",
         "legendgroup": "ARI",
         "marker": {
          "color": "#FECB52"
         },
         "name": "ARI",
         "offsetgroup": "ARI",
         "orientation": "h",
         "showlegend": true,
         "text": [
          "ARI"
         ],
         "textposition": "outside",
         "type": "bar",
         "x": [
          -0.6673177131527562
         ],
         "xaxis": "x",
         "y": [
          "ARI"
         ],
         "yaxis": "y"
        },
        {
         "alignmentgroup": "True",
         "hoverlabel": {
          "namelength": 0
         },
         "hovertemplate": "Team=%{text}<br>corsi_z=%{x}",
         "legendgroup": "ANA",
         "marker": {
          "color": "#636efa"
         },
         "name": "ANA",
         "offsetgroup": "ANA",
         "orientation": "h",
         "showlegend": true,
         "text": [
          "ANA"
         ],
         "textposition": "outside",
         "type": "bar",
         "x": [
          -0.5424010968975604
         ],
         "xaxis": "x",
         "y": [
          "ANA"
         ],
         "yaxis": "y"
        }
       ],
       "layout": {
        "annotations": [
         {
          "font": {
           "color": "grey",
           "size": 8
          },
          "showarrow": false,
          "text": "Chart by: Aram Kaplanian",
          "x": 1,
          "xanchor": "right",
          "xref": "paper",
          "xshift": 15,
          "y": -0.1,
          "yanchor": "auto",
          "yref": "paper",
          "yshift": 7
         },
         {
          "font": {
           "color": "grey",
           "size": 8
          },
          "showarrow": false,
          "text": "Source: Corsica Hockey",
          "x": 1,
          "xanchor": "right",
          "xref": "paper",
          "xshift": 15,
          "y": -0.1,
          "yanchor": "auto",
          "yref": "paper",
          "yshift": 0
         }
        ],
        "barmode": "relative",
        "legend": {
         "title": {
          "text": "Team"
         },
         "tracegroupgap": 0
        },
        "margin": {
         "t": 60
        },
        "showlegend": false,
        "template": {
         "data": {
          "bar": [
           {
            "error_x": {
             "color": "#2a3f5f"
            },
            "error_y": {
             "color": "#2a3f5f"
            },
            "marker": {
             "line": {
              "color": "white",
              "width": 0.5
             }
            },
            "type": "bar"
           }
          ],
          "barpolar": [
           {
            "marker": {
             "line": {
              "color": "white",
              "width": 0.5
             }
            },
            "type": "barpolar"
           }
          ],
          "carpet": [
           {
            "aaxis": {
             "endlinecolor": "#2a3f5f",
             "gridcolor": "#C8D4E3",
             "linecolor": "#C8D4E3",
             "minorgridcolor": "#C8D4E3",
             "startlinecolor": "#2a3f5f"
            },
            "baxis": {
             "endlinecolor": "#2a3f5f",
             "gridcolor": "#C8D4E3",
             "linecolor": "#C8D4E3",
             "minorgridcolor": "#C8D4E3",
             "startlinecolor": "#2a3f5f"
            },
            "type": "carpet"
           }
          ],
          "choropleth": [
           {
            "colorbar": {
             "outlinewidth": 0,
             "ticks": ""
            },
            "type": "choropleth"
           }
          ],
          "contour": [
           {
            "colorbar": {
             "outlinewidth": 0,
             "ticks": ""
            },
            "colorscale": [
             [
              0,
              "#0d0887"
             ],
             [
              0.1111111111111111,
              "#46039f"
             ],
             [
              0.2222222222222222,
              "#7201a8"
             ],
             [
              0.3333333333333333,
              "#9c179e"
             ],
             [
              0.4444444444444444,
              "#bd3786"
             ],
             [
              0.5555555555555556,
              "#d8576b"
             ],
             [
              0.6666666666666666,
              "#ed7953"
             ],
             [
              0.7777777777777778,
              "#fb9f3a"
             ],
             [
              0.8888888888888888,
              "#fdca26"
             ],
             [
              1,
              "#f0f921"
             ]
            ],
            "type": "contour"
           }
          ],
          "contourcarpet": [
           {
            "colorbar": {
             "outlinewidth": 0,
             "ticks": ""
            },
            "type": "contourcarpet"
           }
          ],
          "heatmap": [
           {
            "colorbar": {
             "outlinewidth": 0,
             "ticks": ""
            },
            "colorscale": [
             [
              0,
              "#0d0887"
             ],
             [
              0.1111111111111111,
              "#46039f"
             ],
             [
              0.2222222222222222,
              "#7201a8"
             ],
             [
              0.3333333333333333,
              "#9c179e"
             ],
             [
              0.4444444444444444,
              "#bd3786"
             ],
             [
              0.5555555555555556,
              "#d8576b"
             ],
             [
              0.6666666666666666,
              "#ed7953"
             ],
             [
              0.7777777777777778,
              "#fb9f3a"
             ],
             [
              0.8888888888888888,
              "#fdca26"
             ],
             [
              1,
              "#f0f921"
             ]
            ],
            "type": "heatmap"
           }
          ],
          "heatmapgl": [
           {
            "colorbar": {
             "outlinewidth": 0,
             "ticks": ""
            },
            "colorscale": [
             [
              0,
              "#0d0887"
             ],
             [
              0.1111111111111111,
              "#46039f"
             ],
             [
              0.2222222222222222,
              "#7201a8"
             ],
             [
              0.3333333333333333,
              "#9c179e"
             ],
             [
              0.4444444444444444,
              "#bd3786"
             ],
             [
              0.5555555555555556,
              "#d8576b"
             ],
             [
              0.6666666666666666,
              "#ed7953"
             ],
             [
              0.7777777777777778,
              "#fb9f3a"
             ],
             [
              0.8888888888888888,
              "#fdca26"
             ],
             [
              1,
              "#f0f921"
             ]
            ],
            "type": "heatmapgl"
           }
          ],
          "histogram": [
           {
            "marker": {
             "colorbar": {
              "outlinewidth": 0,
              "ticks": ""
             }
            },
            "type": "histogram"
           }
          ],
          "histogram2d": [
           {
            "colorbar": {
             "outlinewidth": 0,
             "ticks": ""
            },
            "colorscale": [
             [
              0,
              "#0d0887"
             ],
             [
              0.1111111111111111,
              "#46039f"
             ],
             [
              0.2222222222222222,
              "#7201a8"
             ],
             [
              0.3333333333333333,
              "#9c179e"
             ],
             [
              0.4444444444444444,
              "#bd3786"
             ],
             [
              0.5555555555555556,
              "#d8576b"
             ],
             [
              0.6666666666666666,
              "#ed7953"
             ],
             [
              0.7777777777777778,
              "#fb9f3a"
             ],
             [
              0.8888888888888888,
              "#fdca26"
             ],
             [
              1,
              "#f0f921"
             ]
            ],
            "type": "histogram2d"
           }
          ],
          "histogram2dcontour": [
           {
            "colorbar": {
             "outlinewidth": 0,
             "ticks": ""
            },
            "colorscale": [
             [
              0,
              "#0d0887"
             ],
             [
              0.1111111111111111,
              "#46039f"
             ],
             [
              0.2222222222222222,
              "#7201a8"
             ],
             [
              0.3333333333333333,
              "#9c179e"
             ],
             [
              0.4444444444444444,
              "#bd3786"
             ],
             [
              0.5555555555555556,
              "#d8576b"
             ],
             [
              0.6666666666666666,
              "#ed7953"
             ],
             [
              0.7777777777777778,
              "#fb9f3a"
             ],
             [
              0.8888888888888888,
              "#fdca26"
             ],
             [
              1,
              "#f0f921"
             ]
            ],
            "type": "histogram2dcontour"
           }
          ],
          "mesh3d": [
           {
            "colorbar": {
             "outlinewidth": 0,
             "ticks": ""
            },
            "type": "mesh3d"
           }
          ],
          "parcoords": [
           {
            "line": {
             "colorbar": {
              "outlinewidth": 0,
              "ticks": ""
             }
            },
            "type": "parcoords"
           }
          ],
          "pie": [
           {
            "automargin": true,
            "type": "pie"
           }
          ],
          "scatter": [
           {
            "marker": {
             "colorbar": {
              "outlinewidth": 0,
              "ticks": ""
             }
            },
            "type": "scatter"
           }
          ],
          "scatter3d": [
           {
            "line": {
             "colorbar": {
              "outlinewidth": 0,
              "ticks": ""
             }
            },
            "marker": {
             "colorbar": {
              "outlinewidth": 0,
              "ticks": ""
             }
            },
            "type": "scatter3d"
           }
          ],
          "scattercarpet": [
           {
            "marker": {
             "colorbar": {
              "outlinewidth": 0,
              "ticks": ""
             }
            },
            "type": "scattercarpet"
           }
          ],
          "scattergeo": [
           {
            "marker": {
             "colorbar": {
              "outlinewidth": 0,
              "ticks": ""
             }
            },
            "type": "scattergeo"
           }
          ],
          "scattergl": [
           {
            "marker": {
             "colorbar": {
              "outlinewidth": 0,
              "ticks": ""
             }
            },
            "type": "scattergl"
           }
          ],
          "scattermapbox": [
           {
            "marker": {
             "colorbar": {
              "outlinewidth": 0,
              "ticks": ""
             }
            },
            "type": "scattermapbox"
           }
          ],
          "scatterpolar": [
           {
            "marker": {
             "colorbar": {
              "outlinewidth": 0,
              "ticks": ""
             }
            },
            "type": "scatterpolar"
           }
          ],
          "scatterpolargl": [
           {
            "marker": {
             "colorbar": {
              "outlinewidth": 0,
              "ticks": ""
             }
            },
            "type": "scatterpolargl"
           }
          ],
          "scatterternary": [
           {
            "marker": {
             "colorbar": {
              "outlinewidth": 0,
              "ticks": ""
             }
            },
            "type": "scatterternary"
           }
          ],
          "surface": [
           {
            "colorbar": {
             "outlinewidth": 0,
             "ticks": ""
            },
            "colorscale": [
             [
              0,
              "#0d0887"
             ],
             [
              0.1111111111111111,
              "#46039f"
             ],
             [
              0.2222222222222222,
              "#7201a8"
             ],
             [
              0.3333333333333333,
              "#9c179e"
             ],
             [
              0.4444444444444444,
              "#bd3786"
             ],
             [
              0.5555555555555556,
              "#d8576b"
             ],
             [
              0.6666666666666666,
              "#ed7953"
             ],
             [
              0.7777777777777778,
              "#fb9f3a"
             ],
             [
              0.8888888888888888,
              "#fdca26"
             ],
             [
              1,
              "#f0f921"
             ]
            ],
            "type": "surface"
           }
          ],
          "table": [
           {
            "cells": {
             "fill": {
              "color": "#EBF0F8"
             },
             "line": {
              "color": "white"
             }
            },
            "header": {
             "fill": {
              "color": "#C8D4E3"
             },
             "line": {
              "color": "white"
             }
            },
            "type": "table"
           }
          ]
         },
         "layout": {
          "annotationdefaults": {
           "arrowcolor": "#2a3f5f",
           "arrowhead": 0,
           "arrowwidth": 1
          },
          "coloraxis": {
           "colorbar": {
            "outlinewidth": 0,
            "ticks": ""
           }
          },
          "colorscale": {
           "diverging": [
            [
             0,
             "#8e0152"
            ],
            [
             0.1,
             "#c51b7d"
            ],
            [
             0.2,
             "#de77ae"
            ],
            [
             0.3,
             "#f1b6da"
            ],
            [
             0.4,
             "#fde0ef"
            ],
            [
             0.5,
             "#f7f7f7"
            ],
            [
             0.6,
             "#e6f5d0"
            ],
            [
             0.7,
             "#b8e186"
            ],
            [
             0.8,
             "#7fbc41"
            ],
            [
             0.9,
             "#4d9221"
            ],
            [
             1,
             "#276419"
            ]
           ],
           "sequential": [
            [
             0,
             "#0d0887"
            ],
            [
             0.1111111111111111,
             "#46039f"
            ],
            [
             0.2222222222222222,
             "#7201a8"
            ],
            [
             0.3333333333333333,
             "#9c179e"
            ],
            [
             0.4444444444444444,
             "#bd3786"
            ],
            [
             0.5555555555555556,
             "#d8576b"
            ],
            [
             0.6666666666666666,
             "#ed7953"
            ],
            [
             0.7777777777777778,
             "#fb9f3a"
            ],
            [
             0.8888888888888888,
             "#fdca26"
            ],
            [
             1,
             "#f0f921"
            ]
           ],
           "sequentialminus": [
            [
             0,
             "#0d0887"
            ],
            [
             0.1111111111111111,
             "#46039f"
            ],
            [
             0.2222222222222222,
             "#7201a8"
            ],
            [
             0.3333333333333333,
             "#9c179e"
            ],
            [
             0.4444444444444444,
             "#bd3786"
            ],
            [
             0.5555555555555556,
             "#d8576b"
            ],
            [
             0.6666666666666666,
             "#ed7953"
            ],
            [
             0.7777777777777778,
             "#fb9f3a"
            ],
            [
             0.8888888888888888,
             "#fdca26"
            ],
            [
             1,
             "#f0f921"
            ]
           ]
          },
          "colorway": [
           "#636efa",
           "#EF553B",
           "#00cc96",
           "#ab63fa",
           "#FFA15A",
           "#19d3f3",
           "#FF6692",
           "#B6E880",
           "#FF97FF",
           "#FECB52"
          ],
          "font": {
           "color": "#2a3f5f"
          },
          "geo": {
           "bgcolor": "white",
           "lakecolor": "white",
           "landcolor": "white",
           "showlakes": true,
           "showland": true,
           "subunitcolor": "#C8D4E3"
          },
          "hoverlabel": {
           "align": "left"
          },
          "hovermode": "closest",
          "mapbox": {
           "style": "light"
          },
          "paper_bgcolor": "white",
          "plot_bgcolor": "white",
          "polar": {
           "angularaxis": {
            "gridcolor": "#EBF0F8",
            "linecolor": "#EBF0F8",
            "ticks": ""
           },
           "bgcolor": "white",
           "radialaxis": {
            "gridcolor": "#EBF0F8",
            "linecolor": "#EBF0F8",
            "ticks": ""
           }
          },
          "scene": {
           "xaxis": {
            "backgroundcolor": "white",
            "gridcolor": "#DFE8F3",
            "gridwidth": 2,
            "linecolor": "#EBF0F8",
            "showbackground": true,
            "ticks": "",
            "zerolinecolor": "#EBF0F8"
           },
           "yaxis": {
            "backgroundcolor": "white",
            "gridcolor": "#DFE8F3",
            "gridwidth": 2,
            "linecolor": "#EBF0F8",
            "showbackground": true,
            "ticks": "",
            "zerolinecolor": "#EBF0F8"
           },
           "zaxis": {
            "backgroundcolor": "white",
            "gridcolor": "#DFE8F3",
            "gridwidth": 2,
            "linecolor": "#EBF0F8",
            "showbackground": true,
            "ticks": "",
            "zerolinecolor": "#EBF0F8"
           }
          },
          "shapedefaults": {
           "line": {
            "color": "#2a3f5f"
           }
          },
          "ternary": {
           "aaxis": {
            "gridcolor": "#DFE8F3",
            "linecolor": "#A2B1C6",
            "ticks": ""
           },
           "baxis": {
            "gridcolor": "#DFE8F3",
            "linecolor": "#A2B1C6",
            "ticks": ""
           },
           "bgcolor": "white",
           "caxis": {
            "gridcolor": "#DFE8F3",
            "linecolor": "#A2B1C6",
            "ticks": ""
           }
          },
          "title": {
           "x": 0.05
          },
          "xaxis": {
           "automargin": true,
           "gridcolor": "#EBF0F8",
           "linecolor": "#EBF0F8",
           "ticks": "",
           "title": {
            "standoff": 15
           },
           "zerolinecolor": "#EBF0F8",
           "zerolinewidth": 2
          },
          "yaxis": {
           "automargin": true,
           "gridcolor": "#EBF0F8",
           "linecolor": "#EBF0F8",
           "ticks": "",
           "title": {
            "standoff": 15
           },
           "zerolinecolor": "#EBF0F8",
           "zerolinewidth": 2
          }
         }
        },
        "title": {
         "text": "NHL Corsi Ranking"
        },
        "xaxis": {
         "anchor": "y",
         "domain": [
          0,
          1
         ],
         "showgrid": false,
         "title": {
          "text": "Corsi Z-Score"
         }
        },
        "yaxis": {
         "anchor": "x",
         "categoryarray": [
          "ANA",
          "ARI",
          "BOS",
          "BUF",
          "CAR",
          "CBJ",
          "CAL",
          "CHI",
          "COL",
          "DAL",
          "DET",
          "EDM",
          "FLA",
          "LAK",
          "MIN",
          "MON",
          "NJD",
          "NSH",
          "NYI",
          "NYR",
          "OTT",
          "PHI",
          "PIT",
          "SJS",
          "STL",
          "TBL",
          "TOR",
          "VAN",
          "VGK",
          "WPG",
          "WAS"
         ],
         "categoryorder": "total ascending",
         "domain": [
          0,
          1
         ],
         "showgrid": false,
         "showticklabels": false,
         "title": {
          "text": " "
         }
        }
       }
      },
      "text/html": [
       "<div>\n",
       "        \n",
       "        \n",
       "            <div id=\"71f9b903-bdff-44f1-849f-8221b23d24a7\" class=\"plotly-graph-div\" style=\"height:525px; width:100%;\"></div>\n",
       "            <script type=\"text/javascript\">\n",
       "                require([\"plotly\"], function(Plotly) {\n",
       "                    window.PLOTLYENV=window.PLOTLYENV || {};\n",
       "                    \n",
       "                if (document.getElementById(\"71f9b903-bdff-44f1-849f-8221b23d24a7\")) {\n",
       "                    Plotly.newPlot(\n",
       "                        '71f9b903-bdff-44f1-849f-8221b23d24a7',\n",
       "                        [{\"alignmentgroup\": \"True\", \"hoverlabel\": {\"namelength\": 0}, \"hovertemplate\": \"Team=%{text}<br>corsi_z=%{x}\", \"legendgroup\": \"WAS\", \"marker\": {\"color\": \"#636efa\"}, \"name\": \"WAS\", \"offsetgroup\": \"WAS\", \"orientation\": \"h\", \"showlegend\": true, \"text\": [\"WAS\"], \"textposition\": \"outside\", \"type\": \"bar\", \"x\": [0.8579799169106865], \"xaxis\": \"x\", \"y\": [\"WAS\"], \"yaxis\": \"y\"}, {\"alignmentgroup\": \"True\", \"hoverlabel\": {\"namelength\": 0}, \"hovertemplate\": \"Team=%{text}<br>corsi_z=%{x}\", \"legendgroup\": \"WPG\", \"marker\": {\"color\": \"#EF553B\"}, \"name\": \"WPG\", \"offsetgroup\": \"WPG\", \"orientation\": \"h\", \"showlegend\": true, \"text\": [\"WPG\"], \"textposition\": \"outside\", \"type\": \"bar\", \"x\": [-0.17093852750710997], \"xaxis\": \"x\", \"y\": [\"WPG\"], \"yaxis\": \"y\"}, {\"alignmentgroup\": \"True\", \"hoverlabel\": {\"namelength\": 0}, \"hovertemplate\": \"Team=%{text}<br>corsi_z=%{x}\", \"legendgroup\": \"VGK\", \"marker\": {\"color\": \"#00cc96\"}, \"name\": \"VGK\", \"offsetgroup\": \"VGK\", \"orientation\": \"h\", \"showlegend\": true, \"text\": [\"VGK\"], \"textposition\": \"outside\", \"type\": \"bar\", \"x\": [1.6535015256937753], \"xaxis\": \"x\", \"y\": [\"VGK\"], \"yaxis\": \"y\"}, {\"alignmentgroup\": \"True\", \"hoverlabel\": {\"namelength\": 0}, \"hovertemplate\": \"Team=%{text}<br>corsi_z=%{x}\", \"legendgroup\": \"VAN\", \"marker\": {\"color\": \"#ab63fa\"}, \"name\": \"VAN\", \"offsetgroup\": \"VAN\", \"orientation\": \"h\", \"showlegend\": true, \"text\": [\"VAN\"], \"textposition\": \"outside\", \"type\": \"bar\", \"x\": [-0.6410194781516624], \"xaxis\": \"x\", \"y\": [\"VAN\"], \"yaxis\": \"y\"}, {\"alignmentgroup\": \"True\", \"hoverlabel\": {\"namelength\": 0}, \"hovertemplate\": \"Team=%{text}<br>corsi_z=%{x}\", \"legendgroup\": \"TOR\", \"marker\": {\"color\": \"#FFA15A\"}, \"name\": \"TOR\", \"offsetgroup\": \"TOR\", \"orientation\": \"h\", \"showlegend\": true, \"text\": [\"TOR\"], \"textposition\": \"outside\", \"type\": \"bar\", \"x\": [0.8053834469084988], \"xaxis\": \"x\", \"y\": [\"TOR\"], \"yaxis\": \"y\"}, {\"alignmentgroup\": \"True\", \"hoverlabel\": {\"namelength\": 0}, \"hovertemplate\": \"Team=%{text}<br>corsi_z=%{x}\", \"legendgroup\": \"TBL\", \"marker\": {\"color\": \"#19d3f3\"}, \"name\": \"TBL\", \"offsetgroup\": \"TBL\", \"orientation\": \"h\", \"showlegend\": true, \"text\": [\"TBL\"], \"textposition\": \"outside\", \"type\": \"bar\", \"x\": [0.5424010968975604], \"xaxis\": \"x\", \"y\": [\"TBL\"], \"yaxis\": \"y\"}, {\"alignmentgroup\": \"True\", \"hoverlabel\": {\"namelength\": 0}, \"hovertemplate\": \"Team=%{text}<br>corsi_z=%{x}\", \"legendgroup\": \"STL\", \"marker\": {\"color\": \"#FF6692\"}, \"name\": \"STL\", \"offsetgroup\": \"STL\", \"orientation\": \"h\", \"showlegend\": true, \"text\": [\"STL\"], \"textposition\": \"outside\", \"type\": \"bar\", \"x\": [0.20381132125847726], \"xaxis\": \"x\", \"y\": [\"STL\"], \"yaxis\": \"y\"}, {\"alignmentgroup\": \"True\", \"hoverlabel\": {\"namelength\": 0}, \"hovertemplate\": \"Team=%{text}<br>corsi_z=%{x}\", \"legendgroup\": \"SJS\", \"marker\": {\"color\": \"#B6E880\"}, \"name\": \"SJS\", \"offsetgroup\": \"SJS\", \"orientation\": \"h\", \"showlegend\": true, \"text\": [\"SJS\"], \"textposition\": \"outside\", \"type\": \"bar\", \"x\": [-0.00986183812541019], \"xaxis\": \"x\", \"y\": [\"SJS\"], \"yaxis\": \"y\"}, {\"alignmentgroup\": \"True\", \"hoverlabel\": {\"namelength\": 0}, \"hovertemplate\": \"Team=%{text}<br>corsi_z=%{x}\", \"legendgroup\": \"PIT\", \"marker\": {\"color\": \"#FF97FF\"}, \"name\": \"PIT\", \"offsetgroup\": \"PIT\", \"orientation\": \"h\", \"showlegend\": true, \"text\": [\"PIT\"], \"textposition\": \"outside\", \"type\": \"bar\", \"x\": [0.6114339637754318], \"xaxis\": \"x\", \"y\": [\"PIT\"], \"yaxis\": \"y\"}, {\"alignmentgroup\": \"True\", \"hoverlabel\": {\"namelength\": 0}, \"hovertemplate\": \"Team=%{text}<br>corsi_z=%{x}\", \"legendgroup\": \"PHI\", \"marker\": {\"color\": \"#FECB52\"}, \"name\": \"PHI\", \"offsetgroup\": \"PHI\", \"orientation\": \"h\", \"showlegend\": true, \"text\": [\"PHI\"], \"textposition\": \"outside\", \"type\": \"bar\", \"x\": [1.0387802825432066], \"xaxis\": \"x\", \"y\": [\"PHI\"], \"yaxis\": \"y\"}, {\"alignmentgroup\": \"True\", \"hoverlabel\": {\"namelength\": 0}, \"hovertemplate\": \"Team=%{text}<br>corsi_z=%{x}\", \"legendgroup\": \"OTT\", \"marker\": {\"color\": \"#636efa\"}, \"name\": \"OTT\", \"offsetgroup\": \"OTT\", \"orientation\": \"h\", \"showlegend\": true, \"text\": [\"OTT\"], \"textposition\": \"outside\", \"type\": \"bar\", \"x\": [-0.8974272694123273], \"xaxis\": \"x\", \"y\": [\"OTT\"], \"yaxis\": \"y\"}, {\"alignmentgroup\": \"True\", \"hoverlabel\": {\"namelength\": 0}, \"hovertemplate\": \"Team=%{text}<br>corsi_z=%{x}\", \"legendgroup\": \"NYR\", \"marker\": {\"color\": \"#EF553B\"}, \"name\": \"NYR\", \"offsetgroup\": \"NYR\", \"orientation\": \"h\", \"showlegend\": true, \"text\": [\"NYR\"], \"textposition\": \"outside\", \"type\": \"bar\", \"x\": [-1.8836110819533463], \"xaxis\": \"x\", \"y\": [\"NYR\"], \"yaxis\": \"y\"}, {\"alignmentgroup\": \"True\", \"hoverlabel\": {\"namelength\": 0}, \"hovertemplate\": \"Team=%{text}<br>corsi_z=%{x}\", \"legendgroup\": \"NYI\", \"marker\": {\"color\": \"#00cc96\"}, \"name\": \"NYI\", \"offsetgroup\": \"NYI\", \"orientation\": \"h\", \"showlegend\": true, \"text\": [\"NYI\"], \"textposition\": \"outside\", \"type\": \"bar\", \"x\": [-1.5384467475639896], \"xaxis\": \"x\", \"y\": [\"NYI\"], \"yaxis\": \"y\"}, {\"alignmentgroup\": \"True\", \"hoverlabel\": {\"namelength\": 0}, \"hovertemplate\": \"Team=%{text}<br>corsi_z=%{x}\", \"legendgroup\": \"NSH\", \"marker\": {\"color\": \"#ab63fa\"}, \"name\": \"NSH\", \"offsetgroup\": \"NSH\", \"orientation\": \"h\", \"showlegend\": true, \"text\": [\"NSH\"], \"textposition\": \"outside\", \"type\": \"bar\", \"x\": [0.7199141831549439], \"xaxis\": \"x\", \"y\": [\"NSH\"], \"yaxis\": \"y\"}, {\"alignmentgroup\": \"True\", \"hoverlabel\": {\"namelength\": 0}, \"hovertemplate\": \"Team=%{text}<br>corsi_z=%{x}\", \"legendgroup\": \"NJD\", \"marker\": {\"color\": \"#FFA15A\"}, \"name\": \"NJD\", \"offsetgroup\": \"NJD\", \"orientation\": \"h\", \"showlegend\": true, \"text\": [\"NJD\"], \"textposition\": \"outside\", \"type\": \"bar\", \"x\": [-1.170271457548676], \"xaxis\": \"x\", \"y\": [\"NJD\"], \"yaxis\": \"y\"}, {\"alignmentgroup\": \"True\", \"hoverlabel\": {\"namelength\": 0}, \"hovertemplate\": \"Team=%{text}<br>corsi_z=%{x}\", \"legendgroup\": \"MON\", \"marker\": {\"color\": \"#19d3f3\"}, \"name\": \"MON\", \"offsetgroup\": \"MON\", \"orientation\": \"h\", \"showlegend\": true, \"text\": [\"MON\"], \"textposition\": \"outside\", \"type\": \"bar\", \"x\": [1.5811813794407672], \"xaxis\": \"x\", \"y\": [\"MON\"], \"yaxis\": \"y\"}, {\"alignmentgroup\": \"True\", \"hoverlabel\": {\"namelength\": 0}, \"hovertemplate\": \"Team=%{text}<br>corsi_z=%{x}\", \"legendgroup\": \"MIN\", \"marker\": {\"color\": \"#FF6692\"}, \"name\": \"MIN\", \"offsetgroup\": \"MIN\", \"orientation\": \"h\", \"showlegend\": true, \"text\": [\"MIN\"], \"textposition\": \"outside\", \"type\": \"bar\", \"x\": [-0.02958551437623057], \"xaxis\": \"x\", \"y\": [\"MIN\"], \"yaxis\": \"y\"}, {\"alignmentgroup\": \"True\", \"hoverlabel\": {\"namelength\": 0}, \"hovertemplate\": \"Team=%{text}<br>corsi_z=%{x}\", \"legendgroup\": \"LAK\", \"marker\": {\"color\": \"#B6E880\"}, \"name\": \"LAK\", \"offsetgroup\": \"LAK\", \"orientation\": \"h\", \"showlegend\": true, \"text\": [\"LAK\"], \"textposition\": \"outside\", \"type\": \"bar\", \"x\": [1.7323962306970568], \"xaxis\": \"x\", \"y\": [\"LAK\"], \"yaxis\": \"y\"}, {\"alignmentgroup\": \"True\", \"hoverlabel\": {\"namelength\": 0}, \"hovertemplate\": \"Team=%{text}<br>corsi_z=%{x}\", \"legendgroup\": \"FLA\", \"marker\": {\"color\": \"#FF97FF\"}, \"name\": \"FLA\", \"offsetgroup\": \"FLA\", \"orientation\": \"h\", \"showlegend\": true, \"text\": [\"FLA\"], \"textposition\": \"outside\", \"type\": \"bar\", \"x\": [-0.08875654312869172], \"xaxis\": \"x\", \"y\": [\"FLA\"], \"yaxis\": \"y\"}, {\"alignmentgroup\": \"True\", \"hoverlabel\": {\"namelength\": 0}, \"hovertemplate\": \"Team=%{text}<br>corsi_z=%{x}\", \"legendgroup\": \"EDM\", \"marker\": {\"color\": \"#FECB52\"}, \"name\": \"EDM\", \"offsetgroup\": \"EDM\", \"orientation\": \"h\", \"showlegend\": true, \"text\": [\"EDM\"], \"textposition\": \"outside\", \"type\": \"bar\", \"x\": [-1.03549300316807], \"xaxis\": \"x\", \"y\": [\"EDM\"], \"yaxis\": \"y\"}, {\"alignmentgroup\": \"True\", \"hoverlabel\": {\"namelength\": 0}, \"hovertemplate\": \"Team=%{text}<br>corsi_z=%{x}\", \"legendgroup\": \"DET\", \"marker\": {\"color\": \"#636efa\"}, \"name\": \"DET\", \"offsetgroup\": \"DET\", \"orientation\": \"h\", \"showlegend\": true, \"text\": [\"DET\"], \"textposition\": \"outside\", \"type\": \"bar\", \"x\": [-1.9394948313306708], \"xaxis\": \"x\", \"y\": [\"DET\"], \"yaxis\": \"y\"}, {\"alignmentgroup\": \"True\", \"hoverlabel\": {\"namelength\": 0}, \"hovertemplate\": \"Team=%{text}<br>corsi_z=%{x}\", \"legendgroup\": \"DAL\", \"marker\": {\"color\": \"#EF553B\"}, \"name\": \"DAL\", \"offsetgroup\": \"DAL\", \"orientation\": \"h\", \"showlegend\": true, \"text\": [\"DAL\"], \"textposition\": \"outside\", \"type\": \"bar\", \"x\": [-0.5292519793970135], \"xaxis\": \"x\", \"y\": [\"DAL\"], \"yaxis\": \"y\"}, {\"alignmentgroup\": \"True\", \"hoverlabel\": {\"namelength\": 0}, \"hovertemplate\": \"Team=%{text}<br>corsi_z=%{x}\", \"legendgroup\": \"COL\", \"marker\": {\"color\": \"#00cc96\"}, \"name\": \"COL\", \"offsetgroup\": \"COL\", \"orientation\": \"h\", \"showlegend\": true, \"text\": [\"COL\"], \"textposition\": \"outside\", \"type\": \"bar\", \"x\": [0.4602191125191422], \"xaxis\": \"x\", \"y\": [\"COL\"], \"yaxis\": \"y\"}, {\"alignmentgroup\": \"True\", \"hoverlabel\": {\"namelength\": 0}, \"hovertemplate\": \"Team=%{text}<br>corsi_z=%{x}\", \"legendgroup\": \"CHI\", \"marker\": {\"color\": \"#ab63fa\"}, \"name\": \"CHI\", \"offsetgroup\": \"CHI\", \"orientation\": \"h\", \"showlegend\": true, \"text\": [\"CHI\"], \"textposition\": \"outside\", \"type\": \"bar\", \"x\": [-0.6311576400262522], \"xaxis\": \"x\", \"y\": [\"CHI\"], \"yaxis\": \"y\"}, {\"alignmentgroup\": \"True\", \"hoverlabel\": {\"namelength\": 0}, \"hovertemplate\": \"Team=%{text}<br>corsi_z=%{x}\", \"legendgroup\": \"CAL\", \"marker\": {\"color\": \"#FFA15A\"}, \"name\": \"CAL\", \"offsetgroup\": \"CAL\", \"orientation\": \"h\", \"showlegend\": true, \"text\": [\"CAL\"], \"textposition\": \"outside\", \"type\": \"bar\", \"x\": [0.05588374937732441], \"xaxis\": \"x\", \"y\": [\"CAL\"], \"yaxis\": \"y\"}, {\"alignmentgroup\": \"True\", \"hoverlabel\": {\"namelength\": 0}, \"hovertemplate\": \"Team=%{text}<br>corsi_z=%{x}\", \"legendgroup\": \"CBJ\", \"marker\": {\"color\": \"#19d3f3\"}, \"name\": \"CBJ\", \"offsetgroup\": \"CBJ\", \"orientation\": \"h\", \"showlegend\": true, \"text\": [\"CBJ\"], \"textposition\": \"outside\", \"type\": \"bar\", \"x\": [-0.47665550939482587], \"xaxis\": \"x\", \"y\": [\"CBJ\"], \"yaxis\": \"y\"}, {\"alignmentgroup\": \"True\", \"hoverlabel\": {\"namelength\": 0}, \"hovertemplate\": \"Team=%{text}<br>corsi_z=%{x}\", \"legendgroup\": \"CAR\", \"marker\": {\"color\": \"#FF6692\"}, \"name\": \"CAR\", \"offsetgroup\": \"CAR\", \"orientation\": \"h\", \"showlegend\": true, \"text\": [\"CAR\"], \"textposition\": \"outside\", \"type\": \"bar\", \"x\": [1.8967601994538932], \"xaxis\": \"x\", \"y\": [\"CAR\"], \"yaxis\": \"y\"}, {\"alignmentgroup\": \"True\", \"hoverlabel\": {\"namelength\": 0}, \"hovertemplate\": \"Team=%{text}<br>corsi_z=%{x}\", \"legendgroup\": \"BUF\", \"marker\": {\"color\": \"#B6E880\"}, \"name\": \"BUF\", \"offsetgroup\": \"BUF\", \"orientation\": \"h\", \"showlegend\": true, \"text\": [\"BUF\"], \"textposition\": \"outside\", \"type\": \"bar\", \"x\": [-0.29914242313744244], \"xaxis\": \"x\", \"y\": [\"BUF\"], \"yaxis\": \"y\"}, {\"alignmentgroup\": \"True\", \"hoverlabel\": {\"namelength\": 0}, \"hovertemplate\": \"Team=%{text}<br>corsi_z=%{x}\", \"legendgroup\": \"BOS\", \"marker\": {\"color\": \"#FF97FF\"}, \"name\": \"BOS\", \"offsetgroup\": \"BOS\", \"orientation\": \"h\", \"showlegend\": true, \"text\": [\"BOS\"], \"textposition\": \"outside\", \"type\": \"bar\", \"x\": [0.39118624564127086], \"xaxis\": \"x\", \"y\": [\"BOS\"], \"yaxis\": \"y\"}, {\"alignmentgroup\": \"True\", \"hoverlabel\": {\"namelength\": 0}, \"hovertemplate\": \"Team=%{text}<br>corsi_z=%{x}\", \"legendgroup\": \"ARI\", \"marker\": {\"color\": \"#FECB52\"}, \"name\": \"ARI\", \"offsetgroup\": \"ARI\", \"orientation\": \"h\", \"showlegend\": true, \"text\": [\"ARI\"], \"textposition\": \"outside\", \"type\": \"bar\", \"x\": [-0.6673177131527562], \"xaxis\": \"x\", \"y\": [\"ARI\"], \"yaxis\": \"y\"}, {\"alignmentgroup\": \"True\", \"hoverlabel\": {\"namelength\": 0}, \"hovertemplate\": \"Team=%{text}<br>corsi_z=%{x}\", \"legendgroup\": \"ANA\", \"marker\": {\"color\": \"#636efa\"}, \"name\": \"ANA\", \"offsetgroup\": \"ANA\", \"orientation\": \"h\", \"showlegend\": true, \"text\": [\"ANA\"], \"textposition\": \"outside\", \"type\": \"bar\", \"x\": [-0.5424010968975604], \"xaxis\": \"x\", \"y\": [\"ANA\"], \"yaxis\": \"y\"}],\n",
       "                        {\"annotations\": [{\"font\": {\"color\": \"grey\", \"size\": 8}, \"showarrow\": false, \"text\": \"Chart by: Aram Kaplanian\", \"x\": 1, \"xanchor\": \"right\", \"xref\": \"paper\", \"xshift\": 15, \"y\": -0.1, \"yanchor\": \"auto\", \"yref\": \"paper\", \"yshift\": 7}, {\"font\": {\"color\": \"grey\", \"size\": 8}, \"showarrow\": false, \"text\": \"Source: Corsica Hockey\", \"x\": 1, \"xanchor\": \"right\", \"xref\": \"paper\", \"xshift\": 15, \"y\": -0.1, \"yanchor\": \"auto\", \"yref\": \"paper\", \"yshift\": 0}], \"barmode\": \"relative\", \"legend\": {\"title\": {\"text\": \"Team\"}, \"tracegroupgap\": 0}, \"margin\": {\"t\": 60}, \"showlegend\": false, \"template\": {\"data\": {\"bar\": [{\"error_x\": {\"color\": \"#2a3f5f\"}, \"error_y\": {\"color\": \"#2a3f5f\"}, \"marker\": {\"line\": {\"color\": \"white\", \"width\": 0.5}}, \"type\": \"bar\"}], \"barpolar\": [{\"marker\": {\"line\": {\"color\": \"white\", \"width\": 0.5}}, \"type\": \"barpolar\"}], \"carpet\": [{\"aaxis\": {\"endlinecolor\": \"#2a3f5f\", \"gridcolor\": \"#C8D4E3\", \"linecolor\": \"#C8D4E3\", \"minorgridcolor\": \"#C8D4E3\", \"startlinecolor\": \"#2a3f5f\"}, \"baxis\": {\"endlinecolor\": \"#2a3f5f\", \"gridcolor\": \"#C8D4E3\", \"linecolor\": \"#C8D4E3\", \"minorgridcolor\": \"#C8D4E3\", \"startlinecolor\": \"#2a3f5f\"}, \"type\": \"carpet\"}], \"choropleth\": [{\"colorbar\": {\"outlinewidth\": 0, \"ticks\": \"\"}, \"type\": \"choropleth\"}], \"contour\": [{\"colorbar\": {\"outlinewidth\": 0, \"ticks\": \"\"}, \"colorscale\": [[0.0, \"#0d0887\"], [0.1111111111111111, \"#46039f\"], [0.2222222222222222, \"#7201a8\"], [0.3333333333333333, \"#9c179e\"], [0.4444444444444444, \"#bd3786\"], [0.5555555555555556, \"#d8576b\"], [0.6666666666666666, \"#ed7953\"], [0.7777777777777778, \"#fb9f3a\"], [0.8888888888888888, \"#fdca26\"], [1.0, \"#f0f921\"]], \"type\": \"contour\"}], \"contourcarpet\": [{\"colorbar\": {\"outlinewidth\": 0, \"ticks\": \"\"}, \"type\": \"contourcarpet\"}], \"heatmap\": [{\"colorbar\": {\"outlinewidth\": 0, \"ticks\": \"\"}, \"colorscale\": [[0.0, \"#0d0887\"], [0.1111111111111111, \"#46039f\"], [0.2222222222222222, \"#7201a8\"], [0.3333333333333333, \"#9c179e\"], [0.4444444444444444, \"#bd3786\"], [0.5555555555555556, \"#d8576b\"], [0.6666666666666666, \"#ed7953\"], [0.7777777777777778, \"#fb9f3a\"], [0.8888888888888888, \"#fdca26\"], [1.0, \"#f0f921\"]], \"type\": \"heatmap\"}], \"heatmapgl\": [{\"colorbar\": {\"outlinewidth\": 0, \"ticks\": \"\"}, \"colorscale\": [[0.0, \"#0d0887\"], [0.1111111111111111, \"#46039f\"], [0.2222222222222222, \"#7201a8\"], [0.3333333333333333, \"#9c179e\"], [0.4444444444444444, \"#bd3786\"], [0.5555555555555556, \"#d8576b\"], [0.6666666666666666, \"#ed7953\"], [0.7777777777777778, \"#fb9f3a\"], [0.8888888888888888, \"#fdca26\"], [1.0, \"#f0f921\"]], \"type\": \"heatmapgl\"}], \"histogram\": [{\"marker\": {\"colorbar\": {\"outlinewidth\": 0, \"ticks\": \"\"}}, \"type\": \"histogram\"}], \"histogram2d\": [{\"colorbar\": {\"outlinewidth\": 0, \"ticks\": \"\"}, \"colorscale\": [[0.0, \"#0d0887\"], [0.1111111111111111, \"#46039f\"], [0.2222222222222222, \"#7201a8\"], [0.3333333333333333, \"#9c179e\"], [0.4444444444444444, \"#bd3786\"], [0.5555555555555556, \"#d8576b\"], [0.6666666666666666, \"#ed7953\"], [0.7777777777777778, \"#fb9f3a\"], [0.8888888888888888, \"#fdca26\"], [1.0, \"#f0f921\"]], \"type\": \"histogram2d\"}], \"histogram2dcontour\": [{\"colorbar\": {\"outlinewidth\": 0, \"ticks\": \"\"}, \"colorscale\": [[0.0, \"#0d0887\"], [0.1111111111111111, \"#46039f\"], [0.2222222222222222, \"#7201a8\"], [0.3333333333333333, \"#9c179e\"], [0.4444444444444444, \"#bd3786\"], [0.5555555555555556, \"#d8576b\"], [0.6666666666666666, \"#ed7953\"], [0.7777777777777778, \"#fb9f3a\"], [0.8888888888888888, \"#fdca26\"], [1.0, \"#f0f921\"]], \"type\": \"histogram2dcontour\"}], \"mesh3d\": [{\"colorbar\": {\"outlinewidth\": 0, \"ticks\": \"\"}, \"type\": \"mesh3d\"}], \"parcoords\": [{\"line\": {\"colorbar\": {\"outlinewidth\": 0, \"ticks\": \"\"}}, \"type\": \"parcoords\"}], \"pie\": [{\"automargin\": true, \"type\": \"pie\"}], \"scatter\": [{\"marker\": {\"colorbar\": {\"outlinewidth\": 0, \"ticks\": \"\"}}, \"type\": \"scatter\"}], \"scatter3d\": [{\"line\": {\"colorbar\": {\"outlinewidth\": 0, \"ticks\": \"\"}}, \"marker\": {\"colorbar\": {\"outlinewidth\": 0, \"ticks\": \"\"}}, \"type\": \"scatter3d\"}], \"scattercarpet\": [{\"marker\": {\"colorbar\": {\"outlinewidth\": 0, \"ticks\": \"\"}}, \"type\": \"scattercarpet\"}], \"scattergeo\": [{\"marker\": {\"colorbar\": {\"outlinewidth\": 0, \"ticks\": \"\"}}, \"type\": \"scattergeo\"}], \"scattergl\": [{\"marker\": {\"colorbar\": {\"outlinewidth\": 0, \"ticks\": \"\"}}, \"type\": \"scattergl\"}], \"scattermapbox\": [{\"marker\": {\"colorbar\": {\"outlinewidth\": 0, \"ticks\": \"\"}}, \"type\": \"scattermapbox\"}], \"scatterpolar\": [{\"marker\": {\"colorbar\": {\"outlinewidth\": 0, \"ticks\": \"\"}}, \"type\": \"scatterpolar\"}], \"scatterpolargl\": [{\"marker\": {\"colorbar\": {\"outlinewidth\": 0, \"ticks\": \"\"}}, \"type\": \"scatterpolargl\"}], \"scatterternary\": [{\"marker\": {\"colorbar\": {\"outlinewidth\": 0, \"ticks\": \"\"}}, \"type\": \"scatterternary\"}], \"surface\": [{\"colorbar\": {\"outlinewidth\": 0, \"ticks\": \"\"}, \"colorscale\": [[0.0, \"#0d0887\"], [0.1111111111111111, \"#46039f\"], [0.2222222222222222, \"#7201a8\"], [0.3333333333333333, \"#9c179e\"], [0.4444444444444444, \"#bd3786\"], [0.5555555555555556, \"#d8576b\"], [0.6666666666666666, \"#ed7953\"], [0.7777777777777778, \"#fb9f3a\"], [0.8888888888888888, \"#fdca26\"], [1.0, \"#f0f921\"]], \"type\": \"surface\"}], \"table\": [{\"cells\": {\"fill\": {\"color\": \"#EBF0F8\"}, \"line\": {\"color\": \"white\"}}, \"header\": {\"fill\": {\"color\": \"#C8D4E3\"}, \"line\": {\"color\": \"white\"}}, \"type\": \"table\"}]}, \"layout\": {\"annotationdefaults\": {\"arrowcolor\": \"#2a3f5f\", \"arrowhead\": 0, \"arrowwidth\": 1}, \"coloraxis\": {\"colorbar\": {\"outlinewidth\": 0, \"ticks\": \"\"}}, \"colorscale\": {\"diverging\": [[0, \"#8e0152\"], [0.1, \"#c51b7d\"], [0.2, \"#de77ae\"], [0.3, \"#f1b6da\"], [0.4, \"#fde0ef\"], [0.5, \"#f7f7f7\"], [0.6, \"#e6f5d0\"], [0.7, \"#b8e186\"], [0.8, \"#7fbc41\"], [0.9, \"#4d9221\"], [1, \"#276419\"]], \"sequential\": [[0.0, \"#0d0887\"], [0.1111111111111111, \"#46039f\"], [0.2222222222222222, \"#7201a8\"], [0.3333333333333333, \"#9c179e\"], [0.4444444444444444, \"#bd3786\"], [0.5555555555555556, \"#d8576b\"], [0.6666666666666666, \"#ed7953\"], [0.7777777777777778, \"#fb9f3a\"], [0.8888888888888888, \"#fdca26\"], [1.0, \"#f0f921\"]], \"sequentialminus\": [[0.0, \"#0d0887\"], [0.1111111111111111, \"#46039f\"], [0.2222222222222222, \"#7201a8\"], [0.3333333333333333, \"#9c179e\"], [0.4444444444444444, \"#bd3786\"], [0.5555555555555556, \"#d8576b\"], [0.6666666666666666, \"#ed7953\"], [0.7777777777777778, \"#fb9f3a\"], [0.8888888888888888, \"#fdca26\"], [1.0, \"#f0f921\"]]}, \"colorway\": [\"#636efa\", \"#EF553B\", \"#00cc96\", \"#ab63fa\", \"#FFA15A\", \"#19d3f3\", \"#FF6692\", \"#B6E880\", \"#FF97FF\", \"#FECB52\"], \"font\": {\"color\": \"#2a3f5f\"}, \"geo\": {\"bgcolor\": \"white\", \"lakecolor\": \"white\", \"landcolor\": \"white\", \"showlakes\": true, \"showland\": true, \"subunitcolor\": \"#C8D4E3\"}, \"hoverlabel\": {\"align\": \"left\"}, \"hovermode\": \"closest\", \"mapbox\": {\"style\": \"light\"}, \"paper_bgcolor\": \"white\", \"plot_bgcolor\": \"white\", \"polar\": {\"angularaxis\": {\"gridcolor\": \"#EBF0F8\", \"linecolor\": \"#EBF0F8\", \"ticks\": \"\"}, \"bgcolor\": \"white\", \"radialaxis\": {\"gridcolor\": \"#EBF0F8\", \"linecolor\": \"#EBF0F8\", \"ticks\": \"\"}}, \"scene\": {\"xaxis\": {\"backgroundcolor\": \"white\", \"gridcolor\": \"#DFE8F3\", \"gridwidth\": 2, \"linecolor\": \"#EBF0F8\", \"showbackground\": true, \"ticks\": \"\", \"zerolinecolor\": \"#EBF0F8\"}, \"yaxis\": {\"backgroundcolor\": \"white\", \"gridcolor\": \"#DFE8F3\", \"gridwidth\": 2, \"linecolor\": \"#EBF0F8\", \"showbackground\": true, \"ticks\": \"\", \"zerolinecolor\": \"#EBF0F8\"}, \"zaxis\": {\"backgroundcolor\": \"white\", \"gridcolor\": \"#DFE8F3\", \"gridwidth\": 2, \"linecolor\": \"#EBF0F8\", \"showbackground\": true, \"ticks\": \"\", \"zerolinecolor\": \"#EBF0F8\"}}, \"shapedefaults\": {\"line\": {\"color\": \"#2a3f5f\"}}, \"ternary\": {\"aaxis\": {\"gridcolor\": \"#DFE8F3\", \"linecolor\": \"#A2B1C6\", \"ticks\": \"\"}, \"baxis\": {\"gridcolor\": \"#DFE8F3\", \"linecolor\": \"#A2B1C6\", \"ticks\": \"\"}, \"bgcolor\": \"white\", \"caxis\": {\"gridcolor\": \"#DFE8F3\", \"linecolor\": \"#A2B1C6\", \"ticks\": \"\"}}, \"title\": {\"x\": 0.05}, \"xaxis\": {\"automargin\": true, \"gridcolor\": \"#EBF0F8\", \"linecolor\": \"#EBF0F8\", \"ticks\": \"\", \"title\": {\"standoff\": 15}, \"zerolinecolor\": \"#EBF0F8\", \"zerolinewidth\": 2}, \"yaxis\": {\"automargin\": true, \"gridcolor\": \"#EBF0F8\", \"linecolor\": \"#EBF0F8\", \"ticks\": \"\", \"title\": {\"standoff\": 15}, \"zerolinecolor\": \"#EBF0F8\", \"zerolinewidth\": 2}}}, \"title\": {\"text\": \"NHL Corsi Ranking\"}, \"xaxis\": {\"anchor\": \"y\", \"domain\": [0.0, 1.0], \"showgrid\": false, \"title\": {\"text\": \"Corsi Z-Score\"}}, \"yaxis\": {\"anchor\": \"x\", \"categoryarray\": [\"ANA\", \"ARI\", \"BOS\", \"BUF\", \"CAR\", \"CBJ\", \"CAL\", \"CHI\", \"COL\", \"DAL\", \"DET\", \"EDM\", \"FLA\", \"LAK\", \"MIN\", \"MON\", \"NJD\", \"NSH\", \"NYI\", \"NYR\", \"OTT\", \"PHI\", \"PIT\", \"SJS\", \"STL\", \"TBL\", \"TOR\", \"VAN\", \"VGK\", \"WPG\", \"WAS\"], \"categoryorder\": \"total ascending\", \"domain\": [0.0, 1.0], \"showgrid\": false, \"showticklabels\": false, \"title\": {\"text\": \" \"}}},\n",
       "                        {\"responsive\": true}\n",
       "                    ).then(function(){\n",
       "                            \n",
       "var gd = document.getElementById('71f9b903-bdff-44f1-849f-8221b23d24a7');\n",
       "var x = new MutationObserver(function (mutations, observer) {{\n",
       "        var display = window.getComputedStyle(gd).display;\n",
       "        if (!display || display === 'none') {{\n",
       "            console.log([gd, 'removed!']);\n",
       "            Plotly.purge(gd);\n",
       "            observer.disconnect();\n",
       "        }}\n",
       "}});\n",
       "\n",
       "// Listen for the removal of the full notebook cells\n",
       "var notebookContainer = gd.closest('#notebook-container');\n",
       "if (notebookContainer) {{\n",
       "    x.observe(notebookContainer, {childList: true});\n",
       "}}\n",
       "\n",
       "// Listen for the clearing of the current output cell\n",
       "var outputEl = gd.closest('.output');\n",
       "if (outputEl) {{\n",
       "    x.observe(outputEl, {childList: true});\n",
       "}}\n",
       "\n",
       "                        })\n",
       "                };\n",
       "                });\n",
       "            </script>\n",
       "        </div>"
      ]
     },
     "metadata": {},
     "output_type": "display_data"
    }
   ],
   "source": [
    "fig = px.bar(df, x='corsi_z', y='Team', text=\"Team\", color=\"Team\", orientation=\"h\",\n",
    "                 template='plotly_white')\n",
    "\n",
    "fig.update_traces(textposition='outside',\n",
    ")\n",
    "\n",
    "fig.update_layout(title_text=\"NHL Corsi Ranking\",\n",
    "                  xaxis_title_text=\"Corsi Z-Score\",\n",
    "                  yaxis_title_text=\" \",\n",
    "                  xaxis_showgrid=False, \n",
    "                  yaxis_showgrid=False,\n",
    "                  yaxis={'categoryorder':'total ascending'},\n",
    "                  showlegend=False)\n",
    "\n",
    "# fig.update_xaxes(showticklabels=False)\n",
    "fig.update_yaxes(showticklabels=False)\n",
    "fig.update_layout(annotations=[\n",
    "       go.layout.Annotation(\n",
    "            showarrow=False,\n",
    "            text='Chart by: Aram Kaplanian',\n",
    "            xanchor='right',\n",
    "            x=1,\n",
    "            xref='paper',\n",
    "            xshift=15,\n",
    "            yanchor='auto',\n",
    "            y=-0.1,\n",
    "            yshift=7,\n",
    "            yref='paper',\n",
    "            font=dict(\n",
    "                size=8,\n",
    "                color='grey'\n",
    "            )\n",
    "        ),go.layout.Annotation(\n",
    "            showarrow=False,\n",
    "            text='Source: Corsica Hockey',\n",
    "            xanchor='right',\n",
    "            x=1,\n",
    "            xref='paper',\n",
    "            xshift=15,\n",
    "            yanchor='auto',\n",
    "            y=-0.1,\n",
    "            yshift=0,\n",
    "            yref='paper',\n",
    "            font=dict(\n",
    "                size=8,\n",
    "                color='grey'\n",
    "            ))])\n",
    "fig.show()\n",
    "\n",
    "fig.write_image(\"corsi_z.png\")"
   ]
  },
  {
   "cell_type": "code",
   "execution_count": 22,
   "metadata": {},
   "outputs": [],
   "source": [
    "high, mid, low = get_plot_points(df, 'FF')\n",
    "xhigh, xmid, xlow = get_plot_points(df, 'xGF')"
   ]
  },
  {
   "cell_type": "code",
   "execution_count": 23,
   "metadata": {},
   "outputs": [
    {
     "data": {
      "application/vnd.plotly.v1+json": {
       "config": {
        "plotlyServerURL": "https://plot.ly"
       },
       "data": [
        {
         "hoverlabel": {
          "namelength": 0
         },
         "hovertemplate": "xGF=%{x}<br>FF=%{y}<br>Team=%{text}",
         "legendgroup": "",
         "marker": {
          "color": "#636efa",
          "symbol": "circle"
         },
         "mode": "markers+text",
         "name": "",
         "showlegend": false,
         "text": [
          "WAS",
          "WPG",
          "VGK",
          "VAN",
          "TOR",
          "TBL",
          "STL",
          "SJS",
          "PIT",
          "PHI",
          "OTT",
          "NYR",
          "NYI",
          "NSH",
          "NJD",
          "MON",
          "MIN",
          "LAK",
          "FLA",
          "EDM",
          "DET",
          "DAL",
          "COL",
          "CHI",
          "CAL",
          "CBJ",
          "CAR",
          "BUF",
          "BOS",
          "ARI",
          "ANA"
         ],
         "textposition": "top center",
         "type": "scatter",
         "x": [
          197.6,
          176.78,
          214.41,
          183.95,
          208.64,
          185.66,
          176.38,
          177.39,
          186.92,
          181.99,
          196.87,
          183.9,
          177.1,
          190.02,
          182.35,
          202.73,
          163.43,
          189.15,
          189.96,
          192.81,
          158.05,
          182.61,
          178.13,
          188.32,
          191.91,
          160.42,
          219.11,
          160.33,
          182.26,
          178.75,
          175.42
         ],
         "xaxis": "x",
         "y": [
          2827,
          2843,
          3076,
          2746,
          3029,
          2742,
          2699,
          2612,
          2740,
          2680,
          2813,
          2670,
          2449,
          2954,
          2704,
          3080,
          2628,
          3051,
          2817,
          2642,
          2506,
          2635,
          2719,
          2675,
          2839,
          2679,
          2918,
          2578,
          2793,
          2816,
          2721
         ],
         "yaxis": "y"
        },
        {
         "hoverlabel": {
          "namelength": 0
         },
         "hovertemplate": "<b>OLS trendline</b><br>FF = 8.06727 * xGF + 1271.89<br>R<sup>2</sup>=0.542606<br><br>xGF=%{x}<br>FF=%{y} <b>(trend)</b>",
         "legendgroup": "",
         "marker": {
          "color": "#636efa",
          "symbol": "circle"
         },
         "mode": "lines",
         "name": "",
         "showlegend": false,
         "textposition": "top center",
         "type": "scatter",
         "x": [
          158.05,
          160.33,
          160.42,
          163.43,
          175.42,
          176.38,
          176.78,
          177.1,
          177.39,
          178.13,
          178.75,
          181.99,
          182.26,
          182.35,
          182.61,
          183.9,
          183.95,
          185.66,
          186.92,
          188.32,
          189.15,
          189.96,
          190.02,
          191.91,
          192.81,
          196.87,
          197.6,
          202.73,
          208.64,
          214.41,
          219.11
         ],
         "xaxis": "x",
         "y": [
          2546.9197050959588,
          2565.313079099098,
          2566.039133336064,
          2590.321613927928,
          2687.048172830402,
          2694.79275135804,
          2698.0196590778887,
          2700.6011852537677,
          2702.9406933506584,
          2708.910472632379,
          2713.912179598145,
          2740.050132128922,
          2742.22829483982,
          2742.9543490767865,
          2745.051839094688,
          2755.458616491201,
          2755.861979956182,
          2769.657010458537,
          2779.821769776061,
          2791.1159467955326,
          2797.8117803142195,
          2804.346268446914,
          2804.8303046048914,
          2820.0774435811777,
          2827.3379859508377,
          2860.0910993073057,
          2865.98020589603,
          2907.3652974030933,
          2955.0428589638623,
          3001.5910028226845,
          3039.507168530911
         ],
         "yaxis": "y"
        },
        {
         "mode": "text",
         "text": [
          "Lower Shot Quality",
          "Higher Shot Quality"
         ],
         "textfont": {
          "color": "grey"
         },
         "type": "scatter",
         "x": [
          163.05,
          214.11
         ],
         "y": [
          3080,
          2449
         ]
        }
       ],
       "layout": {
        "annotations": [
         {
          "font": {
           "color": "grey",
           "size": 8
          },
          "showarrow": false,
          "text": "Chart by: Aram Kaplanian",
          "x": 1,
          "xanchor": "right",
          "xref": "paper",
          "xshift": 15,
          "y": -0.1,
          "yanchor": "auto",
          "yref": "paper",
          "yshift": 7
         },
         {
          "font": {
           "color": "grey",
           "size": 8
          },
          "showarrow": false,
          "text": "Source: Corsica Hockey",
          "x": 1,
          "xanchor": "right",
          "xref": "paper",
          "xshift": 15,
          "y": -0.1,
          "yanchor": "auto",
          "yref": "paper",
          "yshift": 0
         }
        ],
        "legend": {
         "tracegroupgap": 0
        },
        "margin": {
         "t": 60
        },
        "showlegend": false,
        "template": {
         "data": {
          "bar": [
           {
            "error_x": {
             "color": "#2a3f5f"
            },
            "error_y": {
             "color": "#2a3f5f"
            },
            "marker": {
             "line": {
              "color": "white",
              "width": 0.5
             }
            },
            "type": "bar"
           }
          ],
          "barpolar": [
           {
            "marker": {
             "line": {
              "color": "white",
              "width": 0.5
             }
            },
            "type": "barpolar"
           }
          ],
          "carpet": [
           {
            "aaxis": {
             "endlinecolor": "#2a3f5f",
             "gridcolor": "#C8D4E3",
             "linecolor": "#C8D4E3",
             "minorgridcolor": "#C8D4E3",
             "startlinecolor": "#2a3f5f"
            },
            "baxis": {
             "endlinecolor": "#2a3f5f",
             "gridcolor": "#C8D4E3",
             "linecolor": "#C8D4E3",
             "minorgridcolor": "#C8D4E3",
             "startlinecolor": "#2a3f5f"
            },
            "type": "carpet"
           }
          ],
          "choropleth": [
           {
            "colorbar": {
             "outlinewidth": 0,
             "ticks": ""
            },
            "type": "choropleth"
           }
          ],
          "contour": [
           {
            "colorbar": {
             "outlinewidth": 0,
             "ticks": ""
            },
            "colorscale": [
             [
              0,
              "#0d0887"
             ],
             [
              0.1111111111111111,
              "#46039f"
             ],
             [
              0.2222222222222222,
              "#7201a8"
             ],
             [
              0.3333333333333333,
              "#9c179e"
             ],
             [
              0.4444444444444444,
              "#bd3786"
             ],
             [
              0.5555555555555556,
              "#d8576b"
             ],
             [
              0.6666666666666666,
              "#ed7953"
             ],
             [
              0.7777777777777778,
              "#fb9f3a"
             ],
             [
              0.8888888888888888,
              "#fdca26"
             ],
             [
              1,
              "#f0f921"
             ]
            ],
            "type": "contour"
           }
          ],
          "contourcarpet": [
           {
            "colorbar": {
             "outlinewidth": 0,
             "ticks": ""
            },
            "type": "contourcarpet"
           }
          ],
          "heatmap": [
           {
            "colorbar": {
             "outlinewidth": 0,
             "ticks": ""
            },
            "colorscale": [
             [
              0,
              "#0d0887"
             ],
             [
              0.1111111111111111,
              "#46039f"
             ],
             [
              0.2222222222222222,
              "#7201a8"
             ],
             [
              0.3333333333333333,
              "#9c179e"
             ],
             [
              0.4444444444444444,
              "#bd3786"
             ],
             [
              0.5555555555555556,
              "#d8576b"
             ],
             [
              0.6666666666666666,
              "#ed7953"
             ],
             [
              0.7777777777777778,
              "#fb9f3a"
             ],
             [
              0.8888888888888888,
              "#fdca26"
             ],
             [
              1,
              "#f0f921"
             ]
            ],
            "type": "heatmap"
           }
          ],
          "heatmapgl": [
           {
            "colorbar": {
             "outlinewidth": 0,
             "ticks": ""
            },
            "colorscale": [
             [
              0,
              "#0d0887"
             ],
             [
              0.1111111111111111,
              "#46039f"
             ],
             [
              0.2222222222222222,
              "#7201a8"
             ],
             [
              0.3333333333333333,
              "#9c179e"
             ],
             [
              0.4444444444444444,
              "#bd3786"
             ],
             [
              0.5555555555555556,
              "#d8576b"
             ],
             [
              0.6666666666666666,
              "#ed7953"
             ],
             [
              0.7777777777777778,
              "#fb9f3a"
             ],
             [
              0.8888888888888888,
              "#fdca26"
             ],
             [
              1,
              "#f0f921"
             ]
            ],
            "type": "heatmapgl"
           }
          ],
          "histogram": [
           {
            "marker": {
             "colorbar": {
              "outlinewidth": 0,
              "ticks": ""
             }
            },
            "type": "histogram"
           }
          ],
          "histogram2d": [
           {
            "colorbar": {
             "outlinewidth": 0,
             "ticks": ""
            },
            "colorscale": [
             [
              0,
              "#0d0887"
             ],
             [
              0.1111111111111111,
              "#46039f"
             ],
             [
              0.2222222222222222,
              "#7201a8"
             ],
             [
              0.3333333333333333,
              "#9c179e"
             ],
             [
              0.4444444444444444,
              "#bd3786"
             ],
             [
              0.5555555555555556,
              "#d8576b"
             ],
             [
              0.6666666666666666,
              "#ed7953"
             ],
             [
              0.7777777777777778,
              "#fb9f3a"
             ],
             [
              0.8888888888888888,
              "#fdca26"
             ],
             [
              1,
              "#f0f921"
             ]
            ],
            "type": "histogram2d"
           }
          ],
          "histogram2dcontour": [
           {
            "colorbar": {
             "outlinewidth": 0,
             "ticks": ""
            },
            "colorscale": [
             [
              0,
              "#0d0887"
             ],
             [
              0.1111111111111111,
              "#46039f"
             ],
             [
              0.2222222222222222,
              "#7201a8"
             ],
             [
              0.3333333333333333,
              "#9c179e"
             ],
             [
              0.4444444444444444,
              "#bd3786"
             ],
             [
              0.5555555555555556,
              "#d8576b"
             ],
             [
              0.6666666666666666,
              "#ed7953"
             ],
             [
              0.7777777777777778,
              "#fb9f3a"
             ],
             [
              0.8888888888888888,
              "#fdca26"
             ],
             [
              1,
              "#f0f921"
             ]
            ],
            "type": "histogram2dcontour"
           }
          ],
          "mesh3d": [
           {
            "colorbar": {
             "outlinewidth": 0,
             "ticks": ""
            },
            "type": "mesh3d"
           }
          ],
          "parcoords": [
           {
            "line": {
             "colorbar": {
              "outlinewidth": 0,
              "ticks": ""
             }
            },
            "type": "parcoords"
           }
          ],
          "pie": [
           {
            "automargin": true,
            "type": "pie"
           }
          ],
          "scatter": [
           {
            "marker": {
             "colorbar": {
              "outlinewidth": 0,
              "ticks": ""
             }
            },
            "type": "scatter"
           }
          ],
          "scatter3d": [
           {
            "line": {
             "colorbar": {
              "outlinewidth": 0,
              "ticks": ""
             }
            },
            "marker": {
             "colorbar": {
              "outlinewidth": 0,
              "ticks": ""
             }
            },
            "type": "scatter3d"
           }
          ],
          "scattercarpet": [
           {
            "marker": {
             "colorbar": {
              "outlinewidth": 0,
              "ticks": ""
             }
            },
            "type": "scattercarpet"
           }
          ],
          "scattergeo": [
           {
            "marker": {
             "colorbar": {
              "outlinewidth": 0,
              "ticks": ""
             }
            },
            "type": "scattergeo"
           }
          ],
          "scattergl": [
           {
            "marker": {
             "colorbar": {
              "outlinewidth": 0,
              "ticks": ""
             }
            },
            "type": "scattergl"
           }
          ],
          "scattermapbox": [
           {
            "marker": {
             "colorbar": {
              "outlinewidth": 0,
              "ticks": ""
             }
            },
            "type": "scattermapbox"
           }
          ],
          "scatterpolar": [
           {
            "marker": {
             "colorbar": {
              "outlinewidth": 0,
              "ticks": ""
             }
            },
            "type": "scatterpolar"
           }
          ],
          "scatterpolargl": [
           {
            "marker": {
             "colorbar": {
              "outlinewidth": 0,
              "ticks": ""
             }
            },
            "type": "scatterpolargl"
           }
          ],
          "scatterternary": [
           {
            "marker": {
             "colorbar": {
              "outlinewidth": 0,
              "ticks": ""
             }
            },
            "type": "scatterternary"
           }
          ],
          "surface": [
           {
            "colorbar": {
             "outlinewidth": 0,
             "ticks": ""
            },
            "colorscale": [
             [
              0,
              "#0d0887"
             ],
             [
              0.1111111111111111,
              "#46039f"
             ],
             [
              0.2222222222222222,
              "#7201a8"
             ],
             [
              0.3333333333333333,
              "#9c179e"
             ],
             [
              0.4444444444444444,
              "#bd3786"
             ],
             [
              0.5555555555555556,
              "#d8576b"
             ],
             [
              0.6666666666666666,
              "#ed7953"
             ],
             [
              0.7777777777777778,
              "#fb9f3a"
             ],
             [
              0.8888888888888888,
              "#fdca26"
             ],
             [
              1,
              "#f0f921"
             ]
            ],
            "type": "surface"
           }
          ],
          "table": [
           {
            "cells": {
             "fill": {
              "color": "#EBF0F8"
             },
             "line": {
              "color": "white"
             }
            },
            "header": {
             "fill": {
              "color": "#C8D4E3"
             },
             "line": {
              "color": "white"
             }
            },
            "type": "table"
           }
          ]
         },
         "layout": {
          "annotationdefaults": {
           "arrowcolor": "#2a3f5f",
           "arrowhead": 0,
           "arrowwidth": 1
          },
          "coloraxis": {
           "colorbar": {
            "outlinewidth": 0,
            "ticks": ""
           }
          },
          "colorscale": {
           "diverging": [
            [
             0,
             "#8e0152"
            ],
            [
             0.1,
             "#c51b7d"
            ],
            [
             0.2,
             "#de77ae"
            ],
            [
             0.3,
             "#f1b6da"
            ],
            [
             0.4,
             "#fde0ef"
            ],
            [
             0.5,
             "#f7f7f7"
            ],
            [
             0.6,
             "#e6f5d0"
            ],
            [
             0.7,
             "#b8e186"
            ],
            [
             0.8,
             "#7fbc41"
            ],
            [
             0.9,
             "#4d9221"
            ],
            [
             1,
             "#276419"
            ]
           ],
           "sequential": [
            [
             0,
             "#0d0887"
            ],
            [
             0.1111111111111111,
             "#46039f"
            ],
            [
             0.2222222222222222,
             "#7201a8"
            ],
            [
             0.3333333333333333,
             "#9c179e"
            ],
            [
             0.4444444444444444,
             "#bd3786"
            ],
            [
             0.5555555555555556,
             "#d8576b"
            ],
            [
             0.6666666666666666,
             "#ed7953"
            ],
            [
             0.7777777777777778,
             "#fb9f3a"
            ],
            [
             0.8888888888888888,
             "#fdca26"
            ],
            [
             1,
             "#f0f921"
            ]
           ],
           "sequentialminus": [
            [
             0,
             "#0d0887"
            ],
            [
             0.1111111111111111,
             "#46039f"
            ],
            [
             0.2222222222222222,
             "#7201a8"
            ],
            [
             0.3333333333333333,
             "#9c179e"
            ],
            [
             0.4444444444444444,
             "#bd3786"
            ],
            [
             0.5555555555555556,
             "#d8576b"
            ],
            [
             0.6666666666666666,
             "#ed7953"
            ],
            [
             0.7777777777777778,
             "#fb9f3a"
            ],
            [
             0.8888888888888888,
             "#fdca26"
            ],
            [
             1,
             "#f0f921"
            ]
           ]
          },
          "colorway": [
           "#636efa",
           "#EF553B",
           "#00cc96",
           "#ab63fa",
           "#FFA15A",
           "#19d3f3",
           "#FF6692",
           "#B6E880",
           "#FF97FF",
           "#FECB52"
          ],
          "font": {
           "color": "#2a3f5f"
          },
          "geo": {
           "bgcolor": "white",
           "lakecolor": "white",
           "landcolor": "white",
           "showlakes": true,
           "showland": true,
           "subunitcolor": "#C8D4E3"
          },
          "hoverlabel": {
           "align": "left"
          },
          "hovermode": "closest",
          "mapbox": {
           "style": "light"
          },
          "paper_bgcolor": "white",
          "plot_bgcolor": "white",
          "polar": {
           "angularaxis": {
            "gridcolor": "#EBF0F8",
            "linecolor": "#EBF0F8",
            "ticks": ""
           },
           "bgcolor": "white",
           "radialaxis": {
            "gridcolor": "#EBF0F8",
            "linecolor": "#EBF0F8",
            "ticks": ""
           }
          },
          "scene": {
           "xaxis": {
            "backgroundcolor": "white",
            "gridcolor": "#DFE8F3",
            "gridwidth": 2,
            "linecolor": "#EBF0F8",
            "showbackground": true,
            "ticks": "",
            "zerolinecolor": "#EBF0F8"
           },
           "yaxis": {
            "backgroundcolor": "white",
            "gridcolor": "#DFE8F3",
            "gridwidth": 2,
            "linecolor": "#EBF0F8",
            "showbackground": true,
            "ticks": "",
            "zerolinecolor": "#EBF0F8"
           },
           "zaxis": {
            "backgroundcolor": "white",
            "gridcolor": "#DFE8F3",
            "gridwidth": 2,
            "linecolor": "#EBF0F8",
            "showbackground": true,
            "ticks": "",
            "zerolinecolor": "#EBF0F8"
           }
          },
          "shapedefaults": {
           "line": {
            "color": "#2a3f5f"
           }
          },
          "ternary": {
           "aaxis": {
            "gridcolor": "#DFE8F3",
            "linecolor": "#A2B1C6",
            "ticks": ""
           },
           "baxis": {
            "gridcolor": "#DFE8F3",
            "linecolor": "#A2B1C6",
            "ticks": ""
           },
           "bgcolor": "white",
           "caxis": {
            "gridcolor": "#DFE8F3",
            "linecolor": "#A2B1C6",
            "ticks": ""
           }
          },
          "title": {
           "x": 0.05
          },
          "xaxis": {
           "automargin": true,
           "gridcolor": "#EBF0F8",
           "linecolor": "#EBF0F8",
           "ticks": "",
           "title": {
            "standoff": 15
           },
           "zerolinecolor": "#EBF0F8",
           "zerolinewidth": 2
          },
          "yaxis": {
           "automargin": true,
           "gridcolor": "#EBF0F8",
           "linecolor": "#EBF0F8",
           "ticks": "",
           "title": {
            "standoff": 15
           },
           "zerolinecolor": "#EBF0F8",
           "zerolinewidth": 2
          }
         }
        },
        "title": {
         "text": "NHL Shot Quality"
        },
        "xaxis": {
         "anchor": "y",
         "domain": [
          0,
          1
         ],
         "showgrid": false,
         "title": {
          "text": "Expected Goals For"
         },
         "zeroline": false
        },
        "yaxis": {
         "anchor": "x",
         "domain": [
          0,
          1
         ],
         "showgrid": false,
         "title": {
          "text": "Fenwick For"
         },
         "zeroline": false
        }
       }
      },
      "text/html": [
       "<div>\n",
       "        \n",
       "        \n",
       "            <div id=\"4de985c7-fe88-4af6-bf8f-ef6820c5ef13\" class=\"plotly-graph-div\" style=\"height:525px; width:100%;\"></div>\n",
       "            <script type=\"text/javascript\">\n",
       "                require([\"plotly\"], function(Plotly) {\n",
       "                    window.PLOTLYENV=window.PLOTLYENV || {};\n",
       "                    \n",
       "                if (document.getElementById(\"4de985c7-fe88-4af6-bf8f-ef6820c5ef13\")) {\n",
       "                    Plotly.newPlot(\n",
       "                        '4de985c7-fe88-4af6-bf8f-ef6820c5ef13',\n",
       "                        [{\"hoverlabel\": {\"namelength\": 0}, \"hovertemplate\": \"xGF=%{x}<br>FF=%{y}<br>Team=%{text}\", \"legendgroup\": \"\", \"marker\": {\"color\": \"#636efa\", \"symbol\": \"circle\"}, \"mode\": \"markers+text\", \"name\": \"\", \"showlegend\": false, \"text\": [\"WAS\", \"WPG\", \"VGK\", \"VAN\", \"TOR\", \"TBL\", \"STL\", \"SJS\", \"PIT\", \"PHI\", \"OTT\", \"NYR\", \"NYI\", \"NSH\", \"NJD\", \"MON\", \"MIN\", \"LAK\", \"FLA\", \"EDM\", \"DET\", \"DAL\", \"COL\", \"CHI\", \"CAL\", \"CBJ\", \"CAR\", \"BUF\", \"BOS\", \"ARI\", \"ANA\"], \"textposition\": \"top center\", \"type\": \"scatter\", \"x\": [197.6, 176.78, 214.41, 183.95, 208.64, 185.66, 176.38, 177.39, 186.92, 181.99, 196.87, 183.9, 177.1, 190.02, 182.35, 202.73, 163.43, 189.15, 189.96, 192.81, 158.05, 182.61, 178.13, 188.32, 191.91, 160.42, 219.11, 160.33, 182.26, 178.75, 175.42], \"xaxis\": \"x\", \"y\": [2827, 2843, 3076, 2746, 3029, 2742, 2699, 2612, 2740, 2680, 2813, 2670, 2449, 2954, 2704, 3080, 2628, 3051, 2817, 2642, 2506, 2635, 2719, 2675, 2839, 2679, 2918, 2578, 2793, 2816, 2721], \"yaxis\": \"y\"}, {\"hoverlabel\": {\"namelength\": 0}, \"hovertemplate\": \"<b>OLS trendline</b><br>FF = 8.06727 * xGF + 1271.89<br>R<sup>2</sup>=0.542606<br><br>xGF=%{x}<br>FF=%{y} <b>(trend)</b>\", \"legendgroup\": \"\", \"marker\": {\"color\": \"#636efa\", \"symbol\": \"circle\"}, \"mode\": \"lines\", \"name\": \"\", \"showlegend\": false, \"textposition\": \"top center\", \"type\": \"scatter\", \"x\": [158.05, 160.33, 160.42, 163.43, 175.42, 176.38, 176.78, 177.1, 177.39, 178.13, 178.75, 181.99, 182.26, 182.35, 182.61, 183.9, 183.95, 185.66, 186.92, 188.32, 189.15, 189.96, 190.02, 191.91, 192.81, 196.87, 197.6, 202.73, 208.64, 214.41, 219.11], \"xaxis\": \"x\", \"y\": [2546.9197050959588, 2565.313079099098, 2566.039133336064, 2590.321613927928, 2687.048172830402, 2694.79275135804, 2698.0196590778887, 2700.6011852537677, 2702.9406933506584, 2708.910472632379, 2713.912179598145, 2740.050132128922, 2742.22829483982, 2742.9543490767865, 2745.051839094688, 2755.458616491201, 2755.861979956182, 2769.657010458537, 2779.821769776061, 2791.1159467955326, 2797.8117803142195, 2804.346268446914, 2804.8303046048914, 2820.0774435811777, 2827.3379859508377, 2860.0910993073057, 2865.98020589603, 2907.3652974030933, 2955.0428589638623, 3001.5910028226845, 3039.507168530911], \"yaxis\": \"y\"}, {\"mode\": \"text\", \"text\": [\"Lower Shot Quality\", \"Higher Shot Quality\"], \"textfont\": {\"color\": \"grey\"}, \"type\": \"scatter\", \"x\": [163.05, 214.11], \"y\": [3080.0, 2449.0]}],\n",
       "                        {\"annotations\": [{\"font\": {\"color\": \"grey\", \"size\": 8}, \"showarrow\": false, \"text\": \"Chart by: Aram Kaplanian\", \"x\": 1, \"xanchor\": \"right\", \"xref\": \"paper\", \"xshift\": 15, \"y\": -0.1, \"yanchor\": \"auto\", \"yref\": \"paper\", \"yshift\": 7}, {\"font\": {\"color\": \"grey\", \"size\": 8}, \"showarrow\": false, \"text\": \"Source: Corsica Hockey\", \"x\": 1, \"xanchor\": \"right\", \"xref\": \"paper\", \"xshift\": 15, \"y\": -0.1, \"yanchor\": \"auto\", \"yref\": \"paper\", \"yshift\": 0}], \"legend\": {\"tracegroupgap\": 0}, \"margin\": {\"t\": 60}, \"showlegend\": false, \"template\": {\"data\": {\"bar\": [{\"error_x\": {\"color\": \"#2a3f5f\"}, \"error_y\": {\"color\": \"#2a3f5f\"}, \"marker\": {\"line\": {\"color\": \"white\", \"width\": 0.5}}, \"type\": \"bar\"}], \"barpolar\": [{\"marker\": {\"line\": {\"color\": \"white\", \"width\": 0.5}}, \"type\": \"barpolar\"}], \"carpet\": [{\"aaxis\": {\"endlinecolor\": \"#2a3f5f\", \"gridcolor\": \"#C8D4E3\", \"linecolor\": \"#C8D4E3\", \"minorgridcolor\": \"#C8D4E3\", \"startlinecolor\": \"#2a3f5f\"}, \"baxis\": {\"endlinecolor\": \"#2a3f5f\", \"gridcolor\": \"#C8D4E3\", \"linecolor\": \"#C8D4E3\", \"minorgridcolor\": \"#C8D4E3\", \"startlinecolor\": \"#2a3f5f\"}, \"type\": \"carpet\"}], \"choropleth\": [{\"colorbar\": {\"outlinewidth\": 0, \"ticks\": \"\"}, \"type\": \"choropleth\"}], \"contour\": [{\"colorbar\": {\"outlinewidth\": 0, \"ticks\": \"\"}, \"colorscale\": [[0.0, \"#0d0887\"], [0.1111111111111111, \"#46039f\"], [0.2222222222222222, \"#7201a8\"], [0.3333333333333333, \"#9c179e\"], [0.4444444444444444, \"#bd3786\"], [0.5555555555555556, \"#d8576b\"], [0.6666666666666666, \"#ed7953\"], [0.7777777777777778, \"#fb9f3a\"], [0.8888888888888888, \"#fdca26\"], [1.0, \"#f0f921\"]], \"type\": \"contour\"}], \"contourcarpet\": [{\"colorbar\": {\"outlinewidth\": 0, \"ticks\": \"\"}, \"type\": \"contourcarpet\"}], \"heatmap\": [{\"colorbar\": {\"outlinewidth\": 0, \"ticks\": \"\"}, \"colorscale\": [[0.0, \"#0d0887\"], [0.1111111111111111, \"#46039f\"], [0.2222222222222222, \"#7201a8\"], [0.3333333333333333, \"#9c179e\"], [0.4444444444444444, \"#bd3786\"], [0.5555555555555556, \"#d8576b\"], [0.6666666666666666, \"#ed7953\"], [0.7777777777777778, \"#fb9f3a\"], [0.8888888888888888, \"#fdca26\"], [1.0, \"#f0f921\"]], \"type\": \"heatmap\"}], \"heatmapgl\": [{\"colorbar\": {\"outlinewidth\": 0, \"ticks\": \"\"}, \"colorscale\": [[0.0, \"#0d0887\"], [0.1111111111111111, \"#46039f\"], [0.2222222222222222, \"#7201a8\"], [0.3333333333333333, \"#9c179e\"], [0.4444444444444444, \"#bd3786\"], [0.5555555555555556, \"#d8576b\"], [0.6666666666666666, \"#ed7953\"], [0.7777777777777778, \"#fb9f3a\"], [0.8888888888888888, \"#fdca26\"], [1.0, \"#f0f921\"]], \"type\": \"heatmapgl\"}], \"histogram\": [{\"marker\": {\"colorbar\": {\"outlinewidth\": 0, \"ticks\": \"\"}}, \"type\": \"histogram\"}], \"histogram2d\": [{\"colorbar\": {\"outlinewidth\": 0, \"ticks\": \"\"}, \"colorscale\": [[0.0, \"#0d0887\"], [0.1111111111111111, \"#46039f\"], [0.2222222222222222, \"#7201a8\"], [0.3333333333333333, \"#9c179e\"], [0.4444444444444444, \"#bd3786\"], [0.5555555555555556, \"#d8576b\"], [0.6666666666666666, \"#ed7953\"], [0.7777777777777778, \"#fb9f3a\"], [0.8888888888888888, \"#fdca26\"], [1.0, \"#f0f921\"]], \"type\": \"histogram2d\"}], \"histogram2dcontour\": [{\"colorbar\": {\"outlinewidth\": 0, \"ticks\": \"\"}, \"colorscale\": [[0.0, \"#0d0887\"], [0.1111111111111111, \"#46039f\"], [0.2222222222222222, \"#7201a8\"], [0.3333333333333333, \"#9c179e\"], [0.4444444444444444, \"#bd3786\"], [0.5555555555555556, \"#d8576b\"], [0.6666666666666666, \"#ed7953\"], [0.7777777777777778, \"#fb9f3a\"], [0.8888888888888888, \"#fdca26\"], [1.0, \"#f0f921\"]], \"type\": \"histogram2dcontour\"}], \"mesh3d\": [{\"colorbar\": {\"outlinewidth\": 0, \"ticks\": \"\"}, \"type\": \"mesh3d\"}], \"parcoords\": [{\"line\": {\"colorbar\": {\"outlinewidth\": 0, \"ticks\": \"\"}}, \"type\": \"parcoords\"}], \"pie\": [{\"automargin\": true, \"type\": \"pie\"}], \"scatter\": [{\"marker\": {\"colorbar\": {\"outlinewidth\": 0, \"ticks\": \"\"}}, \"type\": \"scatter\"}], \"scatter3d\": [{\"line\": {\"colorbar\": {\"outlinewidth\": 0, \"ticks\": \"\"}}, \"marker\": {\"colorbar\": {\"outlinewidth\": 0, \"ticks\": \"\"}}, \"type\": \"scatter3d\"}], \"scattercarpet\": [{\"marker\": {\"colorbar\": {\"outlinewidth\": 0, \"ticks\": \"\"}}, \"type\": \"scattercarpet\"}], \"scattergeo\": [{\"marker\": {\"colorbar\": {\"outlinewidth\": 0, \"ticks\": \"\"}}, \"type\": \"scattergeo\"}], \"scattergl\": [{\"marker\": {\"colorbar\": {\"outlinewidth\": 0, \"ticks\": \"\"}}, \"type\": \"scattergl\"}], \"scattermapbox\": [{\"marker\": {\"colorbar\": {\"outlinewidth\": 0, \"ticks\": \"\"}}, \"type\": \"scattermapbox\"}], \"scatterpolar\": [{\"marker\": {\"colorbar\": {\"outlinewidth\": 0, \"ticks\": \"\"}}, \"type\": \"scatterpolar\"}], \"scatterpolargl\": [{\"marker\": {\"colorbar\": {\"outlinewidth\": 0, \"ticks\": \"\"}}, \"type\": \"scatterpolargl\"}], \"scatterternary\": [{\"marker\": {\"colorbar\": {\"outlinewidth\": 0, \"ticks\": \"\"}}, \"type\": \"scatterternary\"}], \"surface\": [{\"colorbar\": {\"outlinewidth\": 0, \"ticks\": \"\"}, \"colorscale\": [[0.0, \"#0d0887\"], [0.1111111111111111, \"#46039f\"], [0.2222222222222222, \"#7201a8\"], [0.3333333333333333, \"#9c179e\"], [0.4444444444444444, \"#bd3786\"], [0.5555555555555556, \"#d8576b\"], [0.6666666666666666, \"#ed7953\"], [0.7777777777777778, \"#fb9f3a\"], [0.8888888888888888, \"#fdca26\"], [1.0, \"#f0f921\"]], \"type\": \"surface\"}], \"table\": [{\"cells\": {\"fill\": {\"color\": \"#EBF0F8\"}, \"line\": {\"color\": \"white\"}}, \"header\": {\"fill\": {\"color\": \"#C8D4E3\"}, \"line\": {\"color\": \"white\"}}, \"type\": \"table\"}]}, \"layout\": {\"annotationdefaults\": {\"arrowcolor\": \"#2a3f5f\", \"arrowhead\": 0, \"arrowwidth\": 1}, \"coloraxis\": {\"colorbar\": {\"outlinewidth\": 0, \"ticks\": \"\"}}, \"colorscale\": {\"diverging\": [[0, \"#8e0152\"], [0.1, \"#c51b7d\"], [0.2, \"#de77ae\"], [0.3, \"#f1b6da\"], [0.4, \"#fde0ef\"], [0.5, \"#f7f7f7\"], [0.6, \"#e6f5d0\"], [0.7, \"#b8e186\"], [0.8, \"#7fbc41\"], [0.9, \"#4d9221\"], [1, \"#276419\"]], \"sequential\": [[0.0, \"#0d0887\"], [0.1111111111111111, \"#46039f\"], [0.2222222222222222, \"#7201a8\"], [0.3333333333333333, \"#9c179e\"], [0.4444444444444444, \"#bd3786\"], [0.5555555555555556, \"#d8576b\"], [0.6666666666666666, \"#ed7953\"], [0.7777777777777778, \"#fb9f3a\"], [0.8888888888888888, \"#fdca26\"], [1.0, \"#f0f921\"]], \"sequentialminus\": [[0.0, \"#0d0887\"], [0.1111111111111111, \"#46039f\"], [0.2222222222222222, \"#7201a8\"], [0.3333333333333333, \"#9c179e\"], [0.4444444444444444, \"#bd3786\"], [0.5555555555555556, \"#d8576b\"], [0.6666666666666666, \"#ed7953\"], [0.7777777777777778, \"#fb9f3a\"], [0.8888888888888888, \"#fdca26\"], [1.0, \"#f0f921\"]]}, \"colorway\": [\"#636efa\", \"#EF553B\", \"#00cc96\", \"#ab63fa\", \"#FFA15A\", \"#19d3f3\", \"#FF6692\", \"#B6E880\", \"#FF97FF\", \"#FECB52\"], \"font\": {\"color\": \"#2a3f5f\"}, \"geo\": {\"bgcolor\": \"white\", \"lakecolor\": \"white\", \"landcolor\": \"white\", \"showlakes\": true, \"showland\": true, \"subunitcolor\": \"#C8D4E3\"}, \"hoverlabel\": {\"align\": \"left\"}, \"hovermode\": \"closest\", \"mapbox\": {\"style\": \"light\"}, \"paper_bgcolor\": \"white\", \"plot_bgcolor\": \"white\", \"polar\": {\"angularaxis\": {\"gridcolor\": \"#EBF0F8\", \"linecolor\": \"#EBF0F8\", \"ticks\": \"\"}, \"bgcolor\": \"white\", \"radialaxis\": {\"gridcolor\": \"#EBF0F8\", \"linecolor\": \"#EBF0F8\", \"ticks\": \"\"}}, \"scene\": {\"xaxis\": {\"backgroundcolor\": \"white\", \"gridcolor\": \"#DFE8F3\", \"gridwidth\": 2, \"linecolor\": \"#EBF0F8\", \"showbackground\": true, \"ticks\": \"\", \"zerolinecolor\": \"#EBF0F8\"}, \"yaxis\": {\"backgroundcolor\": \"white\", \"gridcolor\": \"#DFE8F3\", \"gridwidth\": 2, \"linecolor\": \"#EBF0F8\", \"showbackground\": true, \"ticks\": \"\", \"zerolinecolor\": \"#EBF0F8\"}, \"zaxis\": {\"backgroundcolor\": \"white\", \"gridcolor\": \"#DFE8F3\", \"gridwidth\": 2, \"linecolor\": \"#EBF0F8\", \"showbackground\": true, \"ticks\": \"\", \"zerolinecolor\": \"#EBF0F8\"}}, \"shapedefaults\": {\"line\": {\"color\": \"#2a3f5f\"}}, \"ternary\": {\"aaxis\": {\"gridcolor\": \"#DFE8F3\", \"linecolor\": \"#A2B1C6\", \"ticks\": \"\"}, \"baxis\": {\"gridcolor\": \"#DFE8F3\", \"linecolor\": \"#A2B1C6\", \"ticks\": \"\"}, \"bgcolor\": \"white\", \"caxis\": {\"gridcolor\": \"#DFE8F3\", \"linecolor\": \"#A2B1C6\", \"ticks\": \"\"}}, \"title\": {\"x\": 0.05}, \"xaxis\": {\"automargin\": true, \"gridcolor\": \"#EBF0F8\", \"linecolor\": \"#EBF0F8\", \"ticks\": \"\", \"title\": {\"standoff\": 15}, \"zerolinecolor\": \"#EBF0F8\", \"zerolinewidth\": 2}, \"yaxis\": {\"automargin\": true, \"gridcolor\": \"#EBF0F8\", \"linecolor\": \"#EBF0F8\", \"ticks\": \"\", \"title\": {\"standoff\": 15}, \"zerolinecolor\": \"#EBF0F8\", \"zerolinewidth\": 2}}}, \"title\": {\"text\": \"NHL Shot Quality\"}, \"xaxis\": {\"anchor\": \"y\", \"domain\": [0.0, 1.0], \"showgrid\": false, \"title\": {\"text\": \"Expected Goals For\"}, \"zeroline\": false}, \"yaxis\": {\"anchor\": \"x\", \"domain\": [0.0, 1.0], \"showgrid\": false, \"title\": {\"text\": \"Fenwick For\"}, \"zeroline\": false}},\n",
       "                        {\"responsive\": true}\n",
       "                    ).then(function(){\n",
       "                            \n",
       "var gd = document.getElementById('4de985c7-fe88-4af6-bf8f-ef6820c5ef13');\n",
       "var x = new MutationObserver(function (mutations, observer) {{\n",
       "        var display = window.getComputedStyle(gd).display;\n",
       "        if (!display || display === 'none') {{\n",
       "            console.log([gd, 'removed!']);\n",
       "            Plotly.purge(gd);\n",
       "            observer.disconnect();\n",
       "        }}\n",
       "}});\n",
       "\n",
       "// Listen for the removal of the full notebook cells\n",
       "var notebookContainer = gd.closest('#notebook-container');\n",
       "if (notebookContainer) {{\n",
       "    x.observe(notebookContainer, {childList: true});\n",
       "}}\n",
       "\n",
       "// Listen for the clearing of the current output cell\n",
       "var outputEl = gd.closest('.output');\n",
       "if (outputEl) {{\n",
       "    x.observe(outputEl, {childList: true});\n",
       "}}\n",
       "\n",
       "                        })\n",
       "                };\n",
       "                });\n",
       "            </script>\n",
       "        </div>"
      ]
     },
     "metadata": {},
     "output_type": "display_data"
    }
   ],
   "source": [
    "fig = px.scatter(df, x='xGF', y='FF', text=\"Team\", trendline='ols',\n",
    "                 template='plotly_white')\n",
    "fig.update_traces(textposition='top center')\n",
    "\n",
    "fig.add_trace(go.Scatter(\n",
    "    x=[xlow+5, xhigh-5],\n",
    "    y=[high, low],\n",
    "    mode=\"text\",\n",
    "    text=[\"Lower Shot Quality\",\n",
    "          \"Higher Shot Quality\"],\n",
    "#     textposition=\"bottom center\",\n",
    "    textfont=dict(\n",
    "        color=\"grey\"\n",
    "    )\n",
    "))\n",
    "fig.update_layout(title_text=\"NHL Shot Quality\",\n",
    "                  xaxis_title_text=\"Expected Goals For\",\n",
    "                  yaxis_title_text='Fenwick For',\n",
    "                  xaxis_showgrid=False, yaxis_showgrid=False,\n",
    "                  showlegend=False)\n",
    "fig.update_xaxes(zeroline=False)\n",
    "fig.update_yaxes(zeroline=False)\n",
    "\n",
    "fig.update_layout(annotations=[\n",
    "       go.layout.Annotation(\n",
    "            showarrow=False,\n",
    "            text='Chart by: Aram Kaplanian',\n",
    "            xanchor='right',\n",
    "            x=1,\n",
    "            xref='paper',\n",
    "            xshift=15,\n",
    "            yanchor='auto',\n",
    "            y=-0.1,\n",
    "            yshift=7,\n",
    "            yref='paper',\n",
    "            font=dict(\n",
    "                size=8,\n",
    "                color='grey'\n",
    "            )\n",
    "        ),go.layout.Annotation(\n",
    "            showarrow=False,\n",
    "            text='Source: Corsica Hockey',\n",
    "            xanchor='right',\n",
    "            x=1,\n",
    "            xref='paper',\n",
    "            xshift=15,\n",
    "            yanchor='auto',\n",
    "            y=-0.1,\n",
    "            yshift=0,\n",
    "            yref='paper',\n",
    "            font=dict(\n",
    "                size=8,\n",
    "                color='grey'\n",
    "            ))])\n",
    "fig.show()\n",
    "fig.write_image(\"shot-qual-dots.png\")"
   ]
  },
  {
   "cell_type": "code",
   "execution_count": 24,
   "metadata": {},
   "outputs": [],
   "source": [
    "high, mid, low = get_plot_points(df, 'FA')\n",
    "xhigh, xmid, xlow = get_plot_points(df, 'xGA')"
   ]
  },
  {
   "cell_type": "code",
   "execution_count": 27,
   "metadata": {},
   "outputs": [
    {
     "ename": "TypeError",
     "evalue": "scatter() got an unexpected keyword argument 'colors'",
     "output_type": "error",
     "traceback": [
      "\u001b[1;31m---------------------------------------------------------------------------\u001b[0m",
      "\u001b[1;31mTypeError\u001b[0m                                 Traceback (most recent call last)",
      "\u001b[1;32m<ipython-input-27-517dca3998b8>\u001b[0m in \u001b[0;36m<module>\u001b[1;34m\u001b[0m\n\u001b[0;32m      1\u001b[0m fig = px.scatter(df, x='xGA', y='FA', text=\"Team\", trendline='ols', colors='red',\n\u001b[1;32m----> 2\u001b[1;33m                  template='plotly_white')\n\u001b[0m\u001b[0;32m      3\u001b[0m \u001b[0mfig\u001b[0m\u001b[1;33m.\u001b[0m\u001b[0mupdate_traces\u001b[0m\u001b[1;33m(\u001b[0m\u001b[0mtextposition\u001b[0m\u001b[1;33m=\u001b[0m\u001b[1;34m'top center'\u001b[0m\u001b[1;33m)\u001b[0m\u001b[1;33m\u001b[0m\u001b[1;33m\u001b[0m\u001b[0m\n\u001b[0;32m      4\u001b[0m \u001b[1;33m\u001b[0m\u001b[0m\n\u001b[0;32m      5\u001b[0m fig.add_trace(go.Scatter(\n",
      "\u001b[1;31mTypeError\u001b[0m: scatter() got an unexpected keyword argument 'colors'"
     ]
    }
   ],
   "source": [
    "fig = px.scatter(df, x='xGA', y='FA', text=\"Team\", trendline='ols',\n",
    "                 template='plotly_white')\n",
    "fig.update_traces(textposition='top center')\n",
    "\n",
    "\n",
    "fig.add_trace(go.Scatter(\n",
    "    x=[xlow+10, xhigh-10],\n",
    "    y=[high, low],\n",
    "    mode=\"text\",\n",
    "    text=[\"Less quality shots allowed\",\n",
    "          \"More quality shots allowed\"],\n",
    "#     textposition=\"bottom center\",\n",
    "    textfont=dict(\n",
    "        color=\"grey\"\n",
    "    )\n",
    "))\n",
    "fig.update_layout(title_text=\"NHL Quality Shots Allowed\",\n",
    "                  xaxis_title_text=\"Expected Goals Against\",\n",
    "                  yaxis_title_text='Fenwick Against',\n",
    "                  xaxis_showgrid=False, yaxis_showgrid=False,\n",
    "                  showlegend=False)\n",
    "fig.update_xaxes(zeroline=False)\n",
    "fig.update_yaxes(zeroline=False)\n",
    "\n",
    "fig.update_layout(annotations=[\n",
    "       go.layout.Annotation(\n",
    "            showarrow=False,\n",
    "            text='Chart by: Aram Kaplanian',\n",
    "            xanchor='right',\n",
    "            x=1,\n",
    "            xref='paper',\n",
    "            xshift=15,\n",
    "            yanchor='auto',\n",
    "            y=-0.1,\n",
    "            yshift=7,\n",
    "            yref='paper',\n",
    "            font=dict(\n",
    "                size=8,\n",
    "                color='grey'\n",
    "            )\n",
    "        ),go.layout.Annotation(\n",
    "            showarrow=False,\n",
    "            text='Source: Corsica Hockey',\n",
    "            xanchor='right',\n",
    "            x=1,\n",
    "            xref='paper',\n",
    "            xshift=15,\n",
    "            yanchor='auto',\n",
    "            y=-0.1,\n",
    "            yshift=0,\n",
    "            yref='paper',\n",
    "            font=dict(\n",
    "                size=8,\n",
    "                color='grey'\n",
    "            ))])\n",
    "fig.show()\n",
    "fig.write_image(\"shot-qual-allow-dots.png\")"
   ]
  }
 ],
 "metadata": {
  "kernelspec": {
   "display_name": "Python 3",
   "language": "python",
   "name": "python3"
  },
  "language_info": {
   "codemirror_mode": {
    "name": "ipython",
    "version": 3
   },
   "file_extension": ".py",
   "mimetype": "text/x-python",
   "name": "python",
   "nbconvert_exporter": "python",
   "pygments_lexer": "ipython3",
   "version": "3.7.5"
  }
 },
 "nbformat": 4,
 "nbformat_minor": 4
}
