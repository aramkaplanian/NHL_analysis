{
 "cells": [
  {
   "cell_type": "code",
   "execution_count": 1,
   "metadata": {},
   "outputs": [],
   "source": [
    "import numpy as np\n",
    "import pandas as pd\n",
    "import plotly.express as px\n",
    "import plotly.graph_objects as go\n",
    "# from nhlscrapi.games.game import Game, GameKey, GameType\n",
    "# from nhlscrapi.games.cumstats import Score, ShotCt, Corsi, Fenwick"
   ]
  },
  {
   "cell_type": "code",
   "execution_count": 2,
   "metadata": {},
   "outputs": [],
   "source": [
    "df = pd.read_csv('team_data.csv')"
   ]
  },
  {
   "cell_type": "code",
   "execution_count": 3,
   "metadata": {},
   "outputs": [
    {
     "data": {
      "text/plain": [
       "Index(['Team', 'Season', 'GP', 'TOI', 'CF', 'CA', 'C+/-', 'CF%', 'CF/60',\n",
       "       'CA/60', 'GF', 'GA', 'G+/-', 'GF%', 'GF/60', 'GA/60', 'xGF', 'xGA',\n",
       "       'xG+/-', 'xGF%', 'xGF/60', 'xGA/60', 'PENT', 'PEND', 'P+/-', 'Sh%',\n",
       "       'Sv%', 'PDO'],\n",
       "      dtype='object')"
      ]
     },
     "execution_count": 3,
     "metadata": {},
     "output_type": "execute_result"
    }
   ],
   "source": [
    "df.columns"
   ]
  },
  {
   "cell_type": "code",
   "execution_count": 27,
   "metadata": {},
   "outputs": [],
   "source": [
    "def get_plot_points(df, col):\n",
    "    high = max(df[col])\n",
    "    low = min(df[col])\n",
    "    mid = (high + low) / 2\n",
    "    return high, mid, low\n",
    "\n",
    "high, mid, low = get_plot_points(df, 'G+/-')\n",
    "xhigh, xmid, xlow = get_plot_points(df, 'xG+/-')"
   ]
  },
  {
   "cell_type": "code",
   "execution_count": 25,
   "metadata": {},
   "outputs": [
    {
     "name": "stdout",
     "output_type": "stream",
     "text": [
      "[-68. -39. -10.  19.  48.]\n",
      "[-34.12   -18.7475  -3.375   11.9975  27.37  ]\n"
     ]
    }
   ],
   "source": [
    "goal_grp = np.linspace(low, high, num=5)\n",
    "exp_grp = np.linspace(xlow, xhigh, num=5)\n",
    "\n",
    "print(goal_grp)\n",
    "print(exp_grp)\n",
    "ary_len = len(exp_grp) "
   ]
  },
  {
   "cell_type": "code",
   "execution_count": 28,
   "metadata": {},
   "outputs": [
    {
     "data": {
      "application/vnd.plotly.v1+json": {
       "config": {
        "plotlyServerURL": "https://plot.ly"
       },
       "data": [
        {
         "hoverlabel": {
          "namelength": 0
         },
         "hovertemplate": "Team=%{text}<br>xG+/-=%{x}<br>G+/-=%{y}",
         "legendgroup": "WAS",
         "marker": {
          "color": "#636efa",
          "symbol": "circle"
         },
         "mode": "markers+text",
         "name": "WAS",
         "showlegend": true,
         "text": [
          "WAS"
         ],
         "textposition": "top center",
         "type": "scatter",
         "x": [
          0.02
         ],
         "xaxis": "x",
         "y": [
          17
         ],
         "yaxis": "y"
        },
        {
         "hoverlabel": {
          "namelength": 0
         },
         "hovertemplate": "Team=%{text}<br>xG+/-=%{x}<br>G+/-=%{y}",
         "legendgroup": "WPG",
         "marker": {
          "color": "#EF553B",
          "symbol": "circle"
         },
         "mode": "markers+text",
         "name": "WPG",
         "showlegend": true,
         "text": [
          "WPG"
         ],
         "textposition": "top center",
         "type": "scatter",
         "x": [
          -34.12
         ],
         "xaxis": "x",
         "y": [
          -10
         ],
         "yaxis": "y"
        },
        {
         "hoverlabel": {
          "namelength": 0
         },
         "hovertemplate": "Team=%{text}<br>xG+/-=%{x}<br>G+/-=%{y}",
         "legendgroup": "VGK",
         "marker": {
          "color": "#00cc96",
          "symbol": "circle"
         },
         "mode": "markers+text",
         "name": "VGK",
         "showlegend": true,
         "text": [
          "VGK"
         ],
         "textposition": "top center",
         "type": "scatter",
         "x": [
          27.37
         ],
         "xaxis": "x",
         "y": [
          -3
         ],
         "yaxis": "y"
        },
        {
         "hoverlabel": {
          "namelength": 0
         },
         "hovertemplate": "Team=%{text}<br>xG+/-=%{x}<br>G+/-=%{y}",
         "legendgroup": "VAN",
         "marker": {
          "color": "#ab63fa",
          "symbol": "circle"
         },
         "mode": "markers+text",
         "name": "VAN",
         "showlegend": true,
         "text": [
          "VAN"
         ],
         "textposition": "top center",
         "type": "scatter",
         "x": [
          -5.91
         ],
         "xaxis": "x",
         "y": [
          -4
         ],
         "yaxis": "y"
        },
        {
         "hoverlabel": {
          "namelength": 0
         },
         "hovertemplate": "Team=%{text}<br>xG+/-=%{x}<br>G+/-=%{y}",
         "legendgroup": "TOR",
         "marker": {
          "color": "#FFA15A",
          "symbol": "circle"
         },
         "mode": "markers+text",
         "name": "TOR",
         "showlegend": true,
         "text": [
          "TOR"
         ],
         "textposition": "top center",
         "type": "scatter",
         "x": [
          11.29
         ],
         "xaxis": "x",
         "y": [
          1
         ],
         "yaxis": "y"
        },
        {
         "hoverlabel": {
          "namelength": 0
         },
         "hovertemplate": "Team=%{text}<br>xG+/-=%{x}<br>G+/-=%{y}",
         "legendgroup": "TBL",
         "marker": {
          "color": "#19d3f3",
          "symbol": "circle"
         },
         "mode": "markers+text",
         "name": "TBL",
         "showlegend": true,
         "text": [
          "TBL"
         ],
         "textposition": "top center",
         "type": "scatter",
         "x": [
          18.45
         ],
         "xaxis": "x",
         "y": [
          47
         ],
         "yaxis": "y"
        },
        {
         "hoverlabel": {
          "namelength": 0
         },
         "hovertemplate": "Team=%{text}<br>xG+/-=%{x}<br>G+/-=%{y}",
         "legendgroup": "STL",
         "marker": {
          "color": "#FF6692",
          "symbol": "circle"
         },
         "mode": "markers+text",
         "name": "STL",
         "showlegend": true,
         "text": [
          "STL"
         ],
         "textposition": "top center",
         "type": "scatter",
         "x": [
          -4.44
         ],
         "xaxis": "x",
         "y": [
          15
         ],
         "yaxis": "y"
        },
        {
         "hoverlabel": {
          "namelength": 0
         },
         "hovertemplate": "Team=%{text}<br>xG+/-=%{x}<br>G+/-=%{y}",
         "legendgroup": "SJS",
         "marker": {
          "color": "#B6E880",
          "symbol": "circle"
         },
         "mode": "markers+text",
         "name": "SJS",
         "showlegend": true,
         "text": [
          "SJS"
         ],
         "textposition": "top center",
         "type": "scatter",
         "x": [
          -9.61
         ],
         "xaxis": "x",
         "y": [
          -24
         ],
         "yaxis": "y"
        },
        {
         "hoverlabel": {
          "namelength": 0
         },
         "hovertemplate": "Team=%{text}<br>xG+/-=%{x}<br>G+/-=%{y}",
         "legendgroup": "PIT",
         "marker": {
          "color": "#FF97FF",
          "symbol": "circle"
         },
         "mode": "markers+text",
         "name": "PIT",
         "showlegend": true,
         "text": [
          "PIT"
         ],
         "textposition": "top center",
         "type": "scatter",
         "x": [
          12.45
         ],
         "xaxis": "x",
         "y": [
          23
         ],
         "yaxis": "y"
        },
        {
         "hoverlabel": {
          "namelength": 0
         },
         "hovertemplate": "Team=%{text}<br>xG+/-=%{x}<br>G+/-=%{y}",
         "legendgroup": "PHI",
         "marker": {
          "color": "#FECB52",
          "symbol": "circle"
         },
         "mode": "markers+text",
         "name": "PHI",
         "showlegend": true,
         "text": [
          "PHI"
         ],
         "textposition": "top center",
         "type": "scatter",
         "x": [
          -3.25
         ],
         "xaxis": "x",
         "y": [
          5
         ],
         "yaxis": "y"
        },
        {
         "hoverlabel": {
          "namelength": 0
         },
         "hovertemplate": "Team=%{text}<br>xG+/-=%{x}<br>G+/-=%{y}",
         "legendgroup": "OTT",
         "marker": {
          "color": "#636efa",
          "symbol": "circle"
         },
         "mode": "markers+text",
         "name": "OTT",
         "showlegend": true,
         "text": [
          "OTT"
         ],
         "textposition": "top center",
         "type": "scatter",
         "x": [
          -0.93
         ],
         "xaxis": "x",
         "y": [
          -27
         ],
         "yaxis": "y"
        },
        {
         "hoverlabel": {
          "namelength": 0
         },
         "hovertemplate": "Team=%{text}<br>xG+/-=%{x}<br>G+/-=%{y}",
         "legendgroup": "NYR",
         "marker": {
          "color": "#EF553B",
          "symbol": "circle"
         },
         "mode": "markers+text",
         "name": "NYR",
         "showlegend": true,
         "text": [
          "NYR"
         ],
         "textposition": "top center",
         "type": "scatter",
         "x": [
          -15.92
         ],
         "xaxis": "x",
         "y": [
          0
         ],
         "yaxis": "y"
        },
        {
         "hoverlabel": {
          "namelength": 0
         },
         "hovertemplate": "Team=%{text}<br>xG+/-=%{x}<br>G+/-=%{y}",
         "legendgroup": "NYI",
         "marker": {
          "color": "#00cc96",
          "symbol": "circle"
         },
         "mode": "markers+text",
         "name": "NYI",
         "showlegend": true,
         "text": [
          "NYI"
         ],
         "textposition": "top center",
         "type": "scatter",
         "x": [
          -0.1
         ],
         "xaxis": "x",
         "y": [
          1
         ],
         "yaxis": "y"
        },
        {
         "hoverlabel": {
          "namelength": 0
         },
         "hovertemplate": "Team=%{text}<br>xG+/-=%{x}<br>G+/-=%{y}",
         "legendgroup": "NSH",
         "marker": {
          "color": "#ab63fa",
          "symbol": "circle"
         },
         "mode": "markers+text",
         "name": "NSH",
         "showlegend": true,
         "text": [
          "NSH"
         ],
         "textposition": "top center",
         "type": "scatter",
         "x": [
          7.1
         ],
         "xaxis": "x",
         "y": [
          24
         ],
         "yaxis": "y"
        },
        {
         "hoverlabel": {
          "namelength": 0
         },
         "hovertemplate": "Team=%{text}<br>xG+/-=%{x}<br>G+/-=%{y}",
         "legendgroup": "NJD",
         "marker": {
          "color": "#FFA15A",
          "symbol": "circle"
         },
         "mode": "markers+text",
         "name": "NJD",
         "showlegend": true,
         "text": [
          "NJD"
         ],
         "textposition": "top center",
         "type": "scatter",
         "x": [
          -16.27
         ],
         "xaxis": "x",
         "y": [
          -33
         ],
         "yaxis": "y"
        },
        {
         "hoverlabel": {
          "namelength": 0
         },
         "hovertemplate": "Team=%{text}<br>xG+/-=%{x}<br>G+/-=%{y}",
         "legendgroup": "MON",
         "marker": {
          "color": "#19d3f3",
          "symbol": "circle"
         },
         "mode": "markers+text",
         "name": "MON",
         "showlegend": true,
         "text": [
          "MON"
         ],
         "textposition": "top center",
         "type": "scatter",
         "x": [
          18.75
         ],
         "xaxis": "x",
         "y": [
          5
         ],
         "yaxis": "y"
        },
        {
         "hoverlabel": {
          "namelength": 0
         },
         "hovertemplate": "Team=%{text}<br>xG+/-=%{x}<br>G+/-=%{y}",
         "legendgroup": "MIN",
         "marker": {
          "color": "#FF6692",
          "symbol": "circle"
         },
         "mode": "markers+text",
         "name": "MIN",
         "showlegend": true,
         "text": [
          "MIN"
         ],
         "textposition": "top center",
         "type": "scatter",
         "x": [
          11.48
         ],
         "xaxis": "x",
         "y": [
          2
         ],
         "yaxis": "y"
        },
        {
         "hoverlabel": {
          "namelength": 0
         },
         "hovertemplate": "Team=%{text}<br>xG+/-=%{x}<br>G+/-=%{y}",
         "legendgroup": "LAK",
         "marker": {
          "color": "#B6E880",
          "symbol": "circle"
         },
         "mode": "markers+text",
         "name": "LAK",
         "showlegend": true,
         "text": [
          "LAK"
         ],
         "textposition": "top center",
         "type": "scatter",
         "x": [
          15.12
         ],
         "xaxis": "x",
         "y": [
          -27
         ],
         "yaxis": "y"
        },
        {
         "hoverlabel": {
          "namelength": 0
         },
         "hovertemplate": "Team=%{text}<br>xG+/-=%{x}<br>G+/-=%{y}",
         "legendgroup": "FLA",
         "marker": {
          "color": "#FF97FF",
          "symbol": "circle"
         },
         "mode": "markers+text",
         "name": "FLA",
         "showlegend": true,
         "text": [
          "FLA"
         ],
         "textposition": "top center",
         "type": "scatter",
         "x": [
          -12.39
         ],
         "xaxis": "x",
         "y": [
          0
         ],
         "yaxis": "y"
        },
        {
         "hoverlabel": {
          "namelength": 0
         },
         "hovertemplate": "Team=%{text}<br>xG+/-=%{x}<br>G+/-=%{y}",
         "legendgroup": "EDM",
         "marker": {
          "color": "#FECB52",
          "symbol": "circle"
         },
         "mode": "markers+text",
         "name": "EDM",
         "showlegend": true,
         "text": [
          "EDM"
         ],
         "textposition": "top center",
         "type": "scatter",
         "x": [
          -2.35
         ],
         "xaxis": "x",
         "y": [
          -14
         ],
         "yaxis": "y"
        },
        {
         "hoverlabel": {
          "namelength": 0
         },
         "hovertemplate": "Team=%{text}<br>xG+/-=%{x}<br>G+/-=%{y}",
         "legendgroup": "DET",
         "marker": {
          "color": "#636efa",
          "symbol": "circle"
         },
         "mode": "markers+text",
         "name": "DET",
         "showlegend": true,
         "text": [
          "DET"
         ],
         "textposition": "top center",
         "type": "scatter",
         "x": [
          -27.96
         ],
         "xaxis": "x",
         "y": [
          -68
         ],
         "yaxis": "y"
        },
        {
         "hoverlabel": {
          "namelength": 0
         },
         "hovertemplate": "Team=%{text}<br>xG+/-=%{x}<br>G+/-=%{y}",
         "legendgroup": "DAL",
         "marker": {
          "color": "#EF553B",
          "symbol": "circle"
         },
         "mode": "markers+text",
         "name": "DAL",
         "showlegend": true,
         "text": [
          "DAL"
         ],
         "textposition": "top center",
         "type": "scatter",
         "x": [
          9.57
         ],
         "xaxis": "x",
         "y": [
          3
         ],
         "yaxis": "y"
        },
        {
         "hoverlabel": {
          "namelength": 0
         },
         "hovertemplate": "Team=%{text}<br>xG+/-=%{x}<br>G+/-=%{y}",
         "legendgroup": "COL",
         "marker": {
          "color": "#00cc96",
          "symbol": "circle"
         },
         "mode": "markers+text",
         "name": "COL",
         "showlegend": true,
         "text": [
          "COL"
         ],
         "textposition": "top center",
         "type": "scatter",
         "x": [
          6.32
         ],
         "xaxis": "x",
         "y": [
          48
         ],
         "yaxis": "y"
        },
        {
         "hoverlabel": {
          "namelength": 0
         },
         "hovertemplate": "Team=%{text}<br>xG+/-=%{x}<br>G+/-=%{y}",
         "legendgroup": "CHI",
         "marker": {
          "color": "#ab63fa",
          "symbol": "circle"
         },
         "mode": "markers+text",
         "name": "CHI",
         "showlegend": true,
         "text": [
          "CHI"
         ],
         "textposition": "top center",
         "type": "scatter",
         "x": [
          -12.27
         ],
         "xaxis": "x",
         "y": [
          1
         ],
         "yaxis": "y"
        },
        {
         "hoverlabel": {
          "namelength": 0
         },
         "hovertemplate": "Team=%{text}<br>xG+/-=%{x}<br>G+/-=%{y}",
         "legendgroup": "CAL",
         "marker": {
          "color": "#FFA15A",
          "symbol": "circle"
         },
         "mode": "markers+text",
         "name": "CAL",
         "showlegend": true,
         "text": [
          "CAL"
         ],
         "textposition": "top center",
         "type": "scatter",
         "x": [
          5.31
         ],
         "xaxis": "x",
         "y": [
          -17
         ],
         "yaxis": "y"
        },
        {
         "hoverlabel": {
          "namelength": 0
         },
         "hovertemplate": "Team=%{text}<br>xG+/-=%{x}<br>G+/-=%{y}",
         "legendgroup": "CBJ",
         "marker": {
          "color": "#19d3f3",
          "symbol": "circle"
         },
         "mode": "markers+text",
         "name": "CBJ",
         "showlegend": true,
         "text": [
          "CBJ"
         ],
         "textposition": "top center",
         "type": "scatter",
         "x": [
          7.95
         ],
         "xaxis": "x",
         "y": [
          9
         ],
         "yaxis": "y"
        },
        {
         "hoverlabel": {
          "namelength": 0
         },
         "hovertemplate": "Team=%{text}<br>xG+/-=%{x}<br>G+/-=%{y}",
         "legendgroup": "CAR",
         "marker": {
          "color": "#FF6692",
          "symbol": "circle"
         },
         "mode": "markers+text",
         "name": "CAR",
         "showlegend": true,
         "text": [
          "CAR"
         ],
         "textposition": "top center",
         "type": "scatter",
         "x": [
          12.88
         ],
         "xaxis": "x",
         "y": [
          7
         ],
         "yaxis": "y"
        },
        {
         "hoverlabel": {
          "namelength": 0
         },
         "hovertemplate": "Team=%{text}<br>xG+/-=%{x}<br>G+/-=%{y}",
         "legendgroup": "BUF",
         "marker": {
          "color": "#B6E880",
          "symbol": "circle"
         },
         "mode": "markers+text",
         "name": "BUF",
         "showlegend": true,
         "text": [
          "BUF"
         ],
         "textposition": "top center",
         "type": "scatter",
         "x": [
          -5.58
         ],
         "xaxis": "x",
         "y": [
          1
         ],
         "yaxis": "y"
        },
        {
         "hoverlabel": {
          "namelength": 0
         },
         "hovertemplate": "Team=%{text}<br>xG+/-=%{x}<br>G+/-=%{y}",
         "legendgroup": "BOS",
         "marker": {
          "color": "#FF97FF",
          "symbol": "circle"
         },
         "mode": "markers+text",
         "name": "BOS",
         "showlegend": true,
         "text": [
          "BOS"
         ],
         "textposition": "top center",
         "type": "scatter",
         "x": [
          8.55
         ],
         "xaxis": "x",
         "y": [
          37
         ],
         "yaxis": "y"
        },
        {
         "hoverlabel": {
          "namelength": 0
         },
         "hovertemplate": "Team=%{text}<br>xG+/-=%{x}<br>G+/-=%{y}",
         "legendgroup": "ARI",
         "marker": {
          "color": "#FECB52",
          "symbol": "circle"
         },
         "mode": "markers+text",
         "name": "ARI",
         "showlegend": true,
         "text": [
          "ARI"
         ],
         "textposition": "top center",
         "type": "scatter",
         "x": [
          -6.37
         ],
         "xaxis": "x",
         "y": [
          -1
         ],
         "yaxis": "y"
        },
        {
         "hoverlabel": {
          "namelength": 0
         },
         "hovertemplate": "Team=%{text}<br>xG+/-=%{x}<br>G+/-=%{y}",
         "legendgroup": "ANA",
         "marker": {
          "color": "#636efa",
          "symbol": "circle"
         },
         "mode": "markers+text",
         "name": "ANA",
         "showlegend": true,
         "text": [
          "ANA"
         ],
         "textposition": "top center",
         "type": "scatter",
         "x": [
          -15.16
         ],
         "xaxis": "x",
         "y": [
          -18
         ],
         "yaxis": "y"
        },
        {
         "mode": "text",
         "text": [
          "Better than Expected",
          "Bad",
          "Good",
          "Worse than Expected"
         ],
         "textfont": {
          "color": "grey"
         },
         "type": "scatter",
         "x": [
          -29.119999999999997,
          -32.12,
          27.37,
          22.37
         ],
         "y": [
          48,
          -68,
          45,
          -68
         ]
        }
       ],
       "layout": {
        "annotations": [
         {
          "font": {
           "color": "grey",
           "size": 8
          },
          "showarrow": false,
          "text": "Chart by: Aram Kaplanian",
          "x": 1,
          "xanchor": "right",
          "xref": "paper",
          "xshift": 15,
          "y": -0.1,
          "yanchor": "auto",
          "yref": "paper",
          "yshift": 7
         },
         {
          "font": {
           "color": "grey",
           "size": 8
          },
          "showarrow": false,
          "text": "Source: Corsica Hockey",
          "x": 1,
          "xanchor": "right",
          "xref": "paper",
          "xshift": 15,
          "y": -0.1,
          "yanchor": "auto",
          "yref": "paper",
          "yshift": 0
         }
        ],
        "legend": {
         "title": {
          "text": "Team"
         },
         "tracegroupgap": 0
        },
        "margin": {
         "t": 60
        },
        "shapes": [
         {
          "layer": "below",
          "line": {
           "color": "red",
           "dash": "dashdot",
           "width": 2
          },
          "opacity": 0.4,
          "type": "line",
          "x0": -3.3749999999999982,
          "x1": -3.3749999999999982,
          "y0": -68,
          "y1": 48
         },
         {
          "layer": "below",
          "line": {
           "color": "red",
           "dash": "dashdot",
           "width": 2
          },
          "opacity": 0.4,
          "type": "line",
          "x0": -34.12,
          "x1": 27.37,
          "y0": -10,
          "y1": -10
         },
         {
          "layer": "below",
          "line": {
           "color": "grey",
           "width": 2
          },
          "opacity": 0.35,
          "type": "line",
          "x0": -34.12,
          "x1": 0,
          "y0": 0,
          "y1": -68
         },
         {
          "layer": "below",
          "line": {
           "color": "grey",
           "width": 2
          },
          "opacity": 0.35,
          "type": "line",
          "x0": -18.7475,
          "x1": 0,
          "y0": 0,
          "y1": -39
         },
         {
          "layer": "below",
          "line": {
           "color": "grey",
           "width": 2
          },
          "opacity": 0.35,
          "type": "line",
          "x0": -3.375,
          "x1": 0,
          "y0": 0,
          "y1": -10
         },
         {
          "layer": "below",
          "line": {
           "color": "grey",
           "width": 2
          },
          "opacity": 0.35,
          "type": "line",
          "x0": 11.997499999999995,
          "x1": 0,
          "y0": 0,
          "y1": 19
         },
         {
          "layer": "below",
          "line": {
           "color": "grey",
           "width": 2
          },
          "opacity": 0.35,
          "type": "line",
          "x0": 27.37,
          "x1": 0,
          "y0": 0,
          "y1": 48
         }
        ],
        "showlegend": false,
        "template": {
         "data": {
          "bar": [
           {
            "error_x": {
             "color": "#2a3f5f"
            },
            "error_y": {
             "color": "#2a3f5f"
            },
            "marker": {
             "line": {
              "color": "white",
              "width": 0.5
             }
            },
            "type": "bar"
           }
          ],
          "barpolar": [
           {
            "marker": {
             "line": {
              "color": "white",
              "width": 0.5
             }
            },
            "type": "barpolar"
           }
          ],
          "carpet": [
           {
            "aaxis": {
             "endlinecolor": "#2a3f5f",
             "gridcolor": "#C8D4E3",
             "linecolor": "#C8D4E3",
             "minorgridcolor": "#C8D4E3",
             "startlinecolor": "#2a3f5f"
            },
            "baxis": {
             "endlinecolor": "#2a3f5f",
             "gridcolor": "#C8D4E3",
             "linecolor": "#C8D4E3",
             "minorgridcolor": "#C8D4E3",
             "startlinecolor": "#2a3f5f"
            },
            "type": "carpet"
           }
          ],
          "choropleth": [
           {
            "colorbar": {
             "outlinewidth": 0,
             "ticks": ""
            },
            "type": "choropleth"
           }
          ],
          "contour": [
           {
            "colorbar": {
             "outlinewidth": 0,
             "ticks": ""
            },
            "colorscale": [
             [
              0,
              "#0d0887"
             ],
             [
              0.1111111111111111,
              "#46039f"
             ],
             [
              0.2222222222222222,
              "#7201a8"
             ],
             [
              0.3333333333333333,
              "#9c179e"
             ],
             [
              0.4444444444444444,
              "#bd3786"
             ],
             [
              0.5555555555555556,
              "#d8576b"
             ],
             [
              0.6666666666666666,
              "#ed7953"
             ],
             [
              0.7777777777777778,
              "#fb9f3a"
             ],
             [
              0.8888888888888888,
              "#fdca26"
             ],
             [
              1,
              "#f0f921"
             ]
            ],
            "type": "contour"
           }
          ],
          "contourcarpet": [
           {
            "colorbar": {
             "outlinewidth": 0,
             "ticks": ""
            },
            "type": "contourcarpet"
           }
          ],
          "heatmap": [
           {
            "colorbar": {
             "outlinewidth": 0,
             "ticks": ""
            },
            "colorscale": [
             [
              0,
              "#0d0887"
             ],
             [
              0.1111111111111111,
              "#46039f"
             ],
             [
              0.2222222222222222,
              "#7201a8"
             ],
             [
              0.3333333333333333,
              "#9c179e"
             ],
             [
              0.4444444444444444,
              "#bd3786"
             ],
             [
              0.5555555555555556,
              "#d8576b"
             ],
             [
              0.6666666666666666,
              "#ed7953"
             ],
             [
              0.7777777777777778,
              "#fb9f3a"
             ],
             [
              0.8888888888888888,
              "#fdca26"
             ],
             [
              1,
              "#f0f921"
             ]
            ],
            "type": "heatmap"
           }
          ],
          "heatmapgl": [
           {
            "colorbar": {
             "outlinewidth": 0,
             "ticks": ""
            },
            "colorscale": [
             [
              0,
              "#0d0887"
             ],
             [
              0.1111111111111111,
              "#46039f"
             ],
             [
              0.2222222222222222,
              "#7201a8"
             ],
             [
              0.3333333333333333,
              "#9c179e"
             ],
             [
              0.4444444444444444,
              "#bd3786"
             ],
             [
              0.5555555555555556,
              "#d8576b"
             ],
             [
              0.6666666666666666,
              "#ed7953"
             ],
             [
              0.7777777777777778,
              "#fb9f3a"
             ],
             [
              0.8888888888888888,
              "#fdca26"
             ],
             [
              1,
              "#f0f921"
             ]
            ],
            "type": "heatmapgl"
           }
          ],
          "histogram": [
           {
            "marker": {
             "colorbar": {
              "outlinewidth": 0,
              "ticks": ""
             }
            },
            "type": "histogram"
           }
          ],
          "histogram2d": [
           {
            "colorbar": {
             "outlinewidth": 0,
             "ticks": ""
            },
            "colorscale": [
             [
              0,
              "#0d0887"
             ],
             [
              0.1111111111111111,
              "#46039f"
             ],
             [
              0.2222222222222222,
              "#7201a8"
             ],
             [
              0.3333333333333333,
              "#9c179e"
             ],
             [
              0.4444444444444444,
              "#bd3786"
             ],
             [
              0.5555555555555556,
              "#d8576b"
             ],
             [
              0.6666666666666666,
              "#ed7953"
             ],
             [
              0.7777777777777778,
              "#fb9f3a"
             ],
             [
              0.8888888888888888,
              "#fdca26"
             ],
             [
              1,
              "#f0f921"
             ]
            ],
            "type": "histogram2d"
           }
          ],
          "histogram2dcontour": [
           {
            "colorbar": {
             "outlinewidth": 0,
             "ticks": ""
            },
            "colorscale": [
             [
              0,
              "#0d0887"
             ],
             [
              0.1111111111111111,
              "#46039f"
             ],
             [
              0.2222222222222222,
              "#7201a8"
             ],
             [
              0.3333333333333333,
              "#9c179e"
             ],
             [
              0.4444444444444444,
              "#bd3786"
             ],
             [
              0.5555555555555556,
              "#d8576b"
             ],
             [
              0.6666666666666666,
              "#ed7953"
             ],
             [
              0.7777777777777778,
              "#fb9f3a"
             ],
             [
              0.8888888888888888,
              "#fdca26"
             ],
             [
              1,
              "#f0f921"
             ]
            ],
            "type": "histogram2dcontour"
           }
          ],
          "mesh3d": [
           {
            "colorbar": {
             "outlinewidth": 0,
             "ticks": ""
            },
            "type": "mesh3d"
           }
          ],
          "parcoords": [
           {
            "line": {
             "colorbar": {
              "outlinewidth": 0,
              "ticks": ""
             }
            },
            "type": "parcoords"
           }
          ],
          "pie": [
           {
            "automargin": true,
            "type": "pie"
           }
          ],
          "scatter": [
           {
            "marker": {
             "colorbar": {
              "outlinewidth": 0,
              "ticks": ""
             }
            },
            "type": "scatter"
           }
          ],
          "scatter3d": [
           {
            "line": {
             "colorbar": {
              "outlinewidth": 0,
              "ticks": ""
             }
            },
            "marker": {
             "colorbar": {
              "outlinewidth": 0,
              "ticks": ""
             }
            },
            "type": "scatter3d"
           }
          ],
          "scattercarpet": [
           {
            "marker": {
             "colorbar": {
              "outlinewidth": 0,
              "ticks": ""
             }
            },
            "type": "scattercarpet"
           }
          ],
          "scattergeo": [
           {
            "marker": {
             "colorbar": {
              "outlinewidth": 0,
              "ticks": ""
             }
            },
            "type": "scattergeo"
           }
          ],
          "scattergl": [
           {
            "marker": {
             "colorbar": {
              "outlinewidth": 0,
              "ticks": ""
             }
            },
            "type": "scattergl"
           }
          ],
          "scattermapbox": [
           {
            "marker": {
             "colorbar": {
              "outlinewidth": 0,
              "ticks": ""
             }
            },
            "type": "scattermapbox"
           }
          ],
          "scatterpolar": [
           {
            "marker": {
             "colorbar": {
              "outlinewidth": 0,
              "ticks": ""
             }
            },
            "type": "scatterpolar"
           }
          ],
          "scatterpolargl": [
           {
            "marker": {
             "colorbar": {
              "outlinewidth": 0,
              "ticks": ""
             }
            },
            "type": "scatterpolargl"
           }
          ],
          "scatterternary": [
           {
            "marker": {
             "colorbar": {
              "outlinewidth": 0,
              "ticks": ""
             }
            },
            "type": "scatterternary"
           }
          ],
          "surface": [
           {
            "colorbar": {
             "outlinewidth": 0,
             "ticks": ""
            },
            "colorscale": [
             [
              0,
              "#0d0887"
             ],
             [
              0.1111111111111111,
              "#46039f"
             ],
             [
              0.2222222222222222,
              "#7201a8"
             ],
             [
              0.3333333333333333,
              "#9c179e"
             ],
             [
              0.4444444444444444,
              "#bd3786"
             ],
             [
              0.5555555555555556,
              "#d8576b"
             ],
             [
              0.6666666666666666,
              "#ed7953"
             ],
             [
              0.7777777777777778,
              "#fb9f3a"
             ],
             [
              0.8888888888888888,
              "#fdca26"
             ],
             [
              1,
              "#f0f921"
             ]
            ],
            "type": "surface"
           }
          ],
          "table": [
           {
            "cells": {
             "fill": {
              "color": "#EBF0F8"
             },
             "line": {
              "color": "white"
             }
            },
            "header": {
             "fill": {
              "color": "#C8D4E3"
             },
             "line": {
              "color": "white"
             }
            },
            "type": "table"
           }
          ]
         },
         "layout": {
          "annotationdefaults": {
           "arrowcolor": "#2a3f5f",
           "arrowhead": 0,
           "arrowwidth": 1
          },
          "coloraxis": {
           "colorbar": {
            "outlinewidth": 0,
            "ticks": ""
           }
          },
          "colorscale": {
           "diverging": [
            [
             0,
             "#8e0152"
            ],
            [
             0.1,
             "#c51b7d"
            ],
            [
             0.2,
             "#de77ae"
            ],
            [
             0.3,
             "#f1b6da"
            ],
            [
             0.4,
             "#fde0ef"
            ],
            [
             0.5,
             "#f7f7f7"
            ],
            [
             0.6,
             "#e6f5d0"
            ],
            [
             0.7,
             "#b8e186"
            ],
            [
             0.8,
             "#7fbc41"
            ],
            [
             0.9,
             "#4d9221"
            ],
            [
             1,
             "#276419"
            ]
           ],
           "sequential": [
            [
             0,
             "#0d0887"
            ],
            [
             0.1111111111111111,
             "#46039f"
            ],
            [
             0.2222222222222222,
             "#7201a8"
            ],
            [
             0.3333333333333333,
             "#9c179e"
            ],
            [
             0.4444444444444444,
             "#bd3786"
            ],
            [
             0.5555555555555556,
             "#d8576b"
            ],
            [
             0.6666666666666666,
             "#ed7953"
            ],
            [
             0.7777777777777778,
             "#fb9f3a"
            ],
            [
             0.8888888888888888,
             "#fdca26"
            ],
            [
             1,
             "#f0f921"
            ]
           ],
           "sequentialminus": [
            [
             0,
             "#0d0887"
            ],
            [
             0.1111111111111111,
             "#46039f"
            ],
            [
             0.2222222222222222,
             "#7201a8"
            ],
            [
             0.3333333333333333,
             "#9c179e"
            ],
            [
             0.4444444444444444,
             "#bd3786"
            ],
            [
             0.5555555555555556,
             "#d8576b"
            ],
            [
             0.6666666666666666,
             "#ed7953"
            ],
            [
             0.7777777777777778,
             "#fb9f3a"
            ],
            [
             0.8888888888888888,
             "#fdca26"
            ],
            [
             1,
             "#f0f921"
            ]
           ]
          },
          "colorway": [
           "#636efa",
           "#EF553B",
           "#00cc96",
           "#ab63fa",
           "#FFA15A",
           "#19d3f3",
           "#FF6692",
           "#B6E880",
           "#FF97FF",
           "#FECB52"
          ],
          "font": {
           "color": "#2a3f5f"
          },
          "geo": {
           "bgcolor": "white",
           "lakecolor": "white",
           "landcolor": "white",
           "showlakes": true,
           "showland": true,
           "subunitcolor": "#C8D4E3"
          },
          "hoverlabel": {
           "align": "left"
          },
          "hovermode": "closest",
          "mapbox": {
           "style": "light"
          },
          "paper_bgcolor": "white",
          "plot_bgcolor": "white",
          "polar": {
           "angularaxis": {
            "gridcolor": "#EBF0F8",
            "linecolor": "#EBF0F8",
            "ticks": ""
           },
           "bgcolor": "white",
           "radialaxis": {
            "gridcolor": "#EBF0F8",
            "linecolor": "#EBF0F8",
            "ticks": ""
           }
          },
          "scene": {
           "xaxis": {
            "backgroundcolor": "white",
            "gridcolor": "#DFE8F3",
            "gridwidth": 2,
            "linecolor": "#EBF0F8",
            "showbackground": true,
            "ticks": "",
            "zerolinecolor": "#EBF0F8"
           },
           "yaxis": {
            "backgroundcolor": "white",
            "gridcolor": "#DFE8F3",
            "gridwidth": 2,
            "linecolor": "#EBF0F8",
            "showbackground": true,
            "ticks": "",
            "zerolinecolor": "#EBF0F8"
           },
           "zaxis": {
            "backgroundcolor": "white",
            "gridcolor": "#DFE8F3",
            "gridwidth": 2,
            "linecolor": "#EBF0F8",
            "showbackground": true,
            "ticks": "",
            "zerolinecolor": "#EBF0F8"
           }
          },
          "shapedefaults": {
           "line": {
            "color": "#2a3f5f"
           }
          },
          "ternary": {
           "aaxis": {
            "gridcolor": "#DFE8F3",
            "linecolor": "#A2B1C6",
            "ticks": ""
           },
           "baxis": {
            "gridcolor": "#DFE8F3",
            "linecolor": "#A2B1C6",
            "ticks": ""
           },
           "bgcolor": "white",
           "caxis": {
            "gridcolor": "#DFE8F3",
            "linecolor": "#A2B1C6",
            "ticks": ""
           }
          },
          "title": {
           "x": 0.05
          },
          "xaxis": {
           "automargin": true,
           "gridcolor": "#EBF0F8",
           "linecolor": "#EBF0F8",
           "ticks": "",
           "title": {
            "standoff": 15
           },
           "zerolinecolor": "#EBF0F8",
           "zerolinewidth": 2
          },
          "yaxis": {
           "automargin": true,
           "gridcolor": "#EBF0F8",
           "linecolor": "#EBF0F8",
           "ticks": "",
           "title": {
            "standoff": 15
           },
           "zerolinecolor": "#EBF0F8",
           "zerolinewidth": 2
          }
         }
        },
        "title": {
         "text": "NHL Expected Performance"
        },
        "xaxis": {
         "anchor": "y",
         "domain": [
          0,
          1
         ],
         "showgrid": false,
         "title": {
          "text": "Expected Goals For - Expected Goals Against"
         },
         "zeroline": false
        },
        "yaxis": {
         "anchor": "x",
         "domain": [
          0,
          1
         ],
         "showgrid": false,
         "title": {
          "text": "Actual Goals For - Actual Goals Against"
         },
         "zeroline": false
        }
       }
      },
      "text/html": [
       "<div>\n",
       "        \n",
       "        \n",
       "            <div id=\"134cea9f-d29a-40dd-ba52-5a1e651543bf\" class=\"plotly-graph-div\" style=\"height:525px; width:100%;\"></div>\n",
       "            <script type=\"text/javascript\">\n",
       "                require([\"plotly\"], function(Plotly) {\n",
       "                    window.PLOTLYENV=window.PLOTLYENV || {};\n",
       "                    \n",
       "                if (document.getElementById(\"134cea9f-d29a-40dd-ba52-5a1e651543bf\")) {\n",
       "                    Plotly.newPlot(\n",
       "                        '134cea9f-d29a-40dd-ba52-5a1e651543bf',\n",
       "                        [{\"hoverlabel\": {\"namelength\": 0}, \"hovertemplate\": \"Team=%{text}<br>xG+/-=%{x}<br>G+/-=%{y}\", \"legendgroup\": \"WAS\", \"marker\": {\"color\": \"#636efa\", \"symbol\": \"circle\"}, \"mode\": \"markers+text\", \"name\": \"WAS\", \"showlegend\": true, \"text\": [\"WAS\"], \"textposition\": \"top center\", \"type\": \"scatter\", \"x\": [0.02], \"xaxis\": \"x\", \"y\": [17], \"yaxis\": \"y\"}, {\"hoverlabel\": {\"namelength\": 0}, \"hovertemplate\": \"Team=%{text}<br>xG+/-=%{x}<br>G+/-=%{y}\", \"legendgroup\": \"WPG\", \"marker\": {\"color\": \"#EF553B\", \"symbol\": \"circle\"}, \"mode\": \"markers+text\", \"name\": \"WPG\", \"showlegend\": true, \"text\": [\"WPG\"], \"textposition\": \"top center\", \"type\": \"scatter\", \"x\": [-34.12], \"xaxis\": \"x\", \"y\": [-10], \"yaxis\": \"y\"}, {\"hoverlabel\": {\"namelength\": 0}, \"hovertemplate\": \"Team=%{text}<br>xG+/-=%{x}<br>G+/-=%{y}\", \"legendgroup\": \"VGK\", \"marker\": {\"color\": \"#00cc96\", \"symbol\": \"circle\"}, \"mode\": \"markers+text\", \"name\": \"VGK\", \"showlegend\": true, \"text\": [\"VGK\"], \"textposition\": \"top center\", \"type\": \"scatter\", \"x\": [27.37], \"xaxis\": \"x\", \"y\": [-3], \"yaxis\": \"y\"}, {\"hoverlabel\": {\"namelength\": 0}, \"hovertemplate\": \"Team=%{text}<br>xG+/-=%{x}<br>G+/-=%{y}\", \"legendgroup\": \"VAN\", \"marker\": {\"color\": \"#ab63fa\", \"symbol\": \"circle\"}, \"mode\": \"markers+text\", \"name\": \"VAN\", \"showlegend\": true, \"text\": [\"VAN\"], \"textposition\": \"top center\", \"type\": \"scatter\", \"x\": [-5.91], \"xaxis\": \"x\", \"y\": [-4], \"yaxis\": \"y\"}, {\"hoverlabel\": {\"namelength\": 0}, \"hovertemplate\": \"Team=%{text}<br>xG+/-=%{x}<br>G+/-=%{y}\", \"legendgroup\": \"TOR\", \"marker\": {\"color\": \"#FFA15A\", \"symbol\": \"circle\"}, \"mode\": \"markers+text\", \"name\": \"TOR\", \"showlegend\": true, \"text\": [\"TOR\"], \"textposition\": \"top center\", \"type\": \"scatter\", \"x\": [11.29], \"xaxis\": \"x\", \"y\": [1], \"yaxis\": \"y\"}, {\"hoverlabel\": {\"namelength\": 0}, \"hovertemplate\": \"Team=%{text}<br>xG+/-=%{x}<br>G+/-=%{y}\", \"legendgroup\": \"TBL\", \"marker\": {\"color\": \"#19d3f3\", \"symbol\": \"circle\"}, \"mode\": \"markers+text\", \"name\": \"TBL\", \"showlegend\": true, \"text\": [\"TBL\"], \"textposition\": \"top center\", \"type\": \"scatter\", \"x\": [18.45], \"xaxis\": \"x\", \"y\": [47], \"yaxis\": \"y\"}, {\"hoverlabel\": {\"namelength\": 0}, \"hovertemplate\": \"Team=%{text}<br>xG+/-=%{x}<br>G+/-=%{y}\", \"legendgroup\": \"STL\", \"marker\": {\"color\": \"#FF6692\", \"symbol\": \"circle\"}, \"mode\": \"markers+text\", \"name\": \"STL\", \"showlegend\": true, \"text\": [\"STL\"], \"textposition\": \"top center\", \"type\": \"scatter\", \"x\": [-4.44], \"xaxis\": \"x\", \"y\": [15], \"yaxis\": \"y\"}, {\"hoverlabel\": {\"namelength\": 0}, \"hovertemplate\": \"Team=%{text}<br>xG+/-=%{x}<br>G+/-=%{y}\", \"legendgroup\": \"SJS\", \"marker\": {\"color\": \"#B6E880\", \"symbol\": \"circle\"}, \"mode\": \"markers+text\", \"name\": \"SJS\", \"showlegend\": true, \"text\": [\"SJS\"], \"textposition\": \"top center\", \"type\": \"scatter\", \"x\": [-9.61], \"xaxis\": \"x\", \"y\": [-24], \"yaxis\": \"y\"}, {\"hoverlabel\": {\"namelength\": 0}, \"hovertemplate\": \"Team=%{text}<br>xG+/-=%{x}<br>G+/-=%{y}\", \"legendgroup\": \"PIT\", \"marker\": {\"color\": \"#FF97FF\", \"symbol\": \"circle\"}, \"mode\": \"markers+text\", \"name\": \"PIT\", \"showlegend\": true, \"text\": [\"PIT\"], \"textposition\": \"top center\", \"type\": \"scatter\", \"x\": [12.45], \"xaxis\": \"x\", \"y\": [23], \"yaxis\": \"y\"}, {\"hoverlabel\": {\"namelength\": 0}, \"hovertemplate\": \"Team=%{text}<br>xG+/-=%{x}<br>G+/-=%{y}\", \"legendgroup\": \"PHI\", \"marker\": {\"color\": \"#FECB52\", \"symbol\": \"circle\"}, \"mode\": \"markers+text\", \"name\": \"PHI\", \"showlegend\": true, \"text\": [\"PHI\"], \"textposition\": \"top center\", \"type\": \"scatter\", \"x\": [-3.25], \"xaxis\": \"x\", \"y\": [5], \"yaxis\": \"y\"}, {\"hoverlabel\": {\"namelength\": 0}, \"hovertemplate\": \"Team=%{text}<br>xG+/-=%{x}<br>G+/-=%{y}\", \"legendgroup\": \"OTT\", \"marker\": {\"color\": \"#636efa\", \"symbol\": \"circle\"}, \"mode\": \"markers+text\", \"name\": \"OTT\", \"showlegend\": true, \"text\": [\"OTT\"], \"textposition\": \"top center\", \"type\": \"scatter\", \"x\": [-0.93], \"xaxis\": \"x\", \"y\": [-27], \"yaxis\": \"y\"}, {\"hoverlabel\": {\"namelength\": 0}, \"hovertemplate\": \"Team=%{text}<br>xG+/-=%{x}<br>G+/-=%{y}\", \"legendgroup\": \"NYR\", \"marker\": {\"color\": \"#EF553B\", \"symbol\": \"circle\"}, \"mode\": \"markers+text\", \"name\": \"NYR\", \"showlegend\": true, \"text\": [\"NYR\"], \"textposition\": \"top center\", \"type\": \"scatter\", \"x\": [-15.92], \"xaxis\": \"x\", \"y\": [0], \"yaxis\": \"y\"}, {\"hoverlabel\": {\"namelength\": 0}, \"hovertemplate\": \"Team=%{text}<br>xG+/-=%{x}<br>G+/-=%{y}\", \"legendgroup\": \"NYI\", \"marker\": {\"color\": \"#00cc96\", \"symbol\": \"circle\"}, \"mode\": \"markers+text\", \"name\": \"NYI\", \"showlegend\": true, \"text\": [\"NYI\"], \"textposition\": \"top center\", \"type\": \"scatter\", \"x\": [-0.1], \"xaxis\": \"x\", \"y\": [1], \"yaxis\": \"y\"}, {\"hoverlabel\": {\"namelength\": 0}, \"hovertemplate\": \"Team=%{text}<br>xG+/-=%{x}<br>G+/-=%{y}\", \"legendgroup\": \"NSH\", \"marker\": {\"color\": \"#ab63fa\", \"symbol\": \"circle\"}, \"mode\": \"markers+text\", \"name\": \"NSH\", \"showlegend\": true, \"text\": [\"NSH\"], \"textposition\": \"top center\", \"type\": \"scatter\", \"x\": [7.1], \"xaxis\": \"x\", \"y\": [24], \"yaxis\": \"y\"}, {\"hoverlabel\": {\"namelength\": 0}, \"hovertemplate\": \"Team=%{text}<br>xG+/-=%{x}<br>G+/-=%{y}\", \"legendgroup\": \"NJD\", \"marker\": {\"color\": \"#FFA15A\", \"symbol\": \"circle\"}, \"mode\": \"markers+text\", \"name\": \"NJD\", \"showlegend\": true, \"text\": [\"NJD\"], \"textposition\": \"top center\", \"type\": \"scatter\", \"x\": [-16.27], \"xaxis\": \"x\", \"y\": [-33], \"yaxis\": \"y\"}, {\"hoverlabel\": {\"namelength\": 0}, \"hovertemplate\": \"Team=%{text}<br>xG+/-=%{x}<br>G+/-=%{y}\", \"legendgroup\": \"MON\", \"marker\": {\"color\": \"#19d3f3\", \"symbol\": \"circle\"}, \"mode\": \"markers+text\", \"name\": \"MON\", \"showlegend\": true, \"text\": [\"MON\"], \"textposition\": \"top center\", \"type\": \"scatter\", \"x\": [18.75], \"xaxis\": \"x\", \"y\": [5], \"yaxis\": \"y\"}, {\"hoverlabel\": {\"namelength\": 0}, \"hovertemplate\": \"Team=%{text}<br>xG+/-=%{x}<br>G+/-=%{y}\", \"legendgroup\": \"MIN\", \"marker\": {\"color\": \"#FF6692\", \"symbol\": \"circle\"}, \"mode\": \"markers+text\", \"name\": \"MIN\", \"showlegend\": true, \"text\": [\"MIN\"], \"textposition\": \"top center\", \"type\": \"scatter\", \"x\": [11.48], \"xaxis\": \"x\", \"y\": [2], \"yaxis\": \"y\"}, {\"hoverlabel\": {\"namelength\": 0}, \"hovertemplate\": \"Team=%{text}<br>xG+/-=%{x}<br>G+/-=%{y}\", \"legendgroup\": \"LAK\", \"marker\": {\"color\": \"#B6E880\", \"symbol\": \"circle\"}, \"mode\": \"markers+text\", \"name\": \"LAK\", \"showlegend\": true, \"text\": [\"LAK\"], \"textposition\": \"top center\", \"type\": \"scatter\", \"x\": [15.12], \"xaxis\": \"x\", \"y\": [-27], \"yaxis\": \"y\"}, {\"hoverlabel\": {\"namelength\": 0}, \"hovertemplate\": \"Team=%{text}<br>xG+/-=%{x}<br>G+/-=%{y}\", \"legendgroup\": \"FLA\", \"marker\": {\"color\": \"#FF97FF\", \"symbol\": \"circle\"}, \"mode\": \"markers+text\", \"name\": \"FLA\", \"showlegend\": true, \"text\": [\"FLA\"], \"textposition\": \"top center\", \"type\": \"scatter\", \"x\": [-12.39], \"xaxis\": \"x\", \"y\": [0], \"yaxis\": \"y\"}, {\"hoverlabel\": {\"namelength\": 0}, \"hovertemplate\": \"Team=%{text}<br>xG+/-=%{x}<br>G+/-=%{y}\", \"legendgroup\": \"EDM\", \"marker\": {\"color\": \"#FECB52\", \"symbol\": \"circle\"}, \"mode\": \"markers+text\", \"name\": \"EDM\", \"showlegend\": true, \"text\": [\"EDM\"], \"textposition\": \"top center\", \"type\": \"scatter\", \"x\": [-2.35], \"xaxis\": \"x\", \"y\": [-14], \"yaxis\": \"y\"}, {\"hoverlabel\": {\"namelength\": 0}, \"hovertemplate\": \"Team=%{text}<br>xG+/-=%{x}<br>G+/-=%{y}\", \"legendgroup\": \"DET\", \"marker\": {\"color\": \"#636efa\", \"symbol\": \"circle\"}, \"mode\": \"markers+text\", \"name\": \"DET\", \"showlegend\": true, \"text\": [\"DET\"], \"textposition\": \"top center\", \"type\": \"scatter\", \"x\": [-27.96], \"xaxis\": \"x\", \"y\": [-68], \"yaxis\": \"y\"}, {\"hoverlabel\": {\"namelength\": 0}, \"hovertemplate\": \"Team=%{text}<br>xG+/-=%{x}<br>G+/-=%{y}\", \"legendgroup\": \"DAL\", \"marker\": {\"color\": \"#EF553B\", \"symbol\": \"circle\"}, \"mode\": \"markers+text\", \"name\": \"DAL\", \"showlegend\": true, \"text\": [\"DAL\"], \"textposition\": \"top center\", \"type\": \"scatter\", \"x\": [9.57], \"xaxis\": \"x\", \"y\": [3], \"yaxis\": \"y\"}, {\"hoverlabel\": {\"namelength\": 0}, \"hovertemplate\": \"Team=%{text}<br>xG+/-=%{x}<br>G+/-=%{y}\", \"legendgroup\": \"COL\", \"marker\": {\"color\": \"#00cc96\", \"symbol\": \"circle\"}, \"mode\": \"markers+text\", \"name\": \"COL\", \"showlegend\": true, \"text\": [\"COL\"], \"textposition\": \"top center\", \"type\": \"scatter\", \"x\": [6.32], \"xaxis\": \"x\", \"y\": [48], \"yaxis\": \"y\"}, {\"hoverlabel\": {\"namelength\": 0}, \"hovertemplate\": \"Team=%{text}<br>xG+/-=%{x}<br>G+/-=%{y}\", \"legendgroup\": \"CHI\", \"marker\": {\"color\": \"#ab63fa\", \"symbol\": \"circle\"}, \"mode\": \"markers+text\", \"name\": \"CHI\", \"showlegend\": true, \"text\": [\"CHI\"], \"textposition\": \"top center\", \"type\": \"scatter\", \"x\": [-12.27], \"xaxis\": \"x\", \"y\": [1], \"yaxis\": \"y\"}, {\"hoverlabel\": {\"namelength\": 0}, \"hovertemplate\": \"Team=%{text}<br>xG+/-=%{x}<br>G+/-=%{y}\", \"legendgroup\": \"CAL\", \"marker\": {\"color\": \"#FFA15A\", \"symbol\": \"circle\"}, \"mode\": \"markers+text\", \"name\": \"CAL\", \"showlegend\": true, \"text\": [\"CAL\"], \"textposition\": \"top center\", \"type\": \"scatter\", \"x\": [5.31], \"xaxis\": \"x\", \"y\": [-17], \"yaxis\": \"y\"}, {\"hoverlabel\": {\"namelength\": 0}, \"hovertemplate\": \"Team=%{text}<br>xG+/-=%{x}<br>G+/-=%{y}\", \"legendgroup\": \"CBJ\", \"marker\": {\"color\": \"#19d3f3\", \"symbol\": \"circle\"}, \"mode\": \"markers+text\", \"name\": \"CBJ\", \"showlegend\": true, \"text\": [\"CBJ\"], \"textposition\": \"top center\", \"type\": \"scatter\", \"x\": [7.95], \"xaxis\": \"x\", \"y\": [9], \"yaxis\": \"y\"}, {\"hoverlabel\": {\"namelength\": 0}, \"hovertemplate\": \"Team=%{text}<br>xG+/-=%{x}<br>G+/-=%{y}\", \"legendgroup\": \"CAR\", \"marker\": {\"color\": \"#FF6692\", \"symbol\": \"circle\"}, \"mode\": \"markers+text\", \"name\": \"CAR\", \"showlegend\": true, \"text\": [\"CAR\"], \"textposition\": \"top center\", \"type\": \"scatter\", \"x\": [12.88], \"xaxis\": \"x\", \"y\": [7], \"yaxis\": \"y\"}, {\"hoverlabel\": {\"namelength\": 0}, \"hovertemplate\": \"Team=%{text}<br>xG+/-=%{x}<br>G+/-=%{y}\", \"legendgroup\": \"BUF\", \"marker\": {\"color\": \"#B6E880\", \"symbol\": \"circle\"}, \"mode\": \"markers+text\", \"name\": \"BUF\", \"showlegend\": true, \"text\": [\"BUF\"], \"textposition\": \"top center\", \"type\": \"scatter\", \"x\": [-5.58], \"xaxis\": \"x\", \"y\": [1], \"yaxis\": \"y\"}, {\"hoverlabel\": {\"namelength\": 0}, \"hovertemplate\": \"Team=%{text}<br>xG+/-=%{x}<br>G+/-=%{y}\", \"legendgroup\": \"BOS\", \"marker\": {\"color\": \"#FF97FF\", \"symbol\": \"circle\"}, \"mode\": \"markers+text\", \"name\": \"BOS\", \"showlegend\": true, \"text\": [\"BOS\"], \"textposition\": \"top center\", \"type\": \"scatter\", \"x\": [8.55], \"xaxis\": \"x\", \"y\": [37], \"yaxis\": \"y\"}, {\"hoverlabel\": {\"namelength\": 0}, \"hovertemplate\": \"Team=%{text}<br>xG+/-=%{x}<br>G+/-=%{y}\", \"legendgroup\": \"ARI\", \"marker\": {\"color\": \"#FECB52\", \"symbol\": \"circle\"}, \"mode\": \"markers+text\", \"name\": \"ARI\", \"showlegend\": true, \"text\": [\"ARI\"], \"textposition\": \"top center\", \"type\": \"scatter\", \"x\": [-6.37], \"xaxis\": \"x\", \"y\": [-1], \"yaxis\": \"y\"}, {\"hoverlabel\": {\"namelength\": 0}, \"hovertemplate\": \"Team=%{text}<br>xG+/-=%{x}<br>G+/-=%{y}\", \"legendgroup\": \"ANA\", \"marker\": {\"color\": \"#636efa\", \"symbol\": \"circle\"}, \"mode\": \"markers+text\", \"name\": \"ANA\", \"showlegend\": true, \"text\": [\"ANA\"], \"textposition\": \"top center\", \"type\": \"scatter\", \"x\": [-15.16], \"xaxis\": \"x\", \"y\": [-18], \"yaxis\": \"y\"}, {\"mode\": \"text\", \"text\": [\"Better than Expected\", \"Bad\", \"Good\", \"Worse than Expected\"], \"textfont\": {\"color\": \"grey\"}, \"type\": \"scatter\", \"x\": [-29.119999999999997, -32.12, 27.37, 22.37], \"y\": [48, -68, 45, -68]}],\n",
       "                        {\"annotations\": [{\"font\": {\"color\": \"grey\", \"size\": 8}, \"showarrow\": false, \"text\": \"Chart by: Aram Kaplanian\", \"x\": 1, \"xanchor\": \"right\", \"xref\": \"paper\", \"xshift\": 15, \"y\": -0.1, \"yanchor\": \"auto\", \"yref\": \"paper\", \"yshift\": 7}, {\"font\": {\"color\": \"grey\", \"size\": 8}, \"showarrow\": false, \"text\": \"Source: Corsica Hockey\", \"x\": 1, \"xanchor\": \"right\", \"xref\": \"paper\", \"xshift\": 15, \"y\": -0.1, \"yanchor\": \"auto\", \"yref\": \"paper\", \"yshift\": 0}], \"legend\": {\"title\": {\"text\": \"Team\"}, \"tracegroupgap\": 0}, \"margin\": {\"t\": 60}, \"shapes\": [{\"layer\": \"below\", \"line\": {\"color\": \"red\", \"dash\": \"dashdot\", \"width\": 2}, \"opacity\": 0.4, \"type\": \"line\", \"x0\": -3.3749999999999982, \"x1\": -3.3749999999999982, \"y0\": -68, \"y1\": 48}, {\"layer\": \"below\", \"line\": {\"color\": \"red\", \"dash\": \"dashdot\", \"width\": 2}, \"opacity\": 0.4, \"type\": \"line\", \"x0\": -34.12, \"x1\": 27.37, \"y0\": -10.0, \"y1\": -10.0}, {\"layer\": \"below\", \"line\": {\"color\": \"grey\", \"width\": 2}, \"opacity\": 0.35, \"type\": \"line\", \"x0\": -34.12, \"x1\": 0, \"y0\": 0, \"y1\": -68.0}, {\"layer\": \"below\", \"line\": {\"color\": \"grey\", \"width\": 2}, \"opacity\": 0.35, \"type\": \"line\", \"x0\": -18.7475, \"x1\": 0, \"y0\": 0, \"y1\": -39.0}, {\"layer\": \"below\", \"line\": {\"color\": \"grey\", \"width\": 2}, \"opacity\": 0.35, \"type\": \"line\", \"x0\": -3.375, \"x1\": 0, \"y0\": 0, \"y1\": -10.0}, {\"layer\": \"below\", \"line\": {\"color\": \"grey\", \"width\": 2}, \"opacity\": 0.35, \"type\": \"line\", \"x0\": 11.997499999999995, \"x1\": 0, \"y0\": 0, \"y1\": 19.0}, {\"layer\": \"below\", \"line\": {\"color\": \"grey\", \"width\": 2}, \"opacity\": 0.35, \"type\": \"line\", \"x0\": 27.37, \"x1\": 0, \"y0\": 0, \"y1\": 48.0}], \"showlegend\": false, \"template\": {\"data\": {\"bar\": [{\"error_x\": {\"color\": \"#2a3f5f\"}, \"error_y\": {\"color\": \"#2a3f5f\"}, \"marker\": {\"line\": {\"color\": \"white\", \"width\": 0.5}}, \"type\": \"bar\"}], \"barpolar\": [{\"marker\": {\"line\": {\"color\": \"white\", \"width\": 0.5}}, \"type\": \"barpolar\"}], \"carpet\": [{\"aaxis\": {\"endlinecolor\": \"#2a3f5f\", \"gridcolor\": \"#C8D4E3\", \"linecolor\": \"#C8D4E3\", \"minorgridcolor\": \"#C8D4E3\", \"startlinecolor\": \"#2a3f5f\"}, \"baxis\": {\"endlinecolor\": \"#2a3f5f\", \"gridcolor\": \"#C8D4E3\", \"linecolor\": \"#C8D4E3\", \"minorgridcolor\": \"#C8D4E3\", \"startlinecolor\": \"#2a3f5f\"}, \"type\": \"carpet\"}], \"choropleth\": [{\"colorbar\": {\"outlinewidth\": 0, \"ticks\": \"\"}, \"type\": \"choropleth\"}], \"contour\": [{\"colorbar\": {\"outlinewidth\": 0, \"ticks\": \"\"}, \"colorscale\": [[0.0, \"#0d0887\"], [0.1111111111111111, \"#46039f\"], [0.2222222222222222, \"#7201a8\"], [0.3333333333333333, \"#9c179e\"], [0.4444444444444444, \"#bd3786\"], [0.5555555555555556, \"#d8576b\"], [0.6666666666666666, \"#ed7953\"], [0.7777777777777778, \"#fb9f3a\"], [0.8888888888888888, \"#fdca26\"], [1.0, \"#f0f921\"]], \"type\": \"contour\"}], \"contourcarpet\": [{\"colorbar\": {\"outlinewidth\": 0, \"ticks\": \"\"}, \"type\": \"contourcarpet\"}], \"heatmap\": [{\"colorbar\": {\"outlinewidth\": 0, \"ticks\": \"\"}, \"colorscale\": [[0.0, \"#0d0887\"], [0.1111111111111111, \"#46039f\"], [0.2222222222222222, \"#7201a8\"], [0.3333333333333333, \"#9c179e\"], [0.4444444444444444, \"#bd3786\"], [0.5555555555555556, \"#d8576b\"], [0.6666666666666666, \"#ed7953\"], [0.7777777777777778, \"#fb9f3a\"], [0.8888888888888888, \"#fdca26\"], [1.0, \"#f0f921\"]], \"type\": \"heatmap\"}], \"heatmapgl\": [{\"colorbar\": {\"outlinewidth\": 0, \"ticks\": \"\"}, \"colorscale\": [[0.0, \"#0d0887\"], [0.1111111111111111, \"#46039f\"], [0.2222222222222222, \"#7201a8\"], [0.3333333333333333, \"#9c179e\"], [0.4444444444444444, \"#bd3786\"], [0.5555555555555556, \"#d8576b\"], [0.6666666666666666, \"#ed7953\"], [0.7777777777777778, \"#fb9f3a\"], [0.8888888888888888, \"#fdca26\"], [1.0, \"#f0f921\"]], \"type\": \"heatmapgl\"}], \"histogram\": [{\"marker\": {\"colorbar\": {\"outlinewidth\": 0, \"ticks\": \"\"}}, \"type\": \"histogram\"}], \"histogram2d\": [{\"colorbar\": {\"outlinewidth\": 0, \"ticks\": \"\"}, \"colorscale\": [[0.0, \"#0d0887\"], [0.1111111111111111, \"#46039f\"], [0.2222222222222222, \"#7201a8\"], [0.3333333333333333, \"#9c179e\"], [0.4444444444444444, \"#bd3786\"], [0.5555555555555556, \"#d8576b\"], [0.6666666666666666, \"#ed7953\"], [0.7777777777777778, \"#fb9f3a\"], [0.8888888888888888, \"#fdca26\"], [1.0, \"#f0f921\"]], \"type\": \"histogram2d\"}], \"histogram2dcontour\": [{\"colorbar\": {\"outlinewidth\": 0, \"ticks\": \"\"}, \"colorscale\": [[0.0, \"#0d0887\"], [0.1111111111111111, \"#46039f\"], [0.2222222222222222, \"#7201a8\"], [0.3333333333333333, \"#9c179e\"], [0.4444444444444444, \"#bd3786\"], [0.5555555555555556, \"#d8576b\"], [0.6666666666666666, \"#ed7953\"], [0.7777777777777778, \"#fb9f3a\"], [0.8888888888888888, \"#fdca26\"], [1.0, \"#f0f921\"]], \"type\": \"histogram2dcontour\"}], \"mesh3d\": [{\"colorbar\": {\"outlinewidth\": 0, \"ticks\": \"\"}, \"type\": \"mesh3d\"}], \"parcoords\": [{\"line\": {\"colorbar\": {\"outlinewidth\": 0, \"ticks\": \"\"}}, \"type\": \"parcoords\"}], \"pie\": [{\"automargin\": true, \"type\": \"pie\"}], \"scatter\": [{\"marker\": {\"colorbar\": {\"outlinewidth\": 0, \"ticks\": \"\"}}, \"type\": \"scatter\"}], \"scatter3d\": [{\"line\": {\"colorbar\": {\"outlinewidth\": 0, \"ticks\": \"\"}}, \"marker\": {\"colorbar\": {\"outlinewidth\": 0, \"ticks\": \"\"}}, \"type\": \"scatter3d\"}], \"scattercarpet\": [{\"marker\": {\"colorbar\": {\"outlinewidth\": 0, \"ticks\": \"\"}}, \"type\": \"scattercarpet\"}], \"scattergeo\": [{\"marker\": {\"colorbar\": {\"outlinewidth\": 0, \"ticks\": \"\"}}, \"type\": \"scattergeo\"}], \"scattergl\": [{\"marker\": {\"colorbar\": {\"outlinewidth\": 0, \"ticks\": \"\"}}, \"type\": \"scattergl\"}], \"scattermapbox\": [{\"marker\": {\"colorbar\": {\"outlinewidth\": 0, \"ticks\": \"\"}}, \"type\": \"scattermapbox\"}], \"scatterpolar\": [{\"marker\": {\"colorbar\": {\"outlinewidth\": 0, \"ticks\": \"\"}}, \"type\": \"scatterpolar\"}], \"scatterpolargl\": [{\"marker\": {\"colorbar\": {\"outlinewidth\": 0, \"ticks\": \"\"}}, \"type\": \"scatterpolargl\"}], \"scatterternary\": [{\"marker\": {\"colorbar\": {\"outlinewidth\": 0, \"ticks\": \"\"}}, \"type\": \"scatterternary\"}], \"surface\": [{\"colorbar\": {\"outlinewidth\": 0, \"ticks\": \"\"}, \"colorscale\": [[0.0, \"#0d0887\"], [0.1111111111111111, \"#46039f\"], [0.2222222222222222, \"#7201a8\"], [0.3333333333333333, \"#9c179e\"], [0.4444444444444444, \"#bd3786\"], [0.5555555555555556, \"#d8576b\"], [0.6666666666666666, \"#ed7953\"], [0.7777777777777778, \"#fb9f3a\"], [0.8888888888888888, \"#fdca26\"], [1.0, \"#f0f921\"]], \"type\": \"surface\"}], \"table\": [{\"cells\": {\"fill\": {\"color\": \"#EBF0F8\"}, \"line\": {\"color\": \"white\"}}, \"header\": {\"fill\": {\"color\": \"#C8D4E3\"}, \"line\": {\"color\": \"white\"}}, \"type\": \"table\"}]}, \"layout\": {\"annotationdefaults\": {\"arrowcolor\": \"#2a3f5f\", \"arrowhead\": 0, \"arrowwidth\": 1}, \"coloraxis\": {\"colorbar\": {\"outlinewidth\": 0, \"ticks\": \"\"}}, \"colorscale\": {\"diverging\": [[0, \"#8e0152\"], [0.1, \"#c51b7d\"], [0.2, \"#de77ae\"], [0.3, \"#f1b6da\"], [0.4, \"#fde0ef\"], [0.5, \"#f7f7f7\"], [0.6, \"#e6f5d0\"], [0.7, \"#b8e186\"], [0.8, \"#7fbc41\"], [0.9, \"#4d9221\"], [1, \"#276419\"]], \"sequential\": [[0.0, \"#0d0887\"], [0.1111111111111111, \"#46039f\"], [0.2222222222222222, \"#7201a8\"], [0.3333333333333333, \"#9c179e\"], [0.4444444444444444, \"#bd3786\"], [0.5555555555555556, \"#d8576b\"], [0.6666666666666666, \"#ed7953\"], [0.7777777777777778, \"#fb9f3a\"], [0.8888888888888888, \"#fdca26\"], [1.0, \"#f0f921\"]], \"sequentialminus\": [[0.0, \"#0d0887\"], [0.1111111111111111, \"#46039f\"], [0.2222222222222222, \"#7201a8\"], [0.3333333333333333, \"#9c179e\"], [0.4444444444444444, \"#bd3786\"], [0.5555555555555556, \"#d8576b\"], [0.6666666666666666, \"#ed7953\"], [0.7777777777777778, \"#fb9f3a\"], [0.8888888888888888, \"#fdca26\"], [1.0, \"#f0f921\"]]}, \"colorway\": [\"#636efa\", \"#EF553B\", \"#00cc96\", \"#ab63fa\", \"#FFA15A\", \"#19d3f3\", \"#FF6692\", \"#B6E880\", \"#FF97FF\", \"#FECB52\"], \"font\": {\"color\": \"#2a3f5f\"}, \"geo\": {\"bgcolor\": \"white\", \"lakecolor\": \"white\", \"landcolor\": \"white\", \"showlakes\": true, \"showland\": true, \"subunitcolor\": \"#C8D4E3\"}, \"hoverlabel\": {\"align\": \"left\"}, \"hovermode\": \"closest\", \"mapbox\": {\"style\": \"light\"}, \"paper_bgcolor\": \"white\", \"plot_bgcolor\": \"white\", \"polar\": {\"angularaxis\": {\"gridcolor\": \"#EBF0F8\", \"linecolor\": \"#EBF0F8\", \"ticks\": \"\"}, \"bgcolor\": \"white\", \"radialaxis\": {\"gridcolor\": \"#EBF0F8\", \"linecolor\": \"#EBF0F8\", \"ticks\": \"\"}}, \"scene\": {\"xaxis\": {\"backgroundcolor\": \"white\", \"gridcolor\": \"#DFE8F3\", \"gridwidth\": 2, \"linecolor\": \"#EBF0F8\", \"showbackground\": true, \"ticks\": \"\", \"zerolinecolor\": \"#EBF0F8\"}, \"yaxis\": {\"backgroundcolor\": \"white\", \"gridcolor\": \"#DFE8F3\", \"gridwidth\": 2, \"linecolor\": \"#EBF0F8\", \"showbackground\": true, \"ticks\": \"\", \"zerolinecolor\": \"#EBF0F8\"}, \"zaxis\": {\"backgroundcolor\": \"white\", \"gridcolor\": \"#DFE8F3\", \"gridwidth\": 2, \"linecolor\": \"#EBF0F8\", \"showbackground\": true, \"ticks\": \"\", \"zerolinecolor\": \"#EBF0F8\"}}, \"shapedefaults\": {\"line\": {\"color\": \"#2a3f5f\"}}, \"ternary\": {\"aaxis\": {\"gridcolor\": \"#DFE8F3\", \"linecolor\": \"#A2B1C6\", \"ticks\": \"\"}, \"baxis\": {\"gridcolor\": \"#DFE8F3\", \"linecolor\": \"#A2B1C6\", \"ticks\": \"\"}, \"bgcolor\": \"white\", \"caxis\": {\"gridcolor\": \"#DFE8F3\", \"linecolor\": \"#A2B1C6\", \"ticks\": \"\"}}, \"title\": {\"x\": 0.05}, \"xaxis\": {\"automargin\": true, \"gridcolor\": \"#EBF0F8\", \"linecolor\": \"#EBF0F8\", \"ticks\": \"\", \"title\": {\"standoff\": 15}, \"zerolinecolor\": \"#EBF0F8\", \"zerolinewidth\": 2}, \"yaxis\": {\"automargin\": true, \"gridcolor\": \"#EBF0F8\", \"linecolor\": \"#EBF0F8\", \"ticks\": \"\", \"title\": {\"standoff\": 15}, \"zerolinecolor\": \"#EBF0F8\", \"zerolinewidth\": 2}}}, \"title\": {\"text\": \"NHL Expected Performance\"}, \"xaxis\": {\"anchor\": \"y\", \"domain\": [0.0, 1.0], \"showgrid\": false, \"title\": {\"text\": \"Expected Goals For - Expected Goals Against\"}, \"zeroline\": false}, \"yaxis\": {\"anchor\": \"x\", \"domain\": [0.0, 1.0], \"showgrid\": false, \"title\": {\"text\": \"Actual Goals For - Actual Goals Against\"}, \"zeroline\": false}},\n",
       "                        {\"responsive\": true}\n",
       "                    ).then(function(){\n",
       "                            \n",
       "var gd = document.getElementById('134cea9f-d29a-40dd-ba52-5a1e651543bf');\n",
       "var x = new MutationObserver(function (mutations, observer) {{\n",
       "        var display = window.getComputedStyle(gd).display;\n",
       "        if (!display || display === 'none') {{\n",
       "            console.log([gd, 'removed!']);\n",
       "            Plotly.purge(gd);\n",
       "            observer.disconnect();\n",
       "        }}\n",
       "}});\n",
       "\n",
       "// Listen for the removal of the full notebook cells\n",
       "var notebookContainer = gd.closest('#notebook-container');\n",
       "if (notebookContainer) {{\n",
       "    x.observe(notebookContainer, {childList: true});\n",
       "}}\n",
       "\n",
       "// Listen for the clearing of the current output cell\n",
       "var outputEl = gd.closest('.output');\n",
       "if (outputEl) {{\n",
       "    x.observe(outputEl, {childList: true});\n",
       "}}\n",
       "\n",
       "                        })\n",
       "                };\n",
       "                });\n",
       "            </script>\n",
       "        </div>"
      ]
     },
     "metadata": {},
     "output_type": "display_data"
    }
   ],
   "source": [
    "fig = px.scatter(df, x='xG+/-', y='G+/-', text=\"Team\", color=\"Team\",\n",
    "                 template='plotly_white')\n",
    "fig.update_traces(textposition='top center')\n",
    "\n",
    "fig.add_shape(\n",
    "        # Line Vertical\n",
    "        dict(\n",
    "            type=\"line\",\n",
    "            x0=xmid,\n",
    "            y0=low,\n",
    "            x1=xmid,\n",
    "            y1=high,\n",
    "            layer='below',\n",
    "            opacity=0.4,\n",
    "            line=dict(\n",
    "                color=\"red\",\n",
    "                width=2,\n",
    "                dash=\"dashdot\"\n",
    "            )\n",
    "))\n",
    "fig.add_shape(\n",
    "        # Line Horizontal\n",
    "            type=\"line\",\n",
    "            x0=xlow,\n",
    "            y0=mid,\n",
    "            x1=xhigh,\n",
    "            y1=mid,\n",
    "            layer='below',\n",
    "            opacity=0.4,\n",
    "            line=dict(\n",
    "                color=\"red\",\n",
    "                width=2,\n",
    "                dash=\"dashdot\"\n",
    "            ),\n",
    "    )\n",
    "\n",
    "\n",
    "for i in range(0, ary_len):\n",
    "    fig.add_shape(\n",
    "                 dict(\n",
    "                 type=\"line\",\n",
    "                 x0=exp_grp[i],\n",
    "                 y0=0,\n",
    "                 x1=0,\n",
    "                 y1=goal_grp[i],\n",
    "                 layer='below',\n",
    "                 opacity=0.35,\n",
    "                 line=dict(\n",
    "                     color='grey',\n",
    "                     width=2,\n",
    "                 )))\n",
    "\n",
    "\n",
    "\n",
    "fig.add_trace(go.Scatter(\n",
    "    x=[xlow+5, xlow+2, xhigh, xhigh-5],\n",
    "    y=[high, low, high-3, low],\n",
    "    mode=\"text\",\n",
    "    text=[\"Better than Expected\",\n",
    "          \"Bad\",\n",
    "          \"Good\",\n",
    "          \"Worse than Expected\"],\n",
    "#     textposition=\"bottom center\",\n",
    "    textfont=dict(\n",
    "        color=\"grey\"\n",
    "    )\n",
    "))\n",
    "# fig.update_shapes(dict(xref='x', yref='y'))\n",
    "fig.update_layout(showlegend=False)\n",
    "fig.update_layout(title_text=\"NHL Expected Performance\",\n",
    "                  xaxis_title_text=\"Expected Goals For - Expected Goals Against\",\n",
    "                  yaxis_title_text='Actual Goals For - Actual Goals Against',\n",
    "                  xaxis_showgrid=False, yaxis_showgrid=False)\n",
    "fig.update_xaxes(zeroline=False)\n",
    "fig.update_yaxes(zeroline=False)\n",
    "\n",
    "fig.update_layout(annotations=[\n",
    "       go.layout.Annotation(\n",
    "            showarrow=False,\n",
    "            text='Chart by: Aram Kaplanian',\n",
    "            xanchor='right',\n",
    "            x=1,\n",
    "            xref='paper',\n",
    "            xshift=15,\n",
    "            yanchor='auto',\n",
    "            y=-0.1,\n",
    "            yshift=7,\n",
    "            yref='paper',\n",
    "            font=dict(\n",
    "                size=8,\n",
    "                color='grey'\n",
    "            )\n",
    "        ),go.layout.Annotation(\n",
    "            showarrow=False,\n",
    "            text='Source: Corsica Hockey',\n",
    "            xanchor='right',\n",
    "            x=1,\n",
    "            xref='paper',\n",
    "            xshift=15,\n",
    "            yanchor='auto',\n",
    "            y=-0.1,\n",
    "            yshift=0,\n",
    "            yref='paper',\n",
    "            font=dict(\n",
    "                size=8,\n",
    "                color='grey'\n",
    "            ))])\n",
    "#  list(x = 1, y = -0.1, text = \"Source: data I found somewhere.\", \n",
    "#       showarrow = F, xref='paper', yref='paper', \n",
    "#       xanchor='right', yanchor='auto', xshift=0, yshift=0,\n",
    "#       font=list(size=15, color=\"red\"))\n",
    "\n",
    "fig.show()"
   ]
  },
  {
   "cell_type": "code",
   "execution_count": null,
   "metadata": {},
   "outputs": [],
   "source": []
  }
 ],
 "metadata": {
  "kernelspec": {
   "display_name": "Python 3",
   "language": "python",
   "name": "python3"
  },
  "language_info": {
   "codemirror_mode": {
    "name": "ipython",
    "version": 3
   },
   "file_extension": ".py",
   "mimetype": "text/x-python",
   "name": "python",
   "nbconvert_exporter": "python",
   "pygments_lexer": "ipython3",
   "version": "3.7.5"
  }
 },
 "nbformat": 4,
 "nbformat_minor": 4
}
